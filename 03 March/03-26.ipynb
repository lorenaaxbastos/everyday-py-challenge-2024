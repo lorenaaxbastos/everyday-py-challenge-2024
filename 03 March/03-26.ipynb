{
 "cells": [
  {
   "cell_type": "markdown",
   "id": "458ebcaf-63a7-49bd-be38-7b2a69e147ff",
   "metadata": {},
   "source": [
    "# Sums of parts\n",
    "\n",
    "Date: 03/26/2024.\n",
    "From: Codewars.\n",
    "Link to [kata](https://www.codewars.com/kata/5ce399e0047a45001c853c2b/train/python).\n",
    "\n",
    "### Description\n",
    "\n",
    "Let us consider this example (array written in general format):\n",
    "\n",
    "```\n",
    "ls = [0, 1, 3, 6, 10]\n",
    "```\n",
    "\n",
    "Its following parts:\n",
    "\n",
    "```\n",
    "ls = [0, 1, 3, 6, 10]\n",
    "ls = [1, 3, 6, 10]\n",
    "ls = [3, 6, 10]\n",
    "ls = [6, 10]\n",
    "ls = [10]\n",
    "ls = []\n",
    "```\n",
    "\n",
    "The corresponding sums are (put together in a list): `[20, 20, 19, 16, 10, 0]`\n",
    "\n",
    "The function parts_sums (or its variants in other languages) will take as parameter a list ls and return a list of the sums of its parts as defined above.\n",
    "Other Examples:\n",
    "\n",
    "```\n",
    "ls = [1, 2, 3, 4, 5, 6] \n",
    "parts_sums(ls) -> [21, 20, 18, 15, 11, 6, 0]\n",
    "\n",
    "ls = [744125, 935, 407, 454, 430, 90, 144, 6710213, 889, 810, 2579358]\n",
    "parts_sums(ls) -> [10037855, 9293730, 9292795, 9292388, 9291934, 9291504, 9291414, 9291270, 2581057, 2580168, 2579358, 0]\n",
    "```\n",
    "\n",
    "**Notes**\n",
    "\n",
    "- Take a look at performance: some lists have thousands of elements.\n",
    "- Please ask before translating.\n",
    "\n",
    "### My solution"
   ]
  },
  {
   "cell_type": "code",
   "execution_count": 1,
   "id": "37476c72-ec2a-46c3-994b-e6c71da533e8",
   "metadata": {},
   "outputs": [],
   "source": [
    "def parts_sums(ls):\n",
    "    total = sum(ls)\n",
    "    sums = [total]\n",
    "    i = 0\n",
    "    acc = 0\n",
    "    while acc != total:\n",
    "        acc += ls[i]\n",
    "        i += 1\n",
    "        sums.append(total - acc)\n",
    "    return sums"
   ]
  },
  {
   "cell_type": "markdown",
   "id": "05e05f3d-660c-4d17-8799-06b1e81d766b",
   "metadata": {},
   "source": [
    "### Basic tests"
   ]
  },
  {
   "cell_type": "code",
   "execution_count": 2,
   "id": "ddb98244-a4a7-43d3-8d0b-c9660a8e5d7a",
   "metadata": {},
   "outputs": [
    {
     "name": "stdout",
     "output_type": "stream",
     "text": [
      "[0]\n",
      "[20, 20, 19, 16, 10, 0]\n",
      "[21, 20, 18, 15, 11, 6, 0]\n",
      "[10037855, 9293730, 9292795, 9292388, 9291934, 9291504, 9291414, 9291270, 2581057, 2580168, 2579358, 0]\n"
     ]
    }
   ],
   "source": [
    "print(parts_sums([])) # [0]\n",
    "print(parts_sums([0, 1, 3, 6, 10])) # [20, 20, 19, 16, 10, 0]\n",
    "print(parts_sums([1, 2, 3, 4, 5, 6])) # [21, 20, 18, 15, 11, 6, 0]\n",
    "print(parts_sums([744125, 935, 407, 454, 430, 90, 144, 6710213, 889, 810, 2579358])) # [10037855, 9293730, 9292795, 9292388, 9291934, 9291504, 9291414, 9291270, 2581057, 2580168, 2579358, 0]"
   ]
  }
 ],
 "metadata": {
  "kernelspec": {
   "display_name": "Python 3 (ipykernel)",
   "language": "python",
   "name": "python3"
  },
  "language_info": {
   "codemirror_mode": {
    "name": "ipython",
    "version": 3
   },
   "file_extension": ".py",
   "mimetype": "text/x-python",
   "name": "python",
   "nbconvert_exporter": "python",
   "pygments_lexer": "ipython3",
   "version": "3.12.2"
  }
 },
 "nbformat": 4,
 "nbformat_minor": 5
}
