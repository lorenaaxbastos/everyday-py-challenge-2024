{
 "cells": [
  {
   "cell_type": "markdown",
   "id": "d8a6d29a-1ee7-41e3-9618-efdd903f8046",
   "metadata": {},
   "source": [
    "# Calendar week\n",
    "\n",
    "Date: 03/18/2024.\n",
    "From: Codewars.\n",
    "Link to [kata](https://www.codewars.com/kata/5c2bedd7eb9aa95abe14d0ed/train/python).\n",
    "\n",
    "### Description\n",
    "\n",
    "According to ISO 8601, the first calendar week (1) starts with the week containing the first thursday in january. Every year consists of 52 calendar weeks (53 in case of a year starting on a Thursday or a leap year starting on a Wednesday).\n",
    "\n",
    "Your task is to calculate the calendar week (1-53) from a given date. For example, the calendar week for the date 2019-01-01 (string) should be 1 (int).\n",
    "\n",
    "Good luck 👍\n",
    "\n",
    "See also [ISO week date](https://en.wikipedia.org/wiki/ISO_week_date) and [Week Number](https://en.wikipedia.org/wiki/Week#Week_numbering) on Wikipedia for further information about calendar weeks.\n",
    "\n",
    "On [whatweekisit.org](http://whatweekisit.org/) you may click through the calender and study calendar weeks in more depth.\n",
    "\n",
    "### My solution"
   ]
  },
  {
   "cell_type": "code",
   "execution_count": 2,
   "id": "4195a4e2-9a45-4d07-8560-b3e6e5330546",
   "metadata": {},
   "outputs": [],
   "source": [
    "def get_calendar_week(date_string):\n",
    "    pass"
   ]
  },
  {
   "cell_type": "markdown",
   "id": "a79a831e-4818-43e0-9e57-4e89f772ef9c",
   "metadata": {},
   "source": [
    "### Basic tests"
   ]
  },
  {
   "cell_type": "code",
   "execution_count": 3,
   "id": "0d2aa5e6-962a-4e0a-a34a-acacd4219abe",
   "metadata": {},
   "outputs": [
    {
     "name": "stdout",
     "output_type": "stream",
     "text": [
      "None\n",
      "None\n",
      "None\n",
      "None\n",
      "None\n",
      "None\n",
      "None\n",
      "None\n",
      "None\n"
     ]
    }
   ],
   "source": [
    "print(get_calendar_week(\"2017-01-01\")) # expects 52\n",
    "print(get_calendar_week(\"2018-12-24\")) # expects 52\n",
    "print(get_calendar_week(\"2018-12-31\")) # expects  1\n",
    "print(get_calendar_week(\"2019-01-01\")) # expects  1\n",
    "print(get_calendar_week(\"2016-02-29\")) # expects  9\n",
    "print(get_calendar_week(\"2015-12-29\")) # expects 53\n",
    "print(get_calendar_week(\"2024-12-31\")) # expects  1\n",
    "print(get_calendar_week(\"2025-01-05\")) # expects  1\n",
    "print(get_calendar_week(\"2025-01-06\")) # expects  2"
   ]
  }
 ],
 "metadata": {
  "kernelspec": {
   "display_name": "Python 3 (ipykernel)",
   "language": "python",
   "name": "python3"
  },
  "language_info": {
   "codemirror_mode": {
    "name": "ipython",
    "version": 3
   },
   "file_extension": ".py",
   "mimetype": "text/x-python",
   "name": "python",
   "nbconvert_exporter": "python",
   "pygments_lexer": "ipython3",
   "version": "3.12.1"
  }
 },
 "nbformat": 4,
 "nbformat_minor": 5
}
