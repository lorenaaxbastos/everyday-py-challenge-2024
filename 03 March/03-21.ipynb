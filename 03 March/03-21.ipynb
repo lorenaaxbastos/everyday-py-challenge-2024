{
 "cells": [
  {
   "cell_type": "markdown",
   "id": "b59b8b78-bce4-4e1a-9d94-5777246d08c2",
   "metadata": {},
   "source": [
    "# WeIrD StRiNg CaSe\n",
    "\n",
    "Date: 03/21/2024.\n",
    "From: Codewars.\n",
    "Link to [kata](https://www.codewars.com/kata/52b757663a95b11b3d00062d/train/python).\n",
    "\n",
    "### Description\n",
    "\n",
    "Write a function that accepts a string, and returns the same string with all even indexed characters in each word upper cased, and all odd indexed characters in each word lower cased. The indexing just explained is zero based, so the zero-ith index is even, therefore that character should be upper cased and you need to start over for each word.\n",
    "\n",
    "The passed in string will only consist of alphabetical characters and spaces(' '). Spaces will only be present if there are multiple words. Words will be separated by a single space(' ').\n",
    "Examples:\n",
    "\n",
    "```\n",
    "\"String\" => \"StRiNg\"\n",
    "\"Weird string case\" => \"WeIrD StRiNg CaSe\"\n",
    "```\n",
    "\n",
    "### My solution"
   ]
  },
  {
   "cell_type": "code",
   "execution_count": null,
   "id": "fc2a0e2d-cc0d-4879-9e7c-e94c482edaec",
   "metadata": {},
   "outputs": [],
   "source": [
    "def to_weird_case(words):\n",
    "    phrase = \" \".join(\"\".join(char.upper() if i % 2 == 0 else char.lower() for i, char in enumerate(word)) for word in words.split())\n",
    "    return phrase"
   ]
  },
  {
   "cell_type": "markdown",
   "id": "9a2bee21-9696-4616-a267-c7bceac842c3",
   "metadata": {},
   "source": [
    "### Basic tests"
   ]
  },
  {
   "cell_type": "code",
   "execution_count": null,
   "id": "f5acaadc-f3a1-4216-9ad9-5675eafadfe1",
   "metadata": {},
   "outputs": [],
   "source": [
    "print(to_weird_case('This')) # expects 'ThIs'\n",
    "print(to_weird_case('is')) # expects 'Is'\n",
    "print(to_weird_case('THIs iS a TEST')) # expects 'ThIs Is A TeSt'"
   ]
  }
 ],
 "metadata": {
  "kernelspec": {
   "display_name": "Python 3 (ipykernel)",
   "language": "python",
   "name": "python3"
  },
  "language_info": {
   "codemirror_mode": {
    "name": "ipython",
    "version": 3
   },
   "file_extension": ".py",
   "mimetype": "text/x-python",
   "name": "python",
   "nbconvert_exporter": "python",
   "pygments_lexer": "ipython3",
   "version": "3.12.2"
  }
 },
 "nbformat": 4,
 "nbformat_minor": 5
}
