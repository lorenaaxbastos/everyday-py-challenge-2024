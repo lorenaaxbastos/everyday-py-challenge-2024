{
 "cells": [
  {
   "cell_type": "markdown",
   "id": "29a8c20f-8a3e-48b9-ab34-112f6a586d0a",
   "metadata": {},
   "source": [
    "# Hangman\n",
    "\n",
    "Date: 03/02/2024.\n",
    "From: Practice Python. \n",
    "Link to [exercise](https://www.practicepython.org/exercise/2017/01/10/32-hangman.html).\n",
    "\n",
    "### Description\n",
    "\n",
    "In this exercise, we will finish building Hangman. In the game of Hangman, the player only has 6 incorrect guesses (head, body, 2 legs, and 2 arms) before they lose the game.\n",
    "\n",
    "In Part 1, we loaded a random word list and picked a word from it. In Part 2, we wrote the logic for guessing the letter and displaying that information to the user. In this exercise, we have to put it all together and add logic for handling guesses.\n",
    "\n",
    "Copy your code from Parts 1 and 2 into a new file as a starting point. Now add the following features:\n",
    "\n",
    "- Only let the user guess 6 times, and tell the user how many guesses they have left.\n",
    "- Keep track of the letters the user guessed. If the user guesses a letter they already guessed, don’t penalize them - let them guess again.\n",
    "\n",
    "**Optional additions**\n",
    "\n",
    "- When the player wins or loses, let them start a new game.\n",
    "- Rather than telling the user \"You have 4 incorrect guesses left\", display some picture art for the Hangman. This is challenging - do the other parts of the exercise first!\n",
    "\n",
    "Your solution will be a lot cleaner if you make use of functions to help you!\n",
    "\n",
    "### My solution"
   ]
  },
  {
   "cell_type": "code",
   "execution_count": null,
   "id": "4b82e92d-422a-4610-a65b-6018af150624",
   "metadata": {},
   "outputs": [],
   "source": []
  },
  {
   "cell_type": "markdown",
   "id": "034df97f-942e-4dac-b476-e9aac602c9b9",
   "metadata": {},
   "source": [
    "### Sample solution\n",
    "[Link](https://www.practicepython.org/solution/2017/01/18/32-hangman-solutions.html) to sample solution."
   ]
  }
 ],
 "metadata": {
  "kernelspec": {
   "display_name": "Python 3 (ipykernel)",
   "language": "python",
   "name": "python3"
  },
  "language_info": {
   "codemirror_mode": {
    "name": "ipython",
    "version": 3
   },
   "file_extension": ".py",
   "mimetype": "text/x-python",
   "name": "python",
   "nbconvert_exporter": "python",
   "pygments_lexer": "ipython3",
   "version": "3.12.2"
  }
 },
 "nbformat": 4,
 "nbformat_minor": 5
}
