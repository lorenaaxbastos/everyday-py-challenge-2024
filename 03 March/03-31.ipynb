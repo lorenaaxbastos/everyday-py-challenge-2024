{
 "cells": [
  {
   "cell_type": "markdown",
   "id": "b6b57488-a337-4ccf-8bb7-d7a9af194c40",
   "metadata": {},
   "source": [
    "# Shortest distance to a character\n",
    "\n",
    "Date: 03/31/2024.\n",
    "From: Codewars.\n",
    "Link to [kata](https://www.codewars.com/kata/5c8bf3ec5048ca2c8e954bf3/train/python).\n",
    "\n",
    "### Description\n",
    "\n",
    "Given a string s and a character c, return an array of integers representing the shortest distance from the current character in s to c.\n",
    "\n",
    "**Notes**\n",
    "\n",
    "- All letters will be lowercase.\n",
    "- If the string is empty, return an empty array.\n",
    "- If the character is not present, return an empty array.\n",
    "\n",
    "**Examples**\n",
    "\n",
    "```\n",
    "s = \"lovecodewars\"\n",
    "c = \"e\"\n",
    "result = [3, 2, 1, 0, 1, 2, 1, 0, 1, 2, 3, 4]\n",
    "\n",
    "s = \"aaaabbbb\"\n",
    "c = \"b\"\n",
    "result = [4, 3, 2, 1, 0, 0, 0, 0]\n",
    "\n",
    "s = \"\"\n",
    "c = \"b\"\n",
    "result = []\n",
    "\n",
    "s = \"abcde\"\n",
    "c = \"\"\n",
    "result = []\n",
    "```\n",
    "\n",
    "### My solution"
   ]
  },
  {
   "cell_type": "code",
   "execution_count": 5,
   "id": "63bd7a49-9ac8-48a8-9ebc-6daa3d2e210a",
   "metadata": {},
   "outputs": [],
   "source": [
    "def shortest_to_char(s, c):\n",
    "    if (c not in s) or (s == \"\") or (c == \"\"): return []\n",
    "\n",
    "    result = []\n",
    "    for i in range(len(s)):\n",
    "        try:\n",
    "            right = s[i:].index(c)\n",
    "        except ValueError:\n",
    "            right = len(s)\n",
    "        try:\n",
    "            left = s[i::-1].index(c)\n",
    "        except ValueError:\n",
    "            left = len(s)\n",
    "        result.append(min(left, right))\n",
    "    return result"
   ]
  },
  {
   "cell_type": "markdown",
   "id": "4755c762-6794-40a3-be00-4c7674e18f39",
   "metadata": {},
   "source": [
    "### Basic tests"
   ]
  },
  {
   "cell_type": "code",
   "execution_count": 6,
   "id": "ac22f8ea-9e3c-458c-bab6-4f5340e04725",
   "metadata": {},
   "outputs": [
    {
     "name": "stdout",
     "output_type": "stream",
     "text": [
      "[3, 2, 1, 0, 1, 2, 1, 0, 1, 2, 3, 4]\n",
      "[0, 0, 0, 0, 0]\n",
      "[0, 0, 1, 1, 0, 0, 1, 2]\n",
      "[4, 3, 2, 1, 0, 0, 0, 0]\n",
      "[]\n",
      "[]\n",
      "[]\n"
     ]
    }
   ],
   "source": [
    "print(shortest_to_char(\"lovecodewars\", \"e\")) # expects [3, 2, 1, 0, 1, 2, 1, 0, 1, 2, 3, 4]\n",
    "print(shortest_to_char(\"aaaaa\", \"a\")) # expects [0, 0, 0, 0, 0]\n",
    "print(shortest_to_char(\"aabbaabb\", \"a\")) # expects [0, 0, 1, 1, 0, 0, 1, 2]\n",
    "print(shortest_to_char(\"aaaabbbb\", \"b\")) # expects [4, 3, 2, 1, 0, 0, 0, 0]\n",
    "print(shortest_to_char(\"aaaaa\", \"b\")) # expects []\n",
    "print(shortest_to_char(\"lovecoding\", \"\")) # expects []\n",
    "print(shortest_to_char(\"\", \"\")) # expects []"
   ]
  }
 ],
 "metadata": {
  "kernelspec": {
   "display_name": "Python 3 (ipykernel)",
   "language": "python",
   "name": "python3"
  },
  "language_info": {
   "codemirror_mode": {
    "name": "ipython",
    "version": 3
   },
   "file_extension": ".py",
   "mimetype": "text/x-python",
   "name": "python",
   "nbconvert_exporter": "python",
   "pygments_lexer": "ipython3",
   "version": "3.12.1"
  }
 },
 "nbformat": 4,
 "nbformat_minor": 5
}
