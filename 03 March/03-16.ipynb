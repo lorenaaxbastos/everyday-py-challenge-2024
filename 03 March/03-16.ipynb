{
 "cells": [
  {
   "cell_type": "markdown",
   "id": "61832661-0665-47b3-9845-03a2194db633",
   "metadata": {},
   "source": [
    "# Weight for weight\n",
    "\n",
    "Date: 03/16/2024.\n",
    "From: Codewars. \n",
    "Link to [kata](https://www.codewars.com/kata/55c6126177c9441a570000cc/train/python).\n",
    "\n",
    "### Description\n",
    "\n",
    "My friend John and I are members of the \"Fat to Fit Club (FFC)\". John is worried because each month a list with the weights of members is published and each month he is the last on the list which means he is the heaviest.\n",
    "\n",
    "I am the one who establishes the list so I told him: \"Don't worry any more, I will modify the order of the list\". It was decided to attribute a \"weight\" to numbers. The weight of a number will be from now on the sum of its digits.\n",
    "\n",
    "For example 99 will have \"weight\" 18, 100 will have \"weight\" 1 so in the list 100 will come before 99.\n",
    "\n",
    "Given a string with the weights of FFC members in normal order can you give this string ordered by \"weights\" of these numbers?\n",
    "\n",
    "**Example**\n",
    "\n",
    "```\n",
    "\"56 65 74 100 99 68 86 180 90\" ordered by numbers weights becomes: \n",
    "\n",
    "\"100 180 90 56 65 74 68 86 99\"\n",
    "```\n",
    "\n",
    "When two numbers have the same \"weight\", let us class them as if they were strings (alphabetical ordering) and not numbers:\n",
    "\n",
    "180 is before 90 since, having the same \"weight\" (9), it comes before as a string.\n",
    "\n",
    "All numbers in the list are positive numbers and the list can be empty.\n",
    "\n",
    "**Notes**\n",
    "\n",
    "- it may happen that the input string have leading, trailing whitespaces and more than a unique whitespace between two consecutive numbers\n",
    "- For C: The result is freed.\n",
    "\n",
    "### My solution"
   ]
  },
  {
   "cell_type": "code",
   "execution_count": 3,
   "id": "aaaf9cab-197e-4ccd-af8b-44ad36db5f3b",
   "metadata": {},
   "outputs": [],
   "source": [
    "def order_weight(strng):\n",
    "    pass"
   ]
  },
  {
   "cell_type": "markdown",
   "id": "baa66a44-4503-4a80-b3bb-823ccf23f16a",
   "metadata": {},
   "source": [
    "### Basic tests"
   ]
  },
  {
   "cell_type": "code",
   "execution_count": 4,
   "id": "cf669acd-6229-4b8f-a940-bde0d18d5220",
   "metadata": {},
   "outputs": [
    {
     "name": "stdout",
     "output_type": "stream",
     "text": [
      "None\n",
      "None\n",
      "None\n"
     ]
    }
   ],
   "source": [
    "print(order_weight(\"103 123 4444 99 2000\")) # expects  \"2000 103 123 4444 99\"\n",
    "print(order_weight(\"2000 10003 1234000 44444444 9999 11 11 22 123\")) # expects  \"11 11 2000 10003 22 123 1234000 44444444 9999\"\n",
    "print(order_weight(\"\")) # expects  \"\""
   ]
  }
 ],
 "metadata": {
  "kernelspec": {
   "display_name": "Python 3 (ipykernel)",
   "language": "python",
   "name": "python3"
  },
  "language_info": {
   "codemirror_mode": {
    "name": "ipython",
    "version": 3
   },
   "file_extension": ".py",
   "mimetype": "text/x-python",
   "name": "python",
   "nbconvert_exporter": "python",
   "pygments_lexer": "ipython3",
   "version": "3.12.2"
  }
 },
 "nbformat": 4,
 "nbformat_minor": 5
}
