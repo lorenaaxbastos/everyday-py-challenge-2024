{
 "cells": [
  {
   "cell_type": "markdown",
   "id": "344a7b29-e5cc-4793-a563-2bbe89f1d15d",
   "metadata": {},
   "source": [
    "# Birthday months\n",
    "\n",
    "Date: 03/05/2024.\n",
    "From: Practice Python. \n",
    "Link to [exercise](https://www.practicepython.org/exercise/2017/02/28/35-birthday-months.html).\n",
    "\n",
    "### Description\n",
    "\n",
    "In the previous exercise we saved information about famous scientists’ names and birthdays to disk. In this exercise, load that JSON file from disk, extract the months of all the birthdays, and count how many scientists have a birthday in each month.\n",
    "\n",
    "Your program should output something like:\n",
    "\n",
    "```python\n",
    "{\n",
    "\t\"May\": 3,\n",
    "\t\"November\": 2,\n",
    "\t\"December\": 1\n",
    "}\n",
    "```\n",
    "\n",
    "### My solution"
   ]
  },
  {
   "cell_type": "code",
   "execution_count": null,
   "id": "42b48f19-d55f-4db1-80fe-940a4bf04a51",
   "metadata": {},
   "outputs": [],
   "source": []
  },
  {
   "cell_type": "markdown",
   "id": "8ce6f191-83d6-453d-bd31-7873c35275d1",
   "metadata": {},
   "source": [
    "### Sample solution\n",
    "[Link](https://www.practicepython.org/solution/2017/03/19/35-birthday-months-solutions.html) to sample solution."
   ]
  }
 ],
 "metadata": {
  "kernelspec": {
   "display_name": "Python 3 (ipykernel)",
   "language": "python",
   "name": "python3"
  },
  "language_info": {
   "codemirror_mode": {
    "name": "ipython",
    "version": 3
   },
   "file_extension": ".py",
   "mimetype": "text/x-python",
   "name": "python",
   "nbconvert_exporter": "python",
   "pygments_lexer": "ipython3",
   "version": "3.12.2"
  }
 },
 "nbformat": 4,
 "nbformat_minor": 5
}
