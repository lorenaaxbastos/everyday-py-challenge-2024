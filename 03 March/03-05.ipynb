{
 "cells": [
  {
   "cell_type": "markdown",
   "id": "344a7b29-e5cc-4793-a563-2bbe89f1d15d",
   "metadata": {},
   "source": [
    "# Birthday months\n",
    "\n",
    "Date: 03/05/2024.\n",
    "From: Practice Python. \n",
    "Link to [exercise](https://www.practicepython.org/exercise/2017/02/28/35-birthday-months.html).\n",
    "\n",
    "### Description\n",
    "\n",
    "In the previous exercise we saved information about famous scientists’ names and birthdays to disk. In this exercise, load that JSON file from disk, extract the months of all the birthdays, and count how many scientists have a birthday in each month.\n",
    "\n",
    "Your program should output something like:\n",
    "\n",
    "```python\n",
    "{\n",
    "\t\"May\": 3,\n",
    "\t\"November\": 2,\n",
    "\t\"December\": 1\n",
    "}\n",
    "```\n",
    "\n",
    "### My solution"
   ]
  },
  {
   "cell_type": "code",
   "execution_count": 15,
   "id": "42b48f19-d55f-4db1-80fe-940a4bf04a51",
   "metadata": {},
   "outputs": [
    {
     "data": {
      "text/plain": [
       "{'March': 1,\n",
       " 'December': 2,\n",
       " 'June': 1,\n",
       " 'November': 2,\n",
       " 'January': 1,\n",
       " 'May': 1,\n",
       " 'July': 2}"
      ]
     },
     "execution_count": 15,
     "metadata": {},
     "output_type": "execute_result"
    }
   ],
   "source": [
    "with open(\"scientists_birthdays.json\", mode=\"r\") as json_file:\n",
    "    birthdays = eval(json_file.read())\n",
    "\n",
    "months = [\"January\", \"February\", \"March\", \"April\", \"May\", \"June\", \"July\", \"August\", \"September\", \"October\", \"November\", \"December\"]\n",
    "birthdays_months = {}\n",
    "\n",
    "for date in birthdays.values():\n",
    "    month = int(date.split(\"/\")[0]) - 1\n",
    "    birthdays_months[months[month]] = birthdays_months.get(months[month], 0) + 1\n",
    "\n",
    "birthdays_months"
   ]
  },
  {
   "cell_type": "markdown",
   "id": "8ce6f191-83d6-453d-bd31-7873c35275d1",
   "metadata": {},
   "source": [
    "### Sample solution\n",
    "[Link](https://www.practicepython.org/solution/2017/03/19/35-birthday-months-solutions.html) to sample solution."
   ]
  }
 ],
 "metadata": {
  "kernelspec": {
   "display_name": "Python 3 (ipykernel)",
   "language": "python",
   "name": "python3"
  },
  "language_info": {
   "codemirror_mode": {
    "name": "ipython",
    "version": 3
   },
   "file_extension": ".py",
   "mimetype": "text/x-python",
   "name": "python",
   "nbconvert_exporter": "python",
   "pygments_lexer": "ipython3",
   "version": "3.12.1"
  }
 },
 "nbformat": 4,
 "nbformat_minor": 5
}
