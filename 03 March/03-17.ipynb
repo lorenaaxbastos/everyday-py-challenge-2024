{
 "cells": [
  {
   "cell_type": "markdown",
   "id": "6b54c205-55f6-4270-bbcf-4dc2c32ab363",
   "metadata": {},
   "source": [
    "# Counting horses\n",
    "\n",
    "Date: 03/17/2024.\n",
    "From: Codewars. \n",
    "Link to [kata](https://www.codewars.com/kata/5f799eb13e8a260015f58944/train/python).\n",
    "\n",
    "### Description\n",
    "\n",
    "A group of horses just ran past Farmer Thomas, and he would like to figure out how many horses were there. However, Farmer Thomas has a bad eye sight, and cannot really see the horses that are now distant. He did remember the sound of their galloping though, and he wants your help in figuring out how many horses (and the length of their legs) were in that group.\n",
    "\n",
    "Each horse will make a thumping noise every step as its hooves hit the ground. Farmer Thomas has recorded the sound as strings like this (the following record is 15 seconds long):\n",
    "\n",
    "```\n",
    "000100010001000\n",
    "```\n",
    "\n",
    "where each number represents how many thumps he heard in that second.\n",
    "\n",
    "However, there's a catch; horses with longer legs take bigger steps, resulting in longer intervals between thumps. Specifically, a horse with leg length n will thump every n seconds.\n",
    "\n",
    "A single horse with leg length 2 will sound like:\n",
    "\n",
    "```\n",
    "01010101010101\n",
    "```\n",
    "\n",
    "The same rule applies when there are multiple horses. Two horses with leg length 2 and 3 sound like:\n",
    "\n",
    "```\n",
    "0111020111\n",
    "```\n",
    "\n",
    "Note that the sixth digit is 2 since both horses thump in that second.\n",
    "\n",
    "**Input**\n",
    "\n",
    "A string of any length that represents the sound of the horses' galloping (as described above).\n",
    "\n",
    "**Output**\n",
    "\n",
    "An array of length equivalent to the amount of horses where each element represents the leg length of a horse.\n",
    "\n",
    "For example, this input\n",
    "\n",
    "```\n",
    "0111020111\n",
    "```\n",
    "should return `[2, 3]`.\n",
    "\n",
    "**Notes**\n",
    "\n",
    "- There could be multiple horses with the same leg length. 0020020020020 is the sound of 2 horses, both of which have leg length of 3.\n",
    "- The thump cycle of all horses is synchronized at the start of the sound string. This means that you don't have to worry about phase offsets.\n",
    "- The length of the sound string is always greater than or equal the longest leg length (meaning that every horse will jump at least once in the string).\n",
    "- Your output will be sorted in the tests for comparison purpose (your answer doesn't need to be sorted).\n",
    "\n",
    "**Constraints**\n",
    "\n",
    "- `len(sound_str) <= 1000`\n",
    "- `len(horses) <= 9` (random tests)\n",
    "- `len(horses) <= 10` (trivial tests)\n",
    "\n",
    "### My solution"
   ]
  },
  {
   "cell_type": "code",
   "execution_count": 1,
   "id": "c7ae9b20-44a5-425a-bcc3-dec220282ea2",
   "metadata": {},
   "outputs": [],
   "source": [
    "def count_horses(sound_str):\n",
    "    return []"
   ]
  },
  {
   "cell_type": "markdown",
   "id": "40cba86b-1e5e-4f28-9ad6-4aae8b31f459",
   "metadata": {},
   "source": [
    "### Basic tests"
   ]
  },
  {
   "cell_type": "code",
   "execution_count": 2,
   "id": "f07d5f21-9434-46e2-bd6f-0780b4958058",
   "metadata": {},
   "outputs": [
    {
     "name": "stdout",
     "output_type": "stream",
     "text": [
      "[]\n",
      "[]\n",
      "[]\n",
      "[]\n",
      "[]\n",
      "[]\n",
      "[]\n"
     ]
    }
   ],
   "source": [
    "print(sorted(count_horses('010101010'))) # expects [2]\n",
    "print(sorted(count_horses('00000000'))) # expects []\n",
    "print(sorted(count_horses('0001000100010001000100'))) # expects [4]\n",
    "print(sorted(count_horses('11111'))) # expects [1]\n",
    "print(sorted(count_horses('0111020111'))) # expects [2, 3]\n",
    "print(sorted(count_horses('0212030212'))) # expects [2, 2, 3]\n",
    "print(sorted(count_horses('122213122213122'))) # expects [1, 2, 3]"
   ]
  }
 ],
 "metadata": {
  "kernelspec": {
   "display_name": "Python 3 (ipykernel)",
   "language": "python",
   "name": "python3"
  },
  "language_info": {
   "codemirror_mode": {
    "name": "ipython",
    "version": 3
   },
   "file_extension": ".py",
   "mimetype": "text/x-python",
   "name": "python",
   "nbconvert_exporter": "python",
   "pygments_lexer": "ipython3",
   "version": "3.12.1"
  }
 },
 "nbformat": 4,
 "nbformat_minor": 5
}
