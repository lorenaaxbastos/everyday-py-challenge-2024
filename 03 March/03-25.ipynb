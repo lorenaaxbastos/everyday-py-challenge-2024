{
 "cells": [
  {
   "cell_type": "markdown",
   "id": "3369da49-fe92-45b1-b3e4-9addb52d3902",
   "metadata": {},
   "source": [
    "# First non-repeating character\n",
    "\n",
    "Date: 03/25/2024.\n",
    "From: Codewars.\n",
    "Link to [kata](https://www.codewars.com/kata/52bc74d4ac05d0945d00054e/python).\n",
    "\n",
    "### Description\n",
    "\n",
    "Write a function named first_non_repeating_letter* that takes a string input, and returns the first character that is not repeated anywhere in the string.\n",
    "\n",
    "For example, if given the input 'stress', the function should return 't', since the letter t only occurs once in the string, and occurs first in the string.\n",
    "\n",
    "As an added challenge, upper- and lowercase letters are considered the same character, but the function should return the correct case for the initial letter. For example, the input 'sTreSS' should return 'T'.\n",
    "\n",
    "If a string contains all repeating characters, it should return an empty string (\"\");\n",
    "\n",
    "**Note: the function is called firstNonRepeatingLetter for historical reasons, but your function should handle any Unicode character.*\n",
    "\n",
    "### My solution"
   ]
  },
  {
   "cell_type": "code",
   "execution_count": 1,
   "id": "1bce6a2c-33c8-41b3-9256-e02e9fc1ffab",
   "metadata": {},
   "outputs": [],
   "source": [
    "from collections import Counter\n",
    "\n",
    "def first_non_repeating_letter(s):\n",
    "    freq = Counter(s.lower())\n",
    "\n",
    "    for k, v in freq.items():\n",
    "        if v == 1:\n",
    "            return s[s.lower().index(k)]\n",
    "            \n",
    "    return \"\""
   ]
  },
  {
   "cell_type": "markdown",
   "id": "22686753-b96b-44bf-a1c1-75314d233b93",
   "metadata": {},
   "source": [
    "### Basic tests"
   ]
  },
  {
   "cell_type": "code",
   "execution_count": 2,
   "id": "b5bc4b22-cde4-4c73-a65f-6eae8dd822e4",
   "metadata": {},
   "outputs": [
    {
     "name": "stdout",
     "output_type": "stream",
     "text": [
      "a\n",
      "t\n",
      "e\n",
      "\n",
      "\n",
      "\n",
      "#\n",
      "w\n",
      "T\n",
      ",\n"
     ]
    }
   ],
   "source": [
    "print(first_non_repeating_letter('a')) # expect 'a'\n",
    "print(first_non_repeating_letter('stress')) # expect 't'\n",
    "print(first_non_repeating_letter('moonmen')) # expect 'e'\n",
    "print(first_non_repeating_letter('')) # expect ''\n",
    "print(first_non_repeating_letter('abba')) # expect ''\n",
    "print(first_non_repeating_letter('aa')) # expect ''\n",
    "print(first_non_repeating_letter('~><#~><')) # expect '#'\n",
    "print(first_non_repeating_letter('hello world) # expect eh?')) # expect 'w'\n",
    "print(first_non_repeating_letter('sTreSS')) # expect 'T'\n",
    "print(first_non_repeating_letter('Go hang a salami, I\\'m a lasagna hog!')) # expect ','"
   ]
  }
 ],
 "metadata": {
  "kernelspec": {
   "display_name": "Python 3 (ipykernel)",
   "language": "python",
   "name": "python3"
  },
  "language_info": {
   "codemirror_mode": {
    "name": "ipython",
    "version": 3
   },
   "file_extension": ".py",
   "mimetype": "text/x-python",
   "name": "python",
   "nbconvert_exporter": "python",
   "pygments_lexer": "ipython3",
   "version": "3.12.2"
  }
 },
 "nbformat": 4,
 "nbformat_minor": 5
}
