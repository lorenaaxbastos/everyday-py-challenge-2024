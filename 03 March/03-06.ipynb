{
 "cells": [
  {
   "cell_type": "markdown",
   "id": "0270de23-8a13-4f5a-b90b-f50cf322d383",
   "metadata": {},
   "source": [
    "# Birthday plots\n",
    "\n",
    "Date: 03/06/2024.\n",
    "From: Practice Python. \n",
    "Link to [exercise](https://www.practicepython.org/exercise/2017/04/02/36-birthday-plots.html).\n",
    "\n",
    "### Description\n",
    "\n",
    "In the previous exercise we counted how many birthdays there are in each month in our dictionary of birthdays.\n",
    "\n",
    "In this exercise, use the bokeh Python library to plot a histogram of which months the scientists have birthdays in! Because it would take a long time for you to input the months of various scientists, you can use my [my scientist birthday JSON file](https://www.practicepython.org/assets/scientist_birthdays.json). Just parse out the months (if you don’t know how, I suggest looking at the previous exercise or its solution) and draw your histogram.\n",
    "\n",
    "### My solution"
   ]
  },
  {
   "cell_type": "code",
   "execution_count": 1,
   "id": "2219b93e-aa00-446c-b63c-ac1914d776cd",
   "metadata": {},
   "outputs": [
    {
     "data": {
      "text/plain": [
       "{'March': 1,\n",
       " 'December': 2,\n",
       " 'June': 1,\n",
       " 'November': 2,\n",
       " 'January': 1,\n",
       " 'May': 1,\n",
       " 'July': 2}"
      ]
     },
     "metadata": {},
     "output_type": "display_data"
    }
   ],
   "source": [
    "# previous exercise\n",
    "with open(\"scientists_birthdays.json\", mode=\"r\") as json_file:\n",
    "    birthdays = eval(json_file.read())\n",
    "\n",
    "months = [\"January\", \"February\", \"March\", \"April\", \"May\", \"June\", \"July\", \"August\", \"September\", \"October\", \"November\", \"December\"]\n",
    "birthdays_months = {}\n",
    "\n",
    "for date in birthdays.values():\n",
    "    month = int(date.split(\"/\")[0]) - 1\n",
    "    birthdays_months[months[month]] = birthdays_months.get(months[month], 0) + 1\n",
    "\n",
    "display(birthdays_months)"
   ]
  },
  {
   "cell_type": "code",
   "execution_count": 2,
   "id": "080c1505-e9da-4422-971c-24c00b063435",
   "metadata": {},
   "outputs": [],
   "source": [
    "# this exercise\n",
    "from bokeh.plotting import figure, show\n",
    "\n",
    "months_birthdays_counts = dict.fromkeys(months, 0)\n",
    "months_birthdays_counts.update(birthdays_months)\n",
    "counts = list(months_birthdays_counts.values())\n",
    "\n",
    "p = figure(\n",
    "    x_range=months, \n",
    "    height=350, \n",
    "    title=\"Scientists Birthdays (Months) Counts\",\n",
    "    toolbar_location=None,\n",
    "    tools=\"\")\n",
    "\n",
    "p.vbar(x=months, top=counts, width=0.8)\n",
    "\n",
    "p.xgrid.grid_line_color = None\n",
    "p.y_range.start = 0\n",
    "\n",
    "show(p)"
   ]
  },
  {
   "cell_type": "markdown",
   "id": "59af10ef-24fb-4c6c-a74e-c446e5abceb8",
   "metadata": {},
   "source": [
    "### Sample solution\n",
    "[Link](https://www.practicepython.org/solution/2022/02/13/36-birthday-plots-solutions.html) to sample solution."
   ]
  }
 ],
 "metadata": {
  "kernelspec": {
   "display_name": "Python 3 (ipykernel)",
   "language": "python",
   "name": "python3"
  },
  "language_info": {
   "codemirror_mode": {
    "name": "ipython",
    "version": 3
   },
   "file_extension": ".py",
   "mimetype": "text/x-python",
   "name": "python",
   "nbconvert_exporter": "python",
   "pygments_lexer": "ipython3",
   "version": "3.12.2"
  }
 },
 "nbformat": 4,
 "nbformat_minor": 5
}
