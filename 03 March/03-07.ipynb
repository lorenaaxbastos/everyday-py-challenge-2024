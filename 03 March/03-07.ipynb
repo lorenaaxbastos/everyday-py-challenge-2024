{
 "cells": [
  {
   "cell_type": "markdown",
   "id": "7be34a7c-b59d-4ede-9a3e-2133a0292938",
   "metadata": {},
   "source": [
    "# Functions refactor\n",
    "\n",
    "Date: 03/07/2024.\n",
    "From: Practice Python. \n",
    "Link to [exercise](https://www.practicepython.org/exercise/2022/02/20/37-functions-refactor.html).\n",
    "\n",
    "### Description\n",
    "\n",
    "One area of confusion for new coders is the concept of functions (which have been addressed on this blog in exercise 11 for example). So in this exercise, we will be stretching our functions muscle by refactoring an existing code snippet into using functions.\n",
    "\n",
    "Here is the code snippet to refactor (taken from a correct but very repeated solution to exercise 24 on this website):\n",
    "\n",
    "```python\n",
    "print(\" --- --- ---\")\n",
    "print(\"|   |   |   |\")\n",
    "print(\" --- --- ---\")\n",
    "print(\"|   |   |   |\")\n",
    "print(\" --- --- ---\")\n",
    "print(\"|   |   |   |\")\n",
    "print(\" --- --- ---\")\n",
    "```\n",
    "\n",
    "### My solution"
   ]
  },
  {
   "cell_type": "code",
   "execution_count": null,
   "id": "f4b546f6-b228-498b-b1a8-0d2e9582b7de",
   "metadata": {},
   "outputs": [],
   "source": []
  },
  {
   "cell_type": "markdown",
   "id": "ad076562-7910-4a0e-8a67-b071db31e100",
   "metadata": {},
   "source": [
    "### Sample solution\n",
    "[Link](https://www.practicepython.org/solution/2022/02/27/37-functions-refactor-solution.html) to sample solution."
   ]
  }
 ],
 "metadata": {
  "kernelspec": {
   "display_name": "Python 3 (ipykernel)",
   "language": "python",
   "name": "python3"
  },
  "language_info": {
   "codemirror_mode": {
    "name": "ipython",
    "version": 3
   },
   "file_extension": ".py",
   "mimetype": "text/x-python",
   "name": "python",
   "nbconvert_exporter": "python",
   "pygments_lexer": "ipython3",
   "version": "3.12.2"
  }
 },
 "nbformat": 4,
 "nbformat_minor": 5
}
