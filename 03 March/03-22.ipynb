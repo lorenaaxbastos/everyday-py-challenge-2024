{
 "cells": [
  {
   "cell_type": "markdown",
   "id": "ac38dd33-116c-492a-892b-fee1565f6942",
   "metadata": {},
   "source": [
    "# Decode the Morse code \n",
    "\n",
    "Date: 03/22/2024.\n",
    "From: Codewars.\n",
    "Link to [kata](https://www.codewars.com/kata/54b724efac3d5402db00065e/train/python).\n",
    "\n",
    "### Description\n",
    "\n",
    "> Part of Series 1/3\n",
    "\n",
    "This kata is part of a series on the Morse code. After you solve this kata, you may move to the [next one](https://www.codewars.com/kata/decode-the-morse-code-advanced).\n",
    "\n",
    "In this kata you have to write a simple Morse code decoder. While the Morse code is now mostly superseded by voice and digital data communication channels, it still has its use in some applications around the world.\n",
    "\n",
    "The Morse code encodes every character as a sequence of \"dots\" and \"dashes\". For example, the letter A is coded as ·−, letter Q is coded as −−·−, and digit 1 is coded as ·−−−−. The Morse code is case-insensitive, traditionally capital letters are used. When the message is written in Morse code, a single space is used to separate the character codes and 3 spaces are used to separate words. For example, the message HEY JUDE in Morse code is ···· · −·−−   ·−−− ··− −·· ·.\n",
    "\n",
    "NOTE: Extra spaces before or after the code have no meaning and should be ignored.\n",
    "\n",
    "In addition to letters, digits and some punctuation, there are some special service codes, the most notorious of those is the international distress signal SOS (that was first issued by Titanic), that is coded as ···−−−···. These special codes are treated as single special characters, and usually are transmitted as separate words.\n",
    "\n",
    "Your task is to implement a function that would take the morse code as input and return a decoded human-readable string.\n",
    "\n",
    "For example:\n",
    "\n",
    "```python\n",
    "decode_morse('.... . -.--   .--- ..- -.. .')\n",
    "# should return \"HEY JUDE\"\n",
    "```\n",
    "\n",
    "*NOTE: For coding purposes you have to use ASCII characters . and -, not Unicode characters.*\n",
    "\n",
    "The Morse code table is preloaded for you as a dictionary, feel free to use it:\n",
    "\n",
    "- Coffeescript/C++/Go/JavaScript/Julia/PHP/Python/Ruby/TypeScript: MORSE_CODE['.--']\n",
    "- C#: MorseCode.Get(\".--\") (returns string)\n",
    "- F#: MorseCode.get \".--\" (returns string)\n",
    "- Elixir: @morse_codes variable (from use MorseCode.Constants). Ignore the unused variable warning for morse_codes because it's no longer used and kept only for old solutions.\n",
    "- Elm: MorseCodes.get : Dict String String\n",
    "- Haskell: morseCodes ! \".--\" (Codes are in a Map String String)\n",
    "- Java: MorseCode.get(\".--\")\n",
    "- Kotlin: MorseCode[\".--\"] ?: \"\" or MorseCode.getOrDefault(\".--\", \"\")\n",
    "- Racket: morse-code (a hash table)\n",
    "- Rust: MORSE_CODE\n",
    "- Scala: morseCodes(\".--\")\n",
    "- Swift: MorseCode[\".--\"] ?? \"\" or MorseCode[\".--\", default: \"\"]\n",
    "- C: provides parallel arrays, i.e. morse[2] == \"-.-\" for ascii[2] == \"C\"\n",
    "- NASM: a table of pointers to the morsecodes, and a corresponding list of ascii symbols\n",
    "\n",
    "All the test strings would contain valid Morse code, so you may skip checking for errors and exceptions. In C#, tests will fail if the solution code throws an exception, please keep that in mind. This is mostly because otherwise the engine would simply ignore the tests, resulting in a \"valid\" solution.\n",
    "\n",
    "Good luck!\n",
    "\n",
    "After you complete this kata, you may try yourself at Decode the Morse code, advanced.\n",
    "\n",
    "### My solution"
   ]
  },
  {
   "cell_type": "code",
   "execution_count": 2,
   "id": "8a24eba6-ede5-4969-9b7a-9b70430c1b1d",
   "metadata": {},
   "outputs": [],
   "source": [
    "def decode_morse(morse_code):\n",
    "    pass"
   ]
  },
  {
   "cell_type": "markdown",
   "id": "ecbee621-7176-4fea-ac5b-2c291aea760f",
   "metadata": {},
   "source": [
    "### Basic tests"
   ]
  },
  {
   "cell_type": "code",
   "execution_count": 3,
   "id": "0b49e83c-f73b-4a0a-99f4-42707df65678",
   "metadata": {},
   "outputs": [
    {
     "name": "stdout",
     "output_type": "stream",
     "text": [
      "None\n",
      "None\n",
      "None\n",
      "None\n",
      "None\n",
      "None\n",
      "None\n",
      "None\n",
      "None\n",
      "None\n",
      "None\n",
      "None\n",
      "None\n",
      "None\n",
      "None\n",
      "None\n",
      "None\n"
     ]
    }
   ],
   "source": [
    "print(decode_morse('.... . -.--   .--- ..- -.. .')) # expects 'HEY JUDE'\n",
    "print(decode_morse('.-')) # expects 'A'\n",
    "print(decode_morse('--...')) # expects '7'\n",
    "print(decode_morse('...-..-')) # expects '$'\n",
    "print(decode_morse('.')) # expects 'E'\n",
    "print(decode_morse('..')) # expects 'I'\n",
    "print(decode_morse('. .')) # expects 'EE'\n",
    "print(decode_morse('.   .')) # expects 'E E'\n",
    "print(decode_morse('...-..- ...-..- ...-..-')) # expects '$$$'\n",
    "print(decode_morse('----- .---- ..--- ---.. ----.')) # expects '01289'\n",
    "print(decode_morse('.-... ---...   -..-. --...')) # expects '&: /7'\n",
    "print(decode_morse('...---...')) # expects 'SOS'\n",
    "print(decode_morse('... --- ...')) # expects 'SOS'\n",
    "print(decode_morse('...   ---   ...')) # expects 'S O S'\n",
    "print(decode_morse(' . ')) # expects 'E'\n",
    "print(decode_morse('   .   . ')) # expects 'E E'\n",
    "print(decode_morse('      ...---... -.-.--   - .... .   --.- ..- .. -.-. -.-   -... .-. --- .-- -.   ..-. --- -..-   .--- ..- -- .--. ...   --- ...- . .-.   - .... .   .-.. .- --.. -.--   -.. --- --. .-.-.-  ')) # expects 'SOS! THE QUICK BROWN FOX JUMPS OVER THE LAZY DOG.'"
   ]
  }
 ],
 "metadata": {
  "kernelspec": {
   "display_name": "Python 3 (ipykernel)",
   "language": "python",
   "name": "python3"
  },
  "language_info": {
   "codemirror_mode": {
    "name": "ipython",
    "version": 3
   },
   "file_extension": ".py",
   "mimetype": "text/x-python",
   "name": "python",
   "nbconvert_exporter": "python",
   "pygments_lexer": "ipython3",
   "version": "3.12.2"
  }
 },
 "nbformat": 4,
 "nbformat_minor": 5
}
