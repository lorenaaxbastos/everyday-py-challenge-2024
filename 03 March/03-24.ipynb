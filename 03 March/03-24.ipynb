{
 "cells": [
  {
   "cell_type": "markdown",
   "id": "d5e6f484-9563-4874-99e2-c43710dcc3ec",
   "metadata": {},
   "source": [
    "# RGB to hex conversion\n",
    "\n",
    "Date: 03/24/2024.\n",
    "From: Codewars.\n",
    "Link to [kata](https://www.codewars.com/kata/513e08acc600c94f01000001/train/python).\n",
    "\n",
    "### Description\n",
    "\n",
    "The rgb function is incomplete. Complete it so that passing in RGB decimal values will result in a hexadecimal representation being returned. Valid decimal values for RGB are 0 - 255. Any values that fall out of that range must be rounded to the closest valid value.\n",
    "\n",
    "Note: Your answer should always be 6 characters long, the shorthand with 3 will not work here.\n",
    "\n",
    "```\n",
    "Examples (input --> output):\n",
    "255, 255, 255 --> \"FFFFFF\"\n",
    "255, 255, 300 --> \"FFFFFF\"\n",
    "0, 0, 0       --> \"000000\"\n",
    "148, 0, 211   --> \"9400D3\"\n",
    "```\n",
    "\n",
    "### My solution"
   ]
  },
  {
   "cell_type": "code",
   "execution_count": 2,
   "id": "df42ab28-f124-4158-baa9-43a42f9ca414",
   "metadata": {},
   "outputs": [],
   "source": [
    "def rgb(r, g, b):\n",
    "    pass"
   ]
  },
  {
   "cell_type": "markdown",
   "id": "f4aaed77-0fa5-45f4-9f82-f98acd6b1eae",
   "metadata": {},
   "source": [
    "### Basic tests"
   ]
  },
  {
   "cell_type": "code",
   "execution_count": 3,
   "id": "23ad895b-e870-47b6-a4f8-8b035b817cff",
   "metadata": {},
   "outputs": [
    {
     "name": "stdout",
     "output_type": "stream",
     "text": [
      "None\n",
      "None\n",
      "None\n",
      "None\n",
      "None\n"
     ]
    }
   ],
   "source": [
    "print(rgb(0, 0, 0)) # expects \"000000\"\n",
    "print(rgb(1, 2, 3)) # expects \"010203\"\n",
    "print(rgb(255, 255, 255)) # expects \"FFFFFF\"\n",
    "print(rgb(254, 253, 252)) # expects \"FEFDFC\"\n",
    "print(rgb(-20, 275, 125)) # expects \"00FF7D\""
   ]
  }
 ],
 "metadata": {
  "kernelspec": {
   "display_name": "Python 3 (ipykernel)",
   "language": "python",
   "name": "python3"
  },
  "language_info": {
   "codemirror_mode": {
    "name": "ipython",
    "version": 3
   },
   "file_extension": ".py",
   "mimetype": "text/x-python",
   "name": "python",
   "nbconvert_exporter": "python",
   "pygments_lexer": "ipython3",
   "version": "3.12.1"
  }
 },
 "nbformat": 4,
 "nbformat_minor": 5
}
