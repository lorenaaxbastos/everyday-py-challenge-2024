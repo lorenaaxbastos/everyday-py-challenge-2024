{
 "cells": [
  {
   "cell_type": "markdown",
   "id": "8edd5bc3-a27d-4c0d-aa51-6e603e7ecb5a",
   "metadata": {},
   "source": [
    "# Sum of digits / Digital root\n",
    "\n",
    "Date: 03/11/2024.\n",
    "From: Codewars. \n",
    "Link to [kata](https://www.codewars.com/kata/541c8630095125aba6000c00/train/python).\n",
    "\n",
    "### Description\n",
    "\n",
    "Digital root is the recursive sum of all the digits in a number.\n",
    "\n",
    "Given n, take the sum of the digits of n. If that value has more than one digit, continue reducing in this way until a single-digit number is produced. The input will be a non-negative integer.\n",
    "\n",
    "```\n",
    "Examples\n",
    "    16  -->  1 + 6 = 7\n",
    "   942  -->  9 + 4 + 2 = 15  -->  1 + 5 = 6\n",
    "132189  -->  1 + 3 + 2 + 1 + 8 + 9 = 24  -->  2 + 4 = 6\n",
    "493193  -->  4 + 9 + 3 + 1 + 9 + 3 = 29  -->  2 + 9 = 11  -->  1 + 1 = 2]\n",
    "```"
   ]
  },
  {
   "cell_type": "markdown",
   "id": "66982527-5526-4e7a-ae46-28e39af95527",
   "metadata": {},
   "source": [
    "### My solution"
   ]
  },
  {
   "cell_type": "code",
   "execution_count": 1,
   "id": "85b0da5f-d6c6-431e-ac1b-bf92273142aa",
   "metadata": {},
   "outputs": [],
   "source": [
    "def digital_root(n):\n",
    "    pass"
   ]
  },
  {
   "cell_type": "markdown",
   "id": "cc4bb553-6efa-413f-97dd-914bdc11393d",
   "metadata": {},
   "source": [
    "### Basic tests"
   ]
  },
  {
   "cell_type": "code",
   "execution_count": 2,
   "id": "4e78caf0-ba03-4241-bf7a-7e01047d3bfc",
   "metadata": {},
   "outputs": [
    {
     "name": "stdout",
     "output_type": "stream",
     "text": [
      "None\n",
      "None\n",
      "None\n",
      "None\n"
     ]
    }
   ],
   "source": [
    "print(digital_root(16)) # expects 7\n",
    "print(digital_root(942)) # expects 6\n",
    "print(digital_root(132189)) # expects 6\n",
    "print(digital_root(493193)) # expects 2"
   ]
  }
 ],
 "metadata": {
  "kernelspec": {
   "display_name": "Python 3 (ipykernel)",
   "language": "python",
   "name": "python3"
  },
  "language_info": {
   "codemirror_mode": {
    "name": "ipython",
    "version": 3
   },
   "file_extension": ".py",
   "mimetype": "text/x-python",
   "name": "python",
   "nbconvert_exporter": "python",
   "pygments_lexer": "ipython3",
   "version": "3.12.1"
  }
 },
 "nbformat": 4,
 "nbformat_minor": 5
}
