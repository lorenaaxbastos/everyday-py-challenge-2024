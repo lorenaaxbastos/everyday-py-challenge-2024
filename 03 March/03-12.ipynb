{
 "cells": [
  {
   "cell_type": "markdown",
   "id": "a24b2368-edfd-40d1-b891-c8b2c36c6225",
   "metadata": {},
   "source": [
    "# Decoding a message\n",
    "\n",
    "Date: 03/12/2024.\n",
    "From: Codewars. \n",
    "Link to [kata](https://www.codewars.com/kata/565b9d6f8139573819000056/train/python).\n",
    "\n",
    "### Description\n",
    "\n",
    "You have managed to intercept an important message and you are trying to read it.\n",
    "\n",
    "You realise that the message has been encoded and can be decoded by switching each letter with a corresponding letter.\n",
    "\n",
    "You also notice that each letter is paired with the letter that it coincides with when the alphabet is reversed.\n",
    "\n",
    "For example: \"a\" is encoded with \"z\", \"b\" with \"y\", \"c\" with \"x\", etc\n",
    "\n",
    "You read the first sentence:\n",
    "\n",
    "```\n",
    "\"r slkv mlylwb wvxlwvh gsrh nvhhztv\"\n",
    "```\n",
    "\n",
    "After a few minutes you manage to decode it:\n",
    "\n",
    "```\n",
    "\"i hope nobody decodes this message\"\n",
    "```\n",
    "\n",
    "Create a function that will instantly decode any of these messages\n",
    "\n",
    "You can assume no punctuation or capitals, only lower case letters, but remember spaces!"
   ]
  },
  {
   "cell_type": "markdown",
   "id": "30b71686-2cd5-4afa-9367-f4b169119cee",
   "metadata": {},
   "source": [
    "### My solution"
   ]
  },
  {
   "cell_type": "code",
   "execution_count": 1,
   "id": "ac8d13a0-fb77-4890-8d09-ba7736e5f815",
   "metadata": {},
   "outputs": [],
   "source": [
    "from string import ascii_lowercase\n",
    "\n",
    "def decode(message):\n",
    "    return \"\".join(ascii_lowercase[-ascii_lowercase.index(char) - 1] if char in ascii_lowercase else char for char in message)"
   ]
  },
  {
   "cell_type": "markdown",
   "id": "782ac661-93b6-4480-9a8b-e0e7e89c188c",
   "metadata": {},
   "source": [
    "### Basic tests"
   ]
  },
  {
   "cell_type": "code",
   "execution_count": 2,
   "id": "6ba74661-646d-4a5f-ae3c-30dc4483cea3",
   "metadata": {},
   "outputs": [
    {
     "name": "stdout",
     "output_type": "stream",
     "text": [
      "hi\n",
      "hello\n",
      "i hope nobody decodes this message\n",
      "javacript is a high level dynamic untyped and interpreted programming language it has been standardized in the ecmacript language specification alongside html and css it is one of the three essential technologies of world wide web content production the majority of websites employ it and it is supported by all modern web browsers without plugins\n",
      "the eighth symphony was jean sibelius final major compositional project occupying him intermittently\n",
      "sfhyzmwh zhp ivkvzgvw ivhloevw yfg ozftsgvi wvyzgrmt\n",
      "zzzzzzzzzzzzzzzzzzzzzzzzzzzzzzzzzzzzzzzzzzzzzzzzzzzzzzzzzzzzzzz\n",
      " \n",
      "\n",
      "gsvozhgizmwlnhvmgvmxv\n"
     ]
    }
   ],
   "source": [
    "print(decode(\"sr\")) # expects\"hi\"\n",
    "print(decode(\"svool\")) # expects\"hello\"\n",
    "print(decode(\"r slkv mlylwb wvxlwvh gsrh nvhhztv\")) # expects\"i hope nobody decodes this message\"\n",
    "print(decode(\"qzezxirkg rh z srts ovevo wbmznrx fmgbkvw zmw rmgvikivgvw kiltiznnrmt ozmtfztv rg szh yvvm hgzmwziwravw rm gsv vxnzxirkg ozmtfztv hkvxrurxzgrlm zolmthrwv sgno zmw xhh rg rh lmv lu gsv gsivv vhhvmgrzo gvxsmloltrvh lu dliow drwv dvy xlmgvmg kilwfxgrlm gsv nzqlirgb lu dvyhrgvh vnkolb rg zmw rg rh hfkkligvw yb zoo nlwvim dvy yildhvih drgslfg koftrmh\")) # expects \"javacript is a high level dynamic untyped and interpreted programming language it has been standardized in the ecmacript language specification alongside html and css it is one of the three essential technologies of world wide web content production the majority of websites employ it and it is supported by all modern web browsers without plugins\")\n",
    "print(decode(\"gsv vrtsgs hbnkslmb dzh qvzm hryvorfh urmzo nzqli xlnklhrgrlmzo kilqvxg lxxfkbrmt srn rmgvinrggvmgob\")) # expects \"the eighth symphony was jean sibelius final major compositional project occupying him intermittently\"\n",
    "print(decode(\"husbands ask repeated resolved but laughter debating\")) # expects \"sfhyzmwh zhp ivkvzgvw ivhloevw yfg ozftsgvi wvyzgrmt\"\n",
    "print(decode(\"aaaaaaaaaaaaaaaaaaaaaaaaaaaaaaaaaaaaaaaaaaaaaaaaaaaaaaaaaaaaaaa\")) # expects \"zzzzzzzzzzzzzzzzzzzzzzzzzzzzzzzzzzzzzzzzzzzzzzzzzzzzzzzzzzzzzzz\"\n",
    "print(decode(\" \")) # expects\" \"\n",
    "print(decode(\"\")) # expects\"\"\n",
    "print(decode(\"thelastrandomsentence\")) # expects \"gsvozhgizmwlnhvmgvmxv\""
   ]
  }
 ],
 "metadata": {
  "kernelspec": {
   "display_name": "Python 3 (ipykernel)",
   "language": "python",
   "name": "python3"
  },
  "language_info": {
   "codemirror_mode": {
    "name": "ipython",
    "version": 3
   },
   "file_extension": ".py",
   "mimetype": "text/x-python",
   "name": "python",
   "nbconvert_exporter": "python",
   "pygments_lexer": "ipython3",
   "version": "3.12.2"
  }
 },
 "nbformat": 4,
 "nbformat_minor": 5
}
