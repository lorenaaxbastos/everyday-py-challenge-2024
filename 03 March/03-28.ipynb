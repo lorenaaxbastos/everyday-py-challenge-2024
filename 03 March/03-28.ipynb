{
 "cells": [
  {
   "cell_type": "markdown",
   "id": "a643ad1f-72c1-41a0-835d-17288d735663",
   "metadata": {},
   "source": [
    "# Find the divisors! \n",
    "\n",
    "Date: 03/28/2024.\n",
    "From: Codewars.\n",
    "Link to [kata](https://www.codewars.com/kata/544aed4c4a30184e960010f4/train/python).\n",
    "\n",
    "### Description\n",
    "\n",
    "Create a function named divisors/Divisors that takes an integer n > 1 and returns an array with all of the integer's divisors(except for 1 and the number itself), from smallest to largest. If the number is prime return the string '(integer) is prime'.\n",
    "\n",
    "**Examples**\n",
    "\n",
    "```\n",
    "divisors(12); #should return [2,3,4,6]\n",
    "divisors(25); #should return [5]\n",
    "divisors(13); #should return \"13 is prime\"\n",
    "```\n",
    "\n",
    "### My solution"
   ]
  },
  {
   "cell_type": "code",
   "execution_count": 1,
   "id": "2259a9c3-2530-4ba0-b799-f76e965b6de9",
   "metadata": {},
   "outputs": [],
   "source": [
    "def divisors(integer):\n",
    "    pass"
   ]
  },
  {
   "cell_type": "markdown",
   "id": "e2b1971b-77b7-4e5a-b94b-ddb8e72c943c",
   "metadata": {},
   "source": [
    "### Basic tests"
   ]
  },
  {
   "cell_type": "code",
   "execution_count": 2,
   "id": "d231ed15-f158-49c4-986e-2bcfd9b78686",
   "metadata": {},
   "outputs": [
    {
     "name": "stdout",
     "output_type": "stream",
     "text": [
      "None\n",
      "None\n",
      "None\n",
      "None\n",
      "None\n",
      "None\n",
      "None\n"
     ]
    }
   ],
   "source": [
    "print(divisors(15)) # expects [3,5]\n",
    "print(divisors(253)) # expects [11,23]\n",
    "print(divisors(24)) # expects [2,3,4,6,8,12]\n",
    "print(divisors(25)) # expects [5]\n",
    "print(divisors(13)) # expects \"13 is prime\"\n",
    "print(divisors(3)) # expects \"3 is prime\"\n",
    "print(divisors(29)) # expects \"29 is prime\""
   ]
  }
 ],
 "metadata": {
  "kernelspec": {
   "display_name": "Python 3 (ipykernel)",
   "language": "python",
   "name": "python3"
  },
  "language_info": {
   "codemirror_mode": {
    "name": "ipython",
    "version": 3
   },
   "file_extension": ".py",
   "mimetype": "text/x-python",
   "name": "python",
   "nbconvert_exporter": "python",
   "pygments_lexer": "ipython3",
   "version": "3.12.2"
  }
 },
 "nbformat": 4,
 "nbformat_minor": 5
}
