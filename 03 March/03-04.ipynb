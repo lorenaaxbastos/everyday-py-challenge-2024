{
 "cells": [
  {
   "cell_type": "markdown",
   "id": "4658879f-63a7-463d-bed8-efd7accfdc56",
   "metadata": {},
   "source": [
    "# Birthday JSON\n",
    "\n",
    "Date: 03/04/2024.\n",
    "From: Practice Python. \n",
    "Link to [exercise](https://www.practicepython.org/exercise/2017/02/06/34-birthday-json.html).\n",
    "\n",
    "### Description\n",
    "\n",
    "In the previous exercise we created a dictionary of famous scientists’ birthdays. In this exercise, modify your program from Part 1 to load the birthday dictionary from a JSON file on disk, rather than having the dictionary defined in the program.\r\n",
    "\r\n",
    "Bonus: Ask the user for another scientist’s name and birthday to add to the dictionary, and update the JSON file you have on disk with the scientist’s name. If you run the program multiple times and keep adding new names, your JSON file should keep getting bigger and bigger.\n",
    "\n",
    "### My solution"
   ]
  },
  {
   "cell_type": "code",
   "execution_count": 1,
   "id": "8759fa7e-4f6a-425e-b1e7-7acbf1abf49d",
   "metadata": {},
   "outputs": [],
   "source": [
    "import json"
   ]
  },
  {
   "cell_type": "code",
   "execution_count": 31,
   "id": "c9e1c5aa-2ade-4ce6-8f68-1e5828a9de8b",
   "metadata": {},
   "outputs": [],
   "source": [
    "birthdays = {\n",
    "    \"Albert Einstein\": \"03/14/1879\",\n",
    "    \"Ada Lovelace\": \"12/10/1815\",\n",
    "    \"Charles Babbage\": \"12/26/1791\",\n",
    "    \"Alan Turing\": \"06/23/1912\",\n",
    "    \"Hedy Lamarr\": \"11/09/1914\",\n",
    "    \"Marie Curie\": \"11/07/1867\"\n",
    "}\n",
    "\n",
    "json_birthdays = json.dumps(birthdays)\n",
    "\n",
    "with open(\"scientists_birthdays.json\", mode=\"w\") as json_file:\n",
    "    json_file.write(json_birthdays)"
   ]
  },
  {
   "cell_type": "code",
   "execution_count": 40,
   "id": "81b8fabe-98d4-41a5-817d-870ee7506992",
   "metadata": {},
   "outputs": [
    {
     "name": "stdout",
     "output_type": "stream",
     "text": [
      "Welcome to the birthday dictionary. We know the birthdays of:\n",
      "- Albert Einstein\n",
      "- Ada Lovelace\n",
      "- Charles Babbage\n",
      "- Alan Turing\n",
      "- Hedy Lamarr\n",
      "- Marie Curie\n",
      "- Isaac Newton\n",
      "- Rachel Carson\n",
      "- Nikola Tesla\n",
      "- Rosalind Franklin\n"
     ]
    },
    {
     "name": "stdin",
     "output_type": "stream",
     "text": [
      "\n",
      "What do you want to do?\n",
      "[1] Look up a birthday\n",
      "[2] Add another scientist's birthday\n",
      "Choice: 1\n",
      "\n",
      "Who's birthday do you want to look up? Charles Darwin\n"
     ]
    },
    {
     "name": "stdout",
     "output_type": "stream",
     "text": [
      "\n",
      "Sorry, we don't have the birthday of Charles Darwin.\n"
     ]
    },
    {
     "name": "stdin",
     "output_type": "stream",
     "text": [
      "Do you want to add it to the file? [Y/N] n\n"
     ]
    }
   ],
   "source": [
    "print(\"Welcome to the birthday dictionary. We know the birthdays of:\")\n",
    "\n",
    "with open(\"scientists_birthdays.json\", mode=\"r\") as json_file:\n",
    "    birthdays = json_file.read()\n",
    "    birthdays_dict = eval(birthdays)\n",
    "\n",
    "    for name in birthdays_dict:\n",
    "        print(\"-\", name)\n",
    "\n",
    "    option = int(input(\"\\nWhat do you want to do?\\n[1] Look up a birthday\\n[2] Add another scientist's birthday\\nChoice:\"))\n",
    "    \n",
    "    if option == 1:    \n",
    "        search_name = input(\"\\nWho's birthday do you want to look up?\").title()\n",
    "        \n",
    "        if search_name in birthdays_dict:\n",
    "            print(f\"\\n{search_name.title()}'s birthday is {birthdays_dict[search_name]}.\")\n",
    "        else:\n",
    "            print(f\"\\nSorry, we don't have the birthday of {search_name}.\")\n",
    "            answer = input(\"Do you want to add it to the file? [Y/N]\").upper()\n",
    "\n",
    "if option == 2 or answer == \"Y\":\n",
    "    name = input(\"\\nWhat's the scientist name?\") if option == 2 else search_name\n",
    "    birthday = input(f\"When is {name}'s birthday? (MM/DD/YYYY)\")\n",
    "    birthdays_dict[name] = birthday\n",
    "\n",
    "    with open(\"scientists_birthdays.json\", mode=\"w\") as json_file:\n",
    "        json_file.write(birthdays_dict.__str__())"
   ]
  },
  {
   "cell_type": "markdown",
   "id": "534e9090-e744-4b46-a583-0dd441efa159",
   "metadata": {},
   "source": [
    "### Sample solution\n",
    "[Link](https://www.practicepython.org/solution/2017/02/25/34-birthday-json-solutions.html) to sample solution."
   ]
  }
 ],
 "metadata": {
  "kernelspec": {
   "display_name": "Python 3 (ipykernel)",
   "language": "python",
   "name": "python3"
  },
  "language_info": {
   "codemirror_mode": {
    "name": "ipython",
    "version": 3
   },
   "file_extension": ".py",
   "mimetype": "text/x-python",
   "name": "python",
   "nbconvert_exporter": "python",
   "pygments_lexer": "ipython3",
   "version": "3.12.2"
  }
 },
 "nbformat": 4,
 "nbformat_minor": 5
}
