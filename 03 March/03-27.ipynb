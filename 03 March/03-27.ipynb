{
 "cells": [
  {
   "cell_type": "markdown",
   "id": "c2680b41-82f7-487f-80bb-dc85ff923101",
   "metadata": {},
   "source": [
    "# Bit counting\n",
    "\n",
    "Date: 03/27/2024.\n",
    "From: Codewars.\n",
    "Link to [kata](https://www.codewars.com/kata/526571aae218b8ee490006f4/train/python).\n",
    "\n",
    "### Description\n",
    "\n",
    "Write a function that takes an integer as input, and returns the number of bits that are equal to one in the binary representation of that number. You can guarantee that input is non-negative.\n",
    "\n",
    "*Example: The binary representation of `1234` is `10011010010`, so the function should return `5` in this case*\n",
    "\n",
    "### My solution"
   ]
  },
  {
   "cell_type": "code",
   "execution_count": 1,
   "id": "a1d4c031-039b-46dc-8a3a-cb162a6d5ecd",
   "metadata": {},
   "outputs": [],
   "source": [
    "def count_bits(n):\n",
    "    return"
   ]
  },
  {
   "cell_type": "markdown",
   "id": "51549df3-74fc-4310-954c-16ea196dba35",
   "metadata": {},
   "source": [
    "### Basic tests"
   ]
  },
  {
   "cell_type": "code",
   "execution_count": 2,
   "id": "00caf06d-ae30-4f5f-9a78-246a8855537a",
   "metadata": {},
   "outputs": [
    {
     "name": "stdout",
     "output_type": "stream",
     "text": [
      "None\n",
      "None\n",
      "None\n",
      "None\n",
      "None\n"
     ]
    }
   ],
   "source": [
    "print(count_bits(0)) # expects 0\n",
    "print(count_bits(4)) # expects 1\n",
    "print(count_bits(7)) # expects 3\n",
    "print(count_bits(9)) # expects 2\n",
    "print(count_bits(10)) # expects 2"
   ]
  }
 ],
 "metadata": {
  "kernelspec": {
   "display_name": "Python 3 (ipykernel)",
   "language": "python",
   "name": "python3"
  },
  "language_info": {
   "codemirror_mode": {
    "name": "ipython",
    "version": 3
   },
   "file_extension": ".py",
   "mimetype": "text/x-python",
   "name": "python",
   "nbconvert_exporter": "python",
   "pygments_lexer": "ipython3",
   "version": "3.12.2"
  }
 },
 "nbformat": 4,
 "nbformat_minor": 5
}
