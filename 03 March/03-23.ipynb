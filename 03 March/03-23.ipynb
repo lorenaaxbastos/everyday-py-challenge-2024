{
 "cells": [
  {
   "cell_type": "markdown",
   "id": "b192da21-c57d-47ec-a6ae-77f0f4868597",
   "metadata": {},
   "source": [
    "# Bug fix: Quick sort\n",
    "\n",
    "Date: 03/23/2024.\n",
    "From: Codewars.\n",
    "Link to [kata](https://www.codewars.com/kata/56bdaa2cbe8f29257c000085/train/python).\n",
    "\n",
    "### Description\n",
    "\n",
    "There is an implementation of quicksort algorithm. Your task is to fix it. All inputs are correct.\n",
    "\n",
    "See also: [Quick Sort](https://en.wikipedia.org/wiki/Quicksort)\n",
    "\n",
    "### My solution"
   ]
  },
  {
   "cell_type": "code",
   "execution_count": 1,
   "id": "897f30e0-84cb-4869-acdd-b1517ac3f002",
   "metadata": {},
   "outputs": [],
   "source": [
    "def quicksort(arr):\n",
    "\tif len(arr) < 1: return arr\n",
    "\tp = arr[0]\n",
    "\treturn quicksort(map(lambda x: x < p, arr[::-1])) + quicksort(map(lambda x: x > p, arr[2:]))"
   ]
  },
  {
   "cell_type": "markdown",
   "id": "6d0aa0f0-45e4-46dd-a1f3-d1e901c88c75",
   "metadata": {},
   "source": [
    "### Basic tests"
   ]
  },
  {
   "cell_type": "code",
   "execution_count": 2,
   "id": "9468a4a6-aee0-453a-ab1c-c323a2784eec",
   "metadata": {},
   "outputs": [
    {
     "name": "stdout",
     "output_type": "stream",
     "text": [
      "[]\n"
     ]
    },
    {
     "ename": "TypeError",
     "evalue": "object of type 'map' has no len()",
     "output_type": "error",
     "traceback": [
      "\u001b[1;31m---------------------------------------------------------------------------\u001b[0m",
      "\u001b[1;31mTypeError\u001b[0m                                 Traceback (most recent call last)",
      "Cell \u001b[1;32mIn[2], line 2\u001b[0m\n\u001b[0;32m      1\u001b[0m \u001b[38;5;28mprint\u001b[39m(quicksort([])) \u001b[38;5;66;03m# expects []\u001b[39;00m\n\u001b[1;32m----> 2\u001b[0m \u001b[38;5;28mprint\u001b[39m(\u001b[43mquicksort\u001b[49m\u001b[43m(\u001b[49m\u001b[43m[\u001b[49m\u001b[38;5;241;43m1\u001b[39;49m\u001b[43m]\u001b[49m\u001b[43m)\u001b[49m) \u001b[38;5;66;03m# expects [1]\u001b[39;00m\n\u001b[0;32m      3\u001b[0m \u001b[38;5;28mprint\u001b[39m(quicksort([\u001b[38;5;241m1\u001b[39m, \u001b[38;5;241m5\u001b[39m, \u001b[38;5;241m2\u001b[39m])) \u001b[38;5;66;03m# expects [1, 2, 5]\u001b[39;00m\n\u001b[0;32m      4\u001b[0m \u001b[38;5;28mprint\u001b[39m(quicksort([\u001b[38;5;241m17\u001b[39m, \u001b[38;5;241m-\u001b[39m\u001b[38;5;241m5\u001b[39m, \u001b[38;5;241m3\u001b[39m])) \u001b[38;5;66;03m# expects [-5, 3, 17]\u001b[39;00m\n",
      "Cell \u001b[1;32mIn[1], line 4\u001b[0m, in \u001b[0;36mquicksort\u001b[1;34m(arr)\u001b[0m\n\u001b[0;32m      2\u001b[0m \u001b[38;5;28;01mif\u001b[39;00m \u001b[38;5;28mlen\u001b[39m(arr) \u001b[38;5;241m<\u001b[39m \u001b[38;5;241m1\u001b[39m: \u001b[38;5;28;01mreturn\u001b[39;00m arr\n\u001b[0;32m      3\u001b[0m p \u001b[38;5;241m=\u001b[39m arr[\u001b[38;5;241m0\u001b[39m]\n\u001b[1;32m----> 4\u001b[0m \u001b[38;5;28;01mreturn\u001b[39;00m \u001b[43mquicksort\u001b[49m\u001b[43m(\u001b[49m\u001b[38;5;28;43mmap\u001b[39;49m\u001b[43m(\u001b[49m\u001b[38;5;28;43;01mlambda\u001b[39;49;00m\u001b[43m \u001b[49m\u001b[43mx\u001b[49m\u001b[43m:\u001b[49m\u001b[43m \u001b[49m\u001b[43mx\u001b[49m\u001b[43m \u001b[49m\u001b[38;5;241;43m<\u001b[39;49m\u001b[43m \u001b[49m\u001b[43mp\u001b[49m\u001b[43m,\u001b[49m\u001b[43m \u001b[49m\u001b[43marr\u001b[49m\u001b[43m[\u001b[49m\u001b[43m:\u001b[49m\u001b[43m:\u001b[49m\u001b[38;5;241;43m-\u001b[39;49m\u001b[38;5;241;43m1\u001b[39;49m\u001b[43m]\u001b[49m\u001b[43m)\u001b[49m\u001b[43m)\u001b[49m \u001b[38;5;241m+\u001b[39m quicksort(\u001b[38;5;28mmap\u001b[39m(\u001b[38;5;28;01mlambda\u001b[39;00m x: x \u001b[38;5;241m>\u001b[39m p, arr[\u001b[38;5;241m2\u001b[39m:]))\n",
      "Cell \u001b[1;32mIn[1], line 2\u001b[0m, in \u001b[0;36mquicksort\u001b[1;34m(arr)\u001b[0m\n\u001b[0;32m      1\u001b[0m \u001b[38;5;28;01mdef\u001b[39;00m \u001b[38;5;21mquicksort\u001b[39m(arr):\n\u001b[1;32m----> 2\u001b[0m \t\u001b[38;5;28;01mif\u001b[39;00m \u001b[38;5;28;43mlen\u001b[39;49m\u001b[43m(\u001b[49m\u001b[43marr\u001b[49m\u001b[43m)\u001b[49m \u001b[38;5;241m<\u001b[39m \u001b[38;5;241m1\u001b[39m: \u001b[38;5;28;01mreturn\u001b[39;00m arr\n\u001b[0;32m      3\u001b[0m \tp \u001b[38;5;241m=\u001b[39m arr[\u001b[38;5;241m0\u001b[39m]\n\u001b[0;32m      4\u001b[0m \t\u001b[38;5;28;01mreturn\u001b[39;00m quicksort(\u001b[38;5;28mmap\u001b[39m(\u001b[38;5;28;01mlambda\u001b[39;00m x: x \u001b[38;5;241m<\u001b[39m p, arr[::\u001b[38;5;241m-\u001b[39m\u001b[38;5;241m1\u001b[39m])) \u001b[38;5;241m+\u001b[39m quicksort(\u001b[38;5;28mmap\u001b[39m(\u001b[38;5;28;01mlambda\u001b[39;00m x: x \u001b[38;5;241m>\u001b[39m p, arr[\u001b[38;5;241m2\u001b[39m:]))\n",
      "\u001b[1;31mTypeError\u001b[0m: object of type 'map' has no len()"
     ]
    }
   ],
   "source": [
    "print(quicksort([])) # expects []\n",
    "print(quicksort([1])) # expects [1]\n",
    "print(quicksort([1, 5, 2])) # expects [1, 2, 5]\n",
    "print(quicksort([17, -5, 3])) # expects [-5, 3, 17]\n",
    "print(quicksort([3, 0, 7, 5, 1, 2, 9, 8, 4, 6])) # expects [0, 1, 2, 3, 4, 5, 6, 7, 8, 9]"
   ]
  }
 ],
 "metadata": {
  "kernelspec": {
   "display_name": "Python 3 (ipykernel)",
   "language": "python",
   "name": "python3"
  },
  "language_info": {
   "codemirror_mode": {
    "name": "ipython",
    "version": 3
   },
   "file_extension": ".py",
   "mimetype": "text/x-python",
   "name": "python",
   "nbconvert_exporter": "python",
   "pygments_lexer": "ipython3",
   "version": "3.12.2"
  }
 },
 "nbformat": 4,
 "nbformat_minor": 5
}
