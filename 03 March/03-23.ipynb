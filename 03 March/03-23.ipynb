{
 "cells": [
  {
   "cell_type": "markdown",
   "id": "b192da21-c57d-47ec-a6ae-77f0f4868597",
   "metadata": {},
   "source": [
    "# Bug fix: Quick sort\n",
    "\n",
    "Date: 03/23/2024.\n",
    "From: Codewars.\n",
    "Link to [kata](https://www.codewars.com/kata/56bdaa2cbe8f29257c000085/train/python).\n",
    "\n",
    "### Description\n",
    "\n",
    "There is an implementation of quicksort algorithm. Your task is to fix it. All inputs are correct.\n",
    "\n",
    "See also: [Quick Sort](https://en.wikipedia.org/wiki/Quicksort)\n",
    "\n",
    "### My solution"
   ]
  },
  {
   "cell_type": "code",
   "execution_count": 1,
   "id": "46390a0e-b07d-44c5-8037-0437595f4f29",
   "metadata": {},
   "outputs": [],
   "source": [
    "def quicksort(arr):\n",
    "    if len(arr) < 2: return arr\n",
    "    pivot = arr[-1]\n",
    "    return quicksort(list(filter(lambda el: el < pivot, arr))) + list(filter(lambda el: el == pivot, arr)) + quicksort(list(filter(lambda el: el > pivot, arr)))"
   ]
  },
  {
   "cell_type": "markdown",
   "id": "6d0aa0f0-45e4-46dd-a1f3-d1e901c88c75",
   "metadata": {},
   "source": [
    "### Basic tests"
   ]
  },
  {
   "cell_type": "code",
   "execution_count": 2,
   "id": "9468a4a6-aee0-453a-ab1c-c323a2784eec",
   "metadata": {},
   "outputs": [
    {
     "name": "stdout",
     "output_type": "stream",
     "text": [
      "[]\n",
      "[1]\n",
      "[1, 2, 5]\n",
      "[-5, 3, 17]\n",
      "[0, 1, 2, 3, 4, 5, 6, 7, 8, 9]\n"
     ]
    }
   ],
   "source": [
    "print(quicksort([])) # expects []\n",
    "print(quicksort([1])) # expects [1]\n",
    "print(quicksort([1, 5, 2])) # expects [1, 2, 5]\n",
    "print(quicksort([17, -5, 3])) # expects [-5, 3, 17]\n",
    "print(quicksort([3, 0, 7, 5, 1, 2, 9, 8, 4, 6])) # expects [0, 1, 2, 3, 4, 5, 6, 7, 8, 9]"
   ]
  }
 ],
 "metadata": {
  "kernelspec": {
   "display_name": "Python 3 (ipykernel)",
   "language": "python",
   "name": "python3"
  },
  "language_info": {
   "codemirror_mode": {
    "name": "ipython",
    "version": 3
   },
   "file_extension": ".py",
   "mimetype": "text/x-python",
   "name": "python",
   "nbconvert_exporter": "python",
   "pygments_lexer": "ipython3",
   "version": "3.12.1"
  }
 },
 "nbformat": 4,
 "nbformat_minor": 5
}
