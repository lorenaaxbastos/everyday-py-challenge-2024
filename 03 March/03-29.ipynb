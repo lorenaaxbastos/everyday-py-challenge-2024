{
 "cells": [
  {
   "cell_type": "markdown",
   "id": "bd5f6838-9b06-48d7-a94c-f609679182b0",
   "metadata": {},
   "source": [
    "# Reverse FizzBuzz\n",
    "\n",
    "Date: 03/29/2024.\n",
    "From: Codewars.\n",
    "Link to [kata](https://www.codewars.com/kata/5a622f5f85bef7a9e90009e2/train/python).\n",
    "\n",
    "### Description\n",
    "\n",
    "FizzBuzz is often one of the first programming puzzles people learn. Now undo it with reverse FizzBuzz!\n",
    "\n",
    "Write a function that accepts a string, which will always be a valid section of FizzBuzz. Your function must return an array that contains the numbers in order to generate the given section of FizzBuzz.\n",
    "\n",
    "**Notes**\n",
    "\n",
    "- If the sequence can appear multiple times within FizzBuzz, return the numbers that generate the first instance of that sequence.\n",
    "- All numbers in the sequence will be greater than zero.\n",
    "- You will never receive an empty sequence.\n",
    "\n",
    "**Examples**\n",
    "\n",
    "```\n",
    "reverse_fizzbuzz(\"1 2 Fizz 4 Buzz\")        -->  [1, 2, 3, 4, 5]\n",
    "reverse_fizzbuzz(\"Fizz 688 689 FizzBuzz\")  -->  [687, 688, 689, 690]\n",
    "reverse_fizzbuzz(\"Fizz Buzz\")              -->  [9, 10]\n",
    "```\n",
    "\n",
    "### My solution"
   ]
  },
  {
   "cell_type": "code",
   "execution_count": 1,
   "id": "c36e3a70-3f4b-4a42-8f8b-cfffb738cb3c",
   "metadata": {},
   "outputs": [],
   "source": [
    "def reverse_fizzbuzz(st):\n",
    "    sequence = st.split()\n",
    "    \n",
    "    for el in sequence:\n",
    "        first_digit = el if el.isdigit() else \"\"\n",
    "        if first_digit.isdigit():\n",
    "            break\n",
    "        \n",
    "    if first_digit.isdigit():\n",
    "        idx = sequence.index(first_digit)\n",
    "        \n",
    "    if first_digit == \"\":\n",
    "        if st == \"Fizz\":\n",
    "            return [3]\n",
    "        elif st == \"Buzz\":\n",
    "            return [5]\n",
    "        elif st == \"FizzBuzz\" or st == \"BuzzFizz\":\n",
    "            return [15]\n",
    "        elif st == \"Fizz Buzz\":\n",
    "            return [9, 10]\n",
    "        else:\n",
    "            return [5, 6]\n",
    "    else:\n",
    "        return list(range(int(first_digit) - idx, int(first_digit) - idx + len(sequence)))"
   ]
  },
  {
   "cell_type": "markdown",
   "id": "72547014-622c-4ca5-8b10-a404e9efa811",
   "metadata": {},
   "source": [
    "### Basic tests"
   ]
  },
  {
   "cell_type": "code",
   "execution_count": 2,
   "id": "8fabf94a-2e45-449f-a449-cfc55ef99bd7",
   "metadata": {},
   "outputs": [
    {
     "name": "stdout",
     "output_type": "stream",
     "text": [
      "[1, 2, 3, 4, 5]\n",
      "[687, 688, 689, 690]\n",
      "[9, 10]\n"
     ]
    }
   ],
   "source": [
    "print(reverse_fizzbuzz(\"1 2 Fizz 4 Buzz\")) # expects [1, 2, 3, 4, 5]\n",
    "print(reverse_fizzbuzz(\"Fizz 688 689 FizzBuzz\")) # expects [687, 688, 689, 690]\n",
    "print(reverse_fizzbuzz(\"Fizz Buzz\")) # expects [9, 10]"
   ]
  }
 ],
 "metadata": {
  "kernelspec": {
   "display_name": "Python 3 (ipykernel)",
   "language": "python",
   "name": "python3"
  },
  "language_info": {
   "codemirror_mode": {
    "name": "ipython",
    "version": 3
   },
   "file_extension": ".py",
   "mimetype": "text/x-python",
   "name": "python",
   "nbconvert_exporter": "python",
   "pygments_lexer": "ipython3",
   "version": "3.12.1"
  }
 },
 "nbformat": 4,
 "nbformat_minor": 5
}
