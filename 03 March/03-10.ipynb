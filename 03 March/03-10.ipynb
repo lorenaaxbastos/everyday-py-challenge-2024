{
 "cells": [
  {
   "cell_type": "markdown",
   "id": "3aecb845-5449-4b49-a40f-b036eb20278c",
   "metadata": {},
   "source": [
    "# Error checking\n",
    "\n",
    "Date: 03/10/2024.\n",
    "From: Practice Python. \n",
    "Link to [exercise](https://www.practicepython.org/exercise/2022/07/17/40-error-checking.html)\n",
    "\n",
    "### Description\n",
    "\n",
    "Given this solution to Exercise 9, modify it to have one level of user feedback: if the user does not enter a number between 1 and 9, tell them. Don’t count this guess against the user when counting the number of guesses they used.\n",
    "\n",
    "```python\n",
    "import random\n",
    "\n",
    "number = random.randint(1, 9)\n",
    "number_of_guesses = 0\n",
    "while True:\n",
    "\tguess = int(input(\"Guess a number between 1 and 9: \"))\n",
    "\tnumber_of_guesses += 1\n",
    "\tif guess == number:\n",
    "\t\tbreak\n",
    "print(f\"You needed {number_of_guesses} guesses to guess the number {number}\")\n",
    "```\n",
    "\n",
    "### My solution"
   ]
  },
  {
   "cell_type": "code",
   "execution_count": 1,
   "id": "267525a7-f669-4202-81a8-a8414de51c58",
   "metadata": {},
   "outputs": [
    {
     "name": "stdin",
     "output_type": "stream",
     "text": [
      "Guess a number between 1 and 9:  0\n"
     ]
    },
    {
     "name": "stdout",
     "output_type": "stream",
     "text": [
      "Guess should be between 1 and 9. Try again.\n"
     ]
    },
    {
     "name": "stdin",
     "output_type": "stream",
     "text": [
      "Guess a number between 1 and 9:  10\n"
     ]
    },
    {
     "name": "stdout",
     "output_type": "stream",
     "text": [
      "Guess should be between 1 and 9. Try again.\n"
     ]
    },
    {
     "name": "stdin",
     "output_type": "stream",
     "text": [
      "Guess a number between 1 and 9:  5\n",
      "Guess a number between 1 and 9:  7\n",
      "Guess a number between 1 and 9:  8\n",
      "Guess a number between 1 and 9:  1\n",
      "Guess a number between 1 and 9:  2\n",
      "Guess a number between 1 and 9:  3\n",
      "Guess a number between 1 and 9:  4\n"
     ]
    },
    {
     "name": "stdout",
     "output_type": "stream",
     "text": [
      "You needed 7 guesses to guess the number 4\n"
     ]
    }
   ],
   "source": [
    "import random\n",
    "\n",
    "number = random.randint(1, 9)\n",
    "number_of_guesses = 0\n",
    "\n",
    "while True:\n",
    "    guess = int(input(\"Guess a number between 1 and 9: \"))\n",
    "    \n",
    "    if (guess < 1) or (guess > 9):\n",
    "        print(\"Guess should be between 1 and 9. Try again.\")\n",
    "    else:\n",
    "        number_of_guesses += 1\n",
    "    \n",
    "    if guess == number:\n",
    "        break\n",
    "        \n",
    "print(f\"You needed {number_of_guesses} guesses to guess the number {number}\")"
   ]
  },
  {
   "cell_type": "markdown",
   "id": "7b238779-cdc5-49cf-9a18-80632000aa8a",
   "metadata": {},
   "source": [
    "### Sample solution\n",
    "[Link](https://www.practicepython.org/solution/2022/07/24/40-error-checking-solution.html) to sample solution."
   ]
  }
 ],
 "metadata": {
  "kernelspec": {
   "display_name": "Python 3 (ipykernel)",
   "language": "python",
   "name": "python3"
  },
  "language_info": {
   "codemirror_mode": {
    "name": "ipython",
    "version": 3
   },
   "file_extension": ".py",
   "mimetype": "text/x-python",
   "name": "python",
   "nbconvert_exporter": "python",
   "pygments_lexer": "ipython3",
   "version": "3.12.1"
  }
 },
 "nbformat": 4,
 "nbformat_minor": 5
}
