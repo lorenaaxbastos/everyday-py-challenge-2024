{
 "cells": [
  {
   "cell_type": "markdown",
   "id": "bc973c79-f386-4cfa-b7b7-1a93432d1757",
   "metadata": {},
   "source": [
    "# IP validation\n",
    "\n",
    "Date: 03/20/2024.\n",
    "From: Codewars.\n",
    "Link to [kata](https://www.codewars.com/kata/515decfd9dcfc23bb6000006/train/python).\n",
    "\n",
    "### Description\n",
    "\n",
    "Write an algorithm that will identify valid IPv4 addresses in dot-decimal format. IPs should be considered valid if they consist of four octets, with values between 0 and 255, inclusive.\n",
    "Valid inputs examples:\n",
    "\n",
    "Examples of valid inputs:\n",
    "\n",
    "```\n",
    "1.2.3.4\n",
    "123.45.67.89\n",
    "```\n",
    "\n",
    "Invalid input examples:\n",
    "\n",
    "```\n",
    "1.2.3\n",
    "1.2.3.4.5\n",
    "123.456.78.90\n",
    "123.045.067.089\n",
    "```\n",
    "\n",
    "**Notes**\n",
    "\n",
    "- Leading zeros (e.g. 01.02.03.04) are considered invalid\n",
    "- Inputs are guaranteed to be a single string\n",
    "\n",
    "### My solution"
   ]
  },
  {
   "cell_type": "code",
   "execution_count": 1,
   "id": "b287088f-4dd9-4568-92a3-0de869ef43dd",
   "metadata": {},
   "outputs": [],
   "source": [
    "def is_valid_IP(strng):\n",
    "    octets_validation = [octet for octet in strng.split(\".\") if octet.isdigit() and 0 <= int(octet) <= 255 and len(octet) == len(str(int(octet)))]\n",
    "    return len(octets_validation) == 4"
   ]
  },
  {
   "cell_type": "markdown",
   "id": "f61ab100-a404-4efe-a350-a998b604a36b",
   "metadata": {},
   "source": [
    "### Basic tests"
   ]
  },
  {
   "cell_type": "code",
   "execution_count": 2,
   "id": "7f647dc3-d5cd-43ee-a387-7ce878008b59",
   "metadata": {},
   "outputs": [
    {
     "name": "stdout",
     "output_type": "stream",
     "text": [
      "True\n",
      "False\n",
      "False\n",
      "False\n",
      "False\n",
      "False\n",
      "False\n",
      "False\n",
      "True\n",
      "True\n",
      "True\n",
      "False\n"
     ]
    }
   ],
   "source": [
    "print(is_valid_IP('12.255.56.1')) # expects      True\n",
    "print(is_valid_IP('')) # expects                False\n",
    "print(is_valid_IP('abc.def.ghi.jkl')) # expects False\n",
    "print(is_valid_IP('123.456.789.0')) # expects   False\n",
    "print(is_valid_IP('12.34.56')) # expects        False\n",
    "print(is_valid_IP('12.34.56 .1')) # expects     False\n",
    "print(is_valid_IP('12.34.56.-1')) # expects     False\n",
    "print(is_valid_IP('123.045.067.089')) # expects False\n",
    "print(is_valid_IP('127.1.1.0')) # expects        True\n",
    "print(is_valid_IP('0.0.0.0')) # expects          True\n",
    "print(is_valid_IP('0.34.82.53')) # expects       True\n",
    "print(is_valid_IP('192.168.1.300')) # expects   False"
   ]
  }
 ],
 "metadata": {
  "kernelspec": {
   "display_name": "Python 3 (ipykernel)",
   "language": "python",
   "name": "python3"
  },
  "language_info": {
   "codemirror_mode": {
    "name": "ipython",
    "version": 3
   },
   "file_extension": ".py",
   "mimetype": "text/x-python",
   "name": "python",
   "nbconvert_exporter": "python",
   "pygments_lexer": "ipython3",
   "version": "3.12.2"
  }
 },
 "nbformat": 4,
 "nbformat_minor": 5
}
