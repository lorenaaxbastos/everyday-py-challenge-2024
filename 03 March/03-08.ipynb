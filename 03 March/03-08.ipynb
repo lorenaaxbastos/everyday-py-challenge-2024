{
 "cells": [
  {
   "cell_type": "markdown",
   "id": "65feee8e-21f3-4a51-bd11-852b84200bd8",
   "metadata": {},
   "source": [
    "# f Strings\n",
    "\n",
    "Date: 03/08/2024.\n",
    "From: Practice Python. \n",
    "Link to [exercise](https://www.practicepython.org/exercise/2022/03/06/38-f-strings.html).\n",
    "\n",
    "### Description\n",
    "\n",
    "Implement the same exercise as Exercise 1 (Create a program that asks the user to enter their name and their age. Print out a message addressed to them that tells them the year that they will turn 100 years old), except use f-strings instead of the + operator to print the resulting output message.\n",
    "\n",
    "### My solution"
   ]
  },
  {
   "cell_type": "code",
   "execution_count": null,
   "id": "d08ce35b-6ca6-4982-b228-973e7776ace2",
   "metadata": {},
   "outputs": [],
   "source": []
  },
  {
   "cell_type": "markdown",
   "id": "e36c0b72-9163-4b74-a0f8-1b455cfe0474",
   "metadata": {},
   "source": [
    "### Sample solution\n",
    "[Link](https://www.practicepython.org/solution/2022/03/13/38-f-strings-solution.html) to sample solution."
   ]
  }
 ],
 "metadata": {
  "kernelspec": {
   "display_name": "Python 3 (ipykernel)",
   "language": "python",
   "name": "python3"
  },
  "language_info": {
   "codemirror_mode": {
    "name": "ipython",
    "version": 3
   },
   "file_extension": ".py",
   "mimetype": "text/x-python",
   "name": "python",
   "nbconvert_exporter": "python",
   "pygments_lexer": "ipython3",
   "version": "3.12.2"
  }
 },
 "nbformat": 4,
 "nbformat_minor": 5
}
