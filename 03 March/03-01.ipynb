{
 "cells": [
  {
   "cell_type": "markdown",
   "id": "0e1cf6ad-e87e-435c-bed4-6721b087058c",
   "metadata": {},
   "source": [
    "# Guess letters\n",
    "\n",
    "Date: 03/01/2024.\n",
    "From: Practice Python. \n",
    "Link to [exercise](https://www.practicepython.org/exercise/2017/01/02/31-guess-letters.html).\n",
    "\n",
    "### Description\n",
    "\n",
    "Let’s continue building Hangman. In the game of Hangman, a clue word is given by the program that the player has to guess, letter by letter. The player guesses one letter at a time until the entire word has been guessed. (In the actual game, the player can only guess 6 letters incorrectly before losing).\n",
    "\n",
    "Let’s say the word the player has to guess is “EVAPORATE”. For this exercise, write the logic that asks a player to guess a letter and displays letters in the clue word that were guessed correctly. For now, let the player guess an infinite number of times until they get the entire word. As a bonus, keep track of the letters the player guessed and display a different message if the player tries to guess that letter again. Remember to stop the game when all the letters have been guessed correctly! Don’t worry about choosing a word randomly or keeping track of the number of guesses the player has remaining - we will deal with those in a future exercise.\n",
    "\n",
    "An example interaction can look like this:\n",
    "\n",
    "```\n",
    ">>> Welcome to Hangman!\n",
    "_ _ _ _ _ _ _ _ _\n",
    ">>> Guess your letter: S\n",
    "Incorrect!\n",
    ">>> Guess your letter: E\n",
    "E _ _ _ _ _ _ _ E\n",
    "...\n",
    "```\n",
    "\n",
    "And so on, until the player gets the word.\n",
    "\n",
    "### My solution"
   ]
  },
  {
   "cell_type": "code",
   "execution_count": 21,
   "id": "830dfada-0663-4ffa-95c4-3d732d781995",
   "metadata": {},
   "outputs": [
    {
     "name": "stdout",
     "output_type": "stream",
     "text": [
      "Welcome to Hangman!\n"
     ]
    },
    {
     "name": "stdin",
     "output_type": "stream",
     "text": [
      "\n",
      "Guess your letter: a\n"
     ]
    },
    {
     "name": "stdout",
     "output_type": "stream",
     "text": [
      "_ _ A _ _ _ A _ _\n"
     ]
    },
    {
     "name": "stdin",
     "output_type": "stream",
     "text": [
      "\n",
      "Guess your letter: e\n"
     ]
    },
    {
     "name": "stdout",
     "output_type": "stream",
     "text": [
      "E _ A _ _ _ A _ E\n"
     ]
    },
    {
     "name": "stdin",
     "output_type": "stream",
     "text": [
      "\n",
      "Guess your letter: i\n"
     ]
    },
    {
     "name": "stdout",
     "output_type": "stream",
     "text": [
      "Incorrect!\n"
     ]
    },
    {
     "name": "stdin",
     "output_type": "stream",
     "text": [
      "\n",
      "Guess your letter: o\n"
     ]
    },
    {
     "name": "stdout",
     "output_type": "stream",
     "text": [
      "E _ A _ O _ A _ E\n"
     ]
    },
    {
     "name": "stdin",
     "output_type": "stream",
     "text": [
      "\n",
      "Guess your letter: u\n"
     ]
    },
    {
     "name": "stdout",
     "output_type": "stream",
     "text": [
      "Incorrect!\n"
     ]
    },
    {
     "name": "stdin",
     "output_type": "stream",
     "text": [
      "\n",
      "Guess your letter: v\n"
     ]
    },
    {
     "name": "stdout",
     "output_type": "stream",
     "text": [
      "E V A _ O _ A _ E\n"
     ]
    },
    {
     "name": "stdin",
     "output_type": "stream",
     "text": [
      "\n",
      "Guess your letter: s\n"
     ]
    },
    {
     "name": "stdout",
     "output_type": "stream",
     "text": [
      "Incorrect!\n"
     ]
    },
    {
     "name": "stdin",
     "output_type": "stream",
     "text": [
      "\n",
      "Guess your letter: p\n"
     ]
    },
    {
     "name": "stdout",
     "output_type": "stream",
     "text": [
      "E V A P O _ A _ E\n"
     ]
    },
    {
     "name": "stdin",
     "output_type": "stream",
     "text": [
      "\n",
      "Guess your letter: r\n"
     ]
    },
    {
     "name": "stdout",
     "output_type": "stream",
     "text": [
      "E V A P O R A _ E\n"
     ]
    },
    {
     "name": "stdin",
     "output_type": "stream",
     "text": [
      "\n",
      "Guess your letter: t\n"
     ]
    },
    {
     "name": "stdout",
     "output_type": "stream",
     "text": [
      "E V A P O R A T E\n",
      "\n",
      "Congratulations! You got the word EVAPORATE\n",
      "You tried the following letters: A, E, I, O, P, R, S, T, U, V.\n"
     ]
    }
   ],
   "source": [
    "secret = \"EVAPORATE\"\n",
    "game = [\"_\"] * len(secret)\n",
    "guesses = []\n",
    "\n",
    "print(\"Welcome to Hangman!\")\n",
    "\n",
    "while \"_\" in \" \".join(game):\n",
    "    letter = input(\"\\nGuess your letter:\").upper()\n",
    "    if letter in guesses:\n",
    "        print(\"This letter has already been guessed.\")\n",
    "        continue\n",
    "    else:\n",
    "        guesses.append(letter)\n",
    "    if letter in secret:\n",
    "        last_index = 0\n",
    "        for _ in range(secret.count(letter)):\n",
    "            idx_letter = secret.index(letter, last_index)\n",
    "            game[idx_letter] = letter\n",
    "            last_index = idx_letter + 1\n",
    "        print(\" \".join(game))\n",
    "    else:\n",
    "        print(\"Incorrect!\")\n",
    "\n",
    "print(f\"\\nCongratulations! You got the word {secret}\")\n",
    "print(f\"You tried the following letters: {', '.join(sorted(guesses))}.\")"
   ]
  },
  {
   "cell_type": "markdown",
   "id": "d3f846eb-41f1-45fe-acaf-3d6ae5fd363f",
   "metadata": {},
   "source": [
    "### Sample solution\n",
    "[Link](https://www.practicepython.org/solution/2017/01/08/31-guess-letters-solutions.html) to sample solution."
   ]
  }
 ],
 "metadata": {
  "kernelspec": {
   "display_name": "Python 3 (ipykernel)",
   "language": "python",
   "name": "python3"
  },
  "language_info": {
   "codemirror_mode": {
    "name": "ipython",
    "version": 3
   },
   "file_extension": ".py",
   "mimetype": "text/x-python",
   "name": "python",
   "nbconvert_exporter": "python",
   "pygments_lexer": "ipython3",
   "version": "3.12.2"
  }
 },
 "nbformat": 4,
 "nbformat_minor": 5
}
