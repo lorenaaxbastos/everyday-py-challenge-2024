{
 "cells": [
  {
   "cell_type": "markdown",
   "id": "c5df3bb2-56c4-425d-a483-3b51c3ce7127",
   "metadata": {},
   "source": [
    "# Hangman\n",
    "\n",
    "Date: 03/03/2024.\n",
    "From: Practice Python. \n",
    "Link to [exercise](https://www.practicepython.org/exercise/2017/01/24/33-birthday-dictionaries.html).\n",
    "\n",
    "### Description\n",
    "\n",
    "For this exercise, we will keep track of when our friend’s birthdays are, and be able to find that information based on their name. Create a dictionary (in your file) of names and birthdays. When you run your program it should ask the user to enter a name, and return the birthday of that person back to them. The interaction should look something like this:\n",
    "\n",
    "```\n",
    ">>> Welcome to the birthday dictionary. We know the birthdays of:\n",
    "Albert Einstein\n",
    "Benjamin Franklin\n",
    "Ada Lovelace\n",
    ">>> Who's birthday do you want to look up?\n",
    "Benjamin Franklin\n",
    ">>> Benjamin Franklin's birthday is 01/17/1706.\n",
    "Happy coding!\n",
    "```\n",
    "\n",
    "### My solution"
   ]
  },
  {
   "cell_type": "code",
   "execution_count": 3,
   "id": "5e6b5a18-97f7-4c76-b89f-522309ed1672",
   "metadata": {},
   "outputs": [
    {
     "name": "stdout",
     "output_type": "stream",
     "text": [
      "Welcome to the birthday dictionary. We know the birthdays of:\n",
      "- Albert Einstein\n",
      "- Ada Lovelace\n",
      "- Charles Babbage\n",
      "- Alan Turing\n",
      "- Hedy Lamarr\n",
      "- Marie Curie\n"
     ]
    },
    {
     "name": "stdin",
     "output_type": "stream",
     "text": [
      "\n",
      "Who's birthday do you want to look up? ada lovelace\n"
     ]
    },
    {
     "name": "stdout",
     "output_type": "stream",
     "text": [
      "\n",
      "Ada Lovelace's birthday is 12/10/1815.\n"
     ]
    }
   ],
   "source": [
    "birthdays = {\n",
    "    \"Albert Einstein\": \"03/14/1879\",\n",
    "    \"Ada Lovelace\": \"12/10/1815\",\n",
    "    \"Charles Babbage\": \"12/26/1791\",\n",
    "    \"Alan Turing\": \"06/23/1912\",\n",
    "    \"Hedy Lamarr\": \"11/09/1914\",\n",
    "    \"Marie Curie\": \"11/07/1867\"\n",
    "}\n",
    "\n",
    "print(\"Welcome to the birthday dictionary. We know the birthdays of:\")\n",
    "\n",
    "for name in birthdays:\n",
    "    print(\"-\", name)\n",
    "\n",
    "search_name = input(\"\\nWho's birthday do you want to look up?\").title()\n",
    "\n",
    "if search_name in birthdays:\n",
    "    print(f\"\\n{search_name.title()}'s birthday is {birthdays[search_name]}.\")\n",
    "else:\n",
    "    print(f\"\\nSorry, you don't have a friend named {search_name}\")"
   ]
  },
  {
   "cell_type": "markdown",
   "id": "15a13f16-280c-4ce8-b825-ca9380ce8bc5",
   "metadata": {},
   "source": [
    "### Sample solution\n",
    "[Link](https://www.practicepython.org/solution/2017/02/03/33-birthday-dictionaries-solutions.html) to sample solution."
   ]
  }
 ],
 "metadata": {
  "kernelspec": {
   "display_name": "Python 3 (ipykernel)",
   "language": "python",
   "name": "python3"
  },
  "language_info": {
   "codemirror_mode": {
    "name": "ipython",
    "version": 3
   },
   "file_extension": ".py",
   "mimetype": "text/x-python",
   "name": "python",
   "nbconvert_exporter": "python",
   "pygments_lexer": "ipython3",
   "version": "3.12.1"
  }
 },
 "nbformat": 4,
 "nbformat_minor": 5
}
