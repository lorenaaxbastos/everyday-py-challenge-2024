{
 "cells": [
  {
   "cell_type": "markdown",
   "id": "1df4f471-b6f1-475f-a2b8-8b0794fd84a1",
   "metadata": {},
   "source": [
    "# Well of Ideas - Harder Version\n",
    "\n",
    "Date: 10/31/2024.\n",
    "From: Codewars.\n",
    "Link to [kata](https://www.codewars.com/kata/57f22b0f1b5432ff09001cab/python).\n",
    "\n",
    "### Description\n",
    "\n",
    "For every good kata idea there seem to be quite a few bad ones!\n",
    "\n",
    "In this kata you need to check the provided 2 dimensional array (x) for good ideas 'good' and bad ideas 'bad'. If there are one or two good ideas, return 'Publish!', if there are more than 2 return 'I smell a series!'. If there are no good ideas, as is often the case, return 'Fail!'.\n",
    "\n",
    "The sub arrays may not be the same length.\n",
    "\n",
    "The solution should be case insensitive (ie good, GOOD and gOOd all count as a good idea). All inputs may not be strings.\n",
    "\n",
    "### My solution"
   ]
  },
  {
   "cell_type": "code",
   "execution_count": 1,
   "id": "1f9e07bd-17f6-4cb0-8e59-965e457a73e6",
   "metadata": {},
   "outputs": [],
   "source": [
    "def well(arr):\n",
    "    pass"
   ]
  },
  {
   "cell_type": "markdown",
   "id": "9c1caf33-a6d6-4a06-a2fb-e4e108a0da72",
   "metadata": {},
   "source": [
    "### Basic tests"
   ]
  },
  {
   "cell_type": "code",
   "execution_count": 2,
   "id": "936218ae-3604-4efa-8cdd-489acf2b416c",
   "metadata": {},
   "outputs": [
    {
     "name": "stdout",
     "output_type": "stream",
     "text": [
      "False\n",
      "False\n",
      "False\n"
     ]
    }
   ],
   "source": [
    "print(well([['bad', 'bAd', 'bad'], ['bad', 'bAd', 'bad'], ['bad', 'bAd', 'bad']]) == 'Fail!')\n",
    "print(well([['gOOd', 'bad', 'BAD', 'bad', 'bad'], ['bad', 'bAd', 'bad'], ['GOOD', 'bad', 'bad', 'bAd']]) == 'Publish!')\n",
    "print(well([['gOOd', 'bAd', 'BAD', 'bad', 'bad', 'GOOD'], ['bad'], ['gOOd', 'BAD']]) == 'I smell a series!')"
   ]
  }
 ],
 "metadata": {
  "kernelspec": {
   "display_name": "Python 3 (ipykernel)",
   "language": "python",
   "name": "python3"
  },
  "language_info": {
   "codemirror_mode": {
    "name": "ipython",
    "version": 3
   },
   "file_extension": ".py",
   "mimetype": "text/x-python",
   "name": "python",
   "nbconvert_exporter": "python",
   "pygments_lexer": "ipython3",
   "version": "3.12.4"
  }
 },
 "nbformat": 4,
 "nbformat_minor": 5
}
