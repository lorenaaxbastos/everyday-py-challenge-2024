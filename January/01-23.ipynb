{
 "cells": [
  {
   "cell_type": "markdown",
   "id": "d231d13c-e7a0-4840-836f-fe8d6d77e3b9",
   "metadata": {},
   "source": [
    "# Kebabize\r\n",
    "\r\n",
    "Date: 01/23/2024.\r\n",
    "From: Codewars. \r\n",
    "Link to [exercise](https://www.codewars.com/kata/57f8ff867a28db569e000c4a/train/python).\r\n",
    "\r\n",
    "### Description\r\n",
    "\r\n",
    "Modify the kebabize function so that it converts a camel case string into a kebab case.\r\n",
    "\r\n",
    "```\r\n",
    "\"camelsHaveThreeHumps\"  -->  \"camels-have-three-humps\"\r\n",
    "\"camelsHave3Humps\"  -->  \"camels-have-humps\"\r\n",
    "\"CAMEL\"  -->  \"c-a-m-e-l\"\r\n",
    "```\r\n",
    "\r\n",
    "**Notes**\r\n",
    "\r\n",
    "- The returned string should only contain lowercase letters."
   ]
  },
  {
   "cell_type": "markdown",
   "id": "72aa5b6b-c3f0-4278-8091-a435fc580574",
   "metadata": {},
   "source": [
    "### My solution"
   ]
  },
  {
   "cell_type": "code",
   "execution_count": 2,
   "id": "7176cdc4-90b7-4d88-a484-067e35107d9d",
   "metadata": {},
   "outputs": [],
   "source": [
    "def kebabize(st):\n",
    "    pass"
   ]
  },
  {
   "cell_type": "markdown",
   "id": "f0fdc9f4-3de1-46c8-82ce-393535f96213",
   "metadata": {},
   "source": [
    "### Basic tests"
   ]
  },
  {
   "cell_type": "code",
   "execution_count": 3,
   "id": "bf6fc755-c13d-40c5-9b92-cd3ceffb001a",
   "metadata": {},
   "outputs": [
    {
     "name": "stdout",
     "output_type": "stream",
     "text": [
      "None\n",
      "None\n",
      "None\n",
      "None\n",
      "None\n"
     ]
    }
   ],
   "source": [
    "print(kebabize('myCamelCasedString')) # 'my-camel-cased-string'\n",
    "print(kebabize('myCamelHas3Humps')) # 'my-camel-has-humps'\n",
    "print(kebabize('SOS')) # 's-o-s'\n",
    "print(kebabize('42')) # ''\n",
    "print(kebabize('CodeWars')) # 'code-wars'"
   ]
  }
 ],
 "metadata": {
  "kernelspec": {
   "display_name": "Python 3 (ipykernel)",
   "language": "python",
   "name": "python3"
  },
  "language_info": {
   "codemirror_mode": {
    "name": "ipython",
    "version": 3
   },
   "file_extension": ".py",
   "mimetype": "text/x-python",
   "name": "python",
   "nbconvert_exporter": "python",
   "pygments_lexer": "ipython3",
   "version": "3.12.0"
  }
 },
 "nbformat": 4,
 "nbformat_minor": 5
}
