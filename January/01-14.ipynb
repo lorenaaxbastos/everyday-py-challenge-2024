{
 "cells": [
  {
   "cell_type": "markdown",
   "id": "1330183a-cfe4-4526-9d3a-c6c2803c01fc",
   "metadata": {},
   "source": [
    "# List Comprehensions\r\n",
    "\r\n",
    "Date: 01/14/2024.\r\n",
    "From: HackerRank. \r\n",
    "Link to [exercise](https://www.hackerrank.com/challenges/list-comprehensions/problem?isFullScreen=true).\r\n",
    "\r\n",
    "### Description\r\n",
    "\r\n",
    "Let's learn about list comprehensions! You are given three integers x, y and z representing the dimensions of a cuboid along with an integer n. Print a list of all possible coordinates given by (i, j, k) on a 3D grid where the sum of i + j + k is not equal to n. Here, 0 <= i <= x; 0 <= j <= y; 0 <= k <= z. Please use list comprehensions rather than multiple loops, as a learning exercise.\r\n",
    "example\r\n",
    "```\r\n",
    "x = 1\r\n",
    "y = 1\r\n",
    "z = 2\r\n",
    "n = 3\r\n",
    "```\r\n",
    "All permutations of  are:\r\n",
    "```\r\n",
    "[[0,0,0],[0,0,1],[0,0,2],[0,1,0],[0,1,1],[0,1,2],[1,0,0],[1,0,1],[1,0,2],[1,1,0],[1,1,1],[1,1,2]]\r\n",
    "```\r\n",
    "Print an array of the elements that do not sum to n = 3.\r\n",
    "```\r\n",
    "[[0,0,0],[0,0,1],[0,0,2],[0,1,0],[0,1,1],[1,0,0],[1,0,1],[1,1,0],[1,1,2]]\r\n",
    "```\r\n",
    "\r\n",
    "**Input Format**\r\n",
    "\r\n",
    "Four integers  x, y, z and n, each on a separate line.\r\n",
    "\r\n",
    "**Constraints**\r\n",
    "\r\n",
    "Print the list in lexicographic increasing order."
   ]
  },
  {
   "cell_type": "markdown",
   "id": "df975523-e7e7-4e7f-9478-67a8b4cc6673",
   "metadata": {},
   "source": [
    "### My solution"
   ]
  },
  {
   "cell_type": "code",
   "execution_count": 1,
   "id": "5874843a-31f4-47ad-be6a-38ef811ab851",
   "metadata": {},
   "outputs": [],
   "source": [
    "# test case 1\n",
    "x, y, z, n = 1, 1, 1, 2\n",
    "\n"
   ]
  },
  {
   "cell_type": "code",
   "execution_count": 2,
   "id": "ad36eff2-6197-4729-950e-71db7d0cc4d1",
   "metadata": {},
   "outputs": [],
   "source": [
    "# test case 2\n",
    "x, y, z, n = 2, 2, 2, 2\n",
    "\n"
   ]
  },
  {
   "cell_type": "markdown",
   "id": "7f8c6b84-3c2f-4ce0-b78d-4d3301f6d0d8",
   "metadata": {},
   "source": [
    "### Output format\r\n",
    "\r\n",
    "**Sample Input 0**\r\n",
    "```\r\n",
    "x, y, z, n = 1, 1, 1, 2\r\n",
    "```\r\n",
    "**Sample Output 0**\r\n",
    "```\r\n",
    "[[0, 0, 0], [0, 0, 1], [0, 1, 0], [1, 0, 0], [1, 1, 1]]\r\n",
    "```\r\n",
    "**Sample Input 1**\r\n",
    "```\r\n",
    "x, y, z, n = 2, 2, 2, 2\r\n",
    "```\r\n",
    "**Sample Output 1**\r\n",
    "```\r\n",
    "[[0, 0, 0], [0, 0, 1], [0, 1, 0], [0, 1, 2], [0, 2, 1], [0, 2, 2], [1, 0, 0], [1, 0, 2], [1, 1, 1], [1, 1, 2], [1, 2, 0], [1, 2, 1], [1, 2, 2], [2, 0, 1], [2, 0, 2], [2, 1, 0], [2, 1, 1], [2, 1, 2], [2, 2, 0], [2, 2, 1], [2, 2, 2]]"
   ]
  }
 ],
 "metadata": {
  "kernelspec": {
   "display_name": "Python 3 (ipykernel)",
   "language": "python",
   "name": "python3"
  },
  "language_info": {
   "codemirror_mode": {
    "name": "ipython",
    "version": 3
   },
   "file_extension": ".py",
   "mimetype": "text/x-python",
   "name": "python",
   "nbconvert_exporter": "python",
   "pygments_lexer": "ipython3",
   "version": "3.12.0"
  }
 },
 "nbformat": 4,
 "nbformat_minor": 5
}
