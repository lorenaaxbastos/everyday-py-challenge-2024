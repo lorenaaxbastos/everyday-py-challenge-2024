{
 "cells": [
  {
   "cell_type": "markdown",
   "id": "65b32bab-4350-4e88-b846-18aafd229b44",
   "metadata": {},
   "source": [
    "# Ordered count of characters\r\n",
    "\r\n",
    "Date: 01/31/2024.\r\n",
    "From: Codewars. \r\n",
    "Link to [exercise](https://www.codewars.com/kata/57a6633153ba33189e000074/train/python).\r\n",
    "\r\n",
    "### Description\r\n",
    "\r\n",
    "Count the number of occurrences of each character and return it as a (list of tuples) in order of appearance. For empty output return (an empty list).\r\n",
    "\r\n",
    "Consult the solution set-up for the exact data structure implementation depending on your language.\r\n",
    "\r\n",
    "Example:\r\n",
    "\r\n",
    "```\r\n",
    "ordered_count(\"abracadabra\") == [('a', 5), ('b', 2), ('r', 2), ('c', 1), ('d', 1)]\r\n",
    "```"
   ]
  },
  {
   "cell_type": "markdown",
   "id": "3b2bbb36-9442-4036-9c0d-d56f917a4560",
   "metadata": {},
   "source": [
    "### My solution"
   ]
  },
  {
   "cell_type": "code",
   "execution_count": 1,
   "id": "5ec1a1e3-1b78-4aff-b7e1-039963af5906",
   "metadata": {},
   "outputs": [],
   "source": [
    "def ordered_count(inp):\n",
    "    pass"
   ]
  },
  {
   "cell_type": "markdown",
   "id": "cf2f94f6-d1e8-404b-9af5-021b29bc4f80",
   "metadata": {},
   "source": [
    "### Basic tests"
   ]
  },
  {
   "cell_type": "code",
   "execution_count": 2,
   "id": "b66c81a6-2919-4c17-88a5-88b828deaf4e",
   "metadata": {},
   "outputs": [
    {
     "name": "stdout",
     "output_type": "stream",
     "text": [
      "None\n",
      "None\n"
     ]
    }
   ],
   "source": [
    "print(ordered_count('abracadabra')) # expects [('a', 5), ('b', 2), ('r', 2), ('c', 1), ('d', 1)]\n",
    "print(ordered_count('Code Wars')) # expects [('C', 1), ('o', 1), ('d', 1), ('e', 1), (' ', 1), ('W', 1), ('a', 1), ('r', 1), ('s', 1)]"
   ]
  }
 ],
 "metadata": {
  "kernelspec": {
   "display_name": "Python 3 (ipykernel)",
   "language": "python",
   "name": "python3"
  },
  "language_info": {
   "codemirror_mode": {
    "name": "ipython",
    "version": 3
   },
   "file_extension": ".py",
   "mimetype": "text/x-python",
   "name": "python",
   "nbconvert_exporter": "python",
   "pygments_lexer": "ipython3",
   "version": "3.12.0"
  }
 },
 "nbformat": 4,
 "nbformat_minor": 5
}
