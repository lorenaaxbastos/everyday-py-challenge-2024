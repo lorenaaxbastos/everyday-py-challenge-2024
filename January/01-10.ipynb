{
 "cells": [
  {
   "cell_type": "markdown",
   "id": "c9dd4f83-2466-4db5-b505-727de7783711",
   "metadata": {},
   "source": [
    "# Sum of numbers from 0 to n\n",
    "\n",
    "Date: 01/10/2024.\n",
    "From: Codewars. \n",
    "Link to [kata](https://www.codewars.com/kata/56e9e4f516bcaa8d4f001763/)."
   ]
  },
  {
   "cell_type": "markdown",
   "id": "153ee18f-f971-48a3-bc33-07071960f0b0",
   "metadata": {},
   "source": [
    "### Description"
   ]
  },
  {
   "cell_type": "markdown",
   "id": "3be8503e-d54e-40f1-b7ec-65682a62f42e",
   "metadata": {},
   "source": [
    "We want to generate a function that computes the series starting from 0 and ending until the given number.\n",
    "Example:\n",
    "\n",
    "Input:\n",
    "> 6\n",
    "\n",
    "Output:\n",
    "\"0+1+2+3+4+5+6 = 21\"\n",
    "\n",
    "Input:\n",
    "> -15\n",
    "\n",
    "Output:\n",
    "\"-15<0\"\n",
    "\n",
    "Input:\n",
    "> 0\n",
    "\n",
    "Output:\n",
    "\"0=0\""
   ]
  },
  {
   "cell_type": "markdown",
   "id": "2192fab4-8f7a-4aef-8026-6c211925f75f",
   "metadata": {},
   "source": [
    "### My solution"
   ]
  },
  {
   "cell_type": "code",
   "execution_count": 1,
   "id": "d182ebcf-800a-4cff-b239-9c7eb637d0b3",
   "metadata": {},
   "outputs": [],
   "source": [
    "def show_sequence(n):\n",
    "    series = [i + 1 for i in range(-1, n)]\n",
    "    if n < 0:\n",
    "        return f\"{n}<0\"\n",
    "    elif n == 0:\n",
    "        return \"0=0\"\n",
    "    else:\n",
    "        return f\"{'+'.join(str(num) for num in series)} = {sum(series)}\""
   ]
  },
  {
   "cell_type": "markdown",
   "id": "e6c04c6e-5b22-4cde-b431-a2b2757e799b",
   "metadata": {},
   "source": [
    "### Basic tests"
   ]
  },
  {
   "cell_type": "code",
   "execution_count": 3,
   "id": "feb31b3b-dc68-4bab-a633-f3074639e3dc",
   "metadata": {},
   "outputs": [
    {
     "name": "stdout",
     "output_type": "stream",
     "text": [
      "0+1+2+3+4+5+6 = 21\n",
      "0+1+2+3+4+5+6+7 = 28\n",
      "0=0\n",
      "-1<0\n",
      "-10<0\n"
     ]
    }
   ],
   "source": [
    "print(show_sequence(6)) # expect \"0+1+2+3+4+5+6 = 21\"\n",
    "print(show_sequence(7)) # expect \"0+1+2+3+4+5+6+7 = 28\"\n",
    "print(show_sequence(0)) # expect \"0=0\"\n",
    "print(show_sequence(-1)) # expect \"-1<0\"\n",
    "print(show_sequence(-10)) # expect \"-10<0\""
   ]
  }
 ],
 "metadata": {
  "kernelspec": {
   "display_name": "Python 3 (ipykernel)",
   "language": "python",
   "name": "python3"
  },
  "language_info": {
   "codemirror_mode": {
    "name": "ipython",
    "version": 3
   },
   "file_extension": ".py",
   "mimetype": "text/x-python",
   "name": "python",
   "nbconvert_exporter": "python",
   "pygments_lexer": "ipython3",
   "version": "3.12.0"
  }
 },
 "nbformat": 4,
 "nbformat_minor": 5
}
