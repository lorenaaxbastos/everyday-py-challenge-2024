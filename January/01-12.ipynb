{
 "cells": [
  {
   "cell_type": "markdown",
   "id": "2f2f4948-9b00-40b9-a1aa-041a277f2d75",
   "metadata": {},
   "source": [
    "> Group of fairly easy exercises\r\n",
    "\r\n",
    "# Character input\r\n",
    "\r\n",
    "Date: 01/12/2024.\r\n",
    "From: Practice Python. \r\n",
    "Link to [exercise](https://www.practicepython.org/exercise/2014/01/29/01-character-input.html).\r\n",
    "\r\n",
    "### Description\r\n",
    "\r\n",
    "Create a program that asks the user to enter their name and their age. Print out a message addressed to them that tells them the year that they will turn 100 years old. Note: for this exercise, the expectation is that you explicitly write out the year (and therefore be out of date the next year). \r\n",
    "\r\n",
    "**Extras:**\r\n",
    "\r\n",
    "1. Add on to the previous program by asking the user for another number and printing out that many copies of the previous message. (Hint: order of operations exists in Python)\r\n",
    "2. Print out that many copies of the previous message on separate lines. (Hint: the string \"\\n is the same as pressing the ENTER button)"
   ]
  },
  {
   "cell_type": "markdown",
   "id": "41aba9ab-5d37-40ce-9f93-0deda8b84940",
   "metadata": {},
   "source": [
    "### My Solution"
   ]
  },
  {
   "cell_type": "code",
   "execution_count": null,
   "id": "e5d6ac9a-5bd7-4177-ba3a-bc0ab5f7d559",
   "metadata": {},
   "outputs": [],
   "source": []
  },
  {
   "cell_type": "markdown",
   "id": "28b7ed3a-6502-4b2b-a7e8-a8b8b778f003",
   "metadata": {},
   "source": [
    "### Sample solution\n",
    "\n",
    "[Link](https://www.practicepython.org/solution/2014/02/05/01-character-input-solutions.html) to sample solution."
   ]
  },
  {
   "cell_type": "markdown",
   "id": "98273b90-dd70-4951-bc1c-047f173a1864",
   "metadata": {},
   "source": [
    "# Odd or even\n",
    "\n",
    "Date: 01/12/2024.\n",
    "From: Practice Python. \n",
    "Link to [exercise](https://www.practicepython.org/exercise/2014/02/05/02-odd-or-even.html).\n",
    "\n",
    "### Description\n",
    "\n",
    "Ask the user for a number. Depending on whether the number is even or odd, print out an appropriate message to the user. Hint: how does an even / odd number react differently when divided by 2?\n",
    "\n",
    "**Extras:**\n",
    "\n",
    "1. If the number is a multiple of 4, print out a different message.\n",
    "2. Ask the user for two numbers: one number to check (call it num) and one number to divide by (check). If check divides evenly into num, tell that to the user. If not, print a different appropriate message."
   ]
  },
  {
   "cell_type": "markdown",
   "id": "6746cd93-fded-497f-adca-03a51bd62d36",
   "metadata": {},
   "source": [
    "### My Solution"
   ]
  },
  {
   "cell_type": "code",
   "execution_count": null,
   "id": "417edeef-030a-4d82-b9d8-9c9248b8964b",
   "metadata": {},
   "outputs": [],
   "source": []
  },
  {
   "cell_type": "markdown",
   "id": "1b9da1ab-5d27-4f15-8302-90277fbb9074",
   "metadata": {},
   "source": [
    "### Sample solution\n",
    "\n",
    "[Link](https://www.practicepython.org/solution/2014/02/15/02-odd-or-even-solutions.html) to sample solution."
   ]
  }
 ],
 "metadata": {
  "kernelspec": {
   "display_name": "Python 3 (ipykernel)",
   "language": "python",
   "name": "python3"
  },
  "language_info": {
   "codemirror_mode": {
    "name": "ipython",
    "version": 3
   },
   "file_extension": ".py",
   "mimetype": "text/x-python",
   "name": "python",
   "nbconvert_exporter": "python",
   "pygments_lexer": "ipython3",
   "version": "3.12.0"
  }
 },
 "nbformat": 4,
 "nbformat_minor": 5
}
