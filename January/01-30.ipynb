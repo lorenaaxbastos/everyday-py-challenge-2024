{
 "cells": [
  {
   "cell_type": "markdown",
   "id": "42924be6-7f35-43f3-9cca-2eeb0c21cf59",
   "metadata": {},
   "source": [
    "# Are we alternate?\r\n",
    "\r\n",
    "Date: 01/30/2024.\r\n",
    "From: Codewars. \r\n",
    "Link to [exercise](https://www.codewars.com/kata/59325dc15dbb44b2440000af/train/python).\r\n",
    "\r\n",
    "### Description\r\n",
    "\r\n",
    "Create a function `isAlt()` that accepts a string as an argument and validates whether the vowels (a, e, i, o, u) and consonants are in alternate order.\r\n",
    "\r\n",
    "```\r\n",
    "is_alt(\"amazon\")  # True\r\n",
    "is_alt(\"apple\")   # False\r\n",
    "is_alt(\"banana\")  # True\r\n",
    "```\r\n",
    "\r\n",
    "Arguments consist of only lowercase letters."
   ]
  },
  {
   "cell_type": "markdown",
   "id": "132b51af-f452-4e19-a0f5-dc1f692ecb58",
   "metadata": {},
   "source": [
    "### My solution"
   ]
  },
  {
   "cell_type": "code",
   "execution_count": 5,
   "id": "b836dd42-9224-44d7-b814-66a9d0d1b21c",
   "metadata": {},
   "outputs": [],
   "source": [
    "def is_alt(s):\n",
    "    vowels = [True if char in \"aeiou\" else False for char in s]\n",
    "    for i, bool_value in enumerate(vowels):\n",
    "        if i == 0:\n",
    "            continue\n",
    "        if bool_value == vowels[i - 1]:\n",
    "            return False\n",
    "    return True"
   ]
  },
  {
   "cell_type": "markdown",
   "id": "01ca40c6-7ebf-4587-a63c-cfa1a2b6cdc7",
   "metadata": {},
   "source": [
    "### Basic tests"
   ]
  },
  {
   "cell_type": "code",
   "execution_count": 6,
   "id": "70b86600-9caf-4413-a386-49df99b5dfc6",
   "metadata": {},
   "outputs": [
    {
     "name": "stdout",
     "output_type": "stream",
     "text": [
      "True\n",
      "False\n",
      "True\n",
      "False\n",
      "True\n",
      "True\n"
     ]
    }
   ],
   "source": [
    "print(is_alt(\"amazon\")) # expects True\n",
    "print(is_alt(\"apple\")) # expects False\n",
    "print(is_alt(\"banana\")) # expects True\n",
    "print(is_alt(\"orange\")) # expects False\n",
    "print(is_alt(\"helipad\")) # expects True\n",
    "print(is_alt(\"yay\")) # expects True"
   ]
  }
 ],
 "metadata": {
  "kernelspec": {
   "display_name": "Python 3 (ipykernel)",
   "language": "python",
   "name": "python3"
  },
  "language_info": {
   "codemirror_mode": {
    "name": "ipython",
    "version": 3
   },
   "file_extension": ".py",
   "mimetype": "text/x-python",
   "name": "python",
   "nbconvert_exporter": "python",
   "pygments_lexer": "ipython3",
   "version": "3.12.0"
  }
 },
 "nbformat": 4,
 "nbformat_minor": 5
}
