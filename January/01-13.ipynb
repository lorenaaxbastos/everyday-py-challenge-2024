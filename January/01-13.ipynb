{
 "cells": [
  {
   "cell_type": "markdown",
   "id": "3f890bfd-3c7d-4361-8d95-2412428187f1",
   "metadata": {},
   "source": [
    "# Nested lists\r\n",
    "\r\n",
    "Date: 01/13/2024.\r\n",
    "From: HackerRank. \r\n",
    "Link to [exercise](https://www.hackerrank.com/challenges/nested-list/problem?isFullScreen=true).\r\n",
    "\r\n",
    "### Description\r\n",
    "\r\n",
    "Given the names and grades for each student in a class of N students, store them in a nested list and print the name(s) of any student(s) having the second lowest grade.\r\n",
    "\r\n",
    "> Note: If there are multiple students with the second lowest grade, order their names alphabetically and print each name on a new line.\r\n",
    "\r\n",
    "**Example**\r\n",
    "```\r\n",
    "records = [[“chi”, 20.0], [“beta”, 50.0], [“alpha”, 50.0]]\r\n",
    "```\r\n",
    "\r\n",
    "The ordered list of scores is [20.0, 50.0], so the second lowest score is 50.0. There are two students with that score: [“beta, “alpha”]. Ordered alphabetically, the names are printed as:\r\n",
    "\r\n",
    "```\r\n",
    "alpha\r\n",
    "beta\r\n",
    "```\r\n",
    "\r\n",
    "**Input Format**\r\n",
    "\r\n",
    "The first line contains an integer, N, the number of students.\r\n",
    "The 2N subsequent lines describe each student over 2 lines.\r\n",
    "\r\n",
    "- The first line contains a student's name.\r\n",
    "- The second line contains their grade.\r\n",
    "\r\n",
    "**Constraints**\r\n",
    "\r\n",
    "- 2 <= N <= 5\r\n",
    "- There will always be one or more students having the second lowest grade."
   ]
  },
  {
   "cell_type": "markdown",
   "id": "92fcde9f-2be4-4e83-a3fe-f2e3ad0ea1da",
   "metadata": {},
   "source": [
    "### My solution"
   ]
  },
  {
   "cell_type": "code",
   "execution_count": null,
   "id": "b29a8f07-2cce-422f-b01e-19369331efe2",
   "metadata": {},
   "outputs": [],
   "source": []
  },
  {
   "cell_type": "markdown",
   "id": "ca7d3e02-84b2-4aec-8e68-377833779dee",
   "metadata": {},
   "source": [
    "### Output format"
   ]
  },
  {
   "cell_type": "markdown",
   "id": "8b710032-f9b0-4927-9a88-2a6c0436349f",
   "metadata": {},
   "source": [
    "Print the name(s) of any student(s) having the second lowest grade in. If there are multiple students, order their names alphabetically and print each one on a new line.\n",
    "\n",
    "*Sample Input*\n",
    "\n",
    "```\n",
    "5\n",
    "Harry\n",
    "37.21\n",
    "Berry\n",
    "37.21\n",
    "Tina\n",
    "37.2\n",
    "Akriti\n",
    "41\n",
    "Harsh\n",
    "39\n",
    "```\n",
    "\n",
    "*Sample Output*\n",
    "\n",
    "```\n",
    "Berry\n",
    "Harry\n",
    "```"
   ]
  }
 ],
 "metadata": {
  "kernelspec": {
   "display_name": "Python 3 (ipykernel)",
   "language": "python",
   "name": "python3"
  },
  "language_info": {
   "codemirror_mode": {
    "name": "ipython",
    "version": 3
   },
   "file_extension": ".py",
   "mimetype": "text/x-python",
   "name": "python",
   "nbconvert_exporter": "python",
   "pygments_lexer": "ipython3",
   "version": "3.12.0"
  }
 },
 "nbformat": 4,
 "nbformat_minor": 5
}
