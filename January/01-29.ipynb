{
 "cells": [
  {
   "cell_type": "markdown",
   "id": "960531f6-b580-4714-acab-fa157c3897bb",
   "metadata": {},
   "source": [
    "# Good vs Evil\r",
    "\r\n",
    "\r\n",
    "Date: 01/29/2024. From: Codewars. [Link to exercise](https://www.codewars.com/kata/52761ee4cffbc69732000738/train/python).\r\n",
    "\r\n",
    "### Description\r\n",
    "\r\n",
    "Middle Earth is about to go to war. The forces of good will have many battles with the forces of evil. Different races will certainly be involved. Each race has a certain `worth` when battling against others. On the side of good we have the following races, with their associated `worth`:\r\n",
    "\r\n",
    "- Hobbits: 1\r\n",
    "- Men: 2\r\n",
    "- Elves: 3\r\n",
    "- Dwarves: 3\r\n",
    "- Eagles: 4\r\n",
    "- Wizards: 10\r\n",
    "\r\n",
    "On the side of evil we have:\r\n",
    "\r\n",
    "- Orcs: 1\r\n",
    "- Men: 2\r\n",
    "- Wargs: 2\r\n",
    "- Goblins: 2\r\n",
    "- Uruk Hai: 3\r\n",
    "- Trolls: 5\r\n",
    "- Wizards: 10\r\n",
    "\r\n",
    "Although weather, location, supplies and valor play a part in any battle, if you add up the worth of the side of good and compare it with the worth of the side of evil, the side with the larger worth will tend to win.\r\n",
    "\r\n",
    "Thus, given the count of each of the races on the side of good, followed by the count of each of the races on the side of evil, determine which side wins.\r\n",
    "\r\n",
    "**Input**\r\n",
    "\r\n",
    "The function will be given two parameters. Each parameter will be a string of multiple integers separated by a single space. Each string will contain the count of each race on the side of good and evil.\r\n",
    "\r\n",
    "The first parameter will contain the count of each race on the side of good in the following order:\r\n",
    "\r\n",
    "- Hobbits, Men, Elves, Dwarves, Eagles, Wizards.\r\n",
    "\r\n",
    "The second parameter will contain the count of each race on the side of evil in the following order:\r\n",
    "\r\n",
    "- Orcs, Men, Wargs, Goblins, Uruk Hai, Trolls, Wizards.\r\n",
    "\r\n",
    "All values are non-negative integers. The resulting sum of the worth for each side will not exceed the limit of a 32-bit integer.\r\n",
    "\r\n",
    "**Output**\r\n",
    "\r\n",
    "Return `Battle Result: Good triumphs over Evil` if good wins, `Battle Result: Evil eradicates all trace of Good` if evil wins, or `Battle Result: No victor on this battle field` if it ends in a tie.\r\n"
   ]
  },
  {
   "cell_type": "markdown",
   "id": "f82c0589-2d3d-4187-9390-d30b40f1c137",
   "metadata": {},
   "source": [
    "### My solutions"
   ]
  },
  {
   "cell_type": "code",
   "execution_count": 1,
   "id": "29b5ef7c-31c4-4c10-bc08-fb592842e7f3",
   "metadata": {},
   "outputs": [],
   "source": [
    "def good_vs_evil(good, evil):\n",
    "    good_races = {\n",
    "        \"Hobbits\": 1,\n",
    "        \"Men\": 2,\n",
    "        \"Elves\": 3,\n",
    "        \"Dwarves\": 3,\n",
    "        \"Eagles\": 4,\n",
    "        \"Wizards\": 10,\n",
    "    }\n",
    "    evil_races = {\n",
    "        \"Orcs\": 1,\n",
    "        \"Men\": 2,\n",
    "        \"Wargs\": 2,\n",
    "        \"Goblins\": 2,\n",
    "        \"Uruk Hai\": 3,\n",
    "        \"Trolls\": 5,\n",
    "        \"Wizards\": 10,\n",
    "    }\n",
    "    \n",
    "    count_good = [int(num) for num in good.split()]\n",
    "    count_evil = [int(num) for num in evil.split()]\n",
    "       \n",
    "    sum_good = sum(worth * int(count_good[i]) for i, worth in enumerate(good_races.values()))\n",
    "    sum_evil = sum(worth * int(count_evil[i]) for i, worth in enumerate(evil_races.values()))\n",
    "    result = sum_good - sum_evil\n",
    "    \n",
    "    return \"Battle Result: Good triumphs over Evil\" if result > 0 else \"Battle Result: Evil eradicates all trace of Good\" if result < 0 else \"Battle Result: No victor on this battle field\""
   ]
  },
  {
   "cell_type": "markdown",
   "id": "8e9e415f-47b4-410f-8512-50f52f4d6de1",
   "metadata": {},
   "source": [
    "### Basic tests"
   ]
  },
  {
   "cell_type": "code",
   "execution_count": 2,
   "id": "2e7a9e0f-6eb8-4263-a3f1-1988a1df952f",
   "metadata": {},
   "outputs": [
    {
     "name": "stdout",
     "output_type": "stream",
     "text": [
      "Battle Result: Evil eradicates all trace of Good\n",
      "Battle Result: Good triumphs over Evil\n",
      "Battle Result: No victor on this battle field\n"
     ]
    }
   ],
   "source": [
    "print(good_vs_evil('1 1 1 1 1 1', '1 1 1 1 1 1 1')) # expects 'Battle Result: Evil eradicates all trace of Good')\n",
    "print(good_vs_evil('0 0 0 0 0 10', '0 1 1 1 1 0 0')) # expects 'Battle Result: Good triumphs over Evil')\n",
    "print(good_vs_evil('1 0 0 0 0 0', '1 0 0 0 0 0 0')) # expects 'Battle Result: No victor on this battle field')"
   ]
  }
 ],
 "metadata": {
  "kernelspec": {
   "display_name": "Python 3 (ipykernel)",
   "language": "python",
   "name": "python3"
  },
  "language_info": {
   "codemirror_mode": {
    "name": "ipython",
    "version": 3
   },
   "file_extension": ".py",
   "mimetype": "text/x-python",
   "name": "python",
   "nbconvert_exporter": "python",
   "pygments_lexer": "ipython3",
   "version": "3.12.0"
  }
 },
 "nbformat": 4,
 "nbformat_minor": 5
}
