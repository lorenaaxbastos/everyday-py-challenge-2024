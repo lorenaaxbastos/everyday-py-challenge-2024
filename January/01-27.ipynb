{
 "cells": [
  {
   "cell_type": "markdown",
   "id": "3073f42b-4eba-4a45-927f-c4d1132155c9",
   "metadata": {},
   "source": [
    "# Disarium number\r\n",
    "\r\n",
    "Date: 01/27/2024.\r\n",
    "From: Codewars. \r\n",
    "Link to [exercise](https://www.codewars.com/kata/5a53a17bfd56cb9c14000003/train/python).\r\n",
    "\r\n",
    "### Description\r\n",
    "\r\n",
    "**Definition**\r\n",
    "a disarium number is the number that The sum of its digits powered with their respective positions is equal to the number itself.\r\n",
    "\r\n",
    "**Task**\r\n",
    "Given a number, find if it is disarium or not.\r\n",
    "\r\n",
    "**Notes**\r\n",
    "\r\n",
    "- Number passed is always positive.\r\n",
    "- Return the result as string\r\n",
    "\r\n",
    "**Examples**\r\n",
    "\r\n",
    "```\r\n",
    "disariumNumber(89) ==> return \"Disarium !!\"\r\n",
    "```\r\n",
    "\r\n",
    "**Explanation**\r\n",
    "\r\n",
    "Since 8^1 + 9^2 = 89, thus output is `\"Disarium !!\"`\r\n",
    "\r\n",
    "```\r\n",
    "disariumNumber(564) ==> return \"Not !!\"\r\n",
    "```\r\n",
    "\r\n",
    "**Explanation**\r\n",
    "Since 5^1 + 6^2 + 4^3 = 105 != 564, thus output is `\"Not !!\"`"
   ]
  },
  {
   "cell_type": "markdown",
   "id": "d7fcdbe3-3a56-436b-96d6-bf4c6e890d37",
   "metadata": {},
   "source": [
    "### My solution"
   ]
  },
  {
   "cell_type": "code",
   "execution_count": 1,
   "id": "480d2bb7-eb77-4df9-9a47-3081fb7f1036",
   "metadata": {},
   "outputs": [],
   "source": [
    "def disarium_number(number):\n",
    "    pass"
   ]
  },
  {
   "cell_type": "markdown",
   "id": "a4c7a6bb-19e2-4669-afed-454ba1bdc442",
   "metadata": {},
   "source": [
    "### Basic tests"
   ]
  },
  {
   "cell_type": "code",
   "execution_count": 2,
   "id": "5fd62f73-0851-4346-af20-defbd273842f",
   "metadata": {},
   "outputs": [
    {
     "name": "stdout",
     "output_type": "stream",
     "text": [
      "None\n",
      "None\n",
      "None\n",
      "None\n",
      "None\n",
      "None\n",
      "None\n",
      "None\n",
      "None\n",
      "None\n",
      "None\n"
     ]
    }
   ],
   "source": [
    "print(disarium_number(89)) # \"Disarium !!\"\n",
    "print(disarium_number(518)) # \"Disarium !!\"\n",
    "print(disarium_number(564)) # \"Not !!\"\n",
    "print(disarium_number(1024)) # \"Not !!\"\n",
    "print(disarium_number(1306)) # \"Disarium !!\"\n",
    "print(disarium_number(1999)) # \"Not !!\"\n",
    "print(disarium_number(2427)) # \"Disarium !!\"\n",
    "print(disarium_number(64599)) # \"Not !!\"\n",
    "print(disarium_number(136586)) # \"Not !!\"\n",
    "print(disarium_number(1048576)) # \"Not !!\"\n",
    "print(disarium_number(2646798)) # \"Disarium !!\""
   ]
  }
 ],
 "metadata": {
  "kernelspec": {
   "display_name": "Python 3 (ipykernel)",
   "language": "python",
   "name": "python3"
  },
  "language_info": {
   "codemirror_mode": {
    "name": "ipython",
    "version": 3
   },
   "file_extension": ".py",
   "mimetype": "text/x-python",
   "name": "python",
   "nbconvert_exporter": "python",
   "pygments_lexer": "ipython3",
   "version": "3.12.0"
  }
 },
 "nbformat": 4,
 "nbformat_minor": 5
}
