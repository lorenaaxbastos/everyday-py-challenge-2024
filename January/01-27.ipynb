{
 "cells": [
  {
   "cell_type": "markdown",
   "id": "0d65b45e-faaa-47f8-9477-6f313e2ecb2b",
   "metadata": {},
   "source": [
    "# Disarium number\n",
    "\n",
    "Date: 01/27/2024.\n",
    "From: Codewars. \n",
    "Link to [exercise](https://www.codewars.com/kata/5a53a17bfd56cb9c14000003/train/python).\n",
    "\n",
    "### Description\n",
    "\n",
    "**Definition**\n",
    "a disarium number is the number that the sum of its digits powered with their respective positions is equal to the number itself.\n",
    "\n",
    "**Task**\n",
    "Given a number, find if it is disarium or not.\n",
    "\n",
    "**Notes**\n",
    "\n",
    "- Number passed is always positive.\n",
    "- Return the result as string\n",
    "\n",
    "**Examples**\n",
    "\n",
    "```\n",
    "disariumNumber(89) ==> return \"Disarium !!\"\n",
    "```\n",
    "\n",
    "**Explanation**\n",
    "\n",
    "Since 8^1 + 9^2 = 89, thus output is `\"Disarium !!\"`\n",
    "\n",
    "```\n",
    "disariumNumber(564) ==> return \"Not !!\"\n",
    "```\n",
    "\n",
    "**Explanation**\n",
    "Since 5^1 + 6^2 + 4^3 = 105 != 564, thus output is `\"Not !!\"`"
   ]
  },
  {
   "cell_type": "markdown",
   "id": "d7fcdbe3-3a56-436b-96d6-bf4c6e890d37",
   "metadata": {},
   "source": [
    "### My solution"
   ]
  },
  {
   "cell_type": "code",
   "execution_count": 1,
   "id": "480d2bb7-eb77-4df9-9a47-3081fb7f1036",
   "metadata": {},
   "outputs": [],
   "source": [
    "def disarium_number(number):\n",
    "    return \"Disarium !!\" if sum(int(char) ** (i + 1) for i, char in enumerate(str(number))) == number else \"Not !!\""
   ]
  },
  {
   "cell_type": "markdown",
   "id": "a4c7a6bb-19e2-4669-afed-454ba1bdc442",
   "metadata": {},
   "source": [
    "### Basic tests"
   ]
  },
  {
   "cell_type": "code",
   "execution_count": 2,
   "id": "5fd62f73-0851-4346-af20-defbd273842f",
   "metadata": {},
   "outputs": [
    {
     "name": "stdout",
     "output_type": "stream",
     "text": [
      "Disarium !!\n",
      "Disarium !!\n",
      "Not !!\n",
      "Not !!\n",
      "Disarium !!\n",
      "Not !!\n",
      "Disarium !!\n",
      "Not !!\n",
      "Not !!\n",
      "Not !!\n",
      "Disarium !!\n"
     ]
    }
   ],
   "source": [
    "print(disarium_number(89)) # \"Disarium !!\"\n",
    "print(disarium_number(518)) # \"Disarium !!\"\n",
    "print(disarium_number(564)) # \"Not !!\"\n",
    "print(disarium_number(1024)) # \"Not !!\"\n",
    "print(disarium_number(1306)) # \"Disarium !!\"\n",
    "print(disarium_number(1999)) # \"Not !!\"\n",
    "print(disarium_number(2427)) # \"Disarium !!\"\n",
    "print(disarium_number(64599)) # \"Not !!\"\n",
    "print(disarium_number(136586)) # \"Not !!\"\n",
    "print(disarium_number(1048576)) # \"Not !!\"\n",
    "print(disarium_number(2646798)) # \"Disarium !!\""
   ]
  }
 ],
 "metadata": {
  "kernelspec": {
   "display_name": "Python 3 (ipykernel)",
   "language": "python",
   "name": "python3"
  },
  "language_info": {
   "codemirror_mode": {
    "name": "ipython",
    "version": 3
   },
   "file_extension": ".py",
   "mimetype": "text/x-python",
   "name": "python",
   "nbconvert_exporter": "python",
   "pygments_lexer": "ipython3",
   "version": "3.12.0"
  }
 },
 "nbformat": 4,
 "nbformat_minor": 5
}
