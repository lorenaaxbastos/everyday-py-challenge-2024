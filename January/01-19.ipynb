{
 "cells": [
  {
   "cell_type": "markdown",
   "id": "7ba63f92-1696-45db-b642-8da987429832",
   "metadata": {},
   "source": [
    "# Santander Coders exercises from class #5\n",
    "\n",
    "Date: 01/19/2024. From: Ada Tech. Language: Portuguese."
   ]
  },
  {
   "cell_type": "markdown",
   "id": "dabd6254",
   "metadata": {},
   "source": [
    "### Exercícios"
   ]
  },
  {
   "cell_type": "markdown",
   "id": "7fc58df2",
   "metadata": {},
   "source": [
    "Faça uma programa que peça o total, n, de pares chave-valor e retorna um dicionário com os n pares digitados pelo usuário."
   ]
  },
  {
   "cell_type": "code",
   "execution_count": null,
   "id": "6b96ab23",
   "metadata": {},
   "outputs": [],
   "source": []
  },
  {
   "cell_type": "markdown",
   "id": "927d9ef7",
   "metadata": {},
   "source": [
    "Faça uma função que encontre todas as chaves que estão associadas a um determinado valor em um dicionário. A função receberá, no primeiro parâmetro, o dicionário a ser analisado, e como segundo parâmetro, o valor associado a cada chave a ser buscada (i.e., verificará se uma valor aparece em mais chaves). A função retornará uma lista com as chaves encontradas; essa lista pode ter diversos valores, apenas um ou nenhum."
   ]
  },
  {
   "cell_type": "code",
   "execution_count": null,
   "id": "2c6ea232",
   "metadata": {},
   "outputs": [],
   "source": []
  },
  {
   "cell_type": "markdown",
   "id": "9b925504",
   "metadata": {},
   "source": [
    "Escreva um programa que leia uma frase e calcula a frequência relativa de cada letra em uma frase, usando dicionário. Ignore caracteres brancos e pontuação."
   ]
  },
  {
   "cell_type": "code",
   "execution_count": null,
   "id": "c1d06228",
   "metadata": {},
   "outputs": [],
   "source": []
  },
  {
   "cell_type": "markdown",
   "id": "e23dc665",
   "metadata": {},
   "source": [
    "Crie um dicionário vazio filmes = {}. Utilize o nome de um filme como chave. Como valor, utilize outro dicionário contendo o vilão e o ano em que o filme foi lançado. Preencha com 5 filmes digitados pelo usuário."
   ]
  },
  {
   "cell_type": "code",
   "execution_count": null,
   "id": "4029ac0d",
   "metadata": {},
   "outputs": [],
   "source": []
  },
  {
   "cell_type": "markdown",
   "id": "dcd53936",
   "metadata": {},
   "source": [
    "Faça uma função que receba duas tuplas de mesmo tamanho, uma com as chaves e outra com os valores. A função deve retornar uma string representando uma dicionário (com as chaves '{', os dois-pontos ':' e tudo mais que um dicionário tenha).\n",
    "\n",
    "​"
   ]
  },
  {
   "cell_type": "code",
   "execution_count": null,
   "id": "4bcc42cb",
   "metadata": {},
   "outputs": [],
   "source": []
  },
  {
   "cell_type": "markdown",
   "id": "77718e3d",
   "metadata": {},
   "source": [
    "Faça uma função que recebe um inteiro (representando a quantidade de vezes que um dado comum será jogado) e retorna um dicionário contendo os valores de 1 a 6 como chave e a quantidade vezes que aquele lado do dado apareceu no lançamento do dado. Utilize a função randint do módulo random, no intervalo de 1 a 6, para simular os valores do lançamento do dado."
   ]
  },
  {
   "cell_type": "code",
   "execution_count": null,
   "id": "13b7aea5",
   "metadata": {},
   "outputs": [],
   "source": []
  },
  {
   "cell_type": "markdown",
   "id": "01dfa9b8",
   "metadata": {},
   "source": [
    "Dado um dicionário e um número n, faça uma função (chamada 'divide_dicionario') que divida o dicionário em uma lista de dicionários, onde cada dicionário menor terá tamanho n.\n",
    "\n",
    "Exemplo de saída:\n",
    "dados = {'nome': 'carlos', 'idade': 21, 'liguagem':'python, 'empresa':'raia-drogasil', 'casado':False, 'inglês': 'intermediário}\n",
    "\n",
    "divide_dicionario(dados, 2)  →\n",
    "  [{'nome': 'carlos', 'idade': 21}, {liguagem':'python, 'empresa':'raia-drogasil'}, {'casado':False, 'inglês': 'intermediário} ]\n",
    "divide_dicionario(dados, 3)  →\n",
    "  [{'nome': 'carlos', 'idade': 21, liguagem':'python}, { 'empresa':'raia-drogasil', 'casado':False, 'inglês': 'intermediário} ]\n",
    "\n",
    "divide_dicionario(dados, 4)  →\n",
    "  [{'nome': 'carlos', 'idade': 21, liguagem':'python, 'empresa':'raia-drogasil'} ]\n",
    "\n",
    "Observe que, nesse último exemplo, só coube um único dicionário de tamanho 4."
   ]
  },
  {
   "cell_type": "code",
   "execution_count": null,
   "id": "5c8245f1",
   "metadata": {},
   "outputs": [],
   "source": []
  }
 ],
 "metadata": {
  "kernelspec": {
   "display_name": "Python 3 (ipykernel)",
   "language": "python",
   "name": "python3"
  },
  "language_info": {
   "codemirror_mode": {
    "name": "ipython",
    "version": 3
   },
   "file_extension": ".py",
   "mimetype": "text/x-python",
   "name": "python",
   "nbconvert_exporter": "python",
   "pygments_lexer": "ipython3",
   "version": "3.12.0"
  }
 },
 "nbformat": 4,
 "nbformat_minor": 5
}
