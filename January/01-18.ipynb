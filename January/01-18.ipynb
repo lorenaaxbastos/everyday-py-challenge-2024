{
 "cells": [
  {
   "cell_type": "markdown",
   "id": "3f9e2383-f612-474f-aee6-3079d4431e44",
   "metadata": {},
   "source": [
    "# Santander Coders exercises from class #3\n",
    "\n",
    "Date: 01/18/2024. From: Ada Tech. Language: Portuguese."
   ]
  },
  {
   "cell_type": "markdown",
   "id": "f300001d",
   "metadata": {},
   "source": [
    "### Exercícios"
   ]
  },
  {
   "cell_type": "markdown",
   "id": "44a69040",
   "metadata": {},
   "source": [
    "Faça um programa que peça o raio de um círculo, calcula e mostra sua área e seu perímetro."
   ]
  },
  {
   "cell_type": "code",
   "execution_count": null,
   "id": "92433cc8",
   "metadata": {},
   "outputs": [],
   "source": []
  },
  {
   "cell_type": "markdown",
   "id": "0b98fcbd",
   "metadata": {},
   "source": [
    "Faça um programa que recebe uma nota digita pelo usuário e a classifica como:\n",
    "* Menor do que 4: baixa\n",
    "* Entre 4 e 7: média\n",
    "* Maior do que 7: alta"
   ]
  },
  {
   "cell_type": "code",
   "execution_count": null,
   "id": "7f115681",
   "metadata": {},
   "outputs": [],
   "source": []
  },
  {
   "cell_type": "markdown",
   "id": "14b3a2a8",
   "metadata": {},
   "source": [
    "Faça um programa que lê três números inteiros e mostra o maior deles."
   ]
  },
  {
   "cell_type": "code",
   "execution_count": null,
   "id": "76aa94aa",
   "metadata": {},
   "outputs": [],
   "source": []
  },
  {
   "cell_type": "markdown",
   "id": "edf2b3e5",
   "metadata": {},
   "source": [
    "Faça um programa que lê três números inteiros e os mostra em ordem crescente."
   ]
  },
  {
   "cell_type": "code",
   "execution_count": null,
   "id": "3f4a8b45",
   "metadata": {},
   "outputs": [],
   "source": []
  },
  {
   "cell_type": "markdown",
   "id": "735ae64c",
   "metadata": {},
   "source": [
    "Faça um programa que lê um número natural menor do que 1000 e mostra a soma de seus dígitos."
   ]
  },
  {
   "cell_type": "code",
   "execution_count": null,
   "id": "c3b9d24c",
   "metadata": {},
   "outputs": [],
   "source": []
  },
  {
   "cell_type": "markdown",
   "id": "f7fc3880",
   "metadata": {},
   "source": [
    "Faça um programa que peça uma temperatura, peça uma das três escalas (Celsius, Fahrenheit ou Kelvin) para a temperatura digitada, peça para qual temperatura quer transformar (Celsius, Fahrenheit ou Kelvin) e mostra essa temperatura transformada."
   ]
  },
  {
   "cell_type": "code",
   "execution_count": null,
   "id": "78023218",
   "metadata": {},
   "outputs": [],
   "source": []
  },
  {
   "cell_type": "markdown",
   "id": "9236fd87",
   "metadata": {},
   "source": [
    "Desenvolva um programa que leia quatro notas e que apresente a média final, a maior nota e a menor nota (não use lista)."
   ]
  },
  {
   "cell_type": "code",
   "execution_count": null,
   "id": "6fe6a4ef",
   "metadata": {},
   "outputs": [],
   "source": []
  },
  {
   "cell_type": "markdown",
   "id": "5232bc8c",
   "metadata": {},
   "source": [
    "Faça um programa que, dado um inteiro digitado pelo usuário, mostre o fatorial desse número."
   ]
  },
  {
   "cell_type": "code",
   "execution_count": null,
   "id": "ee080507",
   "metadata": {},
   "outputs": [],
   "source": []
  },
  {
   "cell_type": "markdown",
   "id": "6e2776d6",
   "metadata": {},
   "source": [
    "Faça um programa que lê um número natural menor do que 1000 e mostra a soma de seus dígitos."
   ]
  },
  {
   "cell_type": "code",
   "execution_count": null,
   "id": "83492d30",
   "metadata": {},
   "outputs": [],
   "source": []
  },
  {
   "cell_type": "markdown",
   "id": "96965216",
   "metadata": {},
   "source": [
    "Faça um programa que peça as notas do usuário, calcula e mostra a sua média. O programa deve parar de pedir notas quando uma nota negativa for digitada."
   ]
  },
  {
   "cell_type": "code",
   "execution_count": null,
   "id": "3f7c5aa4",
   "metadata": {},
   "outputs": [],
   "source": []
  },
  {
   "cell_type": "markdown",
   "id": "91c53d3c",
   "metadata": {},
   "source": [
    "Faça um programa que pede um número natural (inteiro não negativo) para o usuário e mostra a tabuada desse número na tela."
   ]
  },
  {
   "cell_type": "code",
   "execution_count": null,
   "id": "afd68686",
   "metadata": {},
   "outputs": [],
   "source": []
  },
  {
   "cell_type": "markdown",
   "id": "8d20ce09",
   "metadata": {},
   "source": [
    "Faça um programa que recebe dois números inteiros e mostra suas tabuadas lado a lado.\n",
    "\n",
    "* Exemplo: 3 e 7 \n",
    "\n",
    "\n",
    "\n",
    "|Tab do 3 | Tab do 7|\n",
    "| :-: | :-: |\n",
    "|3 x  1 =  6 | 7 x  1 =  7|\n",
    "|3 x  2 =  6 | 7 x  2 = 14|\n",
    "|3 x  3 =  9 | 7 x  3 = 21|\n",
    "|3 x  4 = 12 | 7 x  4 = 28|\n",
    "|3 x  5 = 15 | 7 x  5 = 35|\n",
    "|3 x  6 = 18 | 7 x  6 = 42|\n",
    "|3 x  7 = 21 | 7 x  7 = 49|\n",
    "|3 x  8 = 24 | 7 x  8 = 56|\n",
    "|3 x  9 = 27 | 7 x  9 = 63|\n",
    "|3 x 10 = 30 | 7 x 10 = 70|"
   ]
  },
  {
   "cell_type": "code",
   "execution_count": null,
   "id": "ae402a55",
   "metadata": {},
   "outputs": [],
   "source": []
  },
  {
   "cell_type": "markdown",
   "id": "4ffbc9e6",
   "metadata": {},
   "source": [
    "Faça um programa que pede um número natural n e mostra um triângulo n níveis (linhas), cada um com um asterisco a mais que o anterior.  \n",
    "  \n",
    "Exemplo:\n",
    "Digite um número: 5\n"
   ]
  },
  {
   "cell_type": "markdown",
   "id": "aea9c91b-d5c2-43fd-b141-d8599f38a4ea",
   "metadata": {},
   "source": [
    "```\n",
    "*\n",
    "**\n",
    "***\n",
    "****\n",
    "*****\n",
    "******\n",
    "```"
   ]
  },
  {
   "cell_type": "code",
   "execution_count": null,
   "id": "13ee41df",
   "metadata": {},
   "outputs": [],
   "source": []
  },
  {
   "cell_type": "markdown",
   "id": "5c586c3a",
   "metadata": {},
   "source": [
    "Dado um número natural, faça um programa que mostra na tela a quantidade de dígitos que esse número tem."
   ]
  },
  {
   "cell_type": "code",
   "execution_count": null,
   "id": "08167744",
   "metadata": {},
   "outputs": [],
   "source": []
  },
  {
   "cell_type": "markdown",
   "id": "d8e8b46a",
   "metadata": {},
   "source": [
    "Dado um número natural, faça um programa que mostra na tela a quantidade de dígitos que esse número tem. Não use string."
   ]
  },
  {
   "cell_type": "code",
   "execution_count": null,
   "id": "224c8588",
   "metadata": {},
   "outputs": [],
   "source": []
  },
  {
   "cell_type": "markdown",
   "id": "7c668b03",
   "metadata": {},
   "source": [
    "Escreva um programa que leia um número inteiro qualquer e que apresente o número informado, seguido do seu antecessor e do seu sucessor."
   ]
  },
  {
   "cell_type": "code",
   "execution_count": null,
   "id": "b04f74e2",
   "metadata": {},
   "outputs": [],
   "source": []
  },
  {
   "cell_type": "markdown",
   "id": "405129c4",
   "metadata": {},
   "source": [
    "Escreva um algoritmo que recebe um número n, fornecido pelo usuário, e mostra os n primeiros números da sequência de Fibonacci.\n"
   ]
  },
  {
   "cell_type": "code",
   "execution_count": null,
   "id": "e567a3e6",
   "metadata": {},
   "outputs": [],
   "source": []
  },
  {
   "cell_type": "markdown",
   "id": "2646de8a",
   "metadata": {},
   "source": [
    "Escreva um algoritmo que recebe 5 números reais e calcula a variância e o desvio padrão desses números."
   ]
  },
  {
   "cell_type": "code",
   "execution_count": null,
   "id": "5a58422f",
   "metadata": {},
   "outputs": [],
   "source": []
  },
  {
   "cell_type": "markdown",
   "id": "a472f7f7",
   "metadata": {},
   "source": [
    "Faça um programa que peça um número, n, ao usuário e n valores e armazena esses valores em uma lista. "
   ]
  },
  {
   "cell_type": "code",
   "execution_count": null,
   "id": "097e62b2",
   "metadata": {},
   "outputs": [],
   "source": []
  },
  {
   "cell_type": "markdown",
   "id": "cfd6c1ab",
   "metadata": {},
   "source": [
    "Faça um programa que, dadas duas listas, monta uma terceira lista com os elementos das duas primeiras em sequência.\n"
   ]
  },
  {
   "cell_type": "code",
   "execution_count": null,
   "id": "33f2b01a",
   "metadata": {},
   "outputs": [],
   "source": []
  },
  {
   "cell_type": "markdown",
   "id": "4110632c",
   "metadata": {},
   "source": [
    " Faça um programa que, dado uma lista de 10 elementos formados pelos caracteres 'a', 'b' e 'c', conta e mostra a quantidade de 'b' dessa lista."
   ]
  },
  {
   "cell_type": "code",
   "execution_count": null,
   "id": "69f66978",
   "metadata": {},
   "outputs": [],
   "source": []
  },
  {
   "cell_type": "markdown",
   "id": "69469d8d",
   "metadata": {},
   "source": [
    "Faça um programa que, dado uma lista de inteiros, remove os elementos pares e os ímpares negativos."
   ]
  },
  {
   "cell_type": "code",
   "execution_count": null,
   "id": "068d6de6",
   "metadata": {},
   "outputs": [],
   "source": []
  },
  {
   "cell_type": "markdown",
   "id": "8320d7c8",
   "metadata": {},
   "source": [
    "Faça um programa que, dadas duas listas de mesmo tamanho, forma uma terceira lista cujos elementos são listas de 2 elementos, um da primeira lista e outro da segunda lista."
   ]
  },
  {
   "cell_type": "code",
   "execution_count": null,
   "id": "9548b6b9",
   "metadata": {},
   "outputs": [],
   "source": []
  },
  {
   "cell_type": "markdown",
   "id": "28f3fdce",
   "metadata": {},
   "source": [
    "Faça um programa que, dado uma lista, copia essa lista em outra lista. Modifique o terceiro elemento da primeira lista. Mostre as duas listas na tela."
   ]
  },
  {
   "cell_type": "code",
   "execution_count": null,
   "id": "77dbb6f1",
   "metadata": {},
   "outputs": [],
   "source": []
  },
  {
   "cell_type": "markdown",
   "id": "61d3bad8",
   "metadata": {},
   "source": [
    "Faça um programa que, dada uma lista de inteiros positivos digitados pelo usuário (representando segmentos de reta), verifica se esses três números formam um triângulo."
   ]
  },
  {
   "cell_type": "code",
   "execution_count": null,
   "id": "e5d6906d",
   "metadata": {},
   "outputs": [],
   "source": []
  },
  {
   "cell_type": "markdown",
   "id": "81170fd9",
   "metadata": {},
   "source": [
    "Faça um programa que, dados dois vetores de mesmo tamanho, mostra o produto escalar desses vetores."
   ]
  },
  {
   "cell_type": "code",
   "execution_count": null,
   "id": "38984e73",
   "metadata": {},
   "outputs": [],
   "source": []
  },
  {
   "cell_type": "markdown",
   "id": "3687a281",
   "metadata": {},
   "source": [
    "Faça um programa que, dada uma lista vazia chamada 'mat', popule essa lista com outras 3 listas de tamanho 3 (a lista 'mat' terá, como elementos, três listas contendo três elementos cada). Considere, nesse caso, apenas valores inteiros digitados pelo usuário. Mostre todos os elementos de 'mat' na forma de tabela 3x3."
   ]
  },
  {
   "cell_type": "code",
   "execution_count": null,
   "id": "b277e99d",
   "metadata": {},
   "outputs": [],
   "source": []
  },
  {
   "cell_type": "markdown",
   "id": "9717116d",
   "metadata": {},
   "source": [
    "Considere a lista 'mat' do exercício anterior, com todos elementos inicialmente iguais a zero. Peça ao usuário 4 valores diferentes de zero e armazene esses valores em uma lista chamada 'inicial'. Utilizando a lista 'inicial', coloque cada valor em uma lado da tabela (3x3) formada pela lista 'mat' (por exemplo, 'inicial[0]' na primeira coluna, 'inicial[1]' na última coluna, 'inicial[2] na primeira linha e 'inicial[3]' na última linha). Nas quinas (vértices), utilize o valor média da coluna e da linha."
   ]
  },
  {
   "cell_type": "code",
   "execution_count": null,
   "id": "a67d03c5",
   "metadata": {},
   "outputs": [],
   "source": []
  },
  {
   "cell_type": "markdown",
   "id": "ce1ea21d",
   "metadata": {},
   "source": [
    "Faça uma função que recebe 3 números e retorna o maior deles."
   ]
  },
  {
   "cell_type": "code",
   "execution_count": null,
   "id": "aec70699",
   "metadata": {},
   "outputs": [],
   "source": []
  },
  {
   "cell_type": "markdown",
   "id": "841f4a99",
   "metadata": {},
   "source": [
    "Faça uma função que recebe 3 números e retorna uma lista com os 3 números em ordem crescente."
   ]
  },
  {
   "cell_type": "code",
   "execution_count": null,
   "id": "4edfe490",
   "metadata": {},
   "outputs": [],
   "source": []
  },
  {
   "cell_type": "markdown",
   "id": "43dc6bbe",
   "metadata": {},
   "source": [
    "Faça uma função que recebe 3 números e retorna uma tupla com os 3 números em ordem crescente."
   ]
  },
  {
   "cell_type": "code",
   "execution_count": null,
   "id": "33bb7014",
   "metadata": {},
   "outputs": [],
   "source": []
  },
  {
   "cell_type": "markdown",
   "id": "31a65a99",
   "metadata": {},
   "source": [
    "Faça uma função que recebe uma lista de 3 elementos e retorna o maior deles."
   ]
  },
  {
   "cell_type": "code",
   "execution_count": null,
   "id": "8d1dc634",
   "metadata": {},
   "outputs": [],
   "source": []
  },
  {
   "cell_type": "markdown",
   "id": "ac62b40c",
   "metadata": {},
   "source": [
    "Faça uma função que recebe uma lista com n elementos (n>5) e retorna os 5 maiores deles. "
   ]
  },
  {
   "cell_type": "code",
   "execution_count": null,
   "id": "428c7029",
   "metadata": {},
   "outputs": [],
   "source": []
  },
  {
   "cell_type": "markdown",
   "id": "6847f314",
   "metadata": {},
   "source": [
    "Faça uma função que recebe a altura e a massa de uma pessoa e retorna o imc."
   ]
  },
  {
   "cell_type": "code",
   "execution_count": null,
   "id": "b0053286",
   "metadata": {},
   "outputs": [],
   "source": []
  },
  {
   "cell_type": "markdown",
   "id": "9fb1c0de",
   "metadata": {},
   "source": [
    "Faça uma função que recebe uma lista de tamanho n (n > 5) contendo as strings 'Alto', 'Médio' e 'Baixo' e mostra qual das palavras apareceu mais vez e quantidade de vezes que essa palavra apareceu."
   ]
  },
  {
   "cell_type": "code",
   "execution_count": null,
   "id": "a48140c5",
   "metadata": {},
   "outputs": [],
   "source": []
  },
  {
   "cell_type": "markdown",
   "id": "cd5e4e25",
   "metadata": {},
   "source": [
    "### Desafio\n",
    "\n",
    "Escreva um programa que calcula a integral da função $f(x) = x^m$, com $m$ natural dado pelo usuário, entre o valores $a = x_1$ e $b = x_2$ (informados pelo usuário, onde $x_1 \\le x_2$ ),  \n",
    "pelo método 1/3 de Simpson, com número de passos $n$, um inteiro par, também informado pelo usuário."
   ]
  },
  {
   "cell_type": "code",
   "execution_count": null,
   "id": "ab3f53b3",
   "metadata": {},
   "outputs": [],
   "source": []
  },
  {
   "cell_type": "markdown",
   "id": "8f022cd6",
   "metadata": {},
   "source": [
    "**Documentação do Python:**\n",
    "https://docs.python.org/3/"
   ]
  },
  {
   "cell_type": "markdown",
   "id": "088dd62a",
   "metadata": {},
   "source": [
    "**Sugestão de listas de exercícios:**\n",
    "* https://wiki.python.org.br/ListaDeExercicios\n",
    "* https://www.w3resource.com/python-exercises/python-basic-exercises.php\n",
    "* https://www.hackerrank.com/\n",
    "* https://www.beecrowd.com.br/judge/pt/login\n",
    "* https://www.codewars.com/\n",
    "* https://leetcode.com/\n",
    "* https://www.geeksforgeeks.org/\n",
    "* https://www.kaggle.com/\n",
    "* https://pythoninstitute.org/"
   ]
  }
 ],
 "metadata": {
  "kernelspec": {
   "display_name": "Python 3 (ipykernel)",
   "language": "python",
   "name": "python3"
  },
  "language_info": {
   "codemirror_mode": {
    "name": "ipython",
    "version": 3
   },
   "file_extension": ".py",
   "mimetype": "text/x-python",
   "name": "python",
   "nbconvert_exporter": "python",
   "pygments_lexer": "ipython3",
   "version": "3.12.0"
  }
 },
 "nbformat": 4,
 "nbformat_minor": 5
}
