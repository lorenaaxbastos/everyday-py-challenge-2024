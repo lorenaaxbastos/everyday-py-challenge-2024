{
 "cells": [
  {
   "cell_type": "markdown",
   "id": "3f9e2383-f612-474f-aee6-3079d4431e44",
   "metadata": {},
   "source": [
    "# Santander Coders exercises from class #3\n",
    "\n",
    "Date: 01/18/2024. From: Ada Tech. Language: Portuguese."
   ]
  },
  {
   "cell_type": "markdown",
   "id": "f300001d",
   "metadata": {},
   "source": [
    "### Exercícios"
   ]
  },
  {
   "cell_type": "markdown",
   "id": "44a69040",
   "metadata": {},
   "source": [
    "Faça um programa que peça o raio de um círculo, calcula e mostra sua área e seu perímetro."
   ]
  },
  {
   "cell_type": "code",
   "execution_count": 1,
   "id": "92433cc8",
   "metadata": {},
   "outputs": [
    {
     "name": "stdin",
     "output_type": "stream",
     "text": [
      "Informe o raio do círculo :  5\n"
     ]
    },
    {
     "name": "stdout",
     "output_type": "stream",
     "text": [
      "O círculo tem área de 78.54 e perímetro de 31.42.\n"
     ]
    }
   ],
   "source": [
    "import math\n",
    "\n",
    "raio = float(input(\"Informe o raio do círculo : \"))\n",
    "area = math.pi * (raio ** 2)\n",
    "perimetro = 2 * math.pi * raio\n",
    "print(f\"O círculo tem área de {area:.2f} e perímetro de {perimetro:.2f}.\")"
   ]
  },
  {
   "cell_type": "markdown",
   "id": "0b98fcbd",
   "metadata": {},
   "source": [
    "Faça um programa que recebe uma nota digita pelo usuário e a classifica como:\n",
    "* Menor do que 4: baixa\n",
    "* Entre 4 e 7: média\n",
    "* Maior do que 7: alta"
   ]
  },
  {
   "cell_type": "code",
   "execution_count": 2,
   "id": "7f115681",
   "metadata": {},
   "outputs": [
    {
     "name": "stdin",
     "output_type": "stream",
     "text": [
      "Digite a nota:  10\n"
     ]
    },
    {
     "name": "stdout",
     "output_type": "stream",
     "text": [
      "Nota alta\n"
     ]
    }
   ],
   "source": [
    "nota = float(input(\"Digite a nota: \"))\n",
    "classificacao = \"Nota baixa\" if nota < 4 else \"Nota média\" if nota <= 7 else \"Nota alta\"\n",
    "print(classificacao)"
   ]
  },
  {
   "cell_type": "markdown",
   "id": "14b3a2a8",
   "metadata": {},
   "source": [
    "Faça um programa que lê três números inteiros e mostra o maior deles."
   ]
  },
  {
   "cell_type": "code",
   "execution_count": 3,
   "id": "76aa94aa",
   "metadata": {},
   "outputs": [
    {
     "name": "stdin",
     "output_type": "stream",
     "text": [
      "Digite um número inteiro:  5\n",
      "Digite um número inteiro:  9\n",
      "Digite um número inteiro:  1\n"
     ]
    },
    {
     "name": "stdout",
     "output_type": "stream",
     "text": [
      "O maior número informado foi o 9\n"
     ]
    }
   ],
   "source": [
    "numeros = [int(input(\"Digite um número inteiro: \")) for _ in range(3)]\n",
    "print(f\"O maior número informado foi o {max(numeros)}\")"
   ]
  },
  {
   "cell_type": "markdown",
   "id": "edf2b3e5",
   "metadata": {},
   "source": [
    "Faça um programa que lê três números inteiros e os mostra em ordem crescente."
   ]
  },
  {
   "cell_type": "code",
   "execution_count": 4,
   "id": "3f4a8b45",
   "metadata": {},
   "outputs": [
    {
     "name": "stdin",
     "output_type": "stream",
     "text": [
      "Digite um número inteiro:  5\n",
      "Digite um número inteiro:  9\n",
      "Digite um número inteiro:  1\n"
     ]
    },
    {
     "name": "stdout",
     "output_type": "stream",
     "text": [
      "Os números informados em ordem crescente: 1, 5, 9.\n"
     ]
    }
   ],
   "source": [
    "numeros = [int(input(\"Digite um número inteiro: \")) for _ in range(3)]\n",
    "print(f\"Os números informados em ordem crescente: {\", \".join(str(num) for num in sorted(numeros))}.\")"
   ]
  },
  {
   "cell_type": "markdown",
   "id": "735ae64c",
   "metadata": {},
   "source": [
    "Faça um programa que lê um número natural menor do que 1000 e mostra a soma de seus dígitos."
   ]
  },
  {
   "cell_type": "code",
   "execution_count": 7,
   "id": "c3b9d24c",
   "metadata": {},
   "outputs": [
    {
     "name": "stdin",
     "output_type": "stream",
     "text": [
      "Informe um número entre 0 e 1000:  -5\n",
      "Informe um número entre 0 e 1000:  1235\n",
      "Informe um número entre 0 e 1000:  563\n"
     ]
    },
    {
     "name": "stdout",
     "output_type": "stream",
     "text": [
      "A soma dos dígitos de 563 é 14.\n"
     ]
    }
   ],
   "source": [
    "numero = -1\n",
    "while numero < 0 or numero >= 1000:\n",
    "    numero = int(input(\"Informe um número entre 0 e 1000: \"))\n",
    "\n",
    "soma_digitos = sum([int(caractere) for caractere in str(numero)])\n",
    "print(f\"A soma dos dígitos de {numero} é {soma_digitos}.\")"
   ]
  },
  {
   "cell_type": "markdown",
   "id": "f7fc3880",
   "metadata": {},
   "source": [
    "Faça um programa que peça uma temperatura, peça uma das três escalas (Celsius, Fahrenheit ou Kelvin) para a temperatura digitada, peça para qual temperatura quer transformar (Celsius, Fahrenheit ou Kelvin) e mostra essa temperatura transformada."
   ]
  },
  {
   "cell_type": "code",
   "execution_count": 10,
   "id": "78023218",
   "metadata": {},
   "outputs": [
    {
     "name": "stdin",
     "output_type": "stream",
     "text": [
      "Informe a temperatura que deseja converter:  5\n",
      "Informe a escala da temperatura digitada: [C/F/K] k\n",
      "Informe a escala da temperatura digitada: [C/F/K] c\n"
     ]
    },
    {
     "name": "stdout",
     "output_type": "stream",
     "text": [
      "A temperatura 5.00 °K é equivalente a -268.00 °C.\n"
     ]
    }
   ],
   "source": [
    "temperatura_entrada = float(input(\"Informe a temperatura que deseja converter: \"))\n",
    "escala_entrada = input(\"Informe a escala da temperatura digitada: [C/F/K]\").upper()\n",
    "\n",
    "while escala_entrada not in \"CKF\":\n",
    "    print(\"Escala inválida. Tente novamente.\")\n",
    "    escala_entrada = input(\"Informe a escala da temperatura digitada: [C/F/K]\").upper()\n",
    "\n",
    "escala_saida = input(\"Informe a escala da temperatura digitada: [C/F/K]\").upper()\n",
    "\n",
    "while escala_saida not in \"CKF\":\n",
    "    print(\"Escala inválida. Tente novamente.\")\n",
    "    escala_saida = input(\"Informe a escala da temperatura digitada: [C/F/K]\").upper()\n",
    "\n",
    "if escala_entrada == \"C\" and escala_saida == \"K\":\n",
    "    temperatura_saida = temperatura_entrada + 273\n",
    "elif escala_entrada == \"C\" and escala_saida == \"F\":\n",
    "    temperatura_saida = (temperatura_entrada * 1.8) + 32\n",
    "elif escala_entrada == \"F\" and escala_saida == \"C\":\n",
    "    temperatura_saida = (temperatura_entrada - 32) / 1.8\n",
    "elif escala_entrada == \"F\" and escala_saida == \"K\":\n",
    "    temperatura_saida = ((temperatura_entrada - 32) * (5 / 9)) + 273\n",
    "elif escala_entrada == \"K\" and escala_saida == \"C\":\n",
    "    temperatura_saida = temperatura_entrada - 273\n",
    "elif escala_entrada == \"K\" and escala_saida == \"F\":\n",
    "    temperatura_saida = ((temperatura_entrada - 273) * 1.8) + 32\n",
    "else:\n",
    "    print(\"As escalas são iguais. A temperatura não foi convertida.\")\n",
    "\n",
    "print(f\"A temperatura {temperatura_entrada:.2f} °{escala_entrada} é equivalente a {temperatura_saida:.2f} °{escala_saida}.\")"
   ]
  },
  {
   "cell_type": "markdown",
   "id": "9236fd87",
   "metadata": {},
   "source": [
    "Desenvolva um programa que leia quatro notas e que apresente a média final, a maior nota e a menor nota (não use lista)."
   ]
  },
  {
   "cell_type": "code",
   "execution_count": 13,
   "id": "6fe6a4ef",
   "metadata": {},
   "outputs": [
    {
     "name": "stdin",
     "output_type": "stream",
     "text": [
      "Digite a nota 1:  6\n",
      "Digite a nota 2:  9\n",
      "Digite a nota 3:  8.5\n",
      "Digite a nota 4:  10\n"
     ]
    },
    {
     "name": "stdout",
     "output_type": "stream",
     "text": [
      "A média é 8.38, a maior nota é 10.00 e a menor nota é 6.00.\n"
     ]
    }
   ],
   "source": [
    "nota_1 = float(input(\"Digite a nota 1: \"))\n",
    "nota_2 = float(input(\"Digite a nota 2: \"))\n",
    "nota_3 = float(input(\"Digite a nota 3: \"))\n",
    "nota_4 = float(input(\"Digite a nota 4: \"))\n",
    "\n",
    "media = (nota_1 + nota_2 + nota_3 + nota_4) / 4\n",
    "maior_nota = max(nota_1, nota_2, nota_3, nota_4)\n",
    "menor_nota = min(nota_1, nota_2, nota_3, nota_4)\n",
    "\n",
    "print(f\"A média é {media:.2f}, a maior nota é {maior_nota:.2f} e a menor nota é {menor_nota:.2f}.\")"
   ]
  },
  {
   "cell_type": "markdown",
   "id": "5232bc8c",
   "metadata": {},
   "source": [
    "Faça um programa que, dado um inteiro digitado pelo usuário, mostre o fatorial desse número."
   ]
  },
  {
   "cell_type": "code",
   "execution_count": 14,
   "id": "ee080507",
   "metadata": {},
   "outputs": [
    {
     "name": "stdin",
     "output_type": "stream",
     "text": [
      "Digite um número para calcular o fatorial:  5\n"
     ]
    },
    {
     "name": "stdout",
     "output_type": "stream",
     "text": [
      "O fatorial de 5 é 120.\n"
     ]
    }
   ],
   "source": [
    "numero = int(input(\"Digite um número para calcular o fatorial: \"))\n",
    "\n",
    "def fatorial(n):\n",
    "    if not isinstance(n, int):\n",
    "        print(\"Este programa aceita somente números inteiros.\")\n",
    "        return None\n",
    "    if n <= 1:\n",
    "        return 1\n",
    "    else:\n",
    "        return n * fatorial(n - 1)\n",
    "\n",
    "print(f\"O fatorial de {numero} é {fatorial(numero)}.\")"
   ]
  },
  {
   "cell_type": "markdown",
   "id": "96965216",
   "metadata": {},
   "source": [
    "Faça um programa que peça as notas do usuário, calcula e mostra a sua média. O programa deve parar de pedir notas quando uma nota negativa for digitada."
   ]
  },
  {
   "cell_type": "code",
   "execution_count": 18,
   "id": "3f7c5aa4",
   "metadata": {},
   "outputs": [
    {
     "name": "stdin",
     "output_type": "stream",
     "text": [
      "Digite uma nota:  -1\n"
     ]
    },
    {
     "name": "stdout",
     "output_type": "stream",
     "text": [
      "A média é 0.\n"
     ]
    }
   ],
   "source": [
    "nota = float(input(\"Digite uma nota: \"))\n",
    "media = 0\n",
    "counter = 0\n",
    "while nota >= 0:\n",
    "    media += nota\n",
    "    counter += 1\n",
    "    nota = float(input(\"Digite outra nota: \"))\n",
    "media = media / counter if counter > 0 else 0\n",
    "\n",
    "print(f\"A média é {media}.\")"
   ]
  },
  {
   "cell_type": "markdown",
   "id": "91c53d3c",
   "metadata": {},
   "source": [
    "Faça um programa que pede um número natural (inteiro não negativo) para o usuário e mostra a tabuada desse número na tela."
   ]
  },
  {
   "cell_type": "code",
   "execution_count": 20,
   "id": "afd68686",
   "metadata": {},
   "outputs": [
    {
     "name": "stdin",
     "output_type": "stream",
     "text": [
      "Informe um número maior que zero:  -5\n",
      "Informe um número maior que zero:  3\n"
     ]
    },
    {
     "name": "stdout",
     "output_type": "stream",
     "text": [
      "3 x 1 = 3\n",
      "3 x 2 = 6\n",
      "3 x 3 = 9\n",
      "3 x 4 = 12\n",
      "3 x 5 = 15\n",
      "3 x 6 = 18\n",
      "3 x 7 = 21\n",
      "3 x 8 = 24\n",
      "3 x 9 = 27\n",
      "3 x 10 = 30\n"
     ]
    }
   ],
   "source": [
    "numero = -1\n",
    "while numero <= 0:\n",
    "    numero = int(input(\"Informe um número maior que zero: \"))\n",
    "\n",
    "for i in range(1, 11):\n",
    "    print(f\"{numero} x {i} = {numero * i}\")"
   ]
  },
  {
   "cell_type": "markdown",
   "id": "8d20ce09",
   "metadata": {},
   "source": [
    "Faça um programa que recebe dois números inteiros e mostra suas tabuadas lado a lado.\n",
    "\n",
    "* Exemplo: 3 e 7 \n",
    "\n",
    "\n",
    "\n",
    "|Tab do 3 | Tab do 7|\n",
    "| :-: | :-: |\n",
    "|3 x  1 =  6 | 7 x  1 =  7|\n",
    "|3 x  2 =  6 | 7 x  2 = 14|\n",
    "|3 x  3 =  9 | 7 x  3 = 21|\n",
    "|3 x  4 = 12 | 7 x  4 = 28|\n",
    "|3 x  5 = 15 | 7 x  5 = 35|\n",
    "|3 x  6 = 18 | 7 x  6 = 42|\n",
    "|3 x  7 = 21 | 7 x  7 = 49|\n",
    "|3 x  8 = 24 | 7 x  8 = 56|\n",
    "|3 x  9 = 27 | 7 x  9 = 63|\n",
    "|3 x 10 = 30 | 7 x 10 = 70|"
   ]
  },
  {
   "cell_type": "code",
   "execution_count": 3,
   "id": "ae402a55",
   "metadata": {},
   "outputs": [
    {
     "name": "stdin",
     "output_type": "stream",
     "text": [
      "Informe um número maior que zero:  3\n",
      "Informe outro número maior que zero:  7\n"
     ]
    },
    {
     "name": "stdout",
     "output_type": "stream",
     "text": [
      "|  Tabuada do 3  |  Tabuada do 7  |\n",
      "|----------------|----------------|\n",
      "|   3 x 1 = 3    |   7 x 1 = 7    |\n",
      "|   3 x 2 = 6    |   7 x 2 = 14   |\n",
      "|   3 x 3 = 9    |   7 x 3 = 21   |\n",
      "|   3 x 4 = 12   |   7 x 4 = 28   |\n",
      "|   3 x 5 = 15   |   7 x 5 = 35   |\n",
      "|   3 x 6 = 18   |   7 x 6 = 42   |\n",
      "|   3 x 7 = 21   |   7 x 7 = 49   |\n",
      "|   3 x 8 = 24   |   7 x 8 = 56   |\n",
      "|   3 x 9 = 27   |   7 x 9 = 63   |\n",
      "|  3 x 10 = 30   |  7 x 10 = 70   |\n"
     ]
    }
   ],
   "source": [
    "from tabulate import tabulate\n",
    "\n",
    "numero_1 = -1\n",
    "while numero_1 <= 0:\n",
    "    numero_1 = int(input(\"Informe um número maior que zero: \"))\n",
    "\n",
    "numero_2 = -1\n",
    "while numero_2 <= 0:\n",
    "    numero_2 = int(input(\"Informe outro número maior que zero: \"))\n",
    "\n",
    "header = [f\"Tabuada do {numero_1}\", f\"Tabuada do {numero_2}\"]\n",
    "tabuadas = []\n",
    "for i in range(1, 11):\n",
    "    tabuadas.append([f\"{numero_1} x {i} = {numero_1 * i}\", f\"{numero_2} x {i} = {numero_2 * i}\"])\n",
    "\n",
    "print(tabulate(tabuadas, headers=header, tablefmt=\"github\", stralign=\"center\"))"
   ]
  },
  {
   "cell_type": "markdown",
   "id": "4ffbc9e6",
   "metadata": {},
   "source": [
    "Faça um programa que pede um número natural n e mostra um triângulo n níveis (linhas), cada um com um asterisco a mais que o anterior.  \n",
    "  \n",
    "Exemplo:\n",
    "Digite um número: 5\n"
   ]
  },
  {
   "cell_type": "markdown",
   "id": "aea9c91b-d5c2-43fd-b141-d8599f38a4ea",
   "metadata": {},
   "source": [
    "```\n",
    "*\n",
    "**\n",
    "***\n",
    "****\n",
    "*****\n",
    "******\n",
    "```"
   ]
  },
  {
   "cell_type": "code",
   "execution_count": 5,
   "id": "13ee41df",
   "metadata": {},
   "outputs": [
    {
     "name": "stdin",
     "output_type": "stream",
     "text": [
      "Informe um número maior que zero:  6\n"
     ]
    },
    {
     "name": "stdout",
     "output_type": "stream",
     "text": [
      "*\n",
      "**\n",
      "***\n",
      "****\n",
      "*****\n",
      "******\n"
     ]
    }
   ],
   "source": [
    "numero = -1\n",
    "while numero <= 0:\n",
    "    numero = int(input(\"Informe um número maior que zero: \"))\n",
    "\n",
    "for i in range(1, numero + 1):\n",
    "    print(\"*\" * i)"
   ]
  },
  {
   "cell_type": "markdown",
   "id": "5c586c3a",
   "metadata": {},
   "source": [
    "Dado um número natural, faça um programa que mostra na tela a quantidade de dígitos que esse número tem."
   ]
  },
  {
   "cell_type": "code",
   "execution_count": 7,
   "id": "08167744",
   "metadata": {},
   "outputs": [
    {
     "name": "stdin",
     "output_type": "stream",
     "text": [
      "Informe um número maior que zero:  536987\n"
     ]
    },
    {
     "name": "stdout",
     "output_type": "stream",
     "text": [
      "O número 536987 possui 6 dígitos.\n"
     ]
    }
   ],
   "source": [
    "numero = -1\n",
    "while numero <= 0:\n",
    "    numero = int(input(\"Informe um número maior que zero: \"))\n",
    "\n",
    "print(f\"O número {numero} possui {len(str(numero))} dígitos.\")"
   ]
  },
  {
   "cell_type": "markdown",
   "id": "d8e8b46a",
   "metadata": {},
   "source": [
    "Dado um número natural, faça um programa que mostra na tela a quantidade de dígitos que esse número tem. Não use string."
   ]
  },
  {
   "cell_type": "code",
   "execution_count": 13,
   "id": "224c8588",
   "metadata": {},
   "outputs": [
    {
     "name": "stdin",
     "output_type": "stream",
     "text": [
      "Informe um número maior que zero:  9574\n"
     ]
    },
    {
     "name": "stdout",
     "output_type": "stream",
     "text": [
      "O número 9574 possui 4 dígitos.\n"
     ]
    }
   ],
   "source": [
    "numero = -1\n",
    "while numero <= 0:\n",
    "    numero = int(input(\"Informe um número maior que zero: \"))\n",
    "\n",
    "digitos = 0\n",
    "while numero > 1:\n",
    "    numero /= 10\n",
    "    digitos += 1\n",
    "\n",
    "print(f\"O número {round(numero * (10 ** digitos))} possui {digitos} dígitos.\")"
   ]
  },
  {
   "cell_type": "markdown",
   "id": "7c668b03",
   "metadata": {},
   "source": [
    "Escreva um programa que leia um número inteiro qualquer e que apresente o número informado, seguido do seu antecessor e do seu sucessor."
   ]
  },
  {
   "cell_type": "code",
   "execution_count": 14,
   "id": "b04f74e2",
   "metadata": {},
   "outputs": [
    {
     "name": "stdin",
     "output_type": "stream",
     "text": [
      "Digite um número inteiro:  95\n"
     ]
    },
    {
     "name": "stdout",
     "output_type": "stream",
     "text": [
      "O antecessor do número 95 é 94 e seu sucessor é 96.\n"
     ]
    }
   ],
   "source": [
    "numero = int(input(\"Digite um número inteiro: \"))\n",
    "\n",
    "print(f\"O antecessor do número {numero} é {numero - 1} e seu sucessor é {numero + 1}.\")"
   ]
  },
  {
   "cell_type": "markdown",
   "id": "405129c4",
   "metadata": {},
   "source": [
    "Escreva um algoritmo que recebe um número n, fornecido pelo usuário, e mostra os n primeiros números da sequência de Fibonacci.\n"
   ]
  },
  {
   "cell_type": "code",
   "execution_count": 15,
   "id": "e567a3e6",
   "metadata": {},
   "outputs": [
    {
     "name": "stdin",
     "output_type": "stream",
     "text": [
      "Digite um número inteiro:  15\n"
     ]
    },
    {
     "name": "stdout",
     "output_type": "stream",
     "text": [
      "Os primeiros 15 números da sequência de Fibonacci são 0, 1, 1, 2, 3, 5, 8, 13, 21, 34, 55, 89, 144, 233, 377.\n"
     ]
    }
   ],
   "source": [
    "numero = int(input(\"Digite um número inteiro: \"))\n",
    "\n",
    "def fibonacci(n):\n",
    "    if n == 1:\n",
    "        return list(0)\n",
    "    if n == 2:\n",
    "        return [0, 1]\n",
    "    else:\n",
    "        sequence = fibonacci(n - 1)\n",
    "        return sequence + [sum(sequence[-2:])]\n",
    "\n",
    "print(f\"Os primeiros {numero} números da sequência de Fibonacci são {', '.join(str(numero) for numero in fibonacci(numero))}.\")"
   ]
  },
  {
   "cell_type": "markdown",
   "id": "2646de8a",
   "metadata": {},
   "source": [
    "Escreva um algoritmo que recebe 5 números reais e calcula a variância e o desvio padrão desses números."
   ]
  },
  {
   "cell_type": "code",
   "execution_count": 17,
   "id": "5a58422f",
   "metadata": {},
   "outputs": [
    {
     "name": "stdin",
     "output_type": "stream",
     "text": [
      "Digite um número:  6\n",
      "Digite um número:  8\n",
      "Digite um número:  10\n",
      "Digite um número:  30\n",
      "Digite um número:  55\n"
     ]
    },
    {
     "name": "stdout",
     "output_type": "stream",
     "text": [
      "A variância é 437.20 e o desvio padrão é 20.91.\n"
     ]
    }
   ],
   "source": [
    "numeros = [float(input(\"Digite um número: \")) for _ in range(5)]\n",
    "media = sum(numeros) / len(numeros)\n",
    "variancia = sum((numero - media) ** 2 for numero in numeros) / (len(numeros) - 1)\n",
    "desvio_padrao = variancia ** (1 / 2)\n",
    "\n",
    "print(f\"A variância é {variancia:.2f} e o desvio padrão é {desvio_padrao:.2f}.\")"
   ]
  },
  {
   "cell_type": "markdown",
   "id": "a472f7f7",
   "metadata": {},
   "source": [
    "Faça um programa que peça um número, n, ao usuário e n valores e armazena esses valores em uma lista. "
   ]
  },
  {
   "cell_type": "code",
   "execution_count": 20,
   "id": "097e62b2",
   "metadata": {},
   "outputs": [
    {
     "name": "stdin",
     "output_type": "stream",
     "text": [
      "Informe a quantidade de itens da lista:  5\n",
      "Digite um número inteiro:  59\n",
      "Digite um número inteiro:  64\n",
      "Digite um número inteiro:  3\n",
      "Digite um número inteiro:  51\n",
      "Digite um número inteiro:  27\n"
     ]
    },
    {
     "name": "stdout",
     "output_type": "stream",
     "text": [
      "[59, 64, 3, 51, 27]\n"
     ]
    }
   ],
   "source": [
    "numeros = [int(input(\"Digite um número inteiro: \")) for _ in range(int(input(\"Informe a quantidade de itens da lista: \")))]\n",
    "print(numeros)"
   ]
  },
  {
   "cell_type": "markdown",
   "id": "cfd6c1ab",
   "metadata": {},
   "source": [
    "Faça um programa que, dadas duas listas, monta uma terceira lista com os elementos das duas primeiras em sequência.\n"
   ]
  },
  {
   "cell_type": "code",
   "execution_count": 23,
   "id": "33f2b01a",
   "metadata": {},
   "outputs": [
    {
     "name": "stdin",
     "output_type": "stream",
     "text": [
      "Informe a quantidade de itens das listas:  3\n",
      "Digite um elemento para adicionar na lista 1:  nome\n",
      "Digite um elemento para adicionar na lista 1:  idade\n",
      "Digite um elemento para adicionar na lista 1:  profissao\n",
      "Digite um elemento para adicionar na lista 2:  Lorena\n",
      "Digite um elemento para adicionar na lista 2:  30\n",
      "Digite um elemento para adicionar na lista 2:  cientista de dados\n"
     ]
    },
    {
     "name": "stdout",
     "output_type": "stream",
     "text": [
      "['nome', 'idade', 'profissao', 'Lorena', '30', 'cientista de dados']\n"
     ]
    }
   ],
   "source": [
    "qtd_items = int(input(\"Informe a quantidade de itens das listas: \"))\n",
    "lista_1 = [input(\"Digite um elemento para adicionar na lista 1: \") for _ in range(qtd_items)]\n",
    "lista_2 = [input(\"Digite um elemento para adicionar na lista 2: \") for _ in range(qtd_items)]\n",
    "lista_3 = lista_1 + lista_2\n",
    "print(lista_3)"
   ]
  },
  {
   "cell_type": "markdown",
   "id": "4110632c",
   "metadata": {},
   "source": [
    " Faça um programa que, dado uma lista de 10 elementos formados pelos caracteres 'a', 'b' e 'c', conta e mostra a quantidade de 'b' dessa lista."
   ]
  },
  {
   "cell_type": "code",
   "execution_count": 26,
   "id": "69f66978",
   "metadata": {},
   "outputs": [
    {
     "name": "stdout",
     "output_type": "stream",
     "text": [
      "['c', 'c', 'c', 'c', 'c', 'a', 'c', 'b', 'c', 'b']\n",
      "A quantidade de 'b' na lista é 2.\n"
     ]
    }
   ],
   "source": [
    "from random import randint\n",
    "\n",
    "lista_abc = ['abc'[randint(0,2)] for _ in range(10)]\n",
    "print(lista_abc)\n",
    "print(f\"A quantidade de 'b' na lista é {lista_abc.count(\"b\")}.\")"
   ]
  },
  {
   "cell_type": "markdown",
   "id": "69469d8d",
   "metadata": {},
   "source": [
    "Faça um programa que, dado uma lista de inteiros, remove os elementos pares e os ímpares negativos."
   ]
  },
  {
   "cell_type": "code",
   "execution_count": 31,
   "id": "068d6de6",
   "metadata": {},
   "outputs": [
    {
     "name": "stdin",
     "output_type": "stream",
     "text": [
      "Informe a quantidade de itens da lista:  5\n",
      "Digite um número inteiro:  0\n",
      "Digite um número inteiro:  -5\n",
      "Digite um número inteiro:  -2\n",
      "Digite um número inteiro:  3\n",
      "Digite um número inteiro:  2\n"
     ]
    },
    {
     "name": "stdout",
     "output_type": "stream",
     "text": [
      "[0, -5, -2, 3, 2]\n",
      "[3]\n"
     ]
    }
   ],
   "source": [
    "numeros = [int(input(\"Digite um número inteiro: \")) for _ in range(int(input(\"Informe a quantidade de itens da lista: \")))]\n",
    "print(numeros)\n",
    "\n",
    "numeros_para_remover = [numero for numero in numeros if numero < 0 or numero % 2 == 0]\n",
    "for item in numeros_para_remover:\n",
    "    numeros.remove(item)\n",
    "\n",
    "print(numeros)"
   ]
  },
  {
   "cell_type": "markdown",
   "id": "8320d7c8",
   "metadata": {},
   "source": [
    "Faça um programa que, dadas duas listas de mesmo tamanho, forma uma terceira lista cujos elementos são listas de 2 elementos, um da primeira lista e outro da segunda lista."
   ]
  },
  {
   "cell_type": "code",
   "execution_count": 32,
   "id": "9548b6b9",
   "metadata": {},
   "outputs": [
    {
     "name": "stdin",
     "output_type": "stream",
     "text": [
      "Informe a quantidade de itens das listas:  3\n",
      "Digite um elemento para adicionar na lista 1:  nome\n",
      "Digite um elemento para adicionar na lista 1:  idade\n",
      "Digite um elemento para adicionar na lista 1:  profissao\n",
      "Digite um elemento para adicionar na lista 2:  Lorena\n",
      "Digite um elemento para adicionar na lista 2:  30\n",
      "Digite um elemento para adicionar na lista 2:  cientista de dados\n"
     ]
    },
    {
     "name": "stdout",
     "output_type": "stream",
     "text": [
      "[['nome', 'Lorena'], ['idade', '30'], ['profissao', 'cientista de dados']]\n"
     ]
    }
   ],
   "source": [
    "qtd_items = int(input(\"Informe a quantidade de itens das listas: \"))\n",
    "lista_1 = [input(\"Digite um elemento para adicionar na lista 1: \") for _ in range(qtd_items)]\n",
    "lista_2 = [input(\"Digite um elemento para adicionar na lista 2: \") for _ in range(qtd_items)]\n",
    "lista_3 = [list(tupla) for tupla in zip(lista_1, lista_2)]\n",
    "print(lista_3)"
   ]
  },
  {
   "cell_type": "markdown",
   "id": "28f3fdce",
   "metadata": {},
   "source": [
    "Faça um programa que, dado uma lista, copia essa lista em outra lista. Modifique o terceiro elemento da primeira lista. Mostre as duas listas na tela."
   ]
  },
  {
   "cell_type": "code",
   "execution_count": 35,
   "id": "77dbb6f1",
   "metadata": {},
   "outputs": [
    {
     "name": "stdin",
     "output_type": "stream",
     "text": [
      "Informe a quantidade de itens da lista:  3\n",
      "Digite um elemento:  nome\n",
      "Digite um elemento:  idade\n",
      "Digite um elemento:  profissao\n"
     ]
    },
    {
     "name": "stdout",
     "output_type": "stream",
     "text": [
      "['nome', 'idade', 8]\n",
      "['nome', 'idade', 'profissao']\n"
     ]
    }
   ],
   "source": [
    "lista_1 = [input(\"Digite um elemento: \") for _ in range(int(input(\"Informe a quantidade de itens da lista: \")))]\n",
    "lista_2 = lista_1[:]\n",
    "lista_1[2] = 8\n",
    "print(lista_1)\n",
    "print(lista_2)"
   ]
  },
  {
   "cell_type": "markdown",
   "id": "61d3bad8",
   "metadata": {},
   "source": [
    "Faça um programa que, dada uma lista de inteiros positivos digitados pelo usuário (representando segmentos de reta), verifica se esses três números formam um triângulo."
   ]
  },
  {
   "cell_type": "code",
   "execution_count": 38,
   "id": "e5d6906d",
   "metadata": {},
   "outputs": [
    {
     "name": "stdin",
     "output_type": "stream",
     "text": [
      "Informe um número maior que zero:  8\n",
      "Informe um número maior que zero:  3\n",
      "Informe um número maior que zero:  10\n"
     ]
    },
    {
     "name": "stdout",
     "output_type": "stream",
     "text": [
      "Isso é um triângulo.\n"
     ]
    }
   ],
   "source": [
    "segmentos = []\n",
    "\n",
    "for numero in range(3):\n",
    "    numero = -1\n",
    "    while numero <= 0:\n",
    "        numero = int(input(\"Informe um número maior que zero: \"))\n",
    "    segmentos.append(numero)\n",
    "\n",
    "ab, bc, cd = sorted(segmentos)\n",
    "\n",
    "if ab + bc > cd:\n",
    "    print(\"Isso é um triângulo.\")\n",
    "else:\n",
    "    print(\"Isso não é um triângulo.\")"
   ]
  },
  {
   "cell_type": "markdown",
   "id": "81170fd9",
   "metadata": {},
   "source": [
    "Faça um programa que, dados dois vetores de mesmo tamanho, mostra o produto escalar desses vetores."
   ]
  },
  {
   "cell_type": "code",
   "execution_count": 41,
   "id": "38984e73",
   "metadata": {},
   "outputs": [
    {
     "name": "stdin",
     "output_type": "stream",
     "text": [
      "Informe a quantidade de itens de cada vetor:  2\n",
      "Digite o elemento 1 do vetor 1:  5\n",
      "Digite o elemento 2 do vetor 1:  -1\n",
      "Digite o elemento 1 do vetor 2:  3\n",
      "Digite o elemento 2 do vetor 2:  4\n"
     ]
    },
    {
     "name": "stdout",
     "output_type": "stream",
     "text": [
      "A soma dos vetores é 11.\n"
     ]
    }
   ],
   "source": [
    "qtd_items = int(input(\"Informe a quantidade de itens de cada vetor: \"))\n",
    "vetor_1 = [int(input(f\"Digite o elemento {i + 1} do vetor 1: \")) for i in range(qtd_items)]\n",
    "vetor_2 = [int(input(f\"Digite o elemento {i + 1} do vetor 2: \") )for i in range(qtd_items)]\n",
    "soma_vetores = sum(x * y for x, y in zip(vetor_1, vetor_2))\n",
    "print(f\"A soma dos vetores é {soma_vetores}.\")"
   ]
  },
  {
   "cell_type": "markdown",
   "id": "3687a281",
   "metadata": {},
   "source": [
    "Faça um programa que, dada uma lista vazia chamada 'mat', popule essa lista com outras 3 listas de tamanho 3 (a lista 'mat' terá, como elementos, três listas contendo três elementos cada). Considere, nesse caso, apenas valores inteiros digitados pelo usuário. Mostre todos os elementos de 'mat' na forma de tabela 3x3."
   ]
  },
  {
   "cell_type": "code",
   "execution_count": 45,
   "id": "b277e99d",
   "metadata": {},
   "outputs": [
    {
     "name": "stdin",
     "output_type": "stream",
     "text": [
      "Digite o 1° número da 1ª linha:  1\n",
      "Digite o 2° número da 1ª linha:  0\n",
      "Digite o 3° número da 1ª linha:  1\n",
      "Digite o 1° número da 2ª linha:  0\n",
      "Digite o 2° número da 2ª linha:  1\n",
      "Digite o 3° número da 2ª linha:  0\n",
      "Digite o 1° número da 3ª linha:  1\n",
      "Digite o 2° número da 3ª linha:  0\n",
      "Digite o 3° número da 3ª linha:  1\n"
     ]
    },
    {
     "name": "stdout",
     "output_type": "stream",
     "text": [
      "1  0  1\n",
      "0  1  0\n",
      "1  0  1\n"
     ]
    }
   ],
   "source": [
    "from tabulate import tabulate\n",
    "\n",
    "mat = []\n",
    "\n",
    "for i in range(3):\n",
    "    mat.append([int(input(f\"Digite o {j + 1}° número da {i + 1}ª linha: \")) for j in range(3)])\n",
    "\n",
    "print((tabulate(mat, tablefmt=\"plain\", numalign=\"center\")))"
   ]
  },
  {
   "cell_type": "markdown",
   "id": "9717116d",
   "metadata": {},
   "source": [
    "Considere a lista 'mat' do exercício anterior, com todos elementos inicialmente iguais a zero. Peça ao usuário 4 valores diferentes de zero e armazene esses valores em uma lista chamada 'inicial'. Utilizando a lista 'inicial', coloque cada valor em uma lado da tabela (3x3) formada pela lista 'mat' (por exemplo, 'inicial[0]' na primeira coluna, 'inicial[1]' na última coluna, 'inicial[2] na primeira linha e 'inicial[3]' na última linha). Nas quinas (vértices), utilize o valor média da coluna e da linha."
   ]
  },
  {
   "cell_type": "code",
   "execution_count": 52,
   "id": "a67d03c5",
   "metadata": {},
   "outputs": [
    {
     "name": "stdin",
     "output_type": "stream",
     "text": [
      "Digite um número diferente de 0:  5\n",
      "Digite um número diferente de 0:  7\n",
      "Digite um número diferente de 0:  9\n",
      "Digite um número diferente de 0:  2\n"
     ]
    },
    {
     "name": "stdout",
     "output_type": "stream",
     "text": [
      "7     5     3.5\n",
      "   0  0  0\n",
      "9  0  0  0   2\n",
      "   0  0  0\n",
      "8     7     4.5\n"
     ]
    }
   ],
   "source": [
    "from tabulate import tabulate\n",
    "\n",
    "mat = [[0,0,0] for _ in range(3)]\n",
    "inicial = [int(input(\"Digite um número diferente de 0: \")) for _ in range(4)]\n",
    "\n",
    "for lista in mat:\n",
    "    lista.append(0)\n",
    "    lista.append(0)\n",
    "mat.append([0,0,0,0,0])\n",
    "mat.append([0,0,0,0,0])\n",
    "\n",
    "# atualizar mat para o tabulate\n",
    "for i, lista in enumerate(mat):\n",
    "    for j in range(len(lista)):\n",
    "        if i == (len(mat) - 1) / 2:\n",
    "            break\n",
    "        elif i == 0 or i == len(mat) - 1:\n",
    "            if j % 2 != 0:\n",
    "                lista[j] = None\n",
    "        else:\n",
    "            if j == 0 or j == len(lista) - 1:\n",
    "                lista[j] = None\n",
    "\n",
    "# incluir elementos da lista inicial em mat\n",
    "mat[0][2] = inicial[0]\n",
    "mat[2][0] = inicial[2]\n",
    "mat[2][4] = inicial[3]\n",
    "mat[4][2] = inicial[1]\n",
    "\n",
    "# calcular a media das quinas de acordo com suas respectivas linhas e colunas\n",
    "mat[0][0] = round((mat[0][2] + mat[2][0]) / 2, 2)\n",
    "mat[0][4] = round((mat[0][2] + mat[2][4]) / 2, 2)\n",
    "mat[4][0] = round((mat[2][0] + mat[4][2]) / 2, 2)\n",
    "mat[4][4] = round((mat[2][4] + mat[4][2]) / 2, 2)\n",
    "\n",
    "print(tabulate(mat, tablefmt=\"plain\", numalign=\"center\"))"
   ]
  },
  {
   "cell_type": "markdown",
   "id": "ce1ea21d",
   "metadata": {},
   "source": [
    "Faça uma função que recebe 3 números e retorna o maior deles."
   ]
  },
  {
   "cell_type": "code",
   "execution_count": 53,
   "id": "aec70699",
   "metadata": {},
   "outputs": [
    {
     "data": {
      "text/plain": [
       "85"
      ]
     },
     "execution_count": 53,
     "metadata": {},
     "output_type": "execute_result"
    }
   ],
   "source": [
    "def ordenacao(n1, n2, n3):\n",
    "    return max(n1, n2, n3)\n",
    "\n",
    "ordenacao(50, 4, 85)"
   ]
  },
  {
   "cell_type": "markdown",
   "id": "841f4a99",
   "metadata": {},
   "source": [
    "Faça uma função que recebe 3 números e retorna uma lista com os 3 números em ordem crescente."
   ]
  },
  {
   "cell_type": "code",
   "execution_count": 54,
   "id": "4edfe490",
   "metadata": {},
   "outputs": [
    {
     "data": {
      "text/plain": [
       "[4, 50, 85]"
      ]
     },
     "execution_count": 54,
     "metadata": {},
     "output_type": "execute_result"
    }
   ],
   "source": [
    "def ordenacao(n1, n2, n3):\n",
    "    return sorted([n1, n2, n3])\n",
    "\n",
    "ordenacao(50, 4, 85)"
   ]
  },
  {
   "cell_type": "markdown",
   "id": "43dc6bbe",
   "metadata": {},
   "source": [
    "Faça uma função que recebe 3 números e retorna uma tupla com os 3 números em ordem crescente."
   ]
  },
  {
   "cell_type": "code",
   "execution_count": 55,
   "id": "33bb7014",
   "metadata": {},
   "outputs": [
    {
     "data": {
      "text/plain": [
       "(4, 50, 85)"
      ]
     },
     "execution_count": 55,
     "metadata": {},
     "output_type": "execute_result"
    }
   ],
   "source": [
    "def ordenacao(n1, n2, n3):\n",
    "    return tuple(sorted([n1, n2, n3]))\n",
    "\n",
    "ordenacao(50, 4, 85)"
   ]
  },
  {
   "cell_type": "markdown",
   "id": "31a65a99",
   "metadata": {},
   "source": [
    "Faça uma função que recebe uma lista de 3 elementos e retorna o maior deles."
   ]
  },
  {
   "cell_type": "code",
   "execution_count": 56,
   "id": "8d1dc634",
   "metadata": {},
   "outputs": [
    {
     "data": {
      "text/plain": [
       "85"
      ]
     },
     "execution_count": 56,
     "metadata": {},
     "output_type": "execute_result"
    }
   ],
   "source": [
    "def max_numero(lista):\n",
    "    if len(lista) != 3:\n",
    "        print(\"Este programa aceita somente lista com três elementos.\")\n",
    "        return None\n",
    "    return max(lista)\n",
    "\n",
    "max_numero([50, 4, 85])"
   ]
  },
  {
   "cell_type": "markdown",
   "id": "ac62b40c",
   "metadata": {},
   "source": [
    "Faça uma função que recebe uma lista com n elementos (n>5) e retorna os 5 maiores deles. "
   ]
  },
  {
   "cell_type": "code",
   "execution_count": 57,
   "id": "428c7029",
   "metadata": {},
   "outputs": [
    {
     "data": {
      "text/plain": [
       "[41, 50, 75, 85, 94]"
      ]
     },
     "execution_count": 57,
     "metadata": {},
     "output_type": "execute_result"
    }
   ],
   "source": [
    "def max_cinco_numeros(lista):\n",
    "    if len(lista) <= 5:\n",
    "        print(\"Este programa aceita somente lista com mais de cinco elementos.\")\n",
    "        return None\n",
    "    return sorted(lista)[-5:]\n",
    "\n",
    "max_cinco_numeros([50, 4, 85, 1, 94, 75, 41])"
   ]
  },
  {
   "cell_type": "markdown",
   "id": "6847f314",
   "metadata": {},
   "source": [
    "Faça uma função que recebe a altura e a massa de uma pessoa e retorna o imc."
   ]
  },
  {
   "cell_type": "code",
   "execution_count": 58,
   "id": "b0053286",
   "metadata": {},
   "outputs": [
    {
     "data": {
      "text/plain": [
       "24.77"
      ]
     },
     "execution_count": 58,
     "metadata": {},
     "output_type": "execute_result"
    }
   ],
   "source": [
    "def imc(altura, massa):\n",
    "    return round(massa / (altura ** 2), 2)\n",
    "\n",
    "imc(1.62, 65)"
   ]
  },
  {
   "cell_type": "markdown",
   "id": "9fb1c0de",
   "metadata": {},
   "source": [
    "Faça uma função que recebe uma lista de tamanho n (n > 5) contendo as strings 'Alto', 'Médio' e 'Baixo' e mostra qual das palavras apareceu mais vez e quantidade de vezes que essa palavra apareceu."
   ]
  },
  {
   "cell_type": "code",
   "execution_count": 67,
   "id": "a48140c5",
   "metadata": {},
   "outputs": [
    {
     "name": "stdout",
     "output_type": "stream",
     "text": [
      "['Alto', 'Médio', 'Alto', 'Baixo', 'Baixo', 'Médio', 'Alto', 'Baixo', 'Baixo', 'Baixo']\n"
     ]
    },
    {
     "data": {
      "text/plain": [
       "('Baixo', 5)"
      ]
     },
     "execution_count": 67,
     "metadata": {},
     "output_type": "execute_result"
    }
   ],
   "source": [
    "from random import randint\n",
    "\n",
    "def max_frequencia(lista):\n",
    "    if len(lista) <= 5:\n",
    "        print(\"Este programa aceita somente lista com mais de cinco elementos.\")\n",
    "        return None\n",
    "    frequencia = {}\n",
    "    for altura in lista:\n",
    "        frequencia[altura] = lista.count(altura)        \n",
    "    max_valor = max(frequencia.values())\n",
    "    max_chave = next(chave for chave, valor in frequencia.items() if valor == max_valor)\n",
    "    return max_chave, max_valor\n",
    "\n",
    "lista = [['Alto', 'Médio', 'Baixo'][randint(0,2)] for _ in range(10)]\n",
    "print(lista)\n",
    "max_frequencia(lista)"
   ]
  },
  {
   "cell_type": "markdown",
   "id": "cd5e4e25",
   "metadata": {},
   "source": [
    "### Desafio\n",
    "\n",
    "Escreva um programa que calcula a integral da função $f(x) = x^m$, com $m$ natural dado pelo usuário, entre o valores $a = x_1$ e $b = x_2$ (informados pelo usuário, onde $x_1 \\le x_2$ ),  \n",
    "pelo método 1/3 de Simpson, com número de passos $n$, um inteiro par, também informado pelo usuário."
   ]
  },
  {
   "cell_type": "code",
   "execution_count": 71,
   "id": "ab3f53b3",
   "metadata": {},
   "outputs": [
    {
     "data": {
      "text/plain": [
       "6551.25"
      ]
     },
     "execution_count": 71,
     "metadata": {},
     "output_type": "execute_result"
    }
   ],
   "source": [
    "def funcao_exponencial(x, m):\n",
    "    return x ** m\n",
    "\n",
    "def integral(a, b, n, m, funcao):\n",
    "    # validações\n",
    "    if m < 0:\n",
    "        print(\"O valor de m deve ser 0 ou positivo.\")\n",
    "        return None\n",
    "    elif a > b:\n",
    "        print(\"O valor de a deve ser menor ou igual ao valor de b.\")\n",
    "        return None\n",
    "    elif n % 2 != 0 and not isinstance(n, int):\n",
    "        print(\"O valor de n deve ser par e n deve ser um número inteiro.\")\n",
    "        return None\n",
    "\n",
    "    # método 1/3 de Simpson\n",
    "    h = (b - a)/n\n",
    "    soma = 0\n",
    "    for i in range(n + 1):\n",
    "        if i == 0 or i == n:\n",
    "            coeficiente = 1\n",
    "        elif i % 2 != 0:\n",
    "            coeficiente = 4\n",
    "        else:\n",
    "            coeficiente = 2\n",
    "        soma += coeficiente * funcao((a + (i * h)), m)\n",
    "    integral = (h / 3) * soma\n",
    "    return integral\n",
    "\n",
    "integral_de_funcao_exponencial(-8, -2, 4, 4, funcao_exponencial)"
   ]
  },
  {
   "cell_type": "markdown",
   "id": "8f022cd6",
   "metadata": {},
   "source": [
    "**Documentação do Python:**\n",
    "https://docs.python.org/3/"
   ]
  },
  {
   "cell_type": "markdown",
   "id": "088dd62a",
   "metadata": {},
   "source": [
    "**Sugestão de listas de exercícios:**\n",
    "* https://wiki.python.org.br/ListaDeExercicios\n",
    "* https://www.w3resource.com/python-exercises/python-basic-exercises.php\n",
    "* https://www.hackerrank.com/\n",
    "* https://www.beecrowd.com.br/judge/pt/login\n",
    "* https://www.codewars.com/\n",
    "* https://leetcode.com/\n",
    "* https://www.geeksforgeeks.org/\n",
    "* https://www.kaggle.com/\n",
    "* https://pythoninstitute.org/"
   ]
  }
 ],
 "metadata": {
  "kernelspec": {
   "display_name": "Python 3 (ipykernel)",
   "language": "python",
   "name": "python3"
  },
  "language_info": {
   "codemirror_mode": {
    "name": "ipython",
    "version": 3
   },
   "file_extension": ".py",
   "mimetype": "text/x-python",
   "name": "python",
   "nbconvert_exporter": "python",
   "pygments_lexer": "ipython3",
   "version": "3.12.0"
  }
 },
 "nbformat": 4,
 "nbformat_minor": 5
}
