{
 "cells": [
  {
   "cell_type": "markdown",
   "id": "9426758a-e5c6-4c45-97b4-10970e28243f",
   "metadata": {},
   "source": [
    "# New cashier does not know about space or shift\r\n",
    "\r\n",
    "Date: 01/28/2024.\r\n",
    "From: Codewars. \r\n",
    "Link to [exercise](https://www.codewars.com/kata/5d23d89906f92a00267bb83d/train/python).\r\n",
    "\r\n",
    "### Description\r\n",
    "\r\n",
    "Some new cashiers started to work at your restaurant.\r\n",
    "They are good at taking orders, but they don't know how to capitalize words, or use a space bar!\r\n",
    "All the orders they create look something like this:\r\n",
    "\r\n",
    "`\"milkshakepizzachickenfriescokeburgerpizzasandwichmilkshakepizza\"`\r\n",
    "\r\n",
    "The kitchen staff are threatening to quit, because of how difficult it is to read the orders.\r\n",
    "Their preference is to get the orders as a nice clean string with spaces and capitals like so:\r\n",
    "\r\n",
    "`\"Burger Fries Chicken Pizza Pizza Pizza Sandwich Milkshake Milkshake Coke\"`\r\n",
    "\r\n",
    "The kitchen staff expect the items to be in the same order as they appear in the menu.\r\n",
    "The menu items are fairly simple, there is no overlap in the names of the items:\r\n",
    "\r\n",
    "```\r\n",
    "1. Burger\r\n",
    "2. Fries\r\n",
    "3. Chicken\r\n",
    "4. Pizza\r\n",
    "5. Sandwich\r\n",
    "6. Onionrings\r\n",
    "7. Milkshake\r\n",
    "8. Coke\r\n",
    "```"
   ]
  },
  {
   "cell_type": "markdown",
   "id": "32d8b7da-bcab-4d5e-b26c-1b27bca09e3c",
   "metadata": {},
   "source": [
    "### My solution"
   ]
  },
  {
   "cell_type": "code",
   "execution_count": 2,
   "id": "ade98e8f-a604-4a35-a9e3-ddc7bbd74f32",
   "metadata": {},
   "outputs": [],
   "source": [
    "def get_order(order):\n",
    "    pass"
   ]
  },
  {
   "cell_type": "markdown",
   "id": "0b973063-7d92-4457-9a5d-62ed5cd9108a",
   "metadata": {},
   "source": [
    "### Basic tests"
   ]
  },
  {
   "cell_type": "code",
   "execution_count": 3,
   "id": "8ef4285f-6017-4c7c-adcf-978d4d4d89d7",
   "metadata": {},
   "outputs": [
    {
     "name": "stdout",
     "output_type": "stream",
     "text": [
      "None\n",
      "None\n"
     ]
    }
   ],
   "source": [
    "print(get_order(\"milkshakepizzachickenfriescokeburgerpizzasandwichmilkshakepizza\")) # expects \"Burger Fries Chicken Pizza Pizza Pizza Sandwich Milkshake Milkshake Coke\"\n",
    "print(get_order(\"pizzachickenfriesburgercokemilkshakefriessandwich\")) # expects \"Burger Fries Fries Chicken Pizza Sandwich Milkshake Coke\""
   ]
  }
 ],
 "metadata": {
  "kernelspec": {
   "display_name": "Python 3 (ipykernel)",
   "language": "python",
   "name": "python3"
  },
  "language_info": {
   "codemirror_mode": {
    "name": "ipython",
    "version": 3
   },
   "file_extension": ".py",
   "mimetype": "text/x-python",
   "name": "python",
   "nbconvert_exporter": "python",
   "pygments_lexer": "ipython3",
   "version": "3.12.0"
  }
 },
 "nbformat": 4,
 "nbformat_minor": 5
}
