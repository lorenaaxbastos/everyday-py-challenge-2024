{
 "cells": [
  {
   "cell_type": "markdown",
   "id": "93ecf6f2-bfec-4dda-b3bd-425bcd3bdc8e",
   "metadata": {},
   "source": [
    "# Numbers which sum of powers of its digits is the same number\r\n",
    "\r\n",
    "Date: 01/15/2024.\r\n",
    "From: Codewars. \r\n",
    "Link to [exercise](https://www.codewars.com/kata/560a4962c0cc5c2a16000068/train/python).\r\n",
    "\r\n",
    "### Description\r\n",
    "\r\n",
    "Not considering number 1, the integer 153 is the first integer having this property: the sum of the third-power of each of its digits is equal to 153. Take a look: 153 = 1³ + 5³ + 3³ = 1 + 125 + 27 = 153\r\n",
    "\r\n",
    "The next number that experiments this particular behaviour is 370 with the same power.\r\n",
    "\r\n",
    "Write the function eq_sum_powdig(), that finds the numbers below a given upper limit hMax (inclusive) that fulfills this property but with different exponents as the power for the digits.\r\n",
    "\r\n",
    "eq_sum_powdig(hMax, exp): ----> sequence of numbers (sorted list) (Number one should not be considered).\r\n",
    "\r\n",
    "Let's see some cases:\r\n",
    "\r\n",
    "```\r\n",
    "eq_sum_powdig(100, 2) ----> []\r\n",
    "eq_sum_powdig(1000, 2) ----> []\r\n",
    "eq_sum_powdig(200, 3) ----> [153]\r\n",
    "eq_sum_powdig(370, 3) ----> [153, 370]\r\n",
    "```\r\n",
    "Enjoy it!"
   ]
  },
  {
   "cell_type": "markdown",
   "id": "086ce673-1950-45a0-961a-b43f6a937af6",
   "metadata": {},
   "source": [
    "### My solution"
   ]
  },
  {
   "cell_type": "code",
   "execution_count": 1,
   "id": "753b59c4-df68-4726-b245-b6ca9765686c",
   "metadata": {},
   "outputs": [],
   "source": [
    "def eq_sum_powdig(hMax, exp):\n",
    "    result = []\n",
    "    cache = {}\n",
    "    \n",
    "    for i in range(10):\n",
    "        cache[str(i)] = i ** exp\n",
    "    \n",
    "    for num in range(2, hMax + 1):\n",
    "        if sum([cache[digit] for digit in str(num)]) == num:\n",
    "            result.append(num)\n",
    "        \n",
    "    return result"
   ]
  },
  {
   "cell_type": "markdown",
   "id": "703855c3-1823-4eea-a381-ce8d0df05002",
   "metadata": {},
   "source": [
    "### Basic tests"
   ]
  },
  {
   "cell_type": "code",
   "execution_count": 2,
   "id": "064c644a-60a5-47f6-bd69-e76cc2ca19e9",
   "metadata": {},
   "outputs": [
    {
     "name": "stdout",
     "output_type": "stream",
     "text": [
      "[]\n",
      "[]\n",
      "[]\n",
      "[153]\n",
      "[153, 370]\n",
      "[153, 370, 371]\n",
      "[153, 370, 371, 407]\n",
      "[153, 370, 371, 407]\n",
      "[153, 370, 371, 407]\n"
     ]
    }
   ],
   "source": [
    "print(eq_sum_powdig(100, 2)) # expects []\n",
    "print(eq_sum_powdig(1000, 2)) # expects []\n",
    "print(eq_sum_powdig(2000, 2)) # expects []\n",
    "print(eq_sum_powdig(200, 3)) # expects [153]\n",
    "print(eq_sum_powdig(370, 3)) # expects [153, 370]\n",
    "print(eq_sum_powdig(400, 3)) # expects [153, 370, 371]\n",
    "print(eq_sum_powdig(500, 3)) # expects [153, 370, 371, 407]\n",
    "print(eq_sum_powdig(1000, 3)) # expects [153, 370, 371, 407]\n",
    "print(eq_sum_powdig(1500, 3)) # expects [153, 370, 371, 407]"
   ]
  }
 ],
 "metadata": {
  "kernelspec": {
   "display_name": "Python 3 (ipykernel)",
   "language": "python",
   "name": "python3"
  },
  "language_info": {
   "codemirror_mode": {
    "name": "ipython",
    "version": 3
   },
   "file_extension": ".py",
   "mimetype": "text/x-python",
   "name": "python",
   "nbconvert_exporter": "python",
   "pygments_lexer": "ipython3",
   "version": "3.12.0"
  }
 },
 "nbformat": 4,
 "nbformat_minor": 5
}
