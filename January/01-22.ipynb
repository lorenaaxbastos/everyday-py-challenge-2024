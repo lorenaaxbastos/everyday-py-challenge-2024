{
 "cells": [
  {
   "cell_type": "markdown",
   "id": "49b4e949-3cac-46ea-b425-f8d31468bb48",
   "metadata": {},
   "source": [
    "> Group of fairly easy exercises\r\n",
    "\r\n",
    "# List less than ten\r\n",
    "\r\n",
    "Date: 01/22/2024.\r\n",
    "From: Practice Python. \r\n",
    "Link to [exercise](https://www.practicepython.org/exercise/2014/02/15/03-list-less-than-ten.html).\r\n",
    "\r\n",
    "### Description\r\n",
    "\r\n",
    "Take a list, say for example this one:\r\n",
    "\r\n",
    "```\r\n",
    "a = [1, 1, 2, 3, 5, 8, 13, 21, 34, 55, 89]\r\n",
    "```\r\n",
    "\r\n",
    "and write a program that prints out all the elements of the list that are less than 5.\r\n",
    "\r\n",
    "**Extras:**\r\n",
    "\r\n",
    "1. Instead of printing the elements one by one, make a new list that has all the elements less than 5 from this list in it and print out this new list.\r\n",
    "2. Write this in one line of Python.\r\n",
    "3. Ask the user for a number and return a list that contains only elements from the original list a that are smaller than that number given by the user."
   ]
  },
  {
   "cell_type": "markdown",
   "id": "23cc47b2-7e45-45b4-a659-510fe7c40d22",
   "metadata": {},
   "source": [
    "### My solution"
   ]
  },
  {
   "cell_type": "code",
   "execution_count": 6,
   "id": "09bd7c43-6b85-4f71-a8e4-aea24dfe0e0d",
   "metadata": {},
   "outputs": [
    {
     "name": "stdin",
     "output_type": "stream",
     "text": [
      "Number:  18\n"
     ]
    },
    {
     "name": "stdout",
     "output_type": "stream",
     "text": [
      "[1, 1, 2, 3, 5, 8, 13]\n"
     ]
    }
   ],
   "source": [
    "a = [1, 1, 2, 3, 5, 8, 13, 21, 34, 55, 89]\n",
    "number = int(input(\"Number: \"))\n",
    "\n",
    "print([el for el in a if el < number])"
   ]
  },
  {
   "cell_type": "markdown",
   "id": "56583259-ca68-464f-874c-f8e00fadbcbe",
   "metadata": {},
   "source": [
    "### Sample solution\r\n",
    "\r\n",
    "[Link](https://www.practicepython.org/solution/2014/02/26/03-list-less-than-ten-solutions.html) to sample solution."
   ]
  },
  {
   "cell_type": "markdown",
   "id": "5afbb31a-6030-4206-8a44-8476bc4e4383",
   "metadata": {},
   "source": [
    "# Divisors\r\n",
    "\r\n",
    "Date: 01/22/2024.\r\n",
    "From: Practice Python. \r\n",
    "Link to [exercise](https://www.practicepython.org/exercise/2014/02/26/04-divisors.html).\r\n",
    "\r\n",
    "### Description\r\n",
    "\r\n",
    "Create a program that asks the user for a number and then prints out a list of all the divisors of that number. (If you don’t know what a divisor is, it is a number that divides evenly into another number. For example, 13 is a divisor of 26 because 26 / 13 has no remainder.)"
   ]
  },
  {
   "cell_type": "markdown",
   "id": "717e449a-a7de-4de3-8980-c2bbc1180b27",
   "metadata": {},
   "source": [
    "### My solution"
   ]
  },
  {
   "cell_type": "code",
   "execution_count": 8,
   "id": "5a163ad2-77d2-4852-a641-cc9e9cd0d7ff",
   "metadata": {},
   "outputs": [
    {
     "name": "stdin",
     "output_type": "stream",
     "text": [
      "Number:  18\n"
     ]
    },
    {
     "name": "stdout",
     "output_type": "stream",
     "text": [
      "[1, 2, 3, 6, 9, 18]\n"
     ]
    }
   ],
   "source": [
    "number = int(input(\"Number: \"))\n",
    "divisors = [i for i in range(1, number + 1) if number % i == 0]\n",
    "\n",
    "print(divisors)"
   ]
  },
  {
   "cell_type": "markdown",
   "id": "d15af014-2c4b-4f63-87d3-990a158b529b",
   "metadata": {},
   "source": [
    "### Sample solution\r\n",
    "\r\n",
    "[Link](https://www.practicepython.org/solution/2014/03/05/04-divisors-solutions.html) to sample solution."
   ]
  },
  {
   "cell_type": "markdown",
   "id": "c830269e-c5a2-416f-ae5b-bd011919dbd2",
   "metadata": {},
   "source": [
    "# List overlap\r\n",
    "\r\n",
    "Date: 01/22/2024.\r\n",
    "From: Practice Python. \r\n",
    "Link to [exercise](https://www.practicepython.org/exercise/2014/03/05/05-list-overlap.html).\r\n",
    "\r\n",
    "### Description\r\n",
    "\r\n",
    "Take two lists, say for example these two:\r\n",
    "\r\n",
    "```\r\n",
    "a = [1, 1, 2, 3, 5, 8, 13, 21, 34, 55, 89]\r\n",
    "b = [1, 2, 3, 4, 5, 6, 7, 8, 9, 10, 11, 12, 13]\r\n",
    "```\r\n",
    "\r\n",
    "and write a program that returns a list that contains only the elements that are common between the lists (without duplicates). Make sure your program works on two lists of different sizes.\r\n",
    "\r\n",
    "**Extras**\r\n",
    "\r\n",
    "1. Randomly generate two lists to test this\r\n",
    "2. Write this in one line of Python (don’t worry if you can’t figure this out at this point - we’ll get to it soon)"
   ]
  },
  {
   "cell_type": "markdown",
   "id": "10b8359e-3e29-4204-8c58-54d8a6dc0a4f",
   "metadata": {},
   "source": [
    "### My solution"
   ]
  },
  {
   "cell_type": "code",
   "execution_count": 20,
   "id": "06586053-b85b-46bc-9383-260961a53425",
   "metadata": {},
   "outputs": [
    {
     "name": "stdout",
     "output_type": "stream",
     "text": [
      "[38, 7, 16, 70, 17, 25, 4, 77, 75, 100, 27, 100, 2, 59, 19, 39, 71, 19, 66, 39]\n",
      "[6, 39, 8, 76, 98, 39, 61, 38, 21, 86, 82, 19, 2, 91, 94, 71, 67]\n"
     ]
    },
    {
     "data": {
      "text/plain": [
       "[2, 38, 71, 39, 19]"
      ]
     },
     "execution_count": 20,
     "metadata": {},
     "output_type": "execute_result"
    }
   ],
   "source": [
    "from random import randint\n",
    "\n",
    "list_1 = [randint(0, 100) for _ in range(randint(0, 20))]\n",
    "list_2 = [randint(0, 100) for _ in range(randint(0, 20))]\n",
    "print(list_1)\n",
    "print(list_2)\n",
    "\n",
    "def common_elements(l1, l2):\n",
    "    return list(set(list_1).intersection(set(list_2)))\n",
    "\n",
    "common_elements(list_1, list_2)"
   ]
  },
  {
   "cell_type": "markdown",
   "id": "4d71167f-08d3-4569-aabc-05733c90e830",
   "metadata": {},
   "source": [
    "### Sample solution\r\n",
    "\r\n",
    "[Link](https://www.practicepython.org/solution/2014/03/19/05-list-overlap-solutions.html) to sample solution."
   ]
  }
 ],
 "metadata": {
  "kernelspec": {
   "display_name": "Python 3 (ipykernel)",
   "language": "python",
   "name": "python3"
  },
  "language_info": {
   "codemirror_mode": {
    "name": "ipython",
    "version": 3
   },
   "file_extension": ".py",
   "mimetype": "text/x-python",
   "name": "python",
   "nbconvert_exporter": "python",
   "pygments_lexer": "ipython3",
   "version": "3.12.0"
  }
 },
 "nbformat": 4,
 "nbformat_minor": 5
}
