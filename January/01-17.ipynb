{
 "cells": [
  {
   "cell_type": "markdown",
   "id": "db3dd8c5-9659-4d42-ad2b-b27e9f9436f3",
   "metadata": {},
   "source": [
    "# Char code calculation\r\n",
    "\r\n",
    "Date: 01/17/2024.\r\n",
    "From: Codewars. \r\n",
    "Link to [exercise](https://www.codewars.com/kata/57f75cc397d62fc93d000059/train/python).\r\n",
    "\r\n",
    "### Description\r\n",
    "\r\n",
    "Given a string, turn each character into its ASCII character code and join them together to create a number - let's call this number total1:\r\n",
    "\r\n",
    "```\r\n",
    "'ABC' --> 'A' = 65, 'B' = 66, 'C' = 67 --> 656667\r\n",
    "```\r\n",
    "\r\n",
    "Then replace any incidence of the number 7 with the number 1, and call this number 'total2':\r\n",
    "\r\n",
    "```\r\n",
    "total1 = 656667\r\n",
    "              ^\r\n",
    "total2 = 656661\r\n",
    "              ^\r\n",
    "```\r\n",
    "\r\n",
    "Then return the difference between the sum of the digits in total1 and total2:\r\n",
    "\r\n",
    "```\r\n",
    "  (6 + 5 + 6 + 6 + 6 + 7)\r\n",
    "- (6 + 5 + 6 + 6 + 6 + 1)\r\n",
    "-------------------------\r\n",
    "                       6\r\n",
    "```"
   ]
  },
  {
   "cell_type": "markdown",
   "id": "dfcab345-7634-4d7a-aa3a-ff09830858b8",
   "metadata": {},
   "source": [
    "### My solution"
   ]
  },
  {
   "cell_type": "code",
   "execution_count": 1,
   "id": "970f46e7-5d03-4c4d-8919-6ce011c94d86",
   "metadata": {},
   "outputs": [],
   "source": [
    "def calc(s):\n",
    "    total_1 = [int(digit) for digit in \"\".join(str(ord(letter)) for letter in s)]\n",
    "    total_2 = [1 if digit == 7 else digit for digit in total_1]\n",
    "    return sum(total_1) - sum(total_2)"
   ]
  },
  {
   "cell_type": "markdown",
   "id": "afa17034-b5fe-403b-8c80-85ca8530e7f1",
   "metadata": {},
   "source": [
    "### Basic tests"
   ]
  },
  {
   "cell_type": "code",
   "execution_count": 2,
   "id": "d616f585-567e-4668-838d-12fbcd68ce7f",
   "metadata": {},
   "outputs": [
    {
     "name": "stdout",
     "output_type": "stream",
     "text": [
      "6\n",
      "6\n",
      "30\n",
      "6\n",
      "12\n"
     ]
    }
   ],
   "source": [
    "print(calc('abcdef')) # expects 6\n",
    "print(calc('ifkhchlhfd')) # expects 6\n",
    "print(calc('aaaaaddddr')) # expects 30\n",
    "print(calc('jfmgklf8hglbe')) # expects 6\n",
    "print(calc('jaam')) # expects 12"
   ]
  }
 ],
 "metadata": {
  "kernelspec": {
   "display_name": "Python 3 (ipykernel)",
   "language": "python",
   "name": "python3"
  },
  "language_info": {
   "codemirror_mode": {
    "name": "ipython",
    "version": 3
   },
   "file_extension": ".py",
   "mimetype": "text/x-python",
   "name": "python",
   "nbconvert_exporter": "python",
   "pygments_lexer": "ipython3",
   "version": "3.12.0"
  }
 },
 "nbformat": 4,
 "nbformat_minor": 5
}
