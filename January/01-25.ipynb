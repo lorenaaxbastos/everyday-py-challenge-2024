{
 "cells": [
  {
   "cell_type": "markdown",
   "id": "52d7af0a-779c-4338-bc80-089af33561e0",
   "metadata": {},
   "source": [
    "# Max diff (easy)\r\n",
    "\r\n",
    "Date: 01/25/2024.\r\n",
    "From: Codewars. \r\n",
    "Link to [exercise](https://www.codewars.com/kata/588a3c3ef0fbc9c8e1000095/train/python).\r\n",
    "\r\n",
    "### Description\r\n",
    "\r\n",
    "You must implement a function that returns the difference between the largest and the smallest value in a given list / array (lst) received as the parameter.\r\n",
    "\r\n",
    "- lst contains integers, that means it may contain some negative numbers\r\n",
    "- if lst is empty or contains a single element, return 0\r\n",
    "- lst is not sorted\r\n",
    "\r\n",
    "```\r\n",
    "[1, 2, 3, 4]   //  returns 3 because 4 -   1  == 3\r\n",
    "[1, 2, 3, -4]  //  returns 7 because 3 - (-4) == 7\r\n",
    "```\r\n",
    "\r\n",
    "Have fun!"
   ]
  },
  {
   "cell_type": "markdown",
   "id": "2226bad1-f57a-4892-91b4-bbe5e8b7de18",
   "metadata": {},
   "source": [
    "### My solution"
   ]
  },
  {
   "cell_type": "code",
   "execution_count": 1,
   "id": "35c64b59-753d-4853-86e8-787a883d9362",
   "metadata": {},
   "outputs": [],
   "source": [
    "def max_diff(lst):\n",
    "    pass"
   ]
  },
  {
   "cell_type": "markdown",
   "id": "e31e1edc-43cc-4953-aa7b-e3bff4dc0a0a",
   "metadata": {},
   "source": [
    "### Basic tests"
   ]
  },
  {
   "cell_type": "code",
   "execution_count": 2,
   "id": "3c03f763-23c4-47e0-a72d-eda6984e4c43",
   "metadata": {},
   "outputs": [
    {
     "name": "stdout",
     "output_type": "stream",
     "text": [
      "None\n",
      "None\n",
      "None\n",
      "None\n",
      "None\n"
     ]
    }
   ],
   "source": [
    "print(max_diff([0, 1, 2, 3, 4, 5, 6])) # expects 6\n",
    "print(max_diff([-0, 1, 2, -3, 4, 5, -6])) # expects 11\n",
    "print(max_diff([0, 1, 2, 3, 4, 5, 16])) # expects 16\n",
    "print(max_diff([16])) # expects 0\n",
    "print(max_diff([])) # expects 0"
   ]
  }
 ],
 "metadata": {
  "kernelspec": {
   "display_name": "Python 3 (ipykernel)",
   "language": "python",
   "name": "python3"
  },
  "language_info": {
   "codemirror_mode": {
    "name": "ipython",
    "version": 3
   },
   "file_extension": ".py",
   "mimetype": "text/x-python",
   "name": "python",
   "nbconvert_exporter": "python",
   "pygments_lexer": "ipython3",
   "version": "3.12.0"
  }
 },
 "nbformat": 4,
 "nbformat_minor": 5
}
