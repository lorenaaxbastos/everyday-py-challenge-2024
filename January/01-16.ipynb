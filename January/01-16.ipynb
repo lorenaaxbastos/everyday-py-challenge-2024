{
 "cells": [
  {
   "cell_type": "markdown",
   "id": "7ea75c4f-073d-4d3a-ada0-4c79cffca08c",
   "metadata": {},
   "source": [
    "# Highest rank number in an array\r\n",
    "\r\n",
    "Date: 01/16/2024.\r\n",
    "From: Codewars. \r\n",
    "Link to [exercise](hhttps://www.codewars.com/kata/5420fc9bb5b2c7fd57000004/python).\r\n",
    "\r\n",
    "### Description\r\n",
    "\r\n",
    "Complete the method which returns the number which is most frequent in the given input array. If there is a tie for most frequent number, return the largest number among them.\r\n",
    "\r\n",
    "Note: no empty arrays will be given.\r\n",
    "\r\n",
    "**Examples**\r\n",
    "\r\n",
    "```\r\n",
    "[12, 10, 8, 12, 7, 6, 4, 10, 12]              -->  12\r\n",
    "[12, 10, 8, 12, 7, 6, 4, 10, 12, 10]          -->  12\r\n",
    "[12, 10, 8, 8, 3, 3, 3, 3, 2, 4, 10, 12, 10]  -->   3\r\n",
    "```"
   ]
  },
  {
   "cell_type": "markdown",
   "id": "0fb6ac0b-9ce1-4034-bb89-109d8540d6fc",
   "metadata": {},
   "source": [
    "### My solution"
   ]
  },
  {
   "cell_type": "code",
   "execution_count": 7,
   "id": "0838d246-cb9a-4d83-a6e0-12eab708a0ae",
   "metadata": {},
   "outputs": [],
   "source": [
    "def highest_rank(arr):\n",
    "    return sorted(arr, key=lambda num: (arr.count(num), num))[-1]"
   ]
  },
  {
   "cell_type": "markdown",
   "id": "9f1277be-a960-4139-b8f9-0f429a0844c4",
   "metadata": {},
   "source": [
    "### Basic tests"
   ]
  },
  {
   "cell_type": "code",
   "execution_count": 8,
   "id": "08ed074e-c1f2-42fc-9cb5-07972bbe53dd",
   "metadata": {},
   "outputs": [
    {
     "name": "stdout",
     "output_type": "stream",
     "text": [
      "12\n",
      "10\n",
      "12\n",
      "3\n",
      "3\n",
      "1\n",
      "2\n"
     ]
    }
   ],
   "source": [
    "print(highest_rank([12, 10, 8, 12, 7, 6, 4, 10, 12])) # expects 12\n",
    "print(highest_rank([12, 10, 8, 12, 7, 6, 4, 10, 10])) # expects 10\n",
    "print(highest_rank([12, 10, 8, 12, 7, 6, 4, 10, 12, 10])) # expects 12\n",
    "print(highest_rank([12, 10, 8, 8, 3, 3, 3, 3, 2, 4, 10, 12, 10])) # expects 3\n",
    "print(highest_rank([1, 2, 3])) # expects 3\n",
    "print(highest_rank([1, 1, 2, 3])) # expects 1\n",
    "print(highest_rank([1, 1, 2, 2, 3])) # expects 2"
   ]
  }
 ],
 "metadata": {
  "kernelspec": {
   "display_name": "Python 3 (ipykernel)",
   "language": "python",
   "name": "python3"
  },
  "language_info": {
   "codemirror_mode": {
    "name": "ipython",
    "version": 3
   },
   "file_extension": ".py",
   "mimetype": "text/x-python",
   "name": "python",
   "nbconvert_exporter": "python",
   "pygments_lexer": "ipython3",
   "version": "3.12.0"
  }
 },
 "nbformat": 4,
 "nbformat_minor": 5
}
