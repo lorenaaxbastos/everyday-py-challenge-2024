{
 "cells": [
  {
   "cell_type": "markdown",
   "id": "9fa941e0-d994-4cd2-9c98-7c99d3f0e29d",
   "metadata": {},
   "source": [
    "# Find the nth digit of a number\n",
    "\n",
    "Date: 01/26/2024.\n",
    "From: Codewars. \n",
    "Link to [exercise](https://www.codewars.com/kata/577b9960df78c19bca00007e/train/python).\n",
    "\n",
    "### Description\n",
    "\n",
    "Complete the function that takes two numbers as input, num and nth and return the nth digit of num (counting from right to left).\n",
    "\n",
    "**Note**\n",
    "\n",
    "- If num is negative, ignore its sign and treat it as a positive value\n",
    "- If nth is not positive, return -1\n",
    "- Keep in mind that 42 = 00042. This means that findDigit(42, 5) would return 0\n",
    "\n",
    "**Examples**\n",
    "\n",
    "(num, nth --> output)\n",
    "\n",
    "```\n",
    "5673, 4 --> 5\n",
    "129, 2 --> 2\n",
    "-2825, 3 --> 8\n",
    "-456, 4 --> 0\n",
    "0, 20 --> 0\n",
    "65, 0 --> -1\n",
    "24, -8 --> -1\n",
    "```"
   ]
  },
  {
   "cell_type": "markdown",
   "id": "caca061f-6272-4121-af83-f44b25c263ad",
   "metadata": {},
   "source": [
    "### My solution"
   ]
  },
  {
   "cell_type": "code",
   "execution_count": 7,
   "id": "20270909-6d50-4a43-9295-b83d185b520f",
   "metadata": {},
   "outputs": [],
   "source": [
    "def find_digit(num, nth):\n",
    "    if num < 0:\n",
    "        num *= -1\n",
    "    if nth <= 0:\n",
    "        return -1\n",
    "    if nth > len(str(num)):\n",
    "        return 0\n",
    "    return int(str(num)[::-1][nth - 1])"
   ]
  },
  {
   "cell_type": "markdown",
   "id": "b276f380-9225-4341-a4f8-61cb9f73150c",
   "metadata": {},
   "source": [
    "### Basic tests"
   ]
  },
  {
   "cell_type": "code",
   "execution_count": 8,
   "id": "5f5efaf9-d948-4af0-9a15-ccf8ce4bc7e4",
   "metadata": {},
   "outputs": [
    {
     "name": "stdout",
     "output_type": "stream",
     "text": [
      "5\n",
      "2\n",
      "8\n",
      "0\n",
      "-1\n",
      "-1\n",
      "0\n",
      "3\n",
      "0\n",
      "-1\n",
      "-1\n",
      "-1\n"
     ]
    }
   ],
   "source": [
    "print(find_digit(5673, 4)) # expects 5\n",
    "print(find_digit(129, 2)) # expects 2\n",
    "print(find_digit(-2825, 3)) # expects 8\n",
    "print(find_digit(0, 20)) # expects 0\n",
    "print(find_digit(65, 0)) # expects -1\n",
    "print(find_digit(24, -8)) # expects -1\n",
    "print(find_digit(-456, 5)) # expects 0\n",
    "print(find_digit(-1234, 2)) # expects 3\n",
    "print(find_digit(-5540, 1)) # expects 0\n",
    "print(find_digit(678998, 0)) # expects -1\n",
    "print(find_digit(-67854, -57)) # expects -1\n",
    "print(find_digit(0, -3)) # expects -1"
   ]
  }
 ],
 "metadata": {
  "kernelspec": {
   "display_name": "Python 3 (ipykernel)",
   "language": "python",
   "name": "python3"
  },
  "language_info": {
   "codemirror_mode": {
    "name": "ipython",
    "version": 3
   },
   "file_extension": ".py",
   "mimetype": "text/x-python",
   "name": "python",
   "nbconvert_exporter": "python",
   "pygments_lexer": "ipython3",
   "version": "3.12.0"
  }
 },
 "nbformat": 4,
 "nbformat_minor": 5
}
