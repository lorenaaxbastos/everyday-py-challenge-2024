{
 "cells": [
  {
   "cell_type": "markdown",
   "id": "b3c1bfc1-a064-4672-9b1c-3fb6d1fdd269",
   "metadata": {},
   "source": [
    "# Moves in squared strings (I)\r\n",
    "\r\n",
    "Date: 01/24/2024.\r\n",
    "From: Codewars. \r\n",
    "Link to [exercise](https://www.codewars.com/kata/56dbe0e313c2f63be4000b25/train/python).\r\n",
    "\r\n",
    "### Description\r\n",
    "\r\n",
    "This kata is the first of a sequence of four about \"Squared Strings\".\r\n",
    "\r\n",
    "You are given a string of `n` lines, each substring being `n` characters long: For example: `s = \"abcd\\nefgh\\nijkl\\nmnop\"`\r\n",
    "\r\n",
    "We will study some transformations of this square of strings.\r\n",
    "\r\n",
    "**Vertical mirror: vert_mirror (or vertMirror or vert-mirror)**\r\n",
    "\r\n",
    "```\r\n",
    "vert_mirror(s) => \"dcba\\nhgfe\\nlkji\\nponm\"\r\n",
    "```\r\n",
    "\r\n",
    "**Horizontal mirror: hor_mirror (or horMirror or hor-mirror)**\r\n",
    "\r\n",
    "```\r\n",
    "hor_mirror(s) => \"mnop\\nijkl\\nefgh\\nabcd\"\r\n",
    "```\r\n",
    "\r\n",
    "or printed:\r\n",
    "\r\n",
    "```\r\n",
    "vertical mirror   |horizontal mirror   \r\n",
    "abcd --> dcba     |abcd --> mnop \r\n",
    "efgh     hgfe     |efgh     ijkl \r\n",
    "ijkl     lkji     |ijkl     efgh \r\n",
    "mnop     ponm     |mnop     abcd \r\n",
    "```\r\n",
    "\r\n",
    "### Task\r\n",
    "\r\n",
    "- Write these two functions\r\n",
    "\r\n",
    "and\r\n",
    "\r\n",
    "- high-order function oper(fct, s) where\r\n",
    "- fct is the function of one variable f to apply to the string s (fct will be one of vertMirror, horMirror)\r\n",
    "\r\n",
    "**Examples**\r\n",
    "\r\n",
    "```\r\n",
    "s = \"abcd\\nefgh\\nijkl\\nmnop\"\r\n",
    "oper(vert_mirror, s) => \"dcba\\nhgfe\\nlkji\\nponm\"\r\n",
    "oper(hor_mirror, s) => \"mnop\\nijkl\\nefgh\\nabcd\"\r\n",
    "```"
   ]
  },
  {
   "cell_type": "markdown",
   "id": "4c1ac83d-026b-4ad2-a5c1-cc57cdd3206b",
   "metadata": {},
   "source": [
    "### My solution"
   ]
  },
  {
   "cell_type": "code",
   "execution_count": 1,
   "id": "64aa1174-7aa3-4514-85cf-332cd6995a50",
   "metadata": {},
   "outputs": [],
   "source": [
    "def vert_mirror(strng):\n",
    "    return \"\\n\".join(line[::-1] for line in strng.split(\"\\n\"))\n",
    "    \n",
    "def hor_mirror(strng):\n",
    "    return \"\\n\".join(strng.split(\"\\n\")[::-1])\n",
    "    \n",
    "def oper(fct, s):\n",
    "    return fct(s)"
   ]
  },
  {
   "cell_type": "markdown",
   "id": "72714288-93a7-4c3d-9a02-2250d700f8d3",
   "metadata": {},
   "source": [
    "### Basic Tests"
   ]
  },
  {
   "cell_type": "code",
   "execution_count": 2,
   "id": "973ad88c-ef0e-4367-908a-bfc673af5631",
   "metadata": {},
   "outputs": [
    {
     "name": "stdout",
     "output_type": "stream",
     "text": [
      "QHdgSh\n",
      "oaMDnH\n",
      "XxNNlC\n",
      "HxxvRi\n",
      "AvVTqb\n",
      "uRySvw \n",
      "\n",
      "EWTOzI\n",
      "MCebkk\n",
      "MxZzuW\n",
      "wJddDv\n",
      "FHyJij\n",
      "xSfHVP \n",
      "\n",
      "WQuc\n",
      "DuOx\n",
      "pwZf\n",
      "xFqe \n",
      "\n",
      "olodIGDC\n",
      "gIrfXtsU\n",
      "LWxvjqMt\n",
      "mAnCuyEB\n",
      "aREEaxsx\n",
      "SZiOvsZx\n",
      "EXRBltuL\n",
      "Eqbhhsxt \n",
      "\n",
      "yeCt\n",
      "CSbg\n",
      "JVhv\n",
      "lVHt \n",
      "\n",
      "cEYz\n",
      "LPKo\n",
      "dbrZ\n",
      "njMK \n",
      "\n",
      "owoq\n",
      "WLUG\n",
      "tmFe\n",
      "QMxo \n",
      "\n",
      "QoSy\n",
      "uGef\n",
      "dZQn\n",
      "FYvi \n",
      "\n"
     ]
    }
   ],
   "source": [
    "print(oper(vert_mirror, \"hSgdHQ\\nHnDMao\\nClNNxX\\niRvxxH\\nbqTVvA\\nwvSyRu\"), \"\\n\") # expects \"QHdgSh\\noaMDnH\\nXxNNlC\\nHxxvRi\\nAvVTqb\\nuRySvw\"\n",
    "print(oper(vert_mirror, \"IzOTWE\\nkkbeCM\\nWuzZxM\\nvDddJw\\njiJyHF\\nPVHfSx\"), \"\\n\") # expects \"EWTOzI\\nMCebkk\\nMxZzuW\\nwJddDv\\nFHyJij\\nxSfHVP\"\n",
    "print(oper(vert_mirror, \"cuQW\\nxOuD\\nfZwp\\neqFx\"), \"\\n\") # expects \"WQuc\\nDuOx\\npwZf\\nxFqe\"\n",
    "print(oper(vert_mirror, \"CDGIdolo\\nUstXfrIg\\ntMqjvxWL\\nBEyuCnAm\\nxsxaEERa\\nxZsvOiZS\\nLutlBRXE\\ntxshhbqE\"), \"\\n\") # expects \"olodIGDC\\ngIrfXtsU\\nLWxvjqMt\\nmAnCuyEB\\naREEaxsx\\nSZiOvsZx\\nEXRBltuL\\nEqbhhsxt\"\n",
    "print(oper(hor_mirror, \"lVHt\\nJVhv\\nCSbg\\nyeCt\"), \"\\n\") # expects \"yeCt\\nCSbg\\nJVhv\\nlVHt\"\n",
    "print(oper(hor_mirror, \"njMK\\ndbrZ\\nLPKo\\ncEYz\"), \"\\n\") # expects \"cEYz\\nLPKo\\ndbrZ\\nnjMK\"\n",
    "print(oper(hor_mirror, \"QMxo\\ntmFe\\nWLUG\\nowoq\"), \"\\n\") # expects \"owoq\\nWLUG\\ntmFe\\nQMxo\"\n",
    "print(oper(hor_mirror, \"FYvi\\ndZQn\\nuGef\\nQoSy\"), \"\\n\") # expects \"QoSy\\nuGef\\ndZQn\\nFYvi\""
   ]
  }
 ],
 "metadata": {
  "kernelspec": {
   "display_name": "Python 3 (ipykernel)",
   "language": "python",
   "name": "python3"
  },
  "language_info": {
   "codemirror_mode": {
    "name": "ipython",
    "version": 3
   },
   "file_extension": ".py",
   "mimetype": "text/x-python",
   "name": "python",
   "nbconvert_exporter": "python",
   "pygments_lexer": "ipython3",
   "version": "3.12.0"
  }
 },
 "nbformat": 4,
 "nbformat_minor": 5
}
