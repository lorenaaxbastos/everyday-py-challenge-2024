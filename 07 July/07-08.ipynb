{
 "cells": [
  {
   "cell_type": "markdown",
   "id": "36bf23d6-7612-442f-8ca8-1bff38e0e213",
   "metadata": {},
   "source": [
    "# Simple Pig Latin\n",
    "\n",
    "Date: 07/08/2024.\n",
    "From: Codewars.\n",
    "Link to [kata](https://www.codewars.com/kata/520b9d2ad5c005041100000f/train/python).\n",
    "\n",
    "### Description\n",
    "\n",
    "Move the first letter of each word to the end of it, then add \"ay\" to the end of the word. Leave punctuation marks untouched.\n",
    "\n",
    "**Examples**\n",
    "\n",
    "```python\n",
    "pig_it('Pig latin is cool') # igPay atinlay siay oolcay\n",
    "pig_it('Hello world !')     # elloHay orldway !\n",
    "```\n",
    "\n",
    "### My solution"
   ]
  },
  {
   "cell_type": "code",
   "execution_count": 3,
   "id": "c41a553b-eb2c-4d87-adfe-67b2743bff95",
   "metadata": {},
   "outputs": [],
   "source": [
    "from string import punctuation\n",
    "\n",
    "def pig_it(text):\n",
    "    return \" \".join(f\"{word[1:]}{word[0]}ay\" if word not in punctuation else word for word in text.split())"
   ]
  },
  {
   "cell_type": "markdown",
   "id": "7e360803-0dbb-4000-89d8-7f9168e80e9b",
   "metadata": {},
   "source": [
    "### Basic tests"
   ]
  },
  {
   "cell_type": "code",
   "execution_count": 4,
   "id": "789742bd-980d-43a3-9b53-acae6b42d318",
   "metadata": {},
   "outputs": [
    {
     "name": "stdout",
     "output_type": "stream",
     "text": [
      "True\n",
      "True\n"
     ]
    }
   ],
   "source": [
    "print(pig_it('Pig latin is cool') == 'igPay atinlay siay oolcay')\n",
    "print(pig_it('This is my string') == 'hisTay siay ymay tringsay')"
   ]
  }
 ],
 "metadata": {
  "kernelspec": {
   "display_name": "Python 3 (ipykernel)",
   "language": "python",
   "name": "python3"
  },
  "language_info": {
   "codemirror_mode": {
    "name": "ipython",
    "version": 3
   },
   "file_extension": ".py",
   "mimetype": "text/x-python",
   "name": "python",
   "nbconvert_exporter": "python",
   "pygments_lexer": "ipython3",
   "version": "3.12.2"
  }
 },
 "nbformat": 4,
 "nbformat_minor": 5
}
