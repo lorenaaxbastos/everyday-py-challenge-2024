{
 "cells": [
  {
   "cell_type": "markdown",
   "id": "1c9f2832-d16c-4e3b-974c-7ec1fedd5960",
   "metadata": {},
   "source": [
    "# The District Skylines\n",
    "\n",
    "Date: 07/06/2024.\n",
    "From: Codewars.\n",
    "Link to [kata](https://www.codewars.com/kata/64b68be69416790026fbdba2/train/python).\n",
    "\n",
    "### Description\n",
    "\n",
    "The function is given a rectangular grid of buildings height. One can look from the left and from the top to the district and see vertical and horizontal skylines. Each shorter building can be increased in such a way such that the two skylines are not affected. Determine the total maximum increase in all buildings whenever possible.\n",
    "\n",
    "**Examples**\n",
    "\n",
    "```\n",
    "max_increase([[0, 1], [1, 0]]) ➞ 2\n",
    "# Vertical and Horizontal skylines are [1, 1].\n",
    "# Thus each 0 can be increased by 1.\n",
    "\n",
    "max_increase([[2, 1, 1], [1, 1, 0], [2, 0, 1]]) ➞ 2\n",
    "# Vertical skyline is [2, 1, 2]\n",
    "# Horizontal skyline is [2, 1, 1]\n",
    "\n",
    "max_increase([[0, 1, 1], [0, 3, 1], [2, 2, 3]]) ➞ 6\n",
    "# Vertical skyline is [1, 3, 3]\n",
    "# Horizontal skyline is [2, 3, 3]\n",
    "```\n",
    "\n",
    "**Input constraints**\n",
    "\n",
    "matrix size will always be n x n where 2<=n<=100)\n",
    "\n",
    "### My solution"
   ]
  },
  {
   "cell_type": "code",
   "execution_count": 1,
   "id": "f1d2971d-2021-4d8e-90f1-fdc93836673b",
   "metadata": {},
   "outputs": [],
   "source": [
    "import numpy as np\n",
    "\n",
    "def max_increase(grid):\n",
    "    grid = np.array(grid)\n",
    "    skyline_v = np.max(grid, axis=1)\n",
    "    skyline_h = np.max(grid, axis=0)\n",
    "    \n",
    "    accum = 0\n",
    "    \n",
    "    for i in range(len(grid)):\n",
    "        compare_v = skyline_v[i]\n",
    "        for j in range(len(grid[0])):\n",
    "            compare_h = skyline_h[j]\n",
    "            build_height = grid[i][j]\n",
    "            while build_height < compare_h and build_height < compare_v:\n",
    "                build_height += 1\n",
    "                accum += 1\n",
    "    \n",
    "    return accum"
   ]
  },
  {
   "cell_type": "markdown",
   "id": "8cfa9706-db3b-4cdd-ba13-764715336ca4",
   "metadata": {},
   "source": [
    "### Basic tests"
   ]
  },
  {
   "cell_type": "code",
   "execution_count": 2,
   "id": "79696146-7b42-4e2e-b392-de8875cb58af",
   "metadata": {},
   "outputs": [
    {
     "name": "stdout",
     "output_type": "stream",
     "text": [
      "True\n",
      "True\n",
      "True\n"
     ]
    }
   ],
   "source": [
    "print(max_increase([[0, 1], [1, 0]]) == 2)\n",
    "print(max_increase([[2, 1, 1], [1, 1, 0], [2, 0, 1]]) == 2)\n",
    "print(max_increase([[0, 1, 1], [0, 3, 1], [2, 2, 3]]) == 6)"
   ]
  }
 ],
 "metadata": {
  "kernelspec": {
   "display_name": "Python 3 (ipykernel)",
   "language": "python",
   "name": "python3"
  },
  "language_info": {
   "codemirror_mode": {
    "name": "ipython",
    "version": 3
   },
   "file_extension": ".py",
   "mimetype": "text/x-python",
   "name": "python",
   "nbconvert_exporter": "python",
   "pygments_lexer": "ipython3",
   "version": "3.12.1"
  }
 },
 "nbformat": 4,
 "nbformat_minor": 5
}
