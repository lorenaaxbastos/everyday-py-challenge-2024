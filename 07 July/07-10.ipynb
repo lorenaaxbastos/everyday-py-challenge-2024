{
 "cells": [
  {
   "cell_type": "markdown",
   "id": "b4d8b94a-bb33-43ef-ac6b-e6b450740a54",
   "metadata": {},
   "source": [
    "# Difference Of Squares\n",
    "\n",
    "Date: 07/10/2024.\n",
    "From: Codewars.\n",
    "Link to [kata](https://www.codewars.com/kata/558f9f51e85b46e9fa000025/train/python).\n",
    "\n",
    "### Description\n",
    "\n",
    "Find the difference between the square of the sum of the first n natural numbers (1 <= n <= 100) and the sum of their squares.\n",
    "\n",
    "**Example**\n",
    "\n",
    "For example, when n = 10:\n",
    "\n",
    "- The square of the sum of the numbers is:\n",
    "\n",
    "```\n",
    "(1 + 2 + 3 + 4 + 5 + 6 + 7 + 8 + 9 + 10)² = 55² = 3025\n",
    "```\n",
    "\n",
    "- The sum of the squares of the numbers is:\n",
    "\n",
    "```\n",
    "1² + 2² + 3² + 4² + 5² + 6² + 7² + 8² + 9² + 10² = 385\n",
    "```\n",
    "\n",
    "Hence the difference between square of the sum of the first ten natural numbers and the sum of the squares of those numbers is: 3025 - 385 = 2640\n",
    "\n",
    "### My solution"
   ]
  },
  {
   "cell_type": "code",
   "execution_count": 1,
   "id": "6579e8ef-3c9b-4763-8e7c-fb42088cbc9d",
   "metadata": {},
   "outputs": [],
   "source": [
    "def difference_of_squares(n):\n",
    "    pass"
   ]
  },
  {
   "cell_type": "markdown",
   "id": "3c16788f-3d2f-47bd-946e-082e398542be",
   "metadata": {},
   "source": [
    "### Basic tests"
   ]
  },
  {
   "cell_type": "code",
   "execution_count": 2,
   "id": "f4f65545-a13c-4882-a368-a41dc89b78e6",
   "metadata": {},
   "outputs": [
    {
     "name": "stdout",
     "output_type": "stream",
     "text": [
      "False\n",
      "False\n",
      "False\n"
     ]
    }
   ],
   "source": [
    "print(difference_of_squares(5) == 170)\n",
    "print(difference_of_squares(10) == 2640)\n",
    "print(difference_of_squares(100) == 251641500)"
   ]
  }
 ],
 "metadata": {
  "kernelspec": {
   "display_name": "Python 3 (ipykernel)",
   "language": "python",
   "name": "python3"
  },
  "language_info": {
   "codemirror_mode": {
    "name": "ipython",
    "version": 3
   },
   "file_extension": ".py",
   "mimetype": "text/x-python",
   "name": "python",
   "nbconvert_exporter": "python",
   "pygments_lexer": "ipython3",
   "version": "3.12.2"
  }
 },
 "nbformat": 4,
 "nbformat_minor": 5
}
