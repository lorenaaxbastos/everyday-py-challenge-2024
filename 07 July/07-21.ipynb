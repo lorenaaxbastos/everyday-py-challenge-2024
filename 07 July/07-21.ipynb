{
 "cells": [
  {
   "cell_type": "markdown",
   "id": "cf3ab243-7b09-4b4b-8343-89849df65420",
   "metadata": {},
   "source": [
    "# Find The Parity Outlier\n",
    "\n",
    "Date: 07/21/2024.\n",
    "From: Codewars.\n",
    "Link to [kata](https://www.codewars.com/kata/5526fc09a1bbd946250002dc/train/python).\n",
    "\n",
    "### Description\n",
    "\n",
    "You are given an array (which will have a length of at least 3, but could be very large) containing integers. The array is either entirely comprised of odd integers or entirely comprised of even integers except for a single integer N. Write a method that takes the array as an argument and returns this \"outlier\" N.\n",
    "\n",
    "**Examples**\n",
    "\n",
    "```\n",
    "[2, 4, 0, 100, 4, 11, 2602, 36] -->  11 (the only odd number)\n",
    "\n",
    "[160, 3, 1719, 19, 11, 13, -21] --> 160 (the only even number)\n",
    "```\n",
    "\n",
    "### My solution"
   ]
  },
  {
   "cell_type": "code",
   "execution_count": 3,
   "id": "5bd24e82-dba2-412c-bd12-c76e2f751a08",
   "metadata": {},
   "outputs": [],
   "source": [
    "def find_outlier(integers):\n",
    "    evens = filter(lambda n: n % 2 == 0, integers)\n",
    "    odds = filter(lambda n: n % 2 != 0, integers)\n",
    "    return min([list(odds), list(evens)], key=len)[0]"
   ]
  },
  {
   "cell_type": "markdown",
   "id": "04a6094e-cf24-432f-938c-4691dfddf4b5",
   "metadata": {},
   "source": [
    "### Basic tests"
   ]
  },
  {
   "cell_type": "code",
   "execution_count": 4,
   "id": "14847d3c-e580-4fe5-b92f-1fca8b7e9f35",
   "metadata": {},
   "outputs": [
    {
     "name": "stdout",
     "output_type": "stream",
     "text": [
      "True\n",
      "True\n",
      "True\n",
      "True\n",
      "True\n",
      "True\n",
      "True\n",
      "True\n",
      "True\n",
      "True\n",
      "True\n",
      "True\n",
      "True\n",
      "True\n",
      "True\n",
      "True\n"
     ]
    }
   ],
   "source": [
    "print(find_outlier([2, 4, 6, 8, 10, 3]) == 3)\n",
    "print(find_outlier([2, 4, 0, 100, 4, 11, 2602, 36]) == 11)\n",
    "print(find_outlier([160, 3, 1719, 19, 11, 13, -21]) == 160)\n",
    "\n",
    "ints1 = [2,6,8,10,3]; # odd at the back\n",
    "ints2 = [2,6,8,200,700,1,84,10,4]; # odd in the middle\n",
    "ints3 = [17,6,8,10,6,12,24,36]; # odd in the front\n",
    "ints4 = [2,1,7,17,19,211,7]; # even in the front\n",
    "ints5 = [1,1,1,1,1,44,7,7,7,7,7,7,7,7]; # even in the middle\n",
    "ints6 = [3,3,3,3,3,3,3,3,3,3,3,3,3,3,35,5,5,5,5,5,5,5,5,5,5,7,7,7,7,1000]; # even at the end\n",
    "ints7 = [2,-6,8,-10,-3]; # odd at the back, negative\n",
    "ints8 = [2,6,8,2,-66,34,-35,66,700,1002,-84,10,4]; # odd in the middle, negative\n",
    "ints9 = [-123456789,-18,6,-8,-10,6,12,-24,36]; # odd in the front, negative\n",
    "ints10 = [-20,1,7,17,19,211,7]; # even in the front, negative\n",
    "ints11= [1,1,-1,1,1,-44,7,7,7,7,7,7,7,7]; # even in the middle, negative\n",
    "ints12 = [1,0,0]; # odd answer, zeroes\n",
    "ints13 = [3,7,-99,81,90211,0,7]; # even in the middle, zero\n",
    "\n",
    "inputs = [ints1, ints2, ints3, ints4, ints5, ints6, ints7, ints8, ints9, ints10, ints11, ints12, ints13]\n",
    "expected = [3, 1, 17, 2, 44, 1000, -3, -35, -123456789, -20, -44, 1, 0]\n",
    "\n",
    "for i, (ins, e) in enumerate(zip(inputs, expected)):\n",
    "    print(find_outlier(ins) == e)"
   ]
  }
 ],
 "metadata": {
  "kernelspec": {
   "display_name": "Python 3 (ipykernel)",
   "language": "python",
   "name": "python3"
  },
  "language_info": {
   "codemirror_mode": {
    "name": "ipython",
    "version": 3
   },
   "file_extension": ".py",
   "mimetype": "text/x-python",
   "name": "python",
   "nbconvert_exporter": "python",
   "pygments_lexer": "ipython3",
   "version": "3.12.4"
  }
 },
 "nbformat": 4,
 "nbformat_minor": 5
}
