{
 "cells": [
  {
   "cell_type": "markdown",
   "id": "29c1f5e7-a95d-413b-8485-cf0ab1a3468f",
   "metadata": {},
   "source": [
    "# Moves in squared strings (II)\n",
    "\n",
    "Date: 07/11/2024.\n",
    "From: Codewars.\n",
    "Link to [kata](https://www.codewars.com/kata/56dbe7f113c2f63570000b86/train/python).\n",
    "\n",
    "### Description\n",
    "\n",
    "You are given a string of n lines, each substring being n characters long: For example:\n",
    "\n",
    "`s = \"abcd\\nefgh\\nijkl\\nmnop\"`\n",
    "\n",
    "We will study some transformations of this square of strings.\n",
    "\n",
    "- Clock rotation 180 degrees: rot\n",
    "\n",
    "```\n",
    "rot(s) => \"ponm\\nlkji\\nhgfe\\ndcba\"\n",
    "```\n",
    "\n",
    "- selfie_and_rot(s) (or selfieAndRot or selfie-and-rot) It is initial string + string obtained by clock rotation 180 degrees with dots interspersed in order (hopefully) to better show the rotation when printed.\n",
    "\n",
    "```\n",
    "s = \"abcd\\nefgh\\nijkl\\nmnop\" --> \n",
    "\"abcd....\\nefgh....\\nijkl....\\nmnop....\\n....ponm\\n....lkji\\n....hgfe\\n....dcba\"\n",
    "```\n",
    "\n",
    "or printed:\n",
    "\n",
    "```\n",
    "|rotation        |selfie_and_rot\n",
    "|abcd --> ponm   |abcd --> abcd....\n",
    "|efgh     lkji   |efgh     efgh....\n",
    "|ijkl     hgfe   |ijkl     ijkl....   \n",
    "|mnop     dcba   |mnop     mnop....\n",
    "                           ....ponm\n",
    "                           ....lkji\n",
    "                           ....hgfe\n",
    "                           ....dcba\n",
    "```\n",
    "\n",
    "Notice that the number of dots is the common length of \"abcd\", \"efgh\", \"ijkl\", \"mnop\".\n",
    "\n",
    "**Task**\n",
    "\n",
    "- Write these two functions rotand selfie_and_rot\n",
    "\n",
    "and\n",
    "\n",
    "- high-order function oper(fct, s) where\n",
    "- fct is the function of one variable f to apply to the string s (fct will be one of rot, selfie_and_rot)\n",
    "\n",
    "**Examples**\n",
    "\n",
    "```\n",
    "s = \"abcd\\nefgh\\nijkl\\nmnop\"\n",
    "oper(rot, s) => \"ponm\\nlkji\\nhgfe\\ndcba\"\n",
    "oper(selfie_and_rot, s) => \"abcd....\\nefgh....\\nijkl....\\nmnop....\\n....ponm\\n....lkji\\n....hgfe\\n....dcba\"\n",
    "```\n",
    "\n",
    "**Notes**\n",
    "\n",
    "- The form of the parameter fct in oper changes according to the language. You can see each form according to the language in \"Your test cases\". \n",
    "- It could be easier to take these katas from number (I) to number (IV)\n",
    "- \n",
    "Forthcoming katas will study other tranformations.\n",
    "\n",
    "**Bash Note**\n",
    "\n",
    "The input strings are separated by , instead of \\n. The ouput strings should be separated by \\r instead of \\n. See \"Sample Tests\".\n",
    "\n",
    "### My solution"
   ]
  },
  {
   "cell_type": "code",
   "execution_count": 1,
   "id": "cdee64d6-68c9-4bd8-a82a-d7d4c6fda1ba",
   "metadata": {},
   "outputs": [],
   "source": [
    "def rot(strng):\n",
    "    pass\n",
    "\n",
    "def selfie_and_rot(strng):\n",
    "    pass\n",
    "\n",
    "def oper(fct, s):\n",
    "    pass"
   ]
  },
  {
   "cell_type": "markdown",
   "id": "01013761-7b10-470e-9db8-d68c95f74193",
   "metadata": {},
   "source": [
    "### Basict tests"
   ]
  },
  {
   "cell_type": "code",
   "execution_count": 2,
   "id": "806fa863-d9b9-4818-b0ab-8a7676db4e25",
   "metadata": {},
   "outputs": [
    {
     "ename": "AttributeError",
     "evalue": "'NoneType' object has no attribute 'split'",
     "output_type": "error",
     "traceback": [
      "\u001b[1;31m---------------------------------------------------------------------------\u001b[0m",
      "\u001b[1;31mAttributeError\u001b[0m                            Traceback (most recent call last)",
      "Cell \u001b[1;32mIn[2], line 8\u001b[0m\n\u001b[0;32m      5\u001b[0m     \u001b[38;5;28mprint\u001b[39m(result\u001b[38;5;241m.\u001b[39msplit(\u001b[38;5;124m\"\u001b[39m\u001b[38;5;130;01m\\n\u001b[39;00m\u001b[38;5;124m\"\u001b[39m) \u001b[38;5;241m==\u001b[39m  expected_output)\n\u001b[0;32m      7\u001b[0m \u001b[38;5;66;03m# Test cases for the 'rot' function\u001b[39;00m\n\u001b[1;32m----> 8\u001b[0m \u001b[43mrun_test\u001b[49m\u001b[43m(\u001b[49m\u001b[43mrot\u001b[49m\u001b[43m,\u001b[49m\u001b[43m \u001b[49m\u001b[38;5;124;43m\"\u001b[39;49m\u001b[38;5;124;43mfijuoo\u001b[39;49m\u001b[38;5;130;43;01m\\n\u001b[39;49;00m\u001b[38;5;124;43mCqYVct\u001b[39;49m\u001b[38;5;130;43;01m\\n\u001b[39;49;00m\u001b[38;5;124;43mDrPmMJ\u001b[39;49m\u001b[38;5;130;43;01m\\n\u001b[39;49;00m\u001b[38;5;124;43merfpBA\u001b[39;49m\u001b[38;5;130;43;01m\\n\u001b[39;49;00m\u001b[38;5;124;43mkWjFUG\u001b[39;49m\u001b[38;5;130;43;01m\\n\u001b[39;49;00m\u001b[38;5;124;43mCVUfyL\u001b[39;49m\u001b[38;5;124;43m\"\u001b[39;49m\u001b[43m,\u001b[49m\u001b[43m \u001b[49m\u001b[38;5;124;43m\"\u001b[39;49m\u001b[38;5;124;43mLyfUVC\u001b[39;49m\u001b[38;5;130;43;01m\\n\u001b[39;49;00m\u001b[38;5;124;43mGUFjWk\u001b[39;49m\u001b[38;5;130;43;01m\\n\u001b[39;49;00m\u001b[38;5;124;43mABpfre\u001b[39;49m\u001b[38;5;130;43;01m\\n\u001b[39;49;00m\u001b[38;5;124;43mJMmPrD\u001b[39;49m\u001b[38;5;130;43;01m\\n\u001b[39;49;00m\u001b[38;5;124;43mtcVYqC\u001b[39;49m\u001b[38;5;130;43;01m\\n\u001b[39;49;00m\u001b[38;5;124;43mooujif\u001b[39;49m\u001b[38;5;124;43m\"\u001b[39;49m\u001b[43m)\u001b[49m\n\u001b[0;32m      9\u001b[0m run_test(rot, \u001b[38;5;124m\"\u001b[39m\u001b[38;5;124mrkKv\u001b[39m\u001b[38;5;130;01m\\n\u001b[39;00m\u001b[38;5;124mcofM\u001b[39m\u001b[38;5;130;01m\\n\u001b[39;00m\u001b[38;5;124mzXkh\u001b[39m\u001b[38;5;130;01m\\n\u001b[39;00m\u001b[38;5;124mflCB\u001b[39m\u001b[38;5;124m\"\u001b[39m, \u001b[38;5;124m\"\u001b[39m\u001b[38;5;124mBClf\u001b[39m\u001b[38;5;130;01m\\n\u001b[39;00m\u001b[38;5;124mhkXz\u001b[39m\u001b[38;5;130;01m\\n\u001b[39;00m\u001b[38;5;124mMfoc\u001b[39m\u001b[38;5;130;01m\\n\u001b[39;00m\u001b[38;5;124mvKkr\u001b[39m\u001b[38;5;124m\"\u001b[39m)\n\u001b[0;32m     10\u001b[0m run_test(rot, \u001b[38;5;124m\"\u001b[39m\u001b[38;5;124mlVHt\u001b[39m\u001b[38;5;130;01m\\n\u001b[39;00m\u001b[38;5;124mJVhv\u001b[39m\u001b[38;5;130;01m\\n\u001b[39;00m\u001b[38;5;124mCSbg\u001b[39m\u001b[38;5;130;01m\\n\u001b[39;00m\u001b[38;5;124myeCt\u001b[39m\u001b[38;5;124m\"\u001b[39m, \u001b[38;5;124m\"\u001b[39m\u001b[38;5;124mtCey\u001b[39m\u001b[38;5;130;01m\\n\u001b[39;00m\u001b[38;5;124mgbSC\u001b[39m\u001b[38;5;130;01m\\n\u001b[39;00m\u001b[38;5;124mvhVJ\u001b[39m\u001b[38;5;130;01m\\n\u001b[39;00m\u001b[38;5;124mtHVl\u001b[39m\u001b[38;5;124m\"\u001b[39m)\n",
      "Cell \u001b[1;32mIn[2], line 5\u001b[0m, in \u001b[0;36mrun_test\u001b[1;34m(function, input_str, expected_output_str)\u001b[0m\n\u001b[0;32m      3\u001b[0m result \u001b[38;5;241m=\u001b[39m oper(function, input_str)\n\u001b[0;32m      4\u001b[0m expected_output \u001b[38;5;241m=\u001b[39m expected_output_str\u001b[38;5;241m.\u001b[39msplit(\u001b[38;5;124m\"\u001b[39m\u001b[38;5;130;01m\\n\u001b[39;00m\u001b[38;5;124m\"\u001b[39m)\n\u001b[1;32m----> 5\u001b[0m \u001b[38;5;28mprint\u001b[39m(\u001b[43mresult\u001b[49m\u001b[38;5;241;43m.\u001b[39;49m\u001b[43msplit\u001b[49m(\u001b[38;5;124m\"\u001b[39m\u001b[38;5;130;01m\\n\u001b[39;00m\u001b[38;5;124m\"\u001b[39m) \u001b[38;5;241m==\u001b[39m  expected_output)\n",
      "\u001b[1;31mAttributeError\u001b[0m: 'NoneType' object has no attribute 'split'"
     ]
    }
   ],
   "source": [
    "# Helper function to run tests\n",
    "def run_test(function, input_str, expected_output_str):\n",
    "    result = oper(function, input_str)\n",
    "    expected_output = expected_output_str.split(\"\\n\")\n",
    "    print(result.split(\"\\n\") ==  expected_output)\n",
    "\n",
    "# Test cases for the 'rot' function\n",
    "run_test(rot, \"fijuoo\\nCqYVct\\nDrPmMJ\\nerfpBA\\nkWjFUG\\nCVUfyL\", \"LyfUVC\\nGUFjWk\\nABpfre\\nJMmPrD\\ntcVYqC\\nooujif\")\n",
    "run_test(rot, \"rkKv\\ncofM\\nzXkh\\nflCB\", \"BClf\\nhkXz\\nMfoc\\nvKkr\")\n",
    "run_test(rot, \"lVHt\\nJVhv\\nCSbg\\nyeCt\", \"tCey\\ngbSC\\nvhVJ\\ntHVl\")\n",
    "run_test(rot, \"QMxo\\ntmFe\\nWLUG\\nowoq\", \"qowo\\nGULW\\neFmt\\noxMQ\")\n",
    "\n",
    "# Test cases for the 'selfie_and_rot' function\n",
    "run_test(selfie_and_rot, \"xZBV\\njsbS\\nJcpN\\nfVnP\", \n",
    "         \"xZBV....\\njsbS....\\nJcpN....\\nfVnP....\\n....PnVf\\n....NpcJ\\n....Sbsj\\n....VBZx\")\n",
    "run_test(selfie_and_rot, \"uLcq\\nJkuL\\nYirX\\nnwMB\",\n",
    "         \"uLcq....\\nJkuL....\\nYirX....\\nnwMB....\\n....BMwn\\n....XriY\\n....LukJ\\n....qcLu\")\n",
    "run_test(selfie_and_rot, \"lVHt\\nJVhv\\nCSbg\\nyeCt\",\n",
    "         \"lVHt....\\nJVhv....\\nCSbg....\\nyeCt....\\n....tCey\\n....gbSC\\n....vhVJ\\n....tHVl\")\n",
    "run_test(selfie_and_rot, \"QMxo\\ntmFe\\nWLUG\\nowoq\",\n",
    "         \"QMxo....\\ntmFe....\\nWLUG....\\nowoq....\\n....qowo\\n....GULW\\n....eFmt\\n....oxMQ\")"
   ]
  }
 ],
 "metadata": {
  "kernelspec": {
   "display_name": "Python 3 (ipykernel)",
   "language": "python",
   "name": "python3"
  },
  "language_info": {
   "codemirror_mode": {
    "name": "ipython",
    "version": 3
   },
   "file_extension": ".py",
   "mimetype": "text/x-python",
   "name": "python",
   "nbconvert_exporter": "python",
   "pygments_lexer": "ipython3",
   "version": "3.12.2"
  }
 },
 "nbformat": 4,
 "nbformat_minor": 5
}
