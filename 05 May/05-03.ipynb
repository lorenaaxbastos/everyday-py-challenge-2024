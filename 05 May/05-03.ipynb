{
 "cells": [
  {
   "cell_type": "markdown",
   "id": "2162b24c-e716-4d1c-b648-d94ca08de048",
   "metadata": {},
   "source": [
    "# Flatten and sort an array\n",
    "\n",
    "Date: 05/03/2024.\n",
    "From: Codewars.\n",
    "Link to [kata](https://www.codewars.com/kata/57ee99a16c8df7b02d00045f/train/python).\n",
    "\n",
    "### Description\n",
    "\n",
    "Given a two-dimensional array of integers, return the flattened version of the array with all the integers in the sorted (ascending) order.\n",
    "\n",
    "Example:\n",
    "\n",
    "Given [[3, 2, 1], [4, 6, 5], [], [9, 7, 8]], your function should return [1, 2, 3, 4, 5, 6, 7, 8, 9].\n",
    "\n",
    "### My solution"
   ]
  },
  {
   "cell_type": "code",
   "execution_count": 19,
   "id": "edd3686a-c690-4e90-8022-78c27646913f",
   "metadata": {},
   "outputs": [],
   "source": [
    "def flatten_and_sort(array):\n",
    "    result = []\n",
    "    for el in array:\n",
    "        if not isinstance(el, list):\n",
    "            flatten_and_sort(el)\n",
    "        else:\n",
    "            result.extend(el)\n",
    "    return sorted(result)"
   ]
  },
  {
   "cell_type": "markdown",
   "id": "2b433d28-d763-41be-8099-1f645daa02d9",
   "metadata": {},
   "source": [
    "### Basic tests"
   ]
  },
  {
   "cell_type": "code",
   "execution_count": 20,
   "id": "6c5e5bc7-a898-4fb8-bb96-bfe09a2b1aa5",
   "metadata": {},
   "outputs": [
    {
     "name": "stdout",
     "output_type": "stream",
     "text": [
      "[]\n",
      "[]\n",
      "[1]\n",
      "[1, 2, 3, 4, 5, 6, 7, 8, 9]\n",
      "[1, 2, 3, 4, 5, 6, 100]\n"
     ]
    }
   ],
   "source": [
    "print(flatten_and_sort([])) # expect []\n",
    "print(flatten_and_sort([[], []])) # expect []\n",
    "print(flatten_and_sort([[], [1]])) # expect [1]\n",
    "print(flatten_and_sort([[3, 2, 1], [7, 9, 8], [6, 4, 5]])) # expect [1, 2, 3, 4, 5, 6, 7, 8, 9]\n",
    "print(flatten_and_sort([[1, 3, 5], [100], [2, 4, 6]])) # expect [1, 2, 3, 4, 5, 6, 100]"
   ]
  }
 ],
 "metadata": {
  "kernelspec": {
   "display_name": "Python 3 (ipykernel)",
   "language": "python",
   "name": "python3"
  },
  "language_info": {
   "codemirror_mode": {
    "name": "ipython",
    "version": 3
   },
   "file_extension": ".py",
   "mimetype": "text/x-python",
   "name": "python",
   "nbconvert_exporter": "python",
   "pygments_lexer": "ipython3",
   "version": "3.12.1"
  }
 },
 "nbformat": 4,
 "nbformat_minor": 5
}
