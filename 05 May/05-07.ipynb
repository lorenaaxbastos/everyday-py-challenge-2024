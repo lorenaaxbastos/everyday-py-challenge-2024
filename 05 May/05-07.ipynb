{
 "cells": [
  {
   "cell_type": "markdown",
   "id": "b69d3e02-031b-4178-87c6-90aa62657979",
   "metadata": {},
   "source": [
    "# Last digit of a large number\n",
    "\n",
    "Date: 05/07/2024.\n",
    "From: Codewars.\n",
    "Link to [kata](https://www.codewars.com/kata/5511b2f550906349a70004e1/train/python).\n",
    "\n",
    "### Description\n",
    "\n",
    "Define a function that takes in two non-negative integers aaa and bbb and returns the last decimal digit of aba^bab. Note that aaa and bbb may be very large!\n",
    "\n",
    "For example, the last decimal digit of 9^7 is 9, since 9^7 = 4782969. The last decimal digit of (2^200)2^300, which has over 10^92 decimal digits, is 6. Also, please take 0^0 to be 1.\n",
    "\n",
    "You may assume that the input will always be valid.\n",
    "\n",
    "**Examples**\n",
    "\n",
    "```\n",
    "last_digit(4, 1)                # returns 4\n",
    "last_digit(4, 2)                # returns 6\n",
    "last_digit(9, 7)                # returns 9\n",
    "last_digit(10, 10 ** 10)        # returns 0\n",
    "last_digit(2 ** 200, 2 ** 300)  # returns 6\n",
    "```\n",
    "\n",
    "### My solution"
   ]
  },
  {
   "cell_type": "code",
   "execution_count": 1,
   "id": "03657124-bc69-4678-8ee3-c2bb3c62341c",
   "metadata": {},
   "outputs": [],
   "source": [
    "def last_digit(n1, n2):\n",
    "    pass"
   ]
  },
  {
   "cell_type": "markdown",
   "id": "9ea86220-9537-474a-ad45-0d0bd62581e4",
   "metadata": {},
   "source": [
    "### Basic tests"
   ]
  },
  {
   "cell_type": "code",
   "execution_count": 3,
   "id": "face4b95-de6e-4a84-993d-d016bb7d6a07",
   "metadata": {},
   "outputs": [
    {
     "name": "stdout",
     "output_type": "stream",
     "text": [
      "None expects 4\n",
      "None expects 6\n",
      "None expects 9\n",
      "None expects 0\n",
      "None expects 6\n",
      "None expects 7\n",
      "None expects 1\n",
      "None expects 1\n",
      "None expects 1\n",
      "None expects 1\n",
      "None expects 1\n",
      "None expects 1\n",
      "None expects 1\n",
      "None expects 1\n"
     ]
    }
   ],
   "source": [
    "for n1, n2, exp in [(4, 1, 4),\n",
    "                    (4, 2, 6),\n",
    "                    (9, 7, 9),\n",
    "                    (10, 10 ** 10, 0),\n",
    "                    (2 ** 200, 2 ** 300, 6),\n",
    "                    (3715290469715693021198967285016729344580685479654510946723, 68819615221552997273737174557165657483427362207517952651, 7),\n",
    "                   ]:\n",
    "    print(last_digit(n1, n2), \"expects\", exp)\n",
    "    \n",
    "for nmbr in range(1, 9):\n",
    "    a = nmbr ** nmbr\n",
    "    print(last_digit(a, 0), \"expects\", 1)"
   ]
  }
 ],
 "metadata": {
  "kernelspec": {
   "display_name": "Python 3 (ipykernel)",
   "language": "python",
   "name": "python3"
  },
  "language_info": {
   "codemirror_mode": {
    "name": "ipython",
    "version": 3
   },
   "file_extension": ".py",
   "mimetype": "text/x-python",
   "name": "python",
   "nbconvert_exporter": "python",
   "pygments_lexer": "ipython3",
   "version": "3.12.2"
  }
 },
 "nbformat": 4,
 "nbformat_minor": 5
}
