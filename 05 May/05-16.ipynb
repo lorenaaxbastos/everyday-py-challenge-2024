{
 "cells": [
  {
   "cell_type": "markdown",
   "id": "459516c7-bac3-430f-93ca-5ef2898d2a0e",
   "metadata": {},
   "source": [
    "# Numbers of letters of numbers\n",
    "\n",
    "Date: 05/16/2024.\n",
    "From: Codewars.\n",
    "Link to [kata](https://www.codewars.com/kata/599febdc3f64cd21d8000117/train/python).\n",
    "\n",
    "### Description\n",
    "\n",
    "If we write out the digits of \"60\" as English words we get \"sixzero\"; the number of letters in \"sixzero\" is seven. The number of letters in \"seven\" is five. The number of letters in \"five\" is four. The number of letters in \"four\" is four: we have reached a stable equilibrium.\n",
    "\n",
    "Note: for integers larger than 9, write out the names of each digit in a single word (instead of the proper name of the number in English). For example, write 12 as \"onetwo\" (instead of twelve), and 999 as \"nineninenine\" (instead of nine hundred and ninety-nine).\n",
    "\n",
    "For any integer between 0 and 999, return an array showing the path from that integer to a stable equilibrium:\n",
    "\n",
    "**Examples**\n",
    "\n",
    "```\n",
    "numbersOfLetters(60) --> [\"sixzero\", \"seven\", \"five\", \"four\"]\n",
    "numbersOfLetters(1) --> [\"one\", \"three\", \"five\", \"four\"]\n",
    "```\n",
    "\n",
    "### My solution"
   ]
  },
  {
   "cell_type": "code",
   "execution_count": 3,
   "id": "557949c1-c94b-46c6-b0f2-afbed05f634b",
   "metadata": {},
   "outputs": [],
   "source": [
    "def numbers_of_letters(n):\n",
    "    digits_to_words = {\n",
    "        \"0\": \"zero\",\n",
    "        \"1\": \"one\",\n",
    "        \"2\": \"two\",\n",
    "        \"3\": \"three\",\n",
    "        \"4\": \"four\",\n",
    "        \"5\": \"five\",\n",
    "        \"6\": \"six\",\n",
    "        \"7\": \"seven\",\n",
    "        \"8\": \"eight\",\n",
    "        \"9\": \"nine\",\n",
    "    }\n",
    "    \n",
    "    num_to_digits = lambda x: \"\".join(digits_to_words[digit] for digit in str(x))\n",
    "\n",
    "    path = []\n",
    "    while num_to_digits(n) != num_to_digits(str(len(num_to_digits(n)))):\n",
    "        path.append(num_to_digits(n))\n",
    "        n = len(num_to_digits(n))\n",
    "\n",
    "    path.append(num_to_digits(n))\n",
    "    return path"
   ]
  },
  {
   "cell_type": "markdown",
   "id": "348771c1-0a45-4018-9fcd-26bfe9f7027e",
   "metadata": {},
   "source": [
    "### Basic tests"
   ]
  },
  {
   "cell_type": "code",
   "execution_count": 4,
   "id": "d6e9992f-2270-43b9-8583-6149e7017a5d",
   "metadata": {},
   "outputs": [
    {
     "name": "stdout",
     "output_type": "stream",
     "text": [
      "['one', 'three', 'five', 'four']\n",
      "['onetwo', 'six', 'three', 'five', 'four']\n",
      "['threeseven', 'onezero', 'seven', 'five', 'four']\n",
      "['threeoneone', 'oneone', 'six', 'three', 'five', 'four']\n",
      "['nineninenine', 'onetwo', 'six', 'three', 'five', 'four']\n"
     ]
    }
   ],
   "source": [
    "print(numbers_of_letters(1)) # expects [\"one\", \"three\", \"five\", \"four\"]\n",
    "print(numbers_of_letters(12)) # expects [\"onetwo\", \"six\", \"three\", \"five\", \"four\"]\n",
    "print(numbers_of_letters(37)) # expects [\"threeseven\", \"onezero\", \"seven\", \"five\", \"four\"]\n",
    "print(numbers_of_letters(311)) # expects ['threeoneone', 'oneone', 'six', 'three', 'five', 'four']\n",
    "print(numbers_of_letters(999)) # expects [\"nineninenine\", \"onetwo\", \"six\", \"three\", \"five\", \"four\"]"
   ]
  }
 ],
 "metadata": {
  "kernelspec": {
   "display_name": "Python 3 (ipykernel)",
   "language": "python",
   "name": "python3"
  },
  "language_info": {
   "codemirror_mode": {
    "name": "ipython",
    "version": 3
   },
   "file_extension": ".py",
   "mimetype": "text/x-python",
   "name": "python",
   "nbconvert_exporter": "python",
   "pygments_lexer": "ipython3",
   "version": "3.12.1"
  }
 },
 "nbformat": 4,
 "nbformat_minor": 5
}
