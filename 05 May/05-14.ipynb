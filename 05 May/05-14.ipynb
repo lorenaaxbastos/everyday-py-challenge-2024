{
 "cells": [
  {
   "cell_type": "markdown",
   "id": "79ed3cb0-f8c9-456a-9fcd-be949eb5482c",
   "metadata": {},
   "source": [
    "# Greet me\n",
    "\n",
    "Date: 05/14/2024.\n",
    "From: Codewars.\n",
    "Link to [kata](https://www.codewars.com/kata/535474308bb336c9980006f2/train/python).\n",
    "\n",
    "### Description\n",
    "\n",
    "Write a method that takes one argument as name and then greets that name, capitalized and ends with an exclamation point.\n",
    "\n",
    "**Example**\n",
    "\n",
    "```\n",
    "\"riley\" --> \"Hello Riley!\"\n",
    "\"JACK\"  --> \"Hello Jack!\"\n",
    "```\n",
    "\n",
    "### My solution"
   ]
  },
  {
   "cell_type": "code",
   "execution_count": 3,
   "id": "8e85b68e-99d4-4a22-a6ff-3f0476589f1c",
   "metadata": {},
   "outputs": [],
   "source": [
    "def greet(name): \n",
    "    return f\"Hello {name.title()}!\""
   ]
  },
  {
   "cell_type": "markdown",
   "id": "57ebce91-4a19-4087-901d-0407b5803f13",
   "metadata": {},
   "source": [
    "### Basic tests"
   ]
  },
  {
   "cell_type": "code",
   "execution_count": 4,
   "id": "a50e0e1c-dee1-4780-a1d7-2a84beec2518",
   "metadata": {},
   "outputs": [
    {
     "name": "stdout",
     "output_type": "stream",
     "text": [
      "Hello Riley!\n",
      "Hello Molly!\n",
      "Hello Billy!\n"
     ]
    }
   ],
   "source": [
    "print(greet('riley')) # expects 'Hello Riley!'\n",
    "print(greet('molly')) # expects \"Hello Molly!\"\n",
    "print(greet('BILLY')) # expects \"Hello Billy!\""
   ]
  }
 ],
 "metadata": {
  "kernelspec": {
   "display_name": "Python 3 (ipykernel)",
   "language": "python",
   "name": "python3"
  },
  "language_info": {
   "codemirror_mode": {
    "name": "ipython",
    "version": 3
   },
   "file_extension": ".py",
   "mimetype": "text/x-python",
   "name": "python",
   "nbconvert_exporter": "python",
   "pygments_lexer": "ipython3",
   "version": "3.12.1"
  }
 },
 "nbformat": 4,
 "nbformat_minor": 5
}
