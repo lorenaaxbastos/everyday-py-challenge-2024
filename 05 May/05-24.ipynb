{
 "cells": [
  {
   "cell_type": "markdown",
   "id": "961c3b8d-cee9-4298-b25e-4ca6dc392fa1",
   "metadata": {},
   "source": [
    "# Correct the time-string\n",
    "\n",
    "Date: 05/24/2024.\n",
    "From: Codewars.\n",
    "Link to [kata](https://www.codewars.com/kata/57873ab5e55533a2890000c7/train/python).\n",
    "\n",
    "### Description\n",
    "\n",
    "A new task for you!\n",
    "\n",
    "You have to create a method, that corrects a given time string.\n",
    "There was a problem in addition, so many of the time strings are broken.\n",
    "Time is formatted using the 24-hour clock, so from `00:00:00` to `23:59:59`.\n",
    "\n",
    "**Examples**\n",
    "\n",
    "```\n",
    "\"09:10:01\" -> \"09:10:01\"  \n",
    "\"11:70:10\" -> \"12:10:10\"  \n",
    "\"19:99:99\" -> \"20:40:39\"  \n",
    "\"24:01:01\" -> \"00:01:01\"\n",
    "```\n",
    "\n",
    "If the input-string is null or empty return exactly this value! (empty string for C++) If the time-string-format is invalid, return null. (empty string for C++)\n",
    "\n",
    "Have fun coding it and please don't forget to vote and rank this kata! :-)\n",
    "\n",
    "I have created other katas. Have a look if you like coding and challenges.\n",
    "\n",
    "### My solution"
   ]
  },
  {
   "cell_type": "code",
   "execution_count": 1,
   "id": "81ad1606-07cf-472a-8d52-5793b3acec7a",
   "metadata": {},
   "outputs": [],
   "source": [
    "def time_correct(t):\n",
    "    pass"
   ]
  },
  {
   "cell_type": "markdown",
   "id": "389ff67e-dfcd-4cf2-b787-e4d7d609ebd6",
   "metadata": {},
   "source": [
    "### Basic tests"
   ]
  },
  {
   "cell_type": "code",
   "execution_count": 2,
   "id": "d48e05cd-bd0d-48f3-a9ec-af8cfc778d99",
   "metadata": {},
   "outputs": [
    {
     "name": "stdout",
     "output_type": "stream",
     "text": [
      "True\n",
      "False\n",
      "True\n",
      "True\n",
      "True\n",
      "False\n",
      "False\n",
      "False\n",
      "False\n",
      "False\n",
      "False\n"
     ]
    }
   ],
   "source": [
    "print(time_correct(None) == None)\n",
    "print(time_correct(\"\") == \"\")\n",
    "print(time_correct(\"001122\") == None)\n",
    "print(time_correct(\"00;11;22\") == None)\n",
    "print(time_correct(\"0a:1c:22\") == None)\n",
    "print(time_correct(\"09:10:01\") == \"09:10:01\")\n",
    "print(time_correct(\"11:70:10\") == \"12:10:10\")\n",
    "print(time_correct(\"19:99:99\") == \"20:40:39\")\n",
    "print(time_correct(\"24:01:01\") == \"00:01:01\")\n",
    "print(time_correct(\"52:01:01\") == \"04:01:01\")\n",
    "print(time_correct(\"14:59:94\") == \"15:00:34\")"
   ]
  }
 ],
 "metadata": {
  "kernelspec": {
   "display_name": "Python 3 (ipykernel)",
   "language": "python",
   "name": "python3"
  },
  "language_info": {
   "codemirror_mode": {
    "name": "ipython",
    "version": 3
   },
   "file_extension": ".py",
   "mimetype": "text/x-python",
   "name": "python",
   "nbconvert_exporter": "python",
   "pygments_lexer": "ipython3",
   "version": "3.12.1"
  }
 },
 "nbformat": 4,
 "nbformat_minor": 5
}
