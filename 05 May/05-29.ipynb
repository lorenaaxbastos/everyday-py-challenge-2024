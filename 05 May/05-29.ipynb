{
 "cells": [
  {
   "cell_type": "markdown",
   "id": "a00932b0-1f74-4ce9-9a26-4d9e70465ab2",
   "metadata": {},
   "source": [
    "# Memory reallocation\n",
    "\n",
    "Date: 05/29/2024.\n",
    "From: Codewars.\n",
    "Link to [kata](https://www.codewars.com/kata/5ad927c932d79e34fb000091/train/python).\n",
    "\n",
    "### Description\n",
    "\n",
    "Your server has sixteen memory banks; each memory bank can hold any number of blocks. You must write a routine to balance the blocks between the memory banks.\n",
    "\n",
    "The reallocation routine operates in cycles. In each cycle, it finds the memory bank with the most blocks (ties won by the lowest-numbered memory bank) and redistributes those blocks among the banks. To do this, it removes all of the blocks from the selected bank, then moves to the next (by index) memory bank and inserts one of the blocks. It continues doing this until it runs out of blocks; if it reaches the last memory bank, it wraps around to the first one.\n",
    "\n",
    "We need to know how many redistributions can be done before a blocks-in-banks configuration is produced that has been seen before.\n",
    "\n",
    "For example, imagine a scenario with only four memory banks:\n",
    "\n",
    "- The banks start with 0, 2, 7, and 0 blocks `[0,2,7,0]`. The third bank has the most blocks (7), so it is chosen for redistribution.\n",
    "- Starting with the next bank (the fourth bank) and then continuing one block at a time, the 7 blocks are spread out over the memory banks. The fourth, first, and second banks get two blocks each, and the third bank gets one back. The final result looks like this: 2 4 1 2.\n",
    "- Next, the second bank is chosen because it contains the most blocks (four). Because there are four memory banks, each gets one block. The result is: 3 1 2 3.\n",
    "- Now, there is a tie between the first and fourth memory banks, both of which have three blocks. The first bank wins the tie, and its three blocks are distributed evenly over the other three banks, leaving it with none: 0 2 3 4.\n",
    "- The fourth bank is chosen, and its four blocks are distributed such that each of the four banks receives one: 1 3 4 1.\n",
    "- The third bank is chosen, and the same thing happens: 2 4 1 2. At this point, we've reached a state we've seen before: 2 4 1 2 was already seen. The infinite loop is detected after the fifth block redistribution cycle, and so the answer in this example is 5.\n",
    "- Return the number of redistribution cycles completed before a configuration is produced that has been seen before.\n",
    "\n",
    "People seem to be struggling, so here's a visual walkthrough of the above example: http://oi65.tinypic.com/dmshls.jpg\n",
    "\n",
    "Note: Remember, memory access is very fast. Yours should be too.\n",
    "\n",
    "Hint for those who are timing out: Look at the number of cycles happening even in the sample tests. That's a lot of different configurations, and a lot of different times you're going to be searching for a matching sequence. Think of ways to cut down on the time this searching process takes.\n",
    "\n",
    "Please upvote if you enjoyed! :)\n",
    "\n",
    "### My solution"
   ]
  },
  {
   "cell_type": "code",
   "execution_count": 1,
   "id": "aa6c8974-46fe-493a-85f7-1d54281e91c3",
   "metadata": {},
   "outputs": [],
   "source": [
    "def mem_alloc(banks):\n",
    "    pass"
   ]
  },
  {
   "cell_type": "markdown",
   "id": "7ba205f2-e166-4908-9738-aa0b4e3561e3",
   "metadata": {},
   "source": [
    "### Basic tests"
   ]
  },
  {
   "cell_type": "code",
   "execution_count": 2,
   "id": "7d26e5eb-c373-439c-a7af-12f0dadc9890",
   "metadata": {},
   "outputs": [
    {
     "name": "stdout",
     "output_type": "stream",
     "text": [
      "False\n",
      "False\n",
      "False\n",
      "False\n",
      "False\n"
     ]
    }
   ],
   "source": [
    "print(mem_alloc([5, 1, 10, 0, 1, 7, 13, 14, 3, 12, 8, 10, 7, 12, 0, 600]) == 70)\n",
    "print(mem_alloc([53, 21, 10, 0, 1, 7, 13, 14, 3, 12, 8, 10, 7, 12, 0, 60]) == 316)\n",
    "print(mem_alloc([14, 21, 10, 0, 1, 7, 0, 14, 3, 12, 8, 10, 17, 12, 0, 19]) == 826)\n",
    "print(mem_alloc([5, 1, 10, 0, 1, 7, 13, 14, 3, 12, 8, 10, 7, 12, 0, 6]) == 5042)\n",
    "print(mem_alloc([17, 17, 3, 5, 1, 10, 6, 2, 0, 12, 8, 11, 16, 2, 1, 6]) == 158378)"
   ]
  }
 ],
 "metadata": {
  "kernelspec": {
   "display_name": "Python 3 (ipykernel)",
   "language": "python",
   "name": "python3"
  },
  "language_info": {
   "codemirror_mode": {
    "name": "ipython",
    "version": 3
   },
   "file_extension": ".py",
   "mimetype": "text/x-python",
   "name": "python",
   "nbconvert_exporter": "python",
   "pygments_lexer": "ipython3",
   "version": "3.12.1"
  }
 },
 "nbformat": 4,
 "nbformat_minor": 5
}
