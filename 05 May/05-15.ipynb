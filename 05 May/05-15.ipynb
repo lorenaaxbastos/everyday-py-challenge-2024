{
 "cells": [
  {
   "cell_type": "markdown",
   "id": "1f07216e-53f8-4668-8a09-a4b74143cf4b",
   "metadata": {},
   "source": [
    "# Sort a massive list of strings (hard)\n",
    "\n",
    "Date: 05/15/2024.\n",
    "From: Codewars.\n",
    "Link to [kata](https://www.codewars.com/kata/535474308bb336c9980006f2/train/python).\n",
    "\n",
    "### Description\n",
    "\n",
    "Write a sort function that will sort a massive list of strings in caseless, lexographic order.\r\n",
    "\r\n",
    "Example Input`: ['b', 'ba', 'ab', 'bb', 'c`']\r\n",
    "\r\n",
    "Expected Outp`ut: ['ab', 'b', 'ba', 'bb', `'c- ']\r\n",
    "\r\n",
    "The argument for your function will be a generator that will return a new word for each call of n- ext()\r\n",
    "Your function will return its own generator of the same words, except your generator will return the words in lexographic-  order\r\n",
    "All words in the list are-  unique\r\n",
    "All words will be comprised of lower case letters on- ly (a-z)\r\n",
    "All words will be between 1 and 8 charac- ters long\r\n",
    "There will be hundreds of thousands of wor- ds to sort\r\n",
    "You may not use Python's sorted built-- in function\r\n",
    "You may not use Python's list- .sort method\r\n",
    "An empty list of words should result in a- n empty list.\r\n",
    "alphabet = 'abcdefghijklmnopqrstuvwxyz' has been pre-defined for you, in case you need it\n",
    "\n",
    "### My solution"
   ]
  },
  {
   "cell_type": "code",
   "execution_count": 3,
   "id": "8977a16d-d581-4298-88d3-67dd5463fb8d",
   "metadata": {},
   "outputs": [],
   "source": [
    "def sort(words):\n",
    "    if not words: return []\n",
    "    pass"
   ]
  },
  {
   "cell_type": "markdown",
   "id": "a0510b38-26c4-4ada-8479-caf26acd5d68",
   "metadata": {},
   "source": [
    "### Basic tests"
   ]
  },
  {
   "cell_type": "code",
   "execution_count": 4,
   "id": "e8e105a6-f137-47b0-b7a3-ac310ddb5213",
   "metadata": {},
   "outputs": [
    {
     "name": "stdout",
     "output_type": "stream",
     "text": [
      "[]\n"
     ]
    },
    {
     "ename": "TypeError",
     "evalue": "'NoneType' object is not iterable",
     "output_type": "error",
     "traceback": [
      "\u001b[1;31m---------------------------------------------------------------------------\u001b[0m",
      "\u001b[1;31mTypeError\u001b[0m                                 Traceback (most recent call last)",
      "Cell \u001b[1;32mIn[4], line 2\u001b[0m\n\u001b[0;32m      1\u001b[0m \u001b[38;5;28mprint\u001b[39m(\u001b[38;5;28mlist\u001b[39m(sort([]))) \u001b[38;5;66;03m# expects []\u001b[39;00m\n\u001b[1;32m----> 2\u001b[0m \u001b[38;5;28mprint\u001b[39m(\u001b[38;5;28;43mlist\u001b[39;49m\u001b[43m(\u001b[49m\u001b[43msort\u001b[49m\u001b[43m(\u001b[49m\u001b[43m[\u001b[49m\u001b[38;5;124;43m'\u001b[39;49m\u001b[38;5;124;43mz\u001b[39;49m\u001b[38;5;124;43m'\u001b[39;49m\u001b[43m,\u001b[49m\u001b[43m \u001b[49m\u001b[38;5;124;43m'\u001b[39;49m\u001b[38;5;124;43mx\u001b[39;49m\u001b[38;5;124;43m'\u001b[39;49m\u001b[43m,\u001b[49m\u001b[43m \u001b[49m\u001b[38;5;124;43m'\u001b[39;49m\u001b[38;5;124;43mw\u001b[39;49m\u001b[38;5;124;43m'\u001b[39;49m\u001b[43m,\u001b[49m\u001b[43m \u001b[49m\u001b[38;5;124;43m'\u001b[39;49m\u001b[38;5;124;43my\u001b[39;49m\u001b[38;5;124;43m'\u001b[39;49m\u001b[43m]\u001b[49m\u001b[43m)\u001b[49m\u001b[43m)\u001b[49m) \u001b[38;5;66;03m# expects ['w', 'x', 'y', 'z']\u001b[39;00m\n\u001b[0;32m      3\u001b[0m \u001b[38;5;28mprint\u001b[39m(\u001b[38;5;28mlist\u001b[39m(sort([\u001b[38;5;124m'\u001b[39m\u001b[38;5;124mb\u001b[39m\u001b[38;5;124m'\u001b[39m, \u001b[38;5;124m'\u001b[39m\u001b[38;5;124mba\u001b[39m\u001b[38;5;124m'\u001b[39m, \u001b[38;5;124m'\u001b[39m\u001b[38;5;124mab\u001b[39m\u001b[38;5;124m'\u001b[39m, \u001b[38;5;124m'\u001b[39m\u001b[38;5;124mbb\u001b[39m\u001b[38;5;124m'\u001b[39m, \u001b[38;5;124m'\u001b[39m\u001b[38;5;124mc\u001b[39m\u001b[38;5;124m'\u001b[39m]))) \u001b[38;5;66;03m# expects ['ab', 'b', 'ba', 'bb', 'c']\u001b[39;00m\n\u001b[0;32m      4\u001b[0m \u001b[38;5;28mprint\u001b[39m(\u001b[38;5;28mnext\u001b[39m(sort([\u001b[38;5;124m'\u001b[39m\u001b[38;5;124mc\u001b[39m\u001b[38;5;124m'\u001b[39m, \u001b[38;5;124m'\u001b[39m\u001b[38;5;124mb\u001b[39m\u001b[38;5;124m'\u001b[39m, \u001b[38;5;124m'\u001b[39m\u001b[38;5;124ma\u001b[39m\u001b[38;5;124m'\u001b[39m]))) \u001b[38;5;66;03m# expects 'a'\u001b[39;00m\n",
      "\u001b[1;31mTypeError\u001b[0m: 'NoneType' object is not iterable"
     ]
    }
   ],
   "source": [
    "print(list(sort([]))) # expects []\n",
    "print(list(sort(['z', 'x', 'w', 'y']))) # expects ['w', 'x', 'y', 'z']\n",
    "print(list(sort(['b', 'ba', 'ab', 'bb', 'c']))) # expects ['ab', 'b', 'ba', 'bb', 'c']\n",
    "print(next(sort(['c', 'b', 'a']))) # expects 'a'"
   ]
  }
 ],
 "metadata": {
  "kernelspec": {
   "display_name": "Python 3 (ipykernel)",
   "language": "python",
   "name": "python3"
  },
  "language_info": {
   "codemirror_mode": {
    "name": "ipython",
    "version": 3
   },
   "file_extension": ".py",
   "mimetype": "text/x-python",
   "name": "python",
   "nbconvert_exporter": "python",
   "pygments_lexer": "ipython3",
   "version": "3.12.1"
  }
 },
 "nbformat": 4,
 "nbformat_minor": 5
}
