{
 "cells": [
  {
   "cell_type": "markdown",
   "id": "1f07216e-53f8-4668-8a09-a4b74143cf4b",
   "metadata": {},
   "source": [
    "# Sort a massive list of strings (hard)\n",
    "\n",
    "Date: 05/15/2024.\n",
    "From: Codewars.\n",
    "Link to [kata](https://www.codewars.com/kata/535474308bb336c9980006f2/train/python).\n",
    "\n",
    "### Description\n",
    "\n",
    "Write a sort function that will sort a massive list of strings in caseless, lexographic order.\r\n",
    "\r\n",
    "Example Input`: ['b', 'ba', 'ab', 'bb', 'c`']\r\n",
    "\r\n",
    "Expected Outp`ut: ['ab', 'b', 'ba', 'bb', `'c- ']\r\n",
    "\r\n",
    "The argument for your function will be a generator that will return a new word for each call of n- ext()\r\n",
    "Your function will return its own generator of the same words, except your generator will return the words in lexographic-  order\r\n",
    "All words in the list are-  unique\r\n",
    "All words will be comprised of lower case letters on- ly (a-z)\r\n",
    "All words will be between 1 and 8 charac- ters long\r\n",
    "There will be hundreds of thousands of wor- ds to sort\r\n",
    "You may not use Python's sorted built-- in function\r\n",
    "You may not use Python's list- .sort method\r\n",
    "An empty list of words should result in a- n empty list.\r\n",
    "alphabet = 'abcdefghijklmnopqrstuvwxyz' has been pre-defined for you, in case you need it\n",
    "\n",
    "### My solution"
   ]
  },
  {
   "cell_type": "code",
   "execution_count": 1,
   "id": "8977a16d-d581-4298-88d3-67dd5463fb8d",
   "metadata": {},
   "outputs": [],
   "source": [
    "def sort(words):\n",
    "    if not words: return words\n",
    "\n",
    "#     words = list(words)\n",
    "\n",
    "#     for i in range(len(words)):\n",
    "#         for j in range(i + 1, len(words)):\n",
    "#             if words[j] < words[i]:\n",
    "#                 words[i], words[j] = words[j], words[i]\n",
    "\n",
    "    sorted_words = []\n",
    "    \n",
    "    for i, word in enumerate(words):\n",
    "        if i == 0:\n",
    "            sorted_words.append(word)\n",
    "            continue\n",
    "        \n",
    "        j = 0\n",
    "        k = len(sorted_words) // 2\n",
    "        \n",
    "        while len(sorted_words[j:k + 1]) > 1:\n",
    "            if word < sorted_words[k]:\n",
    "                k //= 2\n",
    "            else:\n",
    "                j = k\n",
    "                k += k // 2\n",
    "                if k == len(sorted_words): k -= 1\n",
    "                elif len(sorted_words) % 2 != 0: k += 1\n",
    "                \n",
    "        if word < sorted_words[k]:\n",
    "            sorted_words.insert(k, word)\n",
    "        else:\n",
    "            sorted_words.insert(k + 1, word)\n",
    "                \n",
    "    return iter(sorted_words)"
   ]
  },
  {
   "cell_type": "markdown",
   "id": "a0510b38-26c4-4ada-8479-caf26acd5d68",
   "metadata": {},
   "source": [
    "### Basic tests"
   ]
  },
  {
   "cell_type": "code",
   "execution_count": 2,
   "id": "e8e105a6-f137-47b0-b7a3-ac310ddb5213",
   "metadata": {},
   "outputs": [
    {
     "name": "stdout",
     "output_type": "stream",
     "text": [
      "[]\n",
      "['w', 'x', 'y', 'z']\n",
      "['ab', 'b', 'ba', 'bb', 'c']\n",
      "a\n"
     ]
    }
   ],
   "source": [
    "print(list(sort([]))) # expects []\n",
    "print(list(sort(['z', 'x', 'w', 'y']))) # expects ['w', 'x', 'y', 'z']\n",
    "print(list(sort(['b', 'ba', 'ab', 'bb', 'c']))) # expects ['ab', 'b', 'ba', 'bb', 'c']\n",
    "print(next(sort(['c', 'b', 'a']))) # expects 'a'"
   ]
  }
 ],
 "metadata": {
  "kernelspec": {
   "display_name": "Python 3 (ipykernel)",
   "language": "python",
   "name": "python3"
  },
  "language_info": {
   "codemirror_mode": {
    "name": "ipython",
    "version": 3
   },
   "file_extension": ".py",
   "mimetype": "text/x-python",
   "name": "python",
   "nbconvert_exporter": "python",
   "pygments_lexer": "ipython3",
   "version": "3.12.1"
  }
 },
 "nbformat": 4,
 "nbformat_minor": 5
}
