{
 "cells": [
  {
   "cell_type": "markdown",
   "id": "019ce42b-697c-49e4-bb53-4f9699f8443a",
   "metadata": {},
   "source": [
    "# Speed control\n",
    "\n",
    "Date: 05/11/2024.\n",
    "From: Codewars.\n",
    "Link to [kata](https://www.codewars.com/kata/56484848ba95170a8000004d/train/python).\n",
    "\n",
    "### Description\n",
    "\n",
    "In John's car the GPS records every s seconds the distance travelled from an origin (distances are measured in an arbitrary but consistent unit). For example, below is part of a record with s = 15:\n",
    "\n",
    "```\n",
    "x = [0.0, 0.19, 0.5, 0.75, 1.0, 1.25, 1.5, 1.75, 2.0, 2.25]\n",
    "```\n",
    "\n",
    "The sections are:\n",
    "\n",
    "```\n",
    "0.0-0.19, 0.19-0.5, 0.5-0.75, 0.75-1.0, 1.0-1.25, 1.25-1.50, 1.5-1.75, 1.75-2.0, 2.0-2.25\n",
    "```\n",
    "\n",
    "We can calculate John's average hourly speed on every section and we get:\n",
    "\n",
    "```\n",
    "[45.6, 74.4, 60.0, 60.0, 60.0, 60.0, 60.0, 60.0, 60.0]\n",
    "```\n",
    "\n",
    "Given s and x the task is to return as an integer the *floor* of the maximum average speed per hour obtained on the sections of x. If x length is less than or equal to 1 return 0 since the car didn't move.\n",
    "\n",
    "Example:\n",
    "\n",
    "- With the above data your function gps(s, x) should return 74\n",
    "\n",
    "**Note**\n",
    "\n",
    "With floats it can happen that results depends on the operations order. To calculate hourly speed you can use:\n",
    "\n",
    "`(3600 * delta_distance) / s`\n",
    "\n",
    "Happy coding!\n",
    "\n",
    "### My solution"
   ]
  },
  {
   "cell_type": "code",
   "execution_count": 1,
   "id": "c29fba50-d60e-4ea9-b9cf-b776af26e985",
   "metadata": {},
   "outputs": [],
   "source": [
    "def gps(s, x):\n",
    "    if len(x) <= 1: return 0\n",
    "    hourly_speed = lambda delta_distance: (3600 * delta_distance) / s\n",
    "    deltas = [hourly_speed(x[i + 1] - x[i]) for i in range(len(x)) if i < len(x) - 1]\n",
    "    return int(max(deltas))"
   ]
  },
  {
   "cell_type": "markdown",
   "id": "122d4f27-4472-4dc7-8428-5a9a7981430f",
   "metadata": {},
   "source": [
    "### Basic tests"
   ]
  },
  {
   "cell_type": "code",
   "execution_count": 2,
   "id": "1261ffbd-a82d-41d3-885d-ccea2ab3f7fc",
   "metadata": {},
   "outputs": [
    {
     "name": "stdout",
     "output_type": "stream",
     "text": [
      "41 41\n",
      "219 219\n",
      "80 80\n",
      "90 90\n",
      "72 72\n",
      "72 72\n",
      "88 88\n",
      "76 76\n",
      "82 82\n",
      "58 58\n",
      "0 0\n",
      "0 0\n"
     ]
    }
   ],
   "source": [
    "x = [0.0, 0.23, 0.46, 0.69, 0.92, 1.15, 1.38, 1.61]\n",
    "s = 20\n",
    "u = 41\n",
    "print(gps(s, x), u)\n",
    "x = [0.0, 0.11, 0.22, 0.33, 0.44, 0.65, 1.08, 1.26, 1.68, 1.89, 2.1, 2.31, 2.52, 3.25]\n",
    "s = 12\n",
    "u = 219\n",
    "print(gps(s, x), u)\n",
    "x = [0.0, 0.18, 0.36, 0.54, 0.72, 1.05, 1.26, 1.47, 1.92, 2.16, 2.4, 2.64, 2.88, 3.12, 3.36, 3.6, 3.84]\n",
    "s = 20\n",
    "u = 80\n",
    "print(gps(s, x), u)\n",
    "x = [0.0, 0.01, 0.36, 0.6, 0.84, 1.05, 1.26, 1.47, 1.68, 1.89, 2.1, 2.31, 2.52, 2.73, 2.94, 3.15]\n",
    "s = 14\n",
    "u = 90\n",
    "print(gps(s, x), u)\n",
    "x = [0.0, 0.02, 0.36, 0.54, 0.72, 0.9, 1.08, 1.26, 1.44, 1.62, 1.8]\n",
    "s = 17\n",
    "u = 72\n",
    "print(gps(s, x), u)\n",
    "x = [0.0, 0.24, 0.48, 0.72, 0.96, 1.2, 1.44, 1.68, 1.92, 2.16, 2.4]\n",
    "s = 12\n",
    "u = 72\n",
    "print(gps(s, x), u)\n",
    "x = [0.0, 0.02, 0.44, 0.66, 0.88, 1.1, 1.32, 1.54, 1.76]\n",
    "s = 17\n",
    "u = 88\n",
    "print(gps(s, x), u)\n",
    "x = [0.0, 0.2, 0.4, 0.6, 0.8, 1.0, 1.32, 1.54, 1.76, 1.98, 2.2, 2.42, 2.76, 2.99, 3.22, 3.45]\n",
    "s = 16\n",
    "u = 76\n",
    "print(gps(s, x), u)\n",
    "x = [0.0, 0.01, 0.36, 0.75, 1.0, 1.25, 1.5, 1.75, 2.0, 2.25, 2.5, 2.75, 3.0, 3.25, 3.5, 3.75, 4.0, 4.25, 4.5, 4.75]\n",
    "s = 17\n",
    "u = 82\n",
    "print(gps(s, x), u)\n",
    "x = [0.0, 0.2, 0.4, 0.69, 0.92, 1.15, 1.38, 1.61, 1.92, 2.16, 2.4, 2.64, 2.88, 3.12, 3.36]\n",
    "s = 19\n",
    "u = 58\n",
    "print(gps(s, x), u)\n",
    "x = []\n",
    "s = 19\n",
    "u = 0\n",
    "print(gps(s, x), u)\n",
    "x = [0.0]\n",
    "s = 19\n",
    "u = 0\n",
    "print(gps(s, x), u)"
   ]
  }
 ],
 "metadata": {
  "kernelspec": {
   "display_name": "Python 3 (ipykernel)",
   "language": "python",
   "name": "python3"
  },
  "language_info": {
   "codemirror_mode": {
    "name": "ipython",
    "version": 3
   },
   "file_extension": ".py",
   "mimetype": "text/x-python",
   "name": "python",
   "nbconvert_exporter": "python",
   "pygments_lexer": "ipython3",
   "version": "3.12.1"
  }
 },
 "nbformat": 4,
 "nbformat_minor": 5
}
