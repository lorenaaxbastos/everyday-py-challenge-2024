{
 "cells": [
  {
   "cell_type": "markdown",
   "id": "2edd1450-cb19-4436-961d-afcea638eb14",
   "metadata": {},
   "source": [
    "# Find the nth evil number\n",
    "\n",
    "Date: 05/01/2024.\n",
    "From: Codewars.\n",
    "Link to [kata](https://www.codewars.com/kata/634420abae4b81004afefca7/train/python).\n",
    "\n",
    "### Description\n",
    "\n",
    "'Evil' numbers are non-negative numbers with even parity, that is, numbers with an even number of 1s in their binary representation. The first few evil numbers are:\n",
    "\n",
    "`0,3,5,6,9,10,12,15,17,18,20`\n",
    "\n",
    "Write a function to return the nth evil number.\n",
    "\n",
    "```\n",
    "input 1 returns 0\n",
    "input 2 returns 3\n",
    "input 3 returns 5\n",
    "```\n",
    "-- etc\n",
    "\n",
    "The tests will include values of n up to 10^100.\n",
    "\n",
    "### My solution"
   ]
  },
  {
   "cell_type": "code",
   "execution_count": 1,
   "id": "05a02f72-5ca4-4e1d-a91d-ecca164f4453",
   "metadata": {},
   "outputs": [],
   "source": [
    "def get_evil(n):\n",
    "    pass"
   ]
  },
  {
   "cell_type": "code",
   "execution_count": 2,
   "id": "cff2c51c-4fd6-4916-8eac-ecf5900b1e86",
   "metadata": {},
   "outputs": [
    {
     "name": "stdout",
     "output_type": "stream",
     "text": [
      "None\n",
      "None\n",
      "None\n",
      "None\n",
      "None\n"
     ]
    }
   ],
   "source": [
    "print(get_evil(1)) #expects 0\n",
    "print(get_evil(2)) #expects 3\n",
    "print(get_evil(3)) #expects 5\n",
    "print(get_evil(10)) #expects 18\n",
    "print(get_evil(11)) #expects 20"
   ]
  }
 ],
 "metadata": {
  "kernelspec": {
   "display_name": "Python 3 (ipykernel)",
   "language": "python",
   "name": "python3"
  },
  "language_info": {
   "codemirror_mode": {
    "name": "ipython",
    "version": 3
   },
   "file_extension": ".py",
   "mimetype": "text/x-python",
   "name": "python",
   "nbconvert_exporter": "python",
   "pygments_lexer": "ipython3",
   "version": "3.12.1"
  }
 },
 "nbformat": 4,
 "nbformat_minor": 5
}
