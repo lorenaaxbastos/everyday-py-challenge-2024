{
 "cells": [
  {
   "cell_type": "markdown",
   "id": "e5a42ec0-a77f-4495-bc90-4f02a12d0ce0",
   "metadata": {},
   "source": [
    "# Rectangle into squares\n",
    "\n",
    "Date: 05/31/2024.\n",
    "From: Codewars.\n",
    "Link to [kata](https://www.codewars.com/kata/55466989aeecab5aac00003e/train/python).\n",
    "\n",
    "### Description\n",
    "\n",
    "The drawing below gives an idea of how to cut a given \"true\" rectangle into squares (\"true\" rectangle meaning that the two dimensions are different).\n",
    "\n",
    "<img src=\"https://i.imgur.com/lk5vJ7sm.jpg\">\n",
    "\n",
    "Can you translate this drawing into an algorithm?\n",
    "\n",
    "You will be given two dimensions\n",
    "\n",
    "- a positive integer length\n",
    "- a positive integer width\n",
    "\n",
    "You will return a collection or a string (depending on the language; Shell bash, PowerShell, Pascal and Fortran return a string) with the size of each of the squares.\n",
    "\n",
    "**Examples in general form:**\n",
    "(depending on the language)\n",
    "\n",
    "```\n",
    "sqInRect(5, 3) should return [3, 2, 1, 1]\n",
    "sqInRect(3, 5) should return [3, 2, 1, 1]\n",
    "```\n",
    "\n",
    "**Notes:**\n",
    "\n",
    "lng == wdth as a starting case would be an entirely different problem and the drawing is planned to be interpreted with lng != wdth. (See kata, Square into Squares. Protect trees! http://www.codewars.com/kata/54eb33e5bc1a25440d000891 for this problem).\n",
    "\n",
    "When the initial parameters are so that lng == wdth, the solution [lng] would be the most obvious but not in the spirit of this kata so, in that case, return None/nil/null/Nothing or return {} with C++, Array() with Scala, [] with Perl, Raku.\n",
    "\n",
    "In that case the returned structure of C will have its sz component equal to 0.\n",
    "\n",
    "Return the string \"nil\" with Bash, PowerShell, Pascal and Fortran.\n",
    "\n",
    "### My solution"
   ]
  },
  {
   "cell_type": "code",
   "execution_count": 1,
   "id": "0fdb6f3f-5a6f-45ff-9162-a5b32b21d709",
   "metadata": {},
   "outputs": [],
   "source": [
    "def sq_in_rect(length, width):\n",
    "    if length == width:\n",
    "        return None\n",
    "    \n",
    "    total_area = length * width\n",
    "    squares = []\n",
    "    \n",
    "    while total_area > 0:\n",
    "        square_size = min(length, width)\n",
    "        squares.append(square_size)\n",
    "        total_area -= square_size ** 2\n",
    "        if length == min(length, width):\n",
    "            width -= square_size\n",
    "        elif length == width:\n",
    "            length -= square_size\n",
    "            width -=square_size\n",
    "        else:\n",
    "            length -=square_size\n",
    "            \n",
    "    return squares"
   ]
  },
  {
   "cell_type": "markdown",
   "id": "d5f99cb7-0e92-4319-b4b3-2249e5a4f3a0",
   "metadata": {},
   "source": [
    "### Basic tests"
   ]
  },
  {
   "cell_type": "code",
   "execution_count": 2,
   "id": "2d56d1af-425c-4496-b441-099b4d2336a0",
   "metadata": {},
   "outputs": [
    {
     "name": "stdout",
     "output_type": "stream",
     "text": [
      "True\n",
      "True\n",
      "True\n",
      "True\n"
     ]
    }
   ],
   "source": [
    "print(sq_in_rect(5, 5) == None)\n",
    "print(sq_in_rect(5, 3) == [3, 2, 1, 1])\n",
    "print(sq_in_rect(3, 5) == [3, 2, 1, 1])\n",
    "print(sq_in_rect(20, 14) == [14, 6, 6, 2, 2, 2])"
   ]
  }
 ],
 "metadata": {
  "kernelspec": {
   "display_name": "Python 3 (ipykernel)",
   "language": "python",
   "name": "python3"
  },
  "language_info": {
   "codemirror_mode": {
    "name": "ipython",
    "version": 3
   },
   "file_extension": ".py",
   "mimetype": "text/x-python",
   "name": "python",
   "nbconvert_exporter": "python",
   "pygments_lexer": "ipython3",
   "version": "3.12.2"
  }
 },
 "nbformat": 4,
 "nbformat_minor": 5
}
