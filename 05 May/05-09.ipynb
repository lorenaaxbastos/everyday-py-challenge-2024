{
 "cells": [
  {
   "cell_type": "markdown",
   "id": "5895cde1-e2d8-493e-9a27-279a4d3bbf4c",
   "metadata": {},
   "source": [
    "# Roman numerals helper\n",
    "\n",
    "Date: 05/09/2024.\n",
    "From: Codewars.\n",
    "Link to [kata](https://www.codewars.com/kata/51b66044bce5799a7f000003/train/python).\n",
    "\n",
    "### Description\n",
    "\n",
    "Write two functions that convert a roman numeral to and from an integer value. Multiple roman numeral values will be tested for each function.\n",
    "\n",
    "Modern Roman numerals are written by expressing each digit separately starting with the left most digit and skipping any digit with a value of zero. In Roman numerals:\n",
    "\n",
    "- 1990 is rendered: 1000=M, 900=CM, 90=XC; resulting in MCMXC\n",
    "- 2008 is written as 2000=MM, 8=VIII; or MMVIII\n",
    "- 1666 uses each Roman symbol in descending order: MDCLXVI.\n",
    "\n",
    "Input range : 1 <= n < 4000\n",
    "\n",
    "In this kata 4 should be represented as IV, NOT as IIII (the \"watchmaker's four\").\n",
    "\n",
    "**Examples**\n",
    "\n",
    "to roman:\n",
    "\n",
    "```\n",
    "2000 -> \"MM\"\n",
    "1666 -> \"MDCLXVI\"\n",
    "  86 -> \"LXXXVI\"\n",
    "   1 -> \"I\"\n",
    "```\n",
    "\n",
    "from roman:\n",
    "\n",
    "```\n",
    "\"MM\"      -> 2000\n",
    "\"MDCLXVI\" -> 1666\n",
    "\"LXXXVI\"  ->   86\n",
    "\"I\"       ->    1\n",
    "```\n",
    "\n",
    "**Help**\n",
    "\n",
    "```\n",
    "+--------+-------+\n",
    "| Symbol | Value |\n",
    "+--------+-------+\n",
    "|    M   |  1000 |\n",
    "|   CM   |   900 |\n",
    "|    D   |   500 |\n",
    "|   CD   |   400 |\n",
    "|    C   |   100 |\n",
    "|   XC   |    90 |\n",
    "|    L   |    50 |\n",
    "|   XL   |    40 |\n",
    "|    X   |    10 |\n",
    "|   IX   |     9 |\n",
    "|    V   |     5 |\n",
    "|   IV   |     4 |\n",
    "|    I   |     1 |\n",
    "+--------+-------+\n",
    "```\n",
    "\n",
    "### My solution"
   ]
  },
  {
   "cell_type": "code",
   "execution_count": 1,
   "id": "6031c717-eec6-46e1-a677-bd88633c8c75",
   "metadata": {},
   "outputs": [],
   "source": [
    "class RomanNumerals:\n",
    "    def to_roman(val : int) -> str:\n",
    "        pass\n",
    "\n",
    "    def from_roman(roman_num : str) -> int:\n",
    "        pass"
   ]
  },
  {
   "cell_type": "markdown",
   "id": "14c7d73e-addc-4870-ae31-54212fff26c9",
   "metadata": {},
   "source": [
    "### Basic tests"
   ]
  },
  {
   "cell_type": "code",
   "execution_count": 4,
   "id": "2e9a4a8b-58fd-4a1e-8697-fc4d84dae4f3",
   "metadata": {},
   "outputs": [
    {
     "name": "stdout",
     "output_type": "stream",
     "text": [
      "None M ...testing to_roman, for input 1000\n",
      "None IV ...testing to_roman, for input 4\n",
      "None I ...testing to_roman, for input 1\n",
      "None MCMXC ...testing to_roman, for input 1990\n",
      "None MMVIII ...testing to_roman, for input 2008\n",
      "None 21 ...testing from_roman, for input XXI\n",
      "None 1 ...testing from_roman, for input I\n",
      "None 4 ...testing from_roman, for input IV\n",
      "None 2008 ...testing from_roman, for input MMVIII\n",
      "None 1666 ...testing from_roman, for input MDCLXVI\n"
     ]
    }
   ],
   "source": [
    "def do_test(input, expected):\n",
    "    func = RomanNumerals.to_roman if type(input) is int else RomanNumerals.from_roman\n",
    "    actual = func(input)\n",
    "    print(actual, expected, f'...testing {func.__name__}, for input {input}')\n",
    "    \n",
    "do_test(1000, 'M')\n",
    "do_test(4, 'IV')\n",
    "do_test(1, 'I')\n",
    "do_test(1990, 'MCMXC')\n",
    "do_test(2008, 'MMVIII')\n",
    "do_test('XXI', 21)\n",
    "do_test('I', 1)\n",
    "do_test('IV', 4)\n",
    "do_test('MMVIII', 2008)\n",
    "do_test('MDCLXVI', 1666)"
   ]
  }
 ],
 "metadata": {
  "kernelspec": {
   "display_name": "Python 3 (ipykernel)",
   "language": "python",
   "name": "python3"
  },
  "language_info": {
   "codemirror_mode": {
    "name": "ipython",
    "version": 3
   },
   "file_extension": ".py",
   "mimetype": "text/x-python",
   "name": "python",
   "nbconvert_exporter": "python",
   "pygments_lexer": "ipython3",
   "version": "3.12.1"
  }
 },
 "nbformat": 4,
 "nbformat_minor": 5
}
