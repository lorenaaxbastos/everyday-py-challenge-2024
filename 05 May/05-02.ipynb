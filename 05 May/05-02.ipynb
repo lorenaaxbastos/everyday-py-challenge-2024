{
 "cells": [
  {
   "cell_type": "markdown",
   "id": "20b610b7-bd04-4c93-9cb0-88205b2d5c5e",
   "metadata": {},
   "source": [
    "# Remove a specific element of an array\n",
    "\n",
    "Date: 05/02/2024.\n",
    "From: Codewars.\n",
    "Link to [kata](https://www.codewars.com/kata/581bb3c1c221fb8e790001ef/train/python).\n",
    "\n",
    "### Description\n",
    "\n",
    "You will be given a certain array of length n, such that n > 4, having positive and negative integers but there will be no zeroes and all the elements will occur once in it.\n",
    "\n",
    "We may obtain an amount of n sub-arrays of length n - 1, removing one element at a time (from left to right).\n",
    "\n",
    "For each subarray, let's calculate the product and sum of its elements with the corresponding absolute value of the quotient, q = SubProduct/SubSum (if it is possible, SubSum cannot be 0). Then we select the array with the lowest value of |q|(absolute value)\n",
    "\n",
    "e.g.: we have the array, arr = `[1, 23, 2, -8, 5]`\n",
    "\n",
    "```\n",
    "Sub Arrays            SubSum    SubProduct         |q|\n",
    "[23, 2, -8, 5]         22         -1840         83.636363\n",
    "[1, 2, -8, 5]           0           -80          No value\n",
    "[1, 23, -8, 5]         21          -920         43.809524\n",
    "[1, 23, 2, 5]          31           230          7.419355  <--- selected array\n",
    "[1, 23, 2, -8]         18           368         20.444444\n",
    "```\n",
    "\n",
    "Let's compare the given array with the selected subarray:\n",
    "\n",
    "```\n",
    "[1, 23, 2, -8, 5]\n",
    "[1, 23, 2,     5]\n",
    "```\n",
    "\n",
    "The difference between them is at the index 3 for the given array, with element -8, so we put both things for a result `[3, -8]`.\n",
    "\n",
    "That means that to obtain the selected subarray we have to take out the value -8 at index 3. We need a function that receives an array as an argument and outputs the pair `[index, arr[index]]` that generates the subarray with the lowest value of |q|.\n",
    "\n",
    "```\n",
    "select_subarray([1, 23, 2, -8, 5]) == [3, -8]\n",
    "```\n",
    "\n",
    "Another case:\n",
    "\n",
    "```\n",
    "select_subarray([1, 3, 23, 4, 2, -8, 5, 18]) == [2, 23]\n",
    "```\n",
    "\n",
    "We may have some special arrays that may have more than one solution as the one that follows below.\n",
    "\n",
    "```\n",
    "select_subarray([10, 20, -30, 100, 200]) == [[3, 100], [4, 200]]\n",
    "```\n",
    "\n",
    "If there is more than one result the function should output a 2Darray sorted by the index of the element removed from the array.\n",
    "\n",
    "Thanks to Unnamed for detecting the special cases when we have multiple solutions.\n",
    "\n",
    "Enjoy it!\n",
    "\n",
    "### My solution"
   ]
  },
  {
   "cell_type": "code",
   "execution_count": 58,
   "id": "0a0ea68b-d82b-4da3-b69e-684df22ee7b8",
   "metadata": {},
   "outputs": [],
   "source": [
    "from functools import reduce\n",
    "\n",
    "def select_subarray(arr):\n",
    "    subarrays = []\n",
    "    \n",
    "    for i in range(len(arr)):\n",
    "        subarr = arr[:]\n",
    "        del subarr[i]\n",
    "        subarrays.append(subarr)\n",
    "    \n",
    "    product = lambda l: reduce(lambda a, b: a * b, l)\n",
    "    q = lambda l: abs(product(l) / sum(l))\n",
    "\n",
    "    calculated_qs = []\n",
    "    for l in subarrays:\n",
    "        try:\n",
    "            calculated_qs.append(q(l))\n",
    "        except ZeroDivisionError:\n",
    "            calculated_qs.append(abs(product(l)))\n",
    "\n",
    "    result = []\n",
    "    i = 0\n",
    "    for _ in range(calculated_qs.count(min(calculated_qs))):\n",
    "        lowest_q_i = calculated_qs.index(min(calculated_qs))\n",
    "        diff_el = list(set(arr) - set(subarrays[lowest_q_i]))[0]\n",
    "        result.append([lowest_q_i + i, diff_el])\n",
    "        del subarrays[lowest_q_i]\n",
    "        i += 1\n",
    "        \n",
    "    return result[0] if len(result) == 1 else result"
   ]
  },
  {
   "cell_type": "markdown",
   "id": "b80a44d8-1cc3-4292-8508-2b889a5554fc",
   "metadata": {},
   "source": [
    "### Basic tests"
   ]
  },
  {
   "cell_type": "code",
   "execution_count": 59,
   "id": "293a9c04-466b-4d0b-99c8-128d98ec9414",
   "metadata": {},
   "outputs": [
    {
     "name": "stdout",
     "output_type": "stream",
     "text": [
      "[3, -8]\n",
      "[2, 23]\n",
      "[1, -8]\n",
      "[[3, 100], [4, 200]]\n"
     ]
    }
   ],
   "source": [
    "print(select_subarray([1, 23, 2, -8, 5])) # expects [3, -8]\n",
    "print(select_subarray([1, 3, 23, 4, 2, -8, 5, 18])) # expects [2, 23]\n",
    "print(select_subarray([2, -8, 5, 18])) # expects [1, -8]\n",
    "print(select_subarray([10, 20, -30, 100, 200])) # expects [[3, 100], [4, 200]]"
   ]
  }
 ],
 "metadata": {
  "kernelspec": {
   "display_name": "Python 3 (ipykernel)",
   "language": "python",
   "name": "python3"
  },
  "language_info": {
   "codemirror_mode": {
    "name": "ipython",
    "version": 3
   },
   "file_extension": ".py",
   "mimetype": "text/x-python",
   "name": "python",
   "nbconvert_exporter": "python",
   "pygments_lexer": "ipython3",
   "version": "3.12.1"
  }
 },
 "nbformat": 4,
 "nbformat_minor": 5
}
