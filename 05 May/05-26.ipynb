{
 "cells": [
  {
   "cell_type": "markdown",
   "id": "54995b97-41fa-4546-b83e-5458648a0d0d",
   "metadata": {},
   "source": [
    "# Letter triangles\n",
    "\n",
    "Date: 05/26/2024.\n",
    "From: Codewars.\n",
    "Link to [kata](https://www.codewars.com/kata/635e70f47dadea004acb5663/train/python).\n",
    "\n",
    "### Description\n",
    "\n",
    "Similar to Coloured triangles.\n",
    "But this one sums indexes of letters in alphabet.\n",
    "\n",
    "**Examples**\n",
    "\n",
    "```\n",
    "c o d e w a r s\n",
    "c is 3\n",
    "o is 15\n",
    "15+3=18\n",
    "18. letter in the alphabet is r\n",
    "then append r\n",
    "next is o d\n",
    "sum is 19\n",
    "append s\n",
    "do this until you iterate through whole string\n",
    "now, string is rsibxsk\n",
    "repeat whole cycle until you reach 1 character\n",
    "then return the char\n",
    "output is l\n",
    "codewars -> l\n",
    "triangle -> d\n",
    "\n",
    "C O D E W A R S\n",
    " R S I B X S K\n",
    "  K B K Z Q D\n",
    "   M M K Q U\n",
    "    Z X B L\n",
    "     X Z N\n",
    "      X N\n",
    "       L\n",
    "       \n",
    "A B C D\n",
    " C E G\n",
    "  H L\n",
    "   T\n",
    "```\n",
    "\n",
    "**More examples**\n",
    "\n",
    "```\n",
    "youhavechosentotranslatethiskata -> a\n",
    "cod -> k\n",
    "yes -> b\n",
    "hours -> y\n",
    "circlecipher -> z\n",
    "lettertriangles -> o\n",
    "cod -> rs -> k\n",
    "abcd -> ceg -> hl -> t\n",
    "codewars -> rsibxsk -> kbkzqd -> mmkqu -> zxbl -> xzn -> xn -> l\n",
    "```\n",
    "\n",
    "Note, if the sum is bigger than 26, then start over\n",
    "\n",
    "Input will always be lowercase letters. Random tests contains strings up to 30 letters.\n",
    "\n",
    "### My solution"
   ]
  },
  {
   "cell_type": "code",
   "execution_count": 4,
   "id": "7b170989-b9d3-4380-b89f-db065b47d852",
   "metadata": {},
   "outputs": [],
   "source": [
    "from string import ascii_lowercase\n",
    "\n",
    "def triangle(row):\n",
    "    result = row\n",
    "    while len(result) != 1:\n",
    "        idx_alphabet = [ascii_lowercase.index(char) + 1 for char in result]\n",
    "        result = [ascii_lowercase[sum(idx_alphabet[i:i + 2]) % len(ascii_lowercase) - 1]\n",
    "                  for i in range(len(idx_alphabet))\n",
    "                  if i < len(idx_alphabet) - 1]\n",
    "    return result[0]"
   ]
  },
  {
   "cell_type": "markdown",
   "id": "bc46981e-7a8f-445b-9743-203c574767bf",
   "metadata": {},
   "source": [
    "### Basic tests"
   ]
  },
  {
   "cell_type": "code",
   "execution_count": 5,
   "id": "89ce5b93-3b0e-484f-b56e-b1fa12112368",
   "metadata": {},
   "outputs": [
    {
     "name": "stdout",
     "output_type": "stream",
     "text": [
      "True\n",
      "True\n",
      "True\n",
      "True\n"
     ]
    }
   ],
   "source": [
    "print(triangle('codewars') == 'l')\n",
    "print(triangle('triangle') == 'd')\n",
    "print(triangle('youhavechosentotranslatethiskata') == 'a')        \n",
    "print(triangle('b') == 'b')        "
   ]
  }
 ],
 "metadata": {
  "kernelspec": {
   "display_name": "Python 3 (ipykernel)",
   "language": "python",
   "name": "python3"
  },
  "language_info": {
   "codemirror_mode": {
    "name": "ipython",
    "version": 3
   },
   "file_extension": ".py",
   "mimetype": "text/x-python",
   "name": "python",
   "nbconvert_exporter": "python",
   "pygments_lexer": "ipython3",
   "version": "3.12.1"
  }
 },
 "nbformat": 4,
 "nbformat_minor": 5
}
