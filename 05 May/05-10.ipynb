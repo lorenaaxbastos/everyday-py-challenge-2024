{
 "cells": [
  {
   "cell_type": "markdown",
   "id": "7b021013-476d-4b54-8596-40949ae495a5",
   "metadata": {},
   "source": [
    "# Stop gninnipS My sdroW!\n",
    "\n",
    "Date: 05/10/2024.\n",
    "From: Codewars.\n",
    "Link to [kata](https://www.codewars.com/kata/5264d2b162488dc400000001/train/python).\n",
    "\n",
    "### Description\n",
    "\n",
    "Write a function that takes in a string of one or more words, and returns the same string, but with all words that have five or more letters reversed (Just like the name of this Kata). Strings passed in will consist of only letters and spaces. Spaces will be included only when more than one word is present.\n",
    "\n",
    "**Examples:**\n",
    "\n",
    "```\n",
    "\"Hey fellow warriors\"  --> \"Hey wollef sroirraw\" \n",
    "\"This is a test        --> \"This is a test\" \n",
    "\"This is another test\" --> \"This is rehtona test\"\n",
    "```\n",
    "\n",
    "### My solution"
   ]
  },
  {
   "cell_type": "code",
   "execution_count": 1,
   "id": "8a435978-c4f5-4916-b724-0d6d1f64fa33",
   "metadata": {},
   "outputs": [],
   "source": [
    "def spin_words(sentence):\n",
    "    pass"
   ]
  },
  {
   "cell_type": "markdown",
   "id": "aa7b9063-c39b-4c93-954e-764411e14cf0",
   "metadata": {},
   "source": [
    "### Basic tests"
   ]
  },
  {
   "cell_type": "code",
   "execution_count": 2,
   "id": "036a1b2b-8be6-4963-850c-aeb6b51bac7f",
   "metadata": {},
   "outputs": [
    {
     "name": "stdout",
     "output_type": "stream",
     "text": [
      "None\n",
      "None\n",
      "None\n",
      "None\n",
      "None\n"
     ]
    }
   ],
   "source": [
    "print(spin_words(\"Welcome\")) # expects \"emocleW\"\n",
    "print(spin_words(\"to\")) # expects \"to\"\n",
    "print(spin_words(\"CodeWars\")) # expects \"sraWedoC\"\n",
    "print(spin_words(\"Hey fellow warriors\")) # expects \"Hey wollef sroirraw\"\n",
    "print(spin_words(\"This sentence is a sentence\")) # expects \"This ecnetnes is a ecnetnes\""
   ]
  }
 ],
 "metadata": {
  "kernelspec": {
   "display_name": "Python 3 (ipykernel)",
   "language": "python",
   "name": "python3"
  },
  "language_info": {
   "codemirror_mode": {
    "name": "ipython",
    "version": 3
   },
   "file_extension": ".py",
   "mimetype": "text/x-python",
   "name": "python",
   "nbconvert_exporter": "python",
   "pygments_lexer": "ipython3",
   "version": "3.12.1"
  }
 },
 "nbformat": 4,
 "nbformat_minor": 5
}
