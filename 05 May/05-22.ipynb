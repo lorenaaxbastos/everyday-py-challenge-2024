{
 "cells": [
  {
   "cell_type": "markdown",
   "id": "b7a151cc-4976-4766-9fea-7a105345f805",
   "metadata": {},
   "source": [
    "# Sum strings as numbers\n",
    "\n",
    "Date: 05/22/2024.\n",
    "From: Codewars.\n",
    "Link to [kata](https://www.codewars.com/kata/587731fda577b3d1b0001196/train/python).\n",
    "\n",
    "### Description\n",
    "\n",
    "Write a method (or function, depending on the language) that converts a string to camelCase, that is, all words must have their first letter capitalized and spaces must be removed.\n",
    "\n",
    "**Examples (input --> output):**\n",
    "\n",
    "```\n",
    "\"hello case\" --> \"HelloCase\"\n",
    "\"camel case word\" --> \"CamelCaseWord\"\n",
    "```\n",
    "\n",
    "### My solution"
   ]
  },
  {
   "cell_type": "code",
   "execution_count": 4,
   "id": "0ff3afe1-7981-4165-9ba4-1d265869681a",
   "metadata": {},
   "outputs": [],
   "source": [
    "def camel_case(s):\n",
    "    return \"\".join(word.title() for word in s.split())"
   ]
  },
  {
   "cell_type": "markdown",
   "id": "029995df-80e3-40cd-bfd7-944086c50762",
   "metadata": {},
   "source": [
    "### Basic tests"
   ]
  },
  {
   "cell_type": "code",
   "execution_count": 5,
   "id": "a2f40918-af8a-4ff5-af5e-5cba51b882e8",
   "metadata": {},
   "outputs": [
    {
     "name": "stdout",
     "output_type": "stream",
     "text": [
      "True\n",
      "True\n",
      "True\n",
      "True\n",
      "True\n"
     ]
    }
   ],
   "source": [
    "print(camel_case(\"test case\") == \"TestCase\")\n",
    "print(camel_case(\"camel case method\") == \"CamelCaseMethod\")\n",
    "print(camel_case(\"say hello \") == \"SayHello\")\n",
    "print(camel_case(\" camel case word\") == \"CamelCaseWord\")\n",
    "print(camel_case(\"\") == \"\")"
   ]
  }
 ],
 "metadata": {
  "kernelspec": {
   "display_name": "Python 3 (ipykernel)",
   "language": "python",
   "name": "python3"
  },
  "language_info": {
   "codemirror_mode": {
    "name": "ipython",
    "version": 3
   },
   "file_extension": ".py",
   "mimetype": "text/x-python",
   "name": "python",
   "nbconvert_exporter": "python",
   "pygments_lexer": "ipython3",
   "version": "3.12.1"
  }
 },
 "nbformat": 4,
 "nbformat_minor": 5
}
