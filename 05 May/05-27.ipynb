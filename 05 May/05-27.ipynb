{
 "cells": [
  {
   "cell_type": "markdown",
   "id": "e74e11fd-52ee-4743-bcc6-f48e8e7c892c",
   "metadata": {},
   "source": [
    "# Find the longest gap!\n",
    "\n",
    "Date: 05/27/2024.\n",
    "From: Codewars.\n",
    "Link to [kata](https://www.codewars.com/kata/55b86beb1417eab500000051/train/python).\n",
    "\n",
    "### Description\n",
    "\n",
    "A binary gap within a positive number num is any sequence of consecutive zeros that is surrounded by ones at both ends in the binary representation of num.\n",
    "For example:\n",
    "\n",
    "- 9 has binary representation 1001 and contains a binary gap of length 2.\n",
    "- 529 has binary representation 1000010001 and contains two binary gaps: one of length 4 and one of length 3.\n",
    "- 20 has binary representation 10100 and contains one binary gap of length 1.\n",
    "- 15 has binary representation 1111 and has 0 binary gaps.\n",
    "\n",
    "Write function gap(num) that,  given a positive num,  returns the length of its longest binary gap.\n",
    "The function should return 0 if num doesn't contain a binary gap.\n",
    "\n",
    "### My solution"
   ]
  },
  {
   "cell_type": "code",
   "execution_count": 1,
   "id": "af1ee053-b2ee-488a-84bf-b7b553d341d4",
   "metadata": {},
   "outputs": [],
   "source": [
    "def gap(num):\n",
    "    return len(max(bin(num).strip(\"b0\").split(\"1\")))"
   ]
  },
  {
   "cell_type": "markdown",
   "id": "cdeb82fe-2ee8-4abd-9d79-bae0b2a98364",
   "metadata": {},
   "source": [
    "### Basic tests"
   ]
  },
  {
   "cell_type": "code",
   "execution_count": 2,
   "id": "caa8cca5-72ba-4fe9-b689-13eecf149911",
   "metadata": {},
   "outputs": [
    {
     "name": "stdout",
     "output_type": "stream",
     "text": [
      "True\n",
      "True\n",
      "True\n",
      "True\n"
     ]
    }
   ],
   "source": [
    "print(gap(9) == 2)\n",
    "print(gap(529) == 4)\n",
    "print(gap(20) == 1)\n",
    "print(gap(15) == 0)"
   ]
  }
 ],
 "metadata": {
  "kernelspec": {
   "display_name": "Python 3 (ipykernel)",
   "language": "python",
   "name": "python3"
  },
  "language_info": {
   "codemirror_mode": {
    "name": "ipython",
    "version": 3
   },
   "file_extension": ".py",
   "mimetype": "text/x-python",
   "name": "python",
   "nbconvert_exporter": "python",
   "pygments_lexer": "ipython3",
   "version": "3.12.2"
  }
 },
 "nbformat": 4,
 "nbformat_minor": 5
}
