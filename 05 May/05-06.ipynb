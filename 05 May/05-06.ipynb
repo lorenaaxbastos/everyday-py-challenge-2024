{
 "cells": [
  {
   "cell_type": "markdown",
   "id": "7c4be585-71e6-45e4-ae08-65caa3b0cdd9",
   "metadata": {},
   "source": [
    "# Greed is good\n",
    "\n",
    "Date: 05/06/2024.\n",
    "From: Codewars.\n",
    "Link to [kata](https://www.codewars.com/kata/5270d0d18625160ada0000e4/train/python).\n",
    "\n",
    "### Description\n",
    "\n",
    "Greed is a dice game played with five six-sided dice. Your mission, should you choose to accept it, is to score a throw according to these rules. You will always be given an array with five six-sided dice values.\n",
    "\n",
    "```\n",
    " Three 1's => 1000 points\n",
    " Three 6's =>  600 points\n",
    " Three 5's =>  500 points\n",
    " Three 4's =>  400 points\n",
    " Three 3's =>  300 points\n",
    " Three 2's =>  200 points\n",
    " One   1   =>  100 points\n",
    " One   5   =>   50 point\n",
    "```\n",
    "\n",
    "A single die can only be counted once in each roll. For example, a given \"5\" can only count as part of a triplet (contributing to the 500 points) or as a single 50 points, but not both in the same roll.\n",
    "\n",
    "**Example scoring**\n",
    "\n",
    "```\n",
    " Throw       Score\n",
    " ---------   ------------------\n",
    " 5 1 3 4 1   250:  50 (for the 5) + 2 * 100 (for the 1s)\n",
    " 1 1 1 3 1   1100: 1000 (for three 1s) + 100 (for the other 1)\n",
    " 2 4 4 5 4   450:  400 (for three 4s) + 50 (for the 5)\n",
    "```\n",
    "\n",
    "In some languages, it is possible to mutate the input to the function. This is something that you should never do. If you mutate the input, you will not be able to pass all the tests.\n",
    "\n",
    "### My solution"
   ]
  },
  {
   "cell_type": "code",
   "execution_count": 1,
   "id": "b95037d8-839b-48ba-b944-a75a7997ffac",
   "metadata": {},
   "outputs": [],
   "source": [
    "from collections import Counter\n",
    "\n",
    "def score(dice):\n",
    "    freq = dict(Counter(dice))\n",
    "    points = 0\n",
    "    \n",
    "    for value, times in freq.items():\n",
    "        if value == 1: value = 10\n",
    "        points += value * (times // 3) * 100\n",
    "        if value == 10 or value == 5:\n",
    "            points += value * (times - ((times // 3) * 3)) * 10\n",
    "    \n",
    "    return points"
   ]
  },
  {
   "cell_type": "markdown",
   "id": "4154f6a1-16c8-4303-a332-00c3356fd918",
   "metadata": {},
   "source": [
    "### Basic tests"
   ]
  },
  {
   "cell_type": "code",
   "execution_count": 2,
   "id": "e8876e00-8830-4221-b2aa-3f74d769a0da",
   "metadata": {},
   "outputs": [
    {
     "name": "stdout",
     "output_type": "stream",
     "text": [
      "250\n",
      "1100\n",
      "0\n",
      "400\n",
      "450\n"
     ]
    }
   ],
   "source": [
    "print(score( [5, 1, 3, 4, 1] )) # expects  250\n",
    "print(score( [1, 1, 1, 3, 1] )) # expects 1100\n",
    "print(score( [2, 3, 4, 6, 2] )) # expects    0\n",
    "print(score( [4, 4, 4, 3, 3] )) # expects  400\n",
    "print(score( [2, 4, 4, 5, 4] )) # expects  450"
   ]
  }
 ],
 "metadata": {
  "kernelspec": {
   "display_name": "Python 3 (ipykernel)",
   "language": "python",
   "name": "python3"
  },
  "language_info": {
   "codemirror_mode": {
    "name": "ipython",
    "version": 3
   },
   "file_extension": ".py",
   "mimetype": "text/x-python",
   "name": "python",
   "nbconvert_exporter": "python",
   "pygments_lexer": "ipython3",
   "version": "3.12.2"
  }
 },
 "nbformat": 4,
 "nbformat_minor": 5
}
