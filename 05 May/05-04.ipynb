{
 "cells": [
  {
   "cell_type": "markdown",
   "id": "5bcb7ea2-fd07-4068-b81b-fe25f71357d8",
   "metadata": {},
   "source": [
    "# Simple simple simple string expansion\n",
    "\n",
    "Date: 05/04/2024.\n",
    "From: Codewars.\n",
    "Link to [kata](https://www.codewars.com/kata/5ae326342f8cbc72220000d2/train/python).\n",
    "\n",
    "### Description\n",
    "\n",
    "Given a string that includes alphanumeric characters (\"3a4B2d\") return the expansion of that string: The numeric values represent the occurrence of each letter preceding that numeric value. There should be no numeric characters in the final string.\n",
    "\n",
    "**Notes**\n",
    "\n",
    "- The first occurrence of a numeric value should be the number of times each character behind it is repeated, until the next numeric value appears\n",
    "- If there are multiple consecutive numeric characters, only the last one should be used (ignore the previous ones)\n",
    "- Empty strings should return an empty string.\n",
    "- Your code should be able to work for both lower and capital case letters.\n",
    "\n",
    "```\n",
    "\"3D2a5d2f\"  -->  \"DDDaadddddff\"    # basic example: 3 * \"D\" + 2 * \"a\" + 5 * \"d\" + 2 * \"f\"\n",
    "\"3abc\"      -->  \"aaabbbccc\"       # not \"aaabc\", nor \"abcabcabc\"; 3 * \"a\" + 3 * \"b\" + 3 * \"c\"\n",
    "\"3d332f2a\"  -->  \"dddffaa\"         # multiple consecutive digits: 3 * \"d\" + 2 * \"f\" + 2 * \"a\"\n",
    "\"abcde\"     -->  \"abcde\"           # no digits\n",
    "\"1111\"      -->  \"\"                # no characters to repeat\n",
    "\"\"          -->  \"\"                # empty string\n",
    "```\n",
    "\n",
    "### My solution"
   ]
  },
  {
   "cell_type": "code",
   "execution_count": 1,
   "id": "ff827371-338d-40b8-93b2-6d7f38c86446",
   "metadata": {},
   "outputs": [],
   "source": [
    "def string_expansion(s):\n",
    "    result = \"\"\n",
    "    last_digit = None\n",
    "    for c in s:\n",
    "        if c.isdigit(): last_digit = int(c)\n",
    "        else: result += last_digit * c if last_digit or last_digit == 0 else c\n",
    "    return result"
   ]
  },
  {
   "cell_type": "markdown",
   "id": "f451f65b-f2b8-4c81-b34b-e609f57625e3",
   "metadata": {},
   "source": [
    "### Basic tests"
   ]
  },
  {
   "cell_type": "code",
   "execution_count": 2,
   "id": "c26fed9d-8c26-4621-98e1-8f8d8deb5c1c",
   "metadata": {},
   "outputs": [
    {
     "name": "stdout",
     "output_type": "stream",
     "text": [
      "DDDaadddddff\n",
      "DDDDaddddddddjjjjkkk\n",
      "DDDDaaddddddddjjjjff\n",
      "nnnssssssfffffffnnn\n",
      "nnnnddddddddbb\n",
      "bbbnmmmmmmm\n",
      "mmmmmmmjjjiiiikkkkaa\n",
      "AAAmmmmmBBBYYY\n",
      "MMMMMPPPPPPPP\n",
      "BB\n",
      "MMMMMMMnKKK\n",
      "Aggggbdddd\n",
      "\n",
      "ddddnnnn\n",
      "nnnnnnnnnfffffffffuuu\n",
      "nnknnniiii\n",
      "ooooooMMMdd\n",
      "Bnnnnrrr\n",
      "Mdr\n",
      "MMMrrr\n",
      "mmmmMMMMKKKKKAA\n",
      "AAAADDDDDDBBBBBBCCC\n",
      "DDDBBAAA\n",
      "DDDCCCCCCA\n",
      "asdf\n",
      "jjjbbbjjjllleb\n",
      "iiibbbaaadddsssrrr\n",
      "pppcccccccccdddddddddbbbbbbbbbjjjjjjjjjsssssssss\n",
      "eeeeeeeeewwwwwwwwweeeeeeehhhhhhh\n",
      "rrrrrrrfffffffeeeeeeebbbbbbbddddddd\n",
      "ccccccggggggeeeeeecccccc\n",
      "chwqrrrfffbbb\n",
      "fffffffffgggggggggc\n",
      "vvvvvvvvvbbbbbbbbbsssssssssaaaaaaaaaccccccccc\n",
      "davhbvvvvvvvuuuuuuuccccccc\n",
      "cvybbbbbbbbbbvvvvvvvvveeeeeeeeedddddddddddvv\n",
      "\n"
     ]
    }
   ],
   "source": [
    "print(string_expansion('3D2a5d2f')) # expects 'DDDaadddddff'\n",
    "print(string_expansion('4D1a8d4j3k')) # expects 'DDDDaddddddddjjjjkkk'\n",
    "print(string_expansion('4D2a8d4j2f')) # expects 'DDDDaaddddddddjjjjff'\n",
    "print(string_expansion('3n6s7f3n')) # expects 'nnnssssssfffffffnnn'\n",
    "print(string_expansion('0d4n8d2b')) # expects 'nnnnddddddddbb'\n",
    "print(string_expansion('0c3b1n7m')) # expects 'bbbnmmmmmmm'\n",
    "print(string_expansion('7m3j4ik2a')) # expects 'mmmmmmmjjjiiiikkkkaa'\n",
    "print(string_expansion('3A5m3B3Y')) # expects 'AAAmmmmmBBBYYY'\n",
    "print(string_expansion('5M0L8P1')) # expects 'MMMMMPPPPPPPP'\n",
    "print(string_expansion('2B')) # expects 'BB'\n",
    "print(string_expansion('7M1n3K')) # expects 'MMMMMMMnKKK'\n",
    "print(string_expansion('A4g1b4d')) # expects 'Aggggbdddd'\n",
    "print(string_expansion('111111')) # expects ''\n",
    "print(string_expansion('4d324n2')) # expects 'ddddnnnn'\n",
    "print(string_expansion('5919nf3u')) # expects 'nnnnnnnnnfffffffffuuu'\n",
    "print(string_expansion('2n1k523n4i')) # expects 'nnknnniiii'\n",
    "print(string_expansion('6o23M32d')) # expects 'ooooooMMMdd'\n",
    "print(string_expansion('1B44n3r')) # expects 'Bnnnnrrr'\n",
    "print(string_expansion('M21d1r32')) # expects 'Mdr'\n",
    "print(string_expansion('23M31r2r2')) # expects 'MMMrrr'\n",
    "print(string_expansion('8494mM25K2A')) # expects 'mmmmMMMMKKKKKAA'\n",
    "print(string_expansion('4A46D6B3C')) # expects 'AAAADDDDDDBBBBBBCCC'\n",
    "print(string_expansion('23D42B3A')) # expects 'DDDBBAAA'\n",
    "print(string_expansion('143D36C1A')) # expects 'DDDCCCCCCA'\n",
    "print(string_expansion('asdf')) # expects 'asdf'\n",
    "print(string_expansion('23jbjl1eb')) # expects 'jjjbbbjjjllleb'\n",
    "print(string_expansion('43ibadsr3')) # expects 'iiibbbaaadddsssrrr'\n",
    "print(string_expansion('123p9cdbjs')) # expects 'pppcccccccccdddddddddbbbbbbbbbjjjjjjjjjsssssssss'\n",
    "print(string_expansion('2309ew7eh')) # expects 'eeeeeeeeewwwwwwwwweeeeeeehhhhhhh'\n",
    "print(string_expansion('312987rfebd')) # expects 'rrrrrrrfffffffeeeeeeebbbbbbbddddddd'\n",
    "print(string_expansion('126cgec')) # expects 'ccccccggggggeeeeeecccccc'\n",
    "print(string_expansion('1chwq3rfb')) # expects 'chwqrrrfffbbb'\n",
    "print(string_expansion('389fg21c')) # expects 'fffffffffgggggggggc'\n",
    "print(string_expansion('239vbsac')) # expects 'vvvvvvvvvbbbbbbbbbsssssssssaaaaaaaaaccccccccc'\n",
    "print(string_expansion('davhb327vuc')) # expects 'davhbvvvvvvvuuuuuuuccccccc'\n",
    "print(string_expansion('cvyb239bved2dv')) # expects 'cvybbbbbbbbbbvvvvvvvvveeeeeeeeedddddddddddvv'\n",
    "print(string_expansion('')) # expects ''"
   ]
  }
 ],
 "metadata": {
  "kernelspec": {
   "display_name": "Python 3 (ipykernel)",
   "language": "python",
   "name": "python3"
  },
  "language_info": {
   "codemirror_mode": {
    "name": "ipython",
    "version": 3
   },
   "file_extension": ".py",
   "mimetype": "text/x-python",
   "name": "python",
   "nbconvert_exporter": "python",
   "pygments_lexer": "ipython3",
   "version": "3.12.1"
  }
 },
 "nbformat": 4,
 "nbformat_minor": 5
}
