{
 "cells": [
  {
   "cell_type": "markdown",
   "id": "d7e7d920-d426-412f-8763-0d6daaf113c6",
   "metadata": {},
   "source": [
    "# Does my number look big in this?\n",
    "\n",
    "Date: 05/19/2024.\n",
    "From: Codewars.\n",
    "Link to [kata](https://www.codewars.com/kata/5287e858c6b5a9678200083c/train/python).\n",
    "\n",
    "### Description\n",
    "\n",
    "A Narcissistic Number (or Armstrong Number) is a positive number which is the sum of its own digits, each raised to the power of the number of digits in a given base. In this Kata, we will restrict ourselves to decimal (base 10).\n",
    "\n",
    "For example, take 153 (3 digits), which is narcissistic:\n",
    "\n",
    "`1^3 + 5^3 + 3^3 = 1 + 125 + 27 = 153`\n",
    "\n",
    "and 1652 (4 digits), which isn't:\n",
    "\n",
    "`1^4 + 6^4 + 5^4 + 2^4 = 1 + 1296 + 625 + 16 = 1938`\n",
    "\n",
    "**The Challenge:**\n",
    "\n",
    "Your code must return true or false (not 'true' and 'false') depending upon whether the given number is a Narcissistic number in base 10.\n",
    "\n",
    "This may be True and False in your language, e.g. PHP.\n",
    "\n",
    "Error checking for text strings or other invalid inputs is not required, only valid positive non-zero integers will be passed into the function.\n",
    "\n",
    "### My solution"
   ]
  },
  {
   "cell_type": "code",
   "execution_count": 3,
   "id": "fc2b8cef-db84-463f-9345-26b904440949",
   "metadata": {},
   "outputs": [],
   "source": [
    "def narcissistic(value):\n",
    "    return value == sum(int(digit) ** len(str(value)) for digit in str(value))"
   ]
  },
  {
   "cell_type": "markdown",
   "id": "cef43317-2b22-4798-b831-04032d938926",
   "metadata": {},
   "source": [
    "### Basic tests"
   ]
  },
  {
   "cell_type": "code",
   "execution_count": 4,
   "id": "5efde150-d523-4ad3-88fd-39fc2d8dccf4",
   "metadata": {},
   "outputs": [
    {
     "name": "stdout",
     "output_type": "stream",
     "text": [
      "True True 7 is narcissistic\n",
      "True True 371 is narcissistic\n",
      "False False 122 is not narcissistic\n",
      "False False 4887 is not narcissistic\n"
     ]
    }
   ],
   "source": [
    "print(narcissistic(7), True, '7 is narcissistic');\n",
    "print(narcissistic(371), True, '371 is narcissistic');\n",
    "print(narcissistic(122), False, '122 is not narcissistic')\n",
    "print(narcissistic(4887), False, '4887 is not narcissistic')"
   ]
  }
 ],
 "metadata": {
  "kernelspec": {
   "display_name": "Python 3 (ipykernel)",
   "language": "python",
   "name": "python3"
  },
  "language_info": {
   "codemirror_mode": {
    "name": "ipython",
    "version": 3
   },
   "file_extension": ".py",
   "mimetype": "text/x-python",
   "name": "python",
   "nbconvert_exporter": "python",
   "pygments_lexer": "ipython3",
   "version": "3.12.1"
  }
 },
 "nbformat": 4,
 "nbformat_minor": 5
}
