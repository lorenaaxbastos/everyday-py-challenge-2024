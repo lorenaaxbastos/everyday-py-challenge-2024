{
 "cells": [
  {
   "cell_type": "markdown",
   "id": "d0b86c14-9f13-4e14-b806-883643359ef4",
   "metadata": {},
   "source": [
    "# Sum the nums, sum the sums and sum the nums up to that sum\n",
    "\n",
    "Date: 05/17/2024.\n",
    "From: Codewars.\n",
    "Link to [kata](https://www.codewars.com/kata/60d2325592157c0019ee78ed/train/python).\n",
    "\n",
    "### Description\n",
    "\n",
    "Let's define two functions:\n",
    "\n",
    "```\n",
    "S(N) — sum of all positive numbers not more than N\n",
    "S(N) = 1 + 2 + 3 + ... + N\n",
    "\n",
    "Z(N) — sum of all S(i), where 1 <= i <= N\n",
    "Z(N) = S(1) + S(2) + S(3) + ... + S(N)\n",
    "```\n",
    "\n",
    "You will be given an integer N as input; your task is to return the value of S(Z(N)).\n",
    "\n",
    "For example, let N = 3:\n",
    "\n",
    "```\n",
    "Z(3) = 1 + 3 + 6 = 10\n",
    "S(Z(3)) = S(10) = 55\n",
    "```\n",
    "\n",
    "The input range is 1 <= N <= 10^9 and there are 80 ( 40 in LC ) test cases, of which most are random.\n",
    "\n",
    "This is my first kata and I hope you'll enjoy it :).\n",
    "Best of luck!\n",
    "\n",
    "### My solution"
   ]
  },
  {
   "cell_type": "code",
   "execution_count": 2,
   "id": "2880687b-92ec-4258-9bd6-8176d9803020",
   "metadata": {},
   "outputs": [],
   "source": [
    "def sum_of_sums(n):\n",
    "    pass"
   ]
  },
  {
   "cell_type": "markdown",
   "id": "b21427dc-d89f-4327-a8fe-11ee76e8c392",
   "metadata": {},
   "source": [
    "### Basic tests"
   ]
  },
  {
   "cell_type": "code",
   "execution_count": 3,
   "id": "29652c72-0fbd-4a75-84d8-f823fe298581",
   "metadata": {},
   "outputs": [
    {
     "name": "stdout",
     "output_type": "stream",
     "text": [
      "None 55\n",
      "None 630\n",
      "None 14740530850\n"
     ]
    }
   ],
   "source": [
    "print(sum_of_sums(3),55)\n",
    "print(sum_of_sums(5), 630)\n",
    "print(sum_of_sums(100), 14740530850)"
   ]
  }
 ],
 "metadata": {
  "kernelspec": {
   "display_name": "Python 3 (ipykernel)",
   "language": "python",
   "name": "python3"
  },
  "language_info": {
   "codemirror_mode": {
    "name": "ipython",
    "version": 3
   },
   "file_extension": ".py",
   "mimetype": "text/x-python",
   "name": "python",
   "nbconvert_exporter": "python",
   "pygments_lexer": "ipython3",
   "version": "3.12.1"
  }
 },
 "nbformat": 4,
 "nbformat_minor": 5
}
