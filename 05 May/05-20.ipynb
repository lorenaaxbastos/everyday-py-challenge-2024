{
 "cells": [
  {
   "cell_type": "markdown",
   "id": "021ba192-201d-49af-865e-fcfac3fef599",
   "metadata": {},
   "source": [
    "# Strip comments\n",
    "\n",
    "Date: 05/20/2024.\n",
    "From: Codewars.\n",
    "Link to [kata](https://www.codewars.com/kata/51c8e37cee245da6b40000bd/train/python).\n",
    "\n",
    "### Description\n",
    "\n",
    "Complete the solution so that it strips all text that follows any of a set of comment markers passed in. Any whitespace at the end of the line should also be stripped out.\n",
    "\n",
    "**Example:**\n",
    "\n",
    "Given an input string of:\n",
    "\n",
    "```\n",
    "apples, pears # and bananas\n",
    "grapes\n",
    "bananas !apples\n",
    "```\n",
    "\n",
    "The output expected would be:\n",
    "\n",
    "```\n",
    "apples, pears\n",
    "grapes\n",
    "bananas\n",
    "```\n",
    "\n",
    "The code would be called like so:\n",
    "\n",
    "```python\n",
    "result = strip_comments(\"apples, pears # and bananas\\ngrapes\\nbananas !apples\", [\"#\", \"!\"])\n",
    "# result should == \"apples, pears\\ngrapes\\nbananas\"\n",
    "```\n",
    "\n",
    "### My solution"
   ]
  },
  {
   "cell_type": "code",
   "execution_count": 3,
   "id": "3e732525-a25a-4413-9185-7797f00f08b9",
   "metadata": {},
   "outputs": [],
   "source": [
    "def strip_comments(strng, markers):\n",
    "    pass"
   ]
  },
  {
   "cell_type": "markdown",
   "id": "22165d41-2223-4aaa-9e2c-33b0bba65f68",
   "metadata": {},
   "source": [
    "### Basic tests"
   ]
  },
  {
   "cell_type": "code",
   "execution_count": 5,
   "id": "91b87739-bac3-4159-abe5-1d37e3ca7760",
   "metadata": {},
   "outputs": [
    {
     "name": "stdout",
     "output_type": "stream",
     "text": [
      "None apples, pears\n",
      "grapes\n",
      "bananas\n",
      "None a\n",
      "c\n",
      "d\n",
      "None  a\n",
      "c\n",
      "d\n"
     ]
    }
   ],
   "source": [
    "print(strip_comments('apples, pears # and bananas\\ngrapes\\nbananas !apples', ['#', '!']), 'apples, pears\\ngrapes\\nbananas')\n",
    "print(strip_comments('a #b\\nc\\nd $e f g', ['#', '$']), 'a\\nc\\nd')\n",
    "print(strip_comments(' a #b\\nc\\nd $e f g', ['#', '$']), ' a\\nc\\nd')"
   ]
  }
 ],
 "metadata": {
  "kernelspec": {
   "display_name": "Python 3 (ipykernel)",
   "language": "python",
   "name": "python3"
  },
  "language_info": {
   "codemirror_mode": {
    "name": "ipython",
    "version": 3
   },
   "file_extension": ".py",
   "mimetype": "text/x-python",
   "name": "python",
   "nbconvert_exporter": "python",
   "pygments_lexer": "ipython3",
   "version": "3.12.1"
  }
 },
 "nbformat": 4,
 "nbformat_minor": 5
}
