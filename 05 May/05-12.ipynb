{
 "cells": [
  {
   "cell_type": "markdown",
   "id": "47266748-2122-49c1-ba59-83c0706ee4c4",
   "metadata": {},
   "source": [
    "# De-Emojify\n",
    "\n",
    "Date: 05/12/2024.\n",
    "From: Codewars.\n",
    "Link to [kata](https://www.codewars.com/kata/6627696c86b953001280675e/train/python).\n",
    "\n",
    "### Description\n",
    "\n",
    "Inspired by the emojify custom Python module.\n",
    "\n",
    "You are given a string made up of chains of emotes separated by 1 space each, with chains having 2 spaces in-between each.\n",
    "\n",
    "Each emote represents a digit:\n",
    "\n",
    "```\n",
    ":)  | 0\n",
    ":D  | 1\n",
    ">(  | 2\n",
    ">:C | 3\n",
    ":/  | 4\n",
    ":|  | 5\n",
    ":O  | 6\n",
    ";)  | 7\n",
    "^.^ | 8\n",
    ":(  | 9\n",
    "```\n",
    "\n",
    "Each emote chain represents the digits of the ASCII/Unicode code for a character, e.g. :( ;) is 97, which is the ASCII code for 'a'.\n",
    "\n",
    "Given a such string of emotes, find the string it represents. Example:\n",
    "\n",
    "`':D :) :/  :D :) :|' is 2 chains: ':D :) :/' and ':D :) :|'.`\n",
    "\n",
    "These represent ASCII codes 104 and 105 respectively, translating to 'hi'.\n",
    "\n",
    "Input will always be valid. Chains may start with leading zeroes; these are valid and do not change the chain's value.\n",
    "\n",
    "### My solution"
   ]
  },
  {
   "cell_type": "code",
   "execution_count": 1,
   "id": "d25cd7be-ae9b-4f66-8b13-abdb472aa387",
   "metadata": {},
   "outputs": [],
   "source": [
    "emojis_digits = {\n",
    "    \":)\": \"0\",\n",
    "    \":D\": \"1\",\n",
    "    \">(\": \"2\",\n",
    "    \">:C\": \"3\",\n",
    "    \":/\": \"4\",\n",
    "    \":|\": \"5\",\n",
    "    \":O\": \"6\",\n",
    "    \";)\": \"7\",\n",
    "    \"^.^\": \"8\",\n",
    "    \":(\": \"9\"\n",
    "}\n",
    "\n",
    "def deemojify(emote_string):\n",
    "    ascii_codes = [int(\"\".join(emojis_digits[emote] \n",
    "                   for emote in chain.split())) \n",
    "                   for chain in emote_string.split(\"  \")]\n",
    "    return \"\".join(chr(code) for code in ascii_codes)"
   ]
  },
  {
   "cell_type": "markdown",
   "id": "0972a294-142d-4369-adec-ea2bed59bae2",
   "metadata": {},
   "source": [
    "### Basic tests"
   ]
  },
  {
   "cell_type": "code",
   "execution_count": 2,
   "id": "a5fc8ebd-b09b-4566-b221-bb512075a330",
   "metadata": {},
   "outputs": [
    {
     "name": "stdout",
     "output_type": "stream",
     "text": [
      "hi\n",
      "Hello world!\n",
      "\u0000\n"
     ]
    }
   ],
   "source": [
    "print(deemojify(':D :) :/  :D :) :|')) # expects'hi'\n",
    "print(deemojify(';) >(  :D :) :D  :D :) ^.^  :D :) ^.^  :D :D :D  >:C >(  :D :D :(  :D :D :D  :D :D :/  :D :) ^.^  :D :) :)  >:C >:C')) # expects'Hello world!'\n",
    "print(deemojify(':)')) # expects'\\x00'"
   ]
  }
 ],
 "metadata": {
  "kernelspec": {
   "display_name": "Python 3 (ipykernel)",
   "language": "python",
   "name": "python3"
  },
  "language_info": {
   "codemirror_mode": {
    "name": "ipython",
    "version": 3
   },
   "file_extension": ".py",
   "mimetype": "text/x-python",
   "name": "python",
   "nbconvert_exporter": "python",
   "pygments_lexer": "ipython3",
   "version": "3.12.1"
  }
 },
 "nbformat": 4,
 "nbformat_minor": 5
}
