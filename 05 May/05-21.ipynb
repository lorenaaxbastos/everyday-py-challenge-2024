{
 "cells": [
  {
   "cell_type": "markdown",
   "id": "662883b1-6be8-4320-a507-624e8e52cf61",
   "metadata": {},
   "source": [
    "# Sum strings as numbers\n",
    "\n",
    "Date: 05/21/2024.\n",
    "From: Codewars.\n",
    "Link to [kata](https://www.codewars.com/kata/5324945e2ece5e1f32000370/train/python).\n",
    "\n",
    "### Description\n",
    "\n",
    "Given the string representations of two integers, return the string representation of the sum of those integers.\n",
    "\n",
    "For example:\n",
    "\n",
    "```\n",
    "sumStrings('1','2') // => '3'\n",
    "```\n",
    "\n",
    "A string representation of an integer will contain no characters besides the ten numerals \"0\" to \"9\".\n",
    "\n",
    "Python: your solution need to work with huge numbers (about a milion digits), converting to int will not work.\n",
    "\n",
    "### My solution"
   ]
  },
  {
   "cell_type": "code",
   "execution_count": 1,
   "id": "f3127108-0d24-4c0e-b727-46f64a7b1e73",
   "metadata": {},
   "outputs": [],
   "source": [
    "def sum_strings(x, y):\n",
    "    pass"
   ]
  },
  {
   "cell_type": "markdown",
   "id": "456fe005-8b54-45f6-a45c-169ae11a37f6",
   "metadata": {},
   "source": [
    "### Basic tests"
   ]
  },
  {
   "cell_type": "code",
   "execution_count": 2,
   "id": "227ba26c-e2b3-475d-b3cc-03f0aa7b98ed",
   "metadata": {},
   "outputs": [
    {
     "name": "stdout",
     "output_type": "stream",
     "text": [
      "False\n",
      "False\n"
     ]
    }
   ],
   "source": [
    "print(sum_strings(\"1\", \"1\") == \"2\")\n",
    "print(sum_strings(\"123\", \"456\") == \"579\")"
   ]
  }
 ],
 "metadata": {
  "kernelspec": {
   "display_name": "Python 3 (ipykernel)",
   "language": "python",
   "name": "python3"
  },
  "language_info": {
   "codemirror_mode": {
    "name": "ipython",
    "version": 3
   },
   "file_extension": ".py",
   "mimetype": "text/x-python",
   "name": "python",
   "nbconvert_exporter": "python",
   "pygments_lexer": "ipython3",
   "version": "3.12.2"
  }
 },
 "nbformat": 4,
 "nbformat_minor": 5
}
