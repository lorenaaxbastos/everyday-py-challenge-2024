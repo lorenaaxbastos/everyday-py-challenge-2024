{
 "cells": [
  {
   "cell_type": "markdown",
   "id": "7688d7a6-6779-418f-afbb-6107b78af3bb",
   "metadata": {},
   "source": [
    "# Roman numerals encoder\n",
    "\n",
    "Date: 05/05/2024.\n",
    "From: Codewars.\n",
    "Link to [kata](https://www.codewars.com/kata/51b62bf6a9c58071c600001b/train/python).\n",
    "\n",
    "### Description\n",
    "\n",
    "Create a function taking a positive integer between 1 and 3999 (both included) as its parameter and returning a string containing the Roman Numeral representation of that integer.\n",
    "\n",
    "Modern Roman numerals are written by expressing each digit separately starting with the leftmost digit and skipping any digit with a value of zero. There cannot be more than 3 identical symbols in a row.\n",
    "\n",
    "In Roman numerals:\n",
    "\n",
    "- 1990 is rendered: 1000=M + 900=CM + 90=XC; resulting in MCMXC.\n",
    "- 2008 is written as 2000=MM, 8=VIII; or MMVIII.\n",
    "- 1666 uses each Roman symbol in descending order: MDCLXVI.\n",
    "\n",
    "Example:\n",
    "\n",
    "```\n",
    "   1 -->       \"I\"\n",
    "1000 -->       \"M\"\n",
    "1666 --> \"MDCLXVI\n",
    "```\n",
    "\n",
    "Help:\n",
    "\n",
    "```\n",
    "Symbol    Value\n",
    "I          1\n",
    "V          5\n",
    "X          10\n",
    "L          50\n",
    "C          100\n",
    "D          500\n",
    "M          1,000\n",
    "```\n",
    "\n",
    "### My solution"
   ]
  },
  {
   "cell_type": "code",
   "execution_count": 1,
   "id": "ddd92b2f-0644-4b9d-9bff-8fa9cdce8d7e",
   "metadata": {},
   "outputs": [],
   "source": [
    "def solution(n):\n",
    "    pass"
   ]
  },
  {
   "cell_type": "code",
   "execution_count": 2,
   "id": "044d174a-a93c-4f12-b8da-eba3f90276dc",
   "metadata": {},
   "outputs": [
    {
     "name": "stdout",
     "output_type": "stream",
     "text": [
      "None\n",
      "None\n",
      "None\n",
      "None\n",
      "None\n",
      "None\n",
      "None\n",
      "None\n",
      "None\n",
      "None\n",
      "None\n"
     ]
    }
   ],
   "source": [
    "\n",
    "print(solution(1)) # expects 'I'\n",
    "print(solution(4)) # expects 'IV'\n",
    "print(solution(6)) # expects 'VI'\n",
    "print(solution(14)) # expects 'XIV'\n",
    "print(solution(21)) # expects 'XXI'\n",
    "print(solution(89)) # expects 'LXXXIX'\n",
    "print(solution(91)) # expects 'XCI'\n",
    "print(solution(984)) # expects 'CMLXXXIV'\n",
    "print(solution(1000)) # expects  'M'\n",
    "print(solution(1889)) # expects 'MDCCCLXXXIX'\n",
    "print(solution(1989)) # expects 'MCMLXXXIX'"
   ]
  }
 ],
 "metadata": {
  "kernelspec": {
   "display_name": "Python 3 (ipykernel)",
   "language": "python",
   "name": "python3"
  },
  "language_info": {
   "codemirror_mode": {
    "name": "ipython",
    "version": 3
   },
   "file_extension": ".py",
   "mimetype": "text/x-python",
   "name": "python",
   "nbconvert_exporter": "python",
   "pygments_lexer": "ipython3",
   "version": "3.12.1"
  }
 },
 "nbformat": 4,
 "nbformat_minor": 5
}
