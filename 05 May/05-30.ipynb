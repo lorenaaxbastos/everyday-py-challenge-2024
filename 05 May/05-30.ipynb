{
 "cells": [
  {
   "cell_type": "markdown",
   "id": "4d26ffa9-235e-495b-9685-2b8783abf509",
   "metadata": {},
   "source": [
    "# Bowling Pins\n",
    "\n",
    "Date: 05/30/2024.\n",
    "From: Codewars.\n",
    "Link to [kata](https://www.codewars.com/kata/585cf93f6ad5e0d9bf000010/train/python).\n",
    "\n",
    "### Description\n",
    "\n",
    "Mount the Bowling Pins!\n",
    "\n",
    "**Task:**\n",
    "\n",
    "Did you ever play Bowling? Short: You have to throw a bowl into 10 Pins arranged like this:\n",
    "\n",
    "```\n",
    "I I I I  # each Pin has a Number:    7 8 9 10\n",
    " I I I                                4 5 6\n",
    "  I I                                  2 3\n",
    "   I                                    1\n",
    "```\n",
    "\n",
    "You will get an array of integers between 1 and 10, e.g. `[3, 5, 9]`, and have to remove them from the field like this:\n",
    "\n",
    "```\n",
    "I I   I\n",
    " I   I\n",
    "  I   \n",
    "   I\n",
    "```\n",
    "\n",
    "Return a string with the current field.\n",
    "\n",
    "Note that:\n",
    "\n",
    "- The pins rows are separated by a newline (\\n)\n",
    "- Each Line must be 7 chars long\n",
    "- Fill the missing pins with a space character ( )\n",
    "\n",
    "Have fun!\n",
    "\n",
    "### My solution"
   ]
  },
  {
   "cell_type": "code",
   "execution_count": 3,
   "id": "21120b11-31b8-40a3-977d-b6697dc4e58f",
   "metadata": {},
   "outputs": [],
   "source": [
    "import re\n",
    "\n",
    "def bowling_pins(arr : list[int]) -> str:\n",
    "    arrangement = \"7 8 9 X\\n 4 5 6 \\n  2 3  \\n   1   \"\n",
    "    pattern = f\"{'|'.join(str(char) if len(str(char)) == 1 else 'X' for char in arr)}\"\n",
    "    if arr:\n",
    "        arrangement = re.sub(pattern, \" \", arrangement)\n",
    "    arrangement = re.sub(r\"[\\dX]\", \"I\", arrangement)\n",
    "    return arrangement"
   ]
  },
  {
   "cell_type": "markdown",
   "id": "685e9930-d3c3-4102-89f7-94a9b1f1aa73",
   "metadata": {},
   "source": [
    "### Basic tests"
   ]
  },
  {
   "cell_type": "code",
   "execution_count": 6,
   "id": "e99aae6c-9d01-450c-b108-7af682feccc5",
   "metadata": {},
   "outputs": [
    {
     "name": "stdout",
     "output_type": "stream",
     "text": [
      "True\n",
      "True\n"
     ]
    }
   ],
   "source": [
    "print(bowling_pins([2, 3]) == \"I I I I\\n I I I \\n       \\n   I   \")\n",
    "print(bowling_pins([1, 2, 10]) == \"I I I  \\n I I I \\n    I  \\n       \")"
   ]
  }
 ],
 "metadata": {
  "kernelspec": {
   "display_name": "Python 3 (ipykernel)",
   "language": "python",
   "name": "python3"
  },
  "language_info": {
   "codemirror_mode": {
    "name": "ipython",
    "version": 3
   },
   "file_extension": ".py",
   "mimetype": "text/x-python",
   "name": "python",
   "nbconvert_exporter": "python",
   "pygments_lexer": "ipython3",
   "version": "3.12.1"
  }
 },
 "nbformat": 4,
 "nbformat_minor": 5
}
