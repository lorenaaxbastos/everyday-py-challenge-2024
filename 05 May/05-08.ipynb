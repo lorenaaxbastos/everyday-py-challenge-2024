{
 "cells": [
  {
   "cell_type": "markdown",
   "id": "893eb6ae-3973-4737-8b2d-c2147091dff6",
   "metadata": {},
   "source": [
    "# Last digit of a large number\n",
    "\n",
    "Date: 05/08/2024.\n",
    "From: Codewars.\n",
    "Link to [kata](https://www.codewars.com/kata/511f11d355fe575d2c000001/train/python).\n",
    "\n",
    "### Description\n",
    "\n",
    "The two oldest ages function/method needs to be completed. It should take an array of numbers as its argument and return the two highest numbers within the array. The returned value should be an array in the format [second oldest age,  oldest age].\n",
    "\n",
    "The order of the numbers passed in could be any order. The array will always include at least 2 items. If there are two or more oldest age, then return both of them in array format.\n",
    "\n",
    "**For example (Input --> Output):**\n",
    "\n",
    "```\n",
    "[1, 2, 10, 8] --> [8, 10]\n",
    "[1, 5, 87, 45, 8, 8] --> [45, 87]\n",
    "[1, 3, 10, 0]) --> [3, 10]\n",
    "```\n",
    "\n",
    "### My solution"
   ]
  },
  {
   "cell_type": "code",
   "execution_count": 2,
   "id": "84110794-6299-45f0-ac4a-ef3b6ae5274e",
   "metadata": {},
   "outputs": [],
   "source": [
    "def two_oldest_ages(ages):\n",
    "    pass"
   ]
  },
  {
   "cell_type": "markdown",
   "id": "474c7e0a-1084-4631-92ad-ea33cda4e15f",
   "metadata": {},
   "source": [
    "### Basic tests"
   ]
  },
  {
   "cell_type": "code",
   "execution_count": 3,
   "id": "21729add-27a2-446f-b743-82eb4180fe90",
   "metadata": {},
   "outputs": [
    {
     "name": "stdout",
     "output_type": "stream",
     "text": [
      "None\n",
      "None\n",
      "None\n"
     ]
    }
   ],
   "source": [
    "print(two_oldest_ages([1, 5, 87, 45, 8, 8])) # expects [45, 87]\n",
    "print(two_oldest_ages([6, 5, 83, 5, 3, 18])) # expects [18, 83]\n",
    "print(two_oldest_ages([10, 1])) # expects [1, 10]"
   ]
  }
 ],
 "metadata": {
  "kernelspec": {
   "display_name": "Python 3 (ipykernel)",
   "language": "python",
   "name": "python3"
  },
  "language_info": {
   "codemirror_mode": {
    "name": "ipython",
    "version": 3
   },
   "file_extension": ".py",
   "mimetype": "text/x-python",
   "name": "python",
   "nbconvert_exporter": "python",
   "pygments_lexer": "ipython3",
   "version": "3.12.1"
  }
 },
 "nbformat": 4,
 "nbformat_minor": 5
}
