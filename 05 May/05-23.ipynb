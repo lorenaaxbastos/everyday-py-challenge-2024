{
 "cells": [
  {
   "cell_type": "markdown",
   "id": "64c62c93-84ac-4fe8-9c94-6ef53889ed6a",
   "metadata": {},
   "source": [
    "# Snail\n",
    "\n",
    "Date: 05/23/2024.\n",
    "From: Codewars.\n",
    "Link to [kata](https://www.codewars.com/kata/521c2db8ddc89b9b7a0000c1/train/python).\n",
    "\n",
    "### Description\n",
    "\n",
    "Given an n x n array, return the array elements arranged from outermost elements to the middle element, traveling clockwise.\n",
    "\n",
    "```python\n",
    "array = [[1,2,3],\n",
    "         [4,5,6],\n",
    "         [7,8,9]]\n",
    "snail(array) # => [1,2,3,6,9,8,7,4,5]\n",
    "```\n",
    "\n",
    "For better understanding, please follow the numbers of the next array consecutively:\n",
    "\n",
    "```python\n",
    "array = [[1,2,3],\n",
    "         [8,9,4],\n",
    "         [7,6,5]]\n",
    "snail(array) # => [1,2,3,4,5,6,7,8,9]\n",
    "```\n",
    "\n",
    "NOTE: The idea is not sort the elements from the lowest value to the highest; the idea is to traverse the 2-d array in a clockwise snailshell pattern.\n",
    "NOTE 2: The 0x0 (empty matrix) is represented as en empty array inside an array `[[]]`.\n",
    "\n",
    "### My solution"
   ]
  },
  {
   "cell_type": "code",
   "execution_count": 1,
   "id": "44979f0b-e82e-47bc-a071-7cae5731f277",
   "metadata": {},
   "outputs": [],
   "source": [
    "import numpy as np\n",
    "\n",
    "def snail(snail_map):\n",
    "    def to_right(arr):\n",
    "        return arr[0], np.delete(arr, 0, axis=0)\n",
    "    def to_bottom(arr):\n",
    "        return arr[:, -1], np.delete(arr, -1, axis=1)\n",
    "    def to_left(arr):\n",
    "        return arr[-1][::-1], np.delete(arr, -1, axis=0)\n",
    "    def to_up(arr):\n",
    "        return arr[:, 0][::-1], np.delete(arr, 0, axis=1)\n",
    "    \n",
    "    arr = np.array(snail_map)\n",
    "    order = 0\n",
    "    result = []\n",
    "    \n",
    "    while arr.size > 0:\n",
    "        if order == 0:\n",
    "            line, arr = to_right(arr)\n",
    "        elif order == 1:\n",
    "            line, arr = to_bottom(arr)\n",
    "        elif order == 2:\n",
    "            line, arr = to_left(arr)\n",
    "        else:\n",
    "            line, arr = to_up(arr)\n",
    "        \n",
    "        if order < 3:\n",
    "            order += 1\n",
    "        else:\n",
    "            order = 0\n",
    "        \n",
    "        result.extend(line)\n",
    "    \n",
    "    return result"
   ]
  },
  {
   "cell_type": "markdown",
   "id": "125c3fcc-3218-448e-8f12-b4b3b9b46ac1",
   "metadata": {},
   "source": [
    "### Basic tests"
   ]
  },
  {
   "cell_type": "code",
   "execution_count": 2,
   "id": "bb6ffbdd-5018-410a-a41d-dfc84f3225d6",
   "metadata": {},
   "outputs": [
    {
     "name": "stdout",
     "output_type": "stream",
     "text": [
      "True\n",
      "True\n"
     ]
    }
   ],
   "source": [
    "array = [[1,2,3],\n",
    "         [4,5,6],\n",
    "         [7,8,9]]\n",
    "expected = [1,2,3,6,9,8,7,4,5]\n",
    "print(snail(array) == expected)\n",
    "\n",
    "array = [[1,2,3],\n",
    "         [8,9,4],\n",
    "         [7,6,5]]\n",
    "expected = [1,2,3,4,5,6,7,8,9]\n",
    "print(snail(array) == expected)"
   ]
  }
 ],
 "metadata": {
  "kernelspec": {
   "display_name": "Python 3 (ipykernel)",
   "language": "python",
   "name": "python3"
  },
  "language_info": {
   "codemirror_mode": {
    "name": "ipython",
    "version": 3
   },
   "file_extension": ".py",
   "mimetype": "text/x-python",
   "name": "python",
   "nbconvert_exporter": "python",
   "pygments_lexer": "ipython3",
   "version": "3.12.1"
  }
 },
 "nbformat": 4,
 "nbformat_minor": 5
}
