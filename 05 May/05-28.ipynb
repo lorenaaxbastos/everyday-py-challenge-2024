{
 "cells": [
  {
   "cell_type": "markdown",
   "id": "1f7f9947-3ddd-4a4b-9c5e-77664cc524d0",
   "metadata": {},
   "source": [
    "# Simple fun #63: shape area\n",
    "\n",
    "Date: 05/28/2024.\n",
    "From: Codewars.\n",
    "Link to [kata](https://www.codewars.com/kata/5893e0c41a88085c330000a0/train/python).\n",
    "\n",
    "### Description\n",
    "\n",
    "Below we will define what and n-interesting polygon is and your task is to find its area for a given n.\n",
    "\n",
    "A 1-interesting polygon is just a square with a side of length 1. An n-interesting polygon is obtained by taking the n - 1-interesting polygon and appending 1-interesting polygons to its rim side by side. You can see the 1-, 2- and 3-interesting polygons in the picture below.\n",
    "\n",
    "<img src=\"https://files.gitter.im/myjinxin2015/Gwsw/blob\">\n",
    "\n",
    "**Example**\n",
    "\n",
    "- For n = 1, the output should be 1;\n",
    "- For n = 2, the output should be 5;\n",
    "- For n = 3, the output should be 13.\n",
    "\n",
    "**Input/Output**\n",
    "\n",
    "`[input]` integer n\n",
    "\n",
    "Constraints: 1 ≤ n < 10000.\n",
    "\n",
    "`[output]` an integer\n",
    "\n",
    "The area of the n-interesting polygon.\n",
    "\n",
    "### My solution"
   ]
  },
  {
   "cell_type": "code",
   "execution_count": 1,
   "id": "372786c2-a07e-4eca-a787-e389ba8eb206",
   "metadata": {},
   "outputs": [],
   "source": [
    "def shape_area(n):\n",
    "    pass"
   ]
  },
  {
   "cell_type": "markdown",
   "id": "391a86cb-8397-4340-908f-c69b772fd249",
   "metadata": {},
   "source": [
    "### Basic tests"
   ]
  },
  {
   "cell_type": "code",
   "execution_count": 2,
   "id": "a60614e2-6316-4db8-96ec-2924a23f4dd2",
   "metadata": {},
   "outputs": [
    {
     "name": "stdout",
     "output_type": "stream",
     "text": [
      "False\n",
      "False\n",
      "False\n",
      "False\n"
     ]
    }
   ],
   "source": [
    "print(shape_area(2) == 5)\n",
    "print(shape_area(3) == 13)\n",
    "print(shape_area(1) == 1)\n",
    "print(shape_area(5) == 41)"
   ]
  }
 ],
 "metadata": {
  "kernelspec": {
   "display_name": "Python 3 (ipykernel)",
   "language": "python",
   "name": "python3"
  },
  "language_info": {
   "codemirror_mode": {
    "name": "ipython",
    "version": 3
   },
   "file_extension": ".py",
   "mimetype": "text/x-python",
   "name": "python",
   "nbconvert_exporter": "python",
   "pygments_lexer": "ipython3",
   "version": "3.12.1"
  }
 },
 "nbformat": 4,
 "nbformat_minor": 5
}
