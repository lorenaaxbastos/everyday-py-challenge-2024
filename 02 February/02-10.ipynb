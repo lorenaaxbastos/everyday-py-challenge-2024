{
 "cells": [
  {
   "cell_type": "markdown",
   "id": "da88c76b-5d2b-41b2-8aa4-3d56510018ef",
   "metadata": {},
   "source": [
    "# Reverse word order\n",
    "\n",
    "Date: 02/10/2024.\n",
    "From: Practice Python. \n",
    "Link to [exercise](https://www.practicepython.org/exercise/2014/05/21/15-reverse-word-order.html).\n",
    "\n",
    "### Description\n",
    "\n",
    "Write a program (using functions!) that asks the user for a long string containing multiple words. Print back to the user the same string, except with the words in backwards order. For example, say I type the string:\n",
    "\n",
    "```\n",
    "My name is Michele\n",
    "```\n",
    "\n",
    "Then I would see the string:\n",
    "\n",
    "```\n",
    "Michele is name My\n",
    "```\n",
    "\n",
    "shown back to me.\n",
    "\n",
    "### My solution"
   ]
  },
  {
   "cell_type": "code",
   "execution_count": 2,
   "id": "96fe3496-6ad2-4373-aa24-3ceccd37fd3a",
   "metadata": {},
   "outputs": [
    {
     "data": {
      "text/plain": [
       "'Michele is name My'"
      ]
     },
     "execution_count": 2,
     "metadata": {},
     "output_type": "execute_result"
    }
   ],
   "source": [
    "def reversed_word(text):\n",
    "    return \" \".join(text.split()[::-1])\n",
    "\n",
    "reversed_word(\"My name is Michele\")"
   ]
  },
  {
   "cell_type": "markdown",
   "id": "b4cefe9f-0f05-4a0d-9d20-62e893c9c464",
   "metadata": {},
   "source": [
    "### Sample solution\n",
    "\n",
    "[Link](https://www.practicepython.org/solution/2014/05/28/15-reverse-word-order-solutions.html) to sample solution.\n",
    "\n",
    "# Password generator\n",
    "\n",
    "Date: 02/10/2024.\n",
    "From: Practice Python. \n",
    "Link to [exercise](https://www.practicepython.org/exercise/2014/05/28/16-password-generator.html).\n",
    "\n",
    "### Description\n",
    "\n",
    "***Note:** this is a 4-chili exercise, not because it introduces a concept, but because this exercise is more like a project. Feel free to skip this and come back when you’re more ready!*\n",
    "\n",
    "Write a password generator in Python. Be creative with how you generate passwords - strong passwords have a mix of lowercase letters, uppercase letters, numbers, and symbols. The passwords should be random, generating a new password every time the user asks for a new password. Include your run-time code in a main method.\n",
    "\n",
    "**Extra**\n",
    "\n",
    "- Ask the user how strong they want their password to be. For weak passwords, pick a word or two from a list.\n",
    "\n",
    "### My solution"
   ]
  },
  {
   "cell_type": "code",
   "execution_count": 43,
   "id": "0fdcc1fd-82a7-4e31-ae94-b2dbaad7141d",
   "metadata": {},
   "outputs": [
    {
     "data": {
      "text/plain": [
       "'+5_iQ=m4{5XQ*{3aC8'"
      ]
     },
     "execution_count": 43,
     "metadata": {},
     "output_type": "execute_result"
    }
   ],
   "source": [
    "import string\n",
    "from random import randint\n",
    "\n",
    "def password_generator(strength=\"strong\"):\n",
    "    lower_ = string.ascii_lowercase\n",
    "    upper_ = string.ascii_uppercase\n",
    "    digits_ = string.digits\n",
    "    symbols_ = string.punctuation\n",
    "\n",
    "    weak_passwords = [\"123456\", \"987654\", \"abcdef\", \"123abc\", \"12345!\"]\n",
    "    \n",
    "    if strength == \"strong\":\n",
    "        strong_password = \"\"\n",
    "        \n",
    "        while len(strong_password) < 18:\n",
    "            data = (lower_, upper_, digits_, symbols_)[randint(0, 3)]\n",
    "            strong_password += data[randint(0, len(data) - 1)]\n",
    "\n",
    "        return strong_password\n",
    "    elif strength == \"weak\":\n",
    "        return weak_passwords[randint(0, len(weak_passwords) - 1)]\n",
    "    else:\n",
    "        print(\"Chose the password strength [strong/weak]\")\n",
    "        return -1\n",
    "\n",
    "password_generator()"
   ]
  },
  {
   "cell_type": "markdown",
   "id": "26c56a75-e261-43f0-9926-a09ef8dd5d1a",
   "metadata": {},
   "source": [
    "### Sample solution\n",
    "\n",
    "[Link](https://www.practicepython.org/solution/2014/06/06/16-password-generator-solutions.html) to sample solution."
   ]
  }
 ],
 "metadata": {
  "kernelspec": {
   "display_name": "Python 3 (ipykernel)",
   "language": "python",
   "name": "python3"
  },
  "language_info": {
   "codemirror_mode": {
    "name": "ipython",
    "version": 3
   },
   "file_extension": ".py",
   "mimetype": "text/x-python",
   "name": "python",
   "nbconvert_exporter": "python",
   "pygments_lexer": "ipython3",
   "version": "3.12.1"
  }
 },
 "nbformat": 4,
 "nbformat_minor": 5
}
