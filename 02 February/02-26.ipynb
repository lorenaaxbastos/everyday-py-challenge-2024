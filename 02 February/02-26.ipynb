{
 "cells": [
  {
   "cell_type": "markdown",
   "id": "33d7661a-8d14-451a-b900-4a0cac8d39bf",
   "metadata": {},
   "source": [
    "# Tic tac toe draw\n",
    "\n",
    "Date: 02/26/2024.\n",
    "From: Practice Python. \n",
    "Link to [exercise](https://www.practicepython.org/exercise/2015/11/26/27-tic-tac-toe-draw.html).\n",
    "\n",
    "### Description\n",
    "\n",
    "In a previous exercise we explored the idea of using a list of lists as a “data structure” to store information about a tic tac toe game. In a tic tac toe game, the “game server” needs to know where the Xs and Os are in the board, to know whether player 1 or player 2 (or whoever is X and O won).\n",
    "\n",
    "There has also been an exercise about drawing the actual tic tac toe gameboard using text characters.\n",
    "\n",
    "The next logical step is to deal with handling user input. When a player (say player 1, who is X) wants to place an X on the screen, they can’t just click on a terminal. So we are going to approximate this clicking simply by asking the user for a coordinate of where they want to place their piece.\n",
    "\n",
    "As a reminder, our tic tac toe game is really a list of lists. The game starts out with an empty game board like this:\n",
    "\n",
    "```python\n",
    "game = [[0, 0, 0],\n",
    "        [0, 0, 0],\n",
    "        [0, 0, 0]]\n",
    "```\n",
    "\n",
    "The computer asks Player 1 (X) what their move is (in the format row,col), and say they type 1,3. Then the game would print out\n",
    "\n",
    "```python\n",
    "game = [[0, 0, \"X\"],\n",
    "        [0, 0, 0],\n",
    "        [0, 0, 0]]\n",
    "```\n",
    "\n",
    "And ask Player 2 for their move, printing an O in that place.\n",
    "\n",
    "**Things to note**\n",
    "\n",
    "For this exercise, assume that player 1 (the first player to move) will always be X and player 2 (the second player) will always be O.\n",
    "Notice how in the example I gave coordinates for where I want to move starting from (1, 1) instead of (0, 0). To people who don’t program, starting to count at 0 is a strange concept, so it is better for the user experience if the row counts and column counts start at 1. This is not required, but whichever way you choose to implement this, it should be explained to the player.\n",
    "\n",
    "Ask the user to enter coordinates in the form “row,col” - a number, then a comma, then a number. Then you can use your Python skills to figure out which row and column they want their piece to be in.\n",
    "\n",
    "Don’t worry about checking whether someone won the game, but if a player tries to put a piece in a game position where there already is another piece, do not allow the piece to go there.\n",
    "\n",
    "**Bonus**\n",
    "\n",
    "- For the “standard” exercise, don’t worry about “ending” the game - no need to keep track of how many squares are full. In a bonus version, keep track of how many squares are full and automatically stop asking for moves when there are no more valid moves.\n",
    "\n",
    "### My solution"
   ]
  },
  {
   "cell_type": "code",
   "execution_count": null,
   "id": "08e82962-ebd4-4c72-9482-f879d6a1fdeb",
   "metadata": {},
   "outputs": [],
   "source": []
  },
  {
   "cell_type": "markdown",
   "id": "346ff89d-5037-47f3-a3a7-b32c1f280000",
   "metadata": {},
   "source": [
    "### Sample solution\n",
    "[Link](https://www.practicepython.org/solution/2016/03/17/27-tic-tac-toe-draw-solutions.html) to sample solution."
   ]
  }
 ],
 "metadata": {
  "kernelspec": {
   "display_name": "Python 3 (ipykernel)",
   "language": "python",
   "name": "python3"
  },
  "language_info": {
   "codemirror_mode": {
    "name": "ipython",
    "version": 3
   },
   "file_extension": ".py",
   "mimetype": "text/x-python",
   "name": "python",
   "nbconvert_exporter": "python",
   "pygments_lexer": "ipython3",
   "version": "3.12.1"
  }
 },
 "nbformat": 4,
 "nbformat_minor": 5
}
