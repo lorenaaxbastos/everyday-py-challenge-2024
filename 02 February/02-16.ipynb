{
 "cells": [
  {
   "cell_type": "markdown",
   "id": "da13012f-537d-4790-9470-46c5ebc49108",
   "metadata": {},
   "source": [
    "# Decode a web page 2\n",
    "\n",
    "Date: 02/16/2024.\n",
    "From: Practice Python. \n",
    "Link to [exercise](https://www.practicepython.org/exercise/2014/07/05/18-cows-and-bulls.html).\n",
    "\n",
    "### Description\n",
    "\n",
    "Using the requests and BeautifulSoup Python libraries, print to the screen the full text of the article on this website: [http://www.vanityfair.com/society/2014/06/monica-lewinsky-humiliation-culture](http://www.vanityfair.com/society/2014/06/monica-lewinsky-humiliation-culture).\n",
    "\n",
    "The article is long, so it is split up between 4 pages. Your task is to print out the text to the screen so that you can read the full article without having to click any buttons.\n",
    "\n",
    "This will just print the full text of the article to the screen. It will not make it easy to read, so next exercise we will learn how to write this text to a .txt file.\n",
    "\n",
    "### My solution"
   ]
  },
  {
   "cell_type": "code",
   "execution_count": null,
   "id": "7eb454be-9d8e-489a-b8fb-9682fdbfbfe5",
   "metadata": {},
   "outputs": [],
   "source": []
  },
  {
   "cell_type": "markdown",
   "id": "737ad924-934c-469a-a2a4-c7b584b5478f",
   "metadata": {},
   "source": [
    "### Sample solution\n",
    "\n",
    "[Link](https://www.practicepython.org/solution/2014/10/01/19-decode-a-web-page-two-solutions.html) to sample solution."
   ]
  }
 ],
 "metadata": {
  "kernelspec": {
   "display_name": "Python 3 (ipykernel)",
   "language": "python",
   "name": "python3"
  },
  "language_info": {
   "codemirror_mode": {
    "name": "ipython",
    "version": 3
   },
   "file_extension": ".py",
   "mimetype": "text/x-python",
   "name": "python",
   "nbconvert_exporter": "python",
   "pygments_lexer": "ipython3",
   "version": "3.12.1"
  }
 },
 "nbformat": 4,
 "nbformat_minor": 5
}
