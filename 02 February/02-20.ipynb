{
 "cells": [
  {
   "cell_type": "markdown",
   "id": "3d08c41b-2518-4284-9b85-b6779b2c8f7d",
   "metadata": {},
   "source": [
    "# Roman numerals decoder\n",
    "\n",
    "Date: 02/20/2024. From: Codewars. [Link to kata](https://www.codewars.com/kata/51b6249c4612257ac0000005/train/python).\n",
    "\n",
    "### Description\n",
    "\n",
    "Create a function that takes a Roman numeral as its argument and returns its value as a numeric decimal integer. You don't need to validate the form of the Roman numeral.\n",
    "\n",
    "[Modern Roman numerals](https://en.wikipedia.org/wiki/Roman_numerals#Standard_form) are written by expressing each decimal digit of the number to be encoded separately, starting with the leftmost digit and skipping any 0s. So 1990 is rendered \"MCMXC\" (1000 = M, 900 = CM, 90 = XC) and 2008 is rendered \"MMVIII\" (2000 = MM, 8 = VIII). The Roman numeral for 1666, \"MDCLXVI\", uses each letter in descending order.\n",
    "\n",
    "**Example**\n",
    "\n",
    "```python\n",
    "\"MM\"      -> 2000\n",
    "\"MDCLXVI\" -> 1666\n",
    "\"M\"       -> 1000\n",
    "\"CD\"      ->  400\n",
    "\"XC\"      ->   90\n",
    "\"XL\"      ->   40\n",
    "\"I\"       ->    1\n",
    "```\n",
    "\n",
    "**Help**\n",
    "\n",
    "```\n",
    "Symbol    Value\n",
    "I          1\n",
    "V          5\n",
    "X          10\n",
    "L          50\n",
    "C          100\n",
    "D          500\n",
    "M          1,000\n",
    "```\n",
    "\n",
    "*Courtesy of rosettacode.org*\n",
    "\n",
    "### My solution"
   ]
  },
  {
   "cell_type": "code",
   "execution_count": 1,
   "id": "490e6579-7a4b-4d81-b826-8a6656eb7796",
   "metadata": {},
   "outputs": [],
   "source": [
    "def solution(roman : str) -> int:\n",
    "    \"\"\"complete the solution by transforming the roman numeral into an integer\"\"\"\n",
    "    pass"
   ]
  },
  {
   "cell_type": "markdown",
   "id": "41b72648-58f6-4e17-a724-d176779e07a5",
   "metadata": {},
   "source": [
    "### Basic tests"
   ]
  },
  {
   "cell_type": "code",
   "execution_count": 2,
   "id": "ef5f4f5c-1e19-4ca1-b633-bd44086d6fb7",
   "metadata": {},
   "outputs": [
    {
     "name": "stdout",
     "output_type": "stream",
     "text": [
      "None\n",
      "None\n",
      "None\n",
      "None\n",
      "None\n",
      "None\n",
      "None\n",
      "None\n",
      "None\n"
     ]
    }
   ],
   "source": [
    "print(solution('MMMCMXCIX')) # expects 3999\n",
    "print(solution('MMMDCCCLXXXVIII')) # expects 3888\n",
    "print(solution('MM')) # expects 2000\n",
    "print(solution('MDCLXVI')) # expects 1666\n",
    "print(solution('M' )) # expects 1000\n",
    "print(solution('CD')) # expects 400\n",
    "print(solution('XC')) # expects 90\n",
    "print(solution('XL')) # expects 40\n",
    "print(solution('I' )) # expects 1"
   ]
  }
 ],
 "metadata": {
  "kernelspec": {
   "display_name": "Python 3 (ipykernel)",
   "language": "python",
   "name": "python3"
  },
  "language_info": {
   "codemirror_mode": {
    "name": "ipython",
    "version": 3
   },
   "file_extension": ".py",
   "mimetype": "text/x-python",
   "name": "python",
   "nbconvert_exporter": "python",
   "pygments_lexer": "ipython3",
   "version": "3.12.2"
  }
 },
 "nbformat": 4,
 "nbformat_minor": 5
}
