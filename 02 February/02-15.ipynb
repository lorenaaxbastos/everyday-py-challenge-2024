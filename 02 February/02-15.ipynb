{
 "cells": [
  {
   "cell_type": "markdown",
   "id": "e71676bc-8e6a-412e-9038-7e8d2ea918ff",
   "metadata": {},
   "source": [
    "# Santander Coders exercises from Class #6 Unit #2\n",
    "\n",
    "Date: 02/15/2024. From: Ada Tech. Language: Portuguese."
   ]
  },
  {
   "cell_type": "code",
   "execution_count": 1,
   "id": "021d9684-a5ca-43ee-95c6-e12f4ad0492d",
   "metadata": {},
   "outputs": [],
   "source": [
    "import pandas as pd\n",
    "import numpy as np"
   ]
  },
  {
   "cell_type": "markdown",
   "id": "ba2a74d6",
   "metadata": {},
   "source": [
    "## Exercícios\n",
    "\n",
    "_Descrição dos Exercícios:_ Serão 5 exercícios onde o objetivo será conseguir os dados de datasets conhecidos do Kaggle e responder os tópicos propostos para cada um deles."
   ]
  },
  {
   "cell_type": "markdown",
   "id": "b8ad0a66",
   "metadata": {},
   "source": [
    "## "
   ]
  },
  {
   "cell_type": "markdown",
   "id": "46b3e838",
   "metadata": {},
   "source": [
    "__Exercício 1:__ Análise de Dados do Airbnb em Nova York\n",
    "__Dataset:__  Disponível no Kaggle como _New York City Airbnb Open Data_."
   ]
  },
  {
   "cell_type": "code",
   "execution_count": 2,
   "id": "efc550de-c549-4f4e-836d-64b9ea04329b",
   "metadata": {},
   "outputs": [],
   "source": [
    "df_airbnb = pd.read_csv(\"datasets/02-15-AB_NYC_2019.csv\")"
   ]
  },
  {
   "cell_type": "markdown",
   "id": "416e0a66-91a1-4c6c-bf6c-1e4a886ee21b",
   "metadata": {},
   "source": [
    "__Questões:__\n",
    "\n",
    "__1-__ Exiba as primeiras 5 linhas do dataset para entender a estrutura dos dados."
   ]
  },
  {
   "cell_type": "code",
   "execution_count": 3,
   "id": "a66f1d25-1920-41d8-8da0-1ec13bf29560",
   "metadata": {},
   "outputs": [
    {
     "data": {
      "text/html": [
       "<div>\n",
       "<style scoped>\n",
       "    .dataframe tbody tr th:only-of-type {\n",
       "        vertical-align: middle;\n",
       "    }\n",
       "\n",
       "    .dataframe tbody tr th {\n",
       "        vertical-align: top;\n",
       "    }\n",
       "\n",
       "    .dataframe thead th {\n",
       "        text-align: right;\n",
       "    }\n",
       "</style>\n",
       "<table border=\"1\" class=\"dataframe\">\n",
       "  <thead>\n",
       "    <tr style=\"text-align: right;\">\n",
       "      <th></th>\n",
       "      <th>id</th>\n",
       "      <th>name</th>\n",
       "      <th>host_id</th>\n",
       "      <th>host_name</th>\n",
       "      <th>neighbourhood_group</th>\n",
       "      <th>neighbourhood</th>\n",
       "      <th>latitude</th>\n",
       "      <th>longitude</th>\n",
       "      <th>room_type</th>\n",
       "      <th>price</th>\n",
       "      <th>minimum_nights</th>\n",
       "      <th>number_of_reviews</th>\n",
       "      <th>last_review</th>\n",
       "      <th>reviews_per_month</th>\n",
       "      <th>calculated_host_listings_count</th>\n",
       "      <th>availability_365</th>\n",
       "    </tr>\n",
       "  </thead>\n",
       "  <tbody>\n",
       "    <tr>\n",
       "      <th>0</th>\n",
       "      <td>2539</td>\n",
       "      <td>Clean &amp; quiet apt home by the park</td>\n",
       "      <td>2787</td>\n",
       "      <td>John</td>\n",
       "      <td>Brooklyn</td>\n",
       "      <td>Kensington</td>\n",
       "      <td>40.64749</td>\n",
       "      <td>-73.97237</td>\n",
       "      <td>Private room</td>\n",
       "      <td>149</td>\n",
       "      <td>1</td>\n",
       "      <td>9</td>\n",
       "      <td>2018-10-19</td>\n",
       "      <td>0.21</td>\n",
       "      <td>6</td>\n",
       "      <td>365</td>\n",
       "    </tr>\n",
       "    <tr>\n",
       "      <th>1</th>\n",
       "      <td>2595</td>\n",
       "      <td>Skylit Midtown Castle</td>\n",
       "      <td>2845</td>\n",
       "      <td>Jennifer</td>\n",
       "      <td>Manhattan</td>\n",
       "      <td>Midtown</td>\n",
       "      <td>40.75362</td>\n",
       "      <td>-73.98377</td>\n",
       "      <td>Entire home/apt</td>\n",
       "      <td>225</td>\n",
       "      <td>1</td>\n",
       "      <td>45</td>\n",
       "      <td>2019-05-21</td>\n",
       "      <td>0.38</td>\n",
       "      <td>2</td>\n",
       "      <td>355</td>\n",
       "    </tr>\n",
       "    <tr>\n",
       "      <th>2</th>\n",
       "      <td>3647</td>\n",
       "      <td>THE VILLAGE OF HARLEM....NEW YORK !</td>\n",
       "      <td>4632</td>\n",
       "      <td>Elisabeth</td>\n",
       "      <td>Manhattan</td>\n",
       "      <td>Harlem</td>\n",
       "      <td>40.80902</td>\n",
       "      <td>-73.94190</td>\n",
       "      <td>Private room</td>\n",
       "      <td>150</td>\n",
       "      <td>3</td>\n",
       "      <td>0</td>\n",
       "      <td>NaN</td>\n",
       "      <td>NaN</td>\n",
       "      <td>1</td>\n",
       "      <td>365</td>\n",
       "    </tr>\n",
       "    <tr>\n",
       "      <th>3</th>\n",
       "      <td>3831</td>\n",
       "      <td>Cozy Entire Floor of Brownstone</td>\n",
       "      <td>4869</td>\n",
       "      <td>LisaRoxanne</td>\n",
       "      <td>Brooklyn</td>\n",
       "      <td>Clinton Hill</td>\n",
       "      <td>40.68514</td>\n",
       "      <td>-73.95976</td>\n",
       "      <td>Entire home/apt</td>\n",
       "      <td>89</td>\n",
       "      <td>1</td>\n",
       "      <td>270</td>\n",
       "      <td>2019-07-05</td>\n",
       "      <td>4.64</td>\n",
       "      <td>1</td>\n",
       "      <td>194</td>\n",
       "    </tr>\n",
       "    <tr>\n",
       "      <th>4</th>\n",
       "      <td>5022</td>\n",
       "      <td>Entire Apt: Spacious Studio/Loft by central park</td>\n",
       "      <td>7192</td>\n",
       "      <td>Laura</td>\n",
       "      <td>Manhattan</td>\n",
       "      <td>East Harlem</td>\n",
       "      <td>40.79851</td>\n",
       "      <td>-73.94399</td>\n",
       "      <td>Entire home/apt</td>\n",
       "      <td>80</td>\n",
       "      <td>10</td>\n",
       "      <td>9</td>\n",
       "      <td>2018-11-19</td>\n",
       "      <td>0.10</td>\n",
       "      <td>1</td>\n",
       "      <td>0</td>\n",
       "    </tr>\n",
       "  </tbody>\n",
       "</table>\n",
       "</div>"
      ],
      "text/plain": [
       "     id                                              name  host_id  \\\n",
       "0  2539                Clean & quiet apt home by the park     2787   \n",
       "1  2595                             Skylit Midtown Castle     2845   \n",
       "2  3647               THE VILLAGE OF HARLEM....NEW YORK !     4632   \n",
       "3  3831                   Cozy Entire Floor of Brownstone     4869   \n",
       "4  5022  Entire Apt: Spacious Studio/Loft by central park     7192   \n",
       "\n",
       "     host_name neighbourhood_group neighbourhood  latitude  longitude  \\\n",
       "0         John            Brooklyn    Kensington  40.64749  -73.97237   \n",
       "1     Jennifer           Manhattan       Midtown  40.75362  -73.98377   \n",
       "2    Elisabeth           Manhattan        Harlem  40.80902  -73.94190   \n",
       "3  LisaRoxanne            Brooklyn  Clinton Hill  40.68514  -73.95976   \n",
       "4        Laura           Manhattan   East Harlem  40.79851  -73.94399   \n",
       "\n",
       "         room_type  price  minimum_nights  number_of_reviews last_review  \\\n",
       "0     Private room    149               1                  9  2018-10-19   \n",
       "1  Entire home/apt    225               1                 45  2019-05-21   \n",
       "2     Private room    150               3                  0         NaN   \n",
       "3  Entire home/apt     89               1                270  2019-07-05   \n",
       "4  Entire home/apt     80              10                  9  2018-11-19   \n",
       "\n",
       "   reviews_per_month  calculated_host_listings_count  availability_365  \n",
       "0               0.21                               6               365  \n",
       "1               0.38                               2               355  \n",
       "2                NaN                               1               365  \n",
       "3               4.64                               1               194  \n",
       "4               0.10                               1                 0  "
      ]
     },
     "execution_count": 3,
     "metadata": {},
     "output_type": "execute_result"
    }
   ],
   "source": [
    "df_airbnb.head(5)"
   ]
  },
  {
   "cell_type": "markdown",
   "id": "0cc0dd54-2e45-452b-9408-cfc908f648e9",
   "metadata": {},
   "source": [
    "__2-__ Calcule o preço médio de aluguel por bairro (neighbourhood_group)."
   ]
  },
  {
   "cell_type": "code",
   "execution_count": 4,
   "id": "0602621d-17ff-4889-b8b6-ac4a811e6039",
   "metadata": {},
   "outputs": [
    {
     "data": {
      "text/plain": [
       "neighbourhood_group\n",
       "Bronx             87.496792\n",
       "Brooklyn         124.383207\n",
       "Manhattan        196.875814\n",
       "Queens            99.517649\n",
       "Staten Island    114.812332\n",
       "Name: price, dtype: float64"
      ]
     },
     "execution_count": 4,
     "metadata": {},
     "output_type": "execute_result"
    }
   ],
   "source": [
    "df_airbnb.groupby(\"neighbourhood_group\")[\"price\"].mean()"
   ]
  },
  {
   "cell_type": "markdown",
   "id": "218a5e06-d128-436b-a8ea-142b159abc5d",
   "metadata": {},
   "source": [
    "__3-__ Encontre o número de opções de hospedagem disponíveis em cada tipo de quarto (room_type)."
   ]
  },
  {
   "cell_type": "code",
   "execution_count": 5,
   "id": "0e341ec8-2d10-427a-9fc7-e31ae8d3f5ac",
   "metadata": {},
   "outputs": [
    {
     "data": {
      "text/plain": [
       "room_type\n",
       "Entire home/apt    25409\n",
       "Private room       22326\n",
       "Shared room         1160\n",
       "Name: count, dtype: int64"
      ]
     },
     "execution_count": 5,
     "metadata": {},
     "output_type": "execute_result"
    }
   ],
   "source": [
    "df_airbnb[\"room_type\"].value_counts()"
   ]
  },
  {
   "cell_type": "markdown",
   "id": "974f9e43-6994-41ac-b709-6cdcb0d18ad1",
   "metadata": {},
   "source": [
    "__4-__ Determine os 10 bairros com a maior quantidade de hospedagens listadas."
   ]
  },
  {
   "cell_type": "code",
   "execution_count": 6,
   "id": "c9561576",
   "metadata": {},
   "outputs": [
    {
     "data": {
      "text/plain": [
       "neighbourhood\n",
       "Williamsburg          3920\n",
       "Bedford-Stuyvesant    3714\n",
       "Harlem                2658\n",
       "Bushwick              2465\n",
       "Upper West Side       1971\n",
       "Hell's Kitchen        1958\n",
       "East Village          1853\n",
       "Upper East Side       1798\n",
       "Crown Heights         1564\n",
       "Midtown               1545\n",
       "Name: count, dtype: int64"
      ]
     },
     "execution_count": 6,
     "metadata": {},
     "output_type": "execute_result"
    }
   ],
   "source": [
    "df_airbnb[\"neighbourhood\"].value_counts().sort_values(ascending=False)[:10]"
   ]
  },
  {
   "cell_type": "markdown",
   "id": "45d07151-d97e-4f1c-b183-e812b5ec093b",
   "metadata": {},
   "source": [
    "###"
   ]
  },
  {
   "cell_type": "markdown",
   "id": "9213d3a2",
   "metadata": {},
   "source": [
    "__Exercício 2:__ Explorando Dados de Vendas de Imóveis\n",
    "    \n",
    "__Dataset:__ Disponível no Kaggle como _House Prices: Advanced Regression Techniques._"
   ]
  },
  {
   "cell_type": "code",
   "execution_count": 7,
   "id": "1b4be413-a433-411f-b9c4-84bbb43a9fae",
   "metadata": {},
   "outputs": [],
   "source": [
    "df_house_prices_teste = pd.read_csv(\"datasets/02-15-test.csv\")\n",
    "df_house_prices_treino = pd.read_csv(\"datasets/02-15-train.csv\")\n",
    "df_house_prices = pd.concat([df_house_prices_teste, df_house_prices_treino])"
   ]
  },
  {
   "cell_type": "markdown",
   "id": "ca6699cc-59b3-4ba8-a49a-f77325455da7",
   "metadata": {},
   "source": [
    "__Questões:__\n",
    "\n",
    "__1-__ Exiba o número total de linhas e colunas no DataFrame."
   ]
  },
  {
   "cell_type": "code",
   "execution_count": 8,
   "id": "699126f1-f4fc-49d5-9939-27c7680a2bb4",
   "metadata": {},
   "outputs": [
    {
     "data": {
      "text/plain": [
       "(2919, 81)"
      ]
     },
     "execution_count": 8,
     "metadata": {},
     "output_type": "execute_result"
    }
   ],
   "source": [
    "df_house_prices.shape # linhas, colunas"
   ]
  },
  {
   "cell_type": "markdown",
   "id": "10cd9925-3598-4f58-982c-566f90939368",
   "metadata": {},
   "source": [
    "__2-__ Encontre o preço médio dos imóveis."
   ]
  },
  {
   "cell_type": "code",
   "execution_count": 9,
   "id": "b40dbebc-f594-4839-a8a9-83ad3e988a15",
   "metadata": {},
   "outputs": [
    {
     "data": {
      "text/plain": [
       "180921.19589041095"
      ]
     },
     "execution_count": 9,
     "metadata": {},
     "output_type": "execute_result"
    }
   ],
   "source": [
    "df_house_prices[\"SalePrice\"].mean()"
   ]
  },
  {
   "cell_type": "markdown",
   "id": "3fc3e087-e4c3-42bc-acfb-a1b688de0393",
   "metadata": {},
   "source": [
    "__3-__ Liste as 5 áreas de lote (LotArea) mais grandes."
   ]
  },
  {
   "cell_type": "code",
   "execution_count": 10,
   "id": "66a0a1b9",
   "metadata": {},
   "outputs": [
    {
     "data": {
      "text/plain": [
       "313    215245\n",
       "335    164660\n",
       "249    159000\n",
       "706    115149\n",
       "451     70761\n",
       "Name: LotArea, dtype: int64"
      ]
     },
     "execution_count": 10,
     "metadata": {},
     "output_type": "execute_result"
    }
   ],
   "source": [
    "df_house_prices[\"LotArea\"].sort_values(ascending=False)[:5]"
   ]
  },
  {
   "cell_type": "markdown",
   "id": "1cd03582-b689-40e9-8780-12ee9261b8ab",
   "metadata": {},
   "source": [
    "__4-__ Determine quantos imóveis possuem mais de 2 banheiros (FullBath)."
   ]
  },
  {
   "cell_type": "code",
   "execution_count": 11,
   "id": "017a53db",
   "metadata": {},
   "outputs": [
    {
     "data": {
      "text/plain": [
       "68"
      ]
     },
     "execution_count": 11,
     "metadata": {},
     "output_type": "execute_result"
    }
   ],
   "source": [
    "df_house_prices[df_house_prices[\"FullBath\"] > 2].shape[0]"
   ]
  },
  {
   "cell_type": "markdown",
   "id": "4fb5ed57-9ffe-4fdb-9a19-3d80e3cea799",
   "metadata": {},
   "source": [
    "###"
   ]
  },
  {
   "cell_type": "markdown",
   "id": "decf8921",
   "metadata": {},
   "source": [
    "__Exercício 3:__ Análise de Dados de Compras Online\n",
    "\n",
    "__Dataset:__ Disponível no Kaggle como _Brazilian E-Commerce Public Dataset by Olist._"
   ]
  },
  {
   "cell_type": "code",
   "execution_count": 12,
   "id": "49f9d68f",
   "metadata": {},
   "outputs": [],
   "source": [
    "df_olist_pedidos = pd.read_csv(\"datasets/02-15-olist_orders_dataset.csv\")\n",
    "df_olist_produtos = pd.read_csv(\"datasets/02-15-olist_products_dataset.csv\")\n",
    "df_olist_produtos_pedidos = pd.read_csv(\"datasets/02-15-olist_order_items_dataset.csv\")"
   ]
  },
  {
   "cell_type": "markdown",
   "id": "abb5c6d4-d11e-40c8-88fd-7e214c06c8cd",
   "metadata": {},
   "source": [
    "__Questões:__\n",
    "\n",
    "__1-__ Determine quantos pedidos foram feitos em cada ano."
   ]
  },
  {
   "cell_type": "code",
   "execution_count": 13,
   "id": "6288c0d3-aa47-4a0e-9c25-8892e2f984a2",
   "metadata": {},
   "outputs": [
    {
     "data": {
      "text/plain": [
       "order_purchase_timestamp\n",
       "2018    54011\n",
       "2017    45101\n",
       "2016      329\n",
       "Name: count, dtype: int64"
      ]
     },
     "execution_count": 13,
     "metadata": {},
     "output_type": "execute_result"
    }
   ],
   "source": [
    "pd.to_datetime(df_olist_pedidos[\"order_purchase_timestamp\"]).dt.year.value_counts()"
   ]
  },
  {
   "cell_type": "markdown",
   "id": "0fa21b90-50e0-4b97-9bbe-4ab3e327aa6c",
   "metadata": {},
   "source": [
    "__2-__ Calcule o tempo médio de entrega (diferença entre order_purchase_timestamp e order_delivered_customer_date)."
   ]
  },
  {
   "cell_type": "code",
   "execution_count": 14,
   "id": "ffc8be2c-5efb-478f-ab97-28ed40ba27fc",
   "metadata": {},
   "outputs": [
    {
     "data": {
      "text/plain": [
       "Timedelta('12 days 13:24:31.879068369')"
      ]
     },
     "execution_count": 14,
     "metadata": {},
     "output_type": "execute_result"
    }
   ],
   "source": [
    "(pd.to_datetime(df_olist_pedidos[\"order_delivered_customer_date\"]) - pd.to_datetime(df_olist_pedidos[\"order_purchase_timestamp\"])).mean()"
   ]
  },
  {
   "cell_type": "markdown",
   "id": "bfebe334-922e-4f94-98f0-d33676970e23",
   "metadata": {},
   "source": [
    "__3-__ Identifique o top 5 categorias de produtos mais vendidos.   "
   ]
  },
  {
   "cell_type": "code",
   "execution_count": 15,
   "id": "5038e54b-32a0-4fbb-b082-834b84e1e01b",
   "metadata": {},
   "outputs": [
    {
     "data": {
      "text/plain": [
       "product_category_name\n",
       "cama_mesa_banho           11115\n",
       "beleza_saude               9670\n",
       "esporte_lazer              8641\n",
       "moveis_decoracao           8334\n",
       "informatica_acessorios     7827\n",
       "Name: count, dtype: int64"
      ]
     },
     "execution_count": 15,
     "metadata": {},
     "output_type": "execute_result"
    }
   ],
   "source": [
    "produtos_vendidos = df_olist_produtos_pedidos.merge(df_olist_produtos, on=\"product_id\")\n",
    "produtos_vendidos[\"product_category_name\"].value_counts().sort_values(ascending=False)[:5]"
   ]
  },
  {
   "cell_type": "markdown",
   "id": "50a2c801-799a-42e2-9d09-2f05296b2c66",
   "metadata": {},
   "source": [
    "###"
   ]
  },
  {
   "cell_type": "markdown",
   "id": "5ec215a3-5c99-476a-93b5-a698e2e15929",
   "metadata": {},
   "source": [
    "__Exercício 4:__ Análise de Dados de Filmes do IMDb\n",
    "    \n",
    "__Dataset:__ Disponível no Kaggle como _IMDb movies extensive dataset_."
   ]
  },
  {
   "cell_type": "code",
   "execution_count": 16,
   "id": "f69a322f",
   "metadata": {},
   "outputs": [],
   "source": [
    "df_imdb = pd.read_csv(\"datasets/02-15-movies.csv\")"
   ]
  },
  {
   "cell_type": "markdown",
   "id": "1df429ec",
   "metadata": {},
   "source": [
    "__Questões:__\n",
    "\n",
    "__1-__ Exiba os títulos e anos dos 10 filmes mais recentes no dataset."
   ]
  },
  {
   "cell_type": "code",
   "execution_count": 17,
   "id": "2f6dafad",
   "metadata": {},
   "outputs": [
    {
     "data": {
      "text/html": [
       "<div>\n",
       "<style scoped>\n",
       "    .dataframe tbody tr th:only-of-type {\n",
       "        vertical-align: middle;\n",
       "    }\n",
       "\n",
       "    .dataframe tbody tr th {\n",
       "        vertical-align: top;\n",
       "    }\n",
       "\n",
       "    .dataframe thead th {\n",
       "        text-align: right;\n",
       "    }\n",
       "</style>\n",
       "<table border=\"1\" class=\"dataframe\">\n",
       "  <thead>\n",
       "    <tr style=\"text-align: right;\">\n",
       "      <th></th>\n",
       "      <th>title</th>\n",
       "      <th>year</th>\n",
       "    </tr>\n",
       "  </thead>\n",
       "  <tbody>\n",
       "    <tr>\n",
       "      <th>9175</th>\n",
       "      <td>65</td>\n",
       "      <td>2023</td>\n",
       "    </tr>\n",
       "    <tr>\n",
       "      <th>3684</th>\n",
       "      <td>A Good Person</td>\n",
       "      <td>2023</td>\n",
       "    </tr>\n",
       "    <tr>\n",
       "      <th>5374</th>\n",
       "      <td>AKA</td>\n",
       "      <td>2023</td>\n",
       "    </tr>\n",
       "    <tr>\n",
       "      <th>2007</th>\n",
       "      <td>Air</td>\n",
       "      <td>2023</td>\n",
       "    </tr>\n",
       "    <tr>\n",
       "      <th>7349</th>\n",
       "      <td>Ant-Man and the Wasp: Quantumania</td>\n",
       "      <td>2023</td>\n",
       "    </tr>\n",
       "    <tr>\n",
       "      <th>2018</th>\n",
       "      <td>Are You There God? It's Me, Margaret.</td>\n",
       "      <td>2023</td>\n",
       "    </tr>\n",
       "    <tr>\n",
       "      <th>4849</th>\n",
       "      <td>Asteroid City</td>\n",
       "      <td>2023</td>\n",
       "    </tr>\n",
       "    <tr>\n",
       "      <th>2006</th>\n",
       "      <td>Barbie</td>\n",
       "      <td>2023</td>\n",
       "    </tr>\n",
       "    <tr>\n",
       "      <th>4852</th>\n",
       "      <td>Bawaal</td>\n",
       "      <td>2023</td>\n",
       "    </tr>\n",
       "    <tr>\n",
       "      <th>4454</th>\n",
       "      <td>Beau Is Afraid</td>\n",
       "      <td>2023</td>\n",
       "    </tr>\n",
       "  </tbody>\n",
       "</table>\n",
       "</div>"
      ],
      "text/plain": [
       "                                      title  year\n",
       "9175                                     65  2023\n",
       "3684                          A Good Person  2023\n",
       "5374                                    AKA  2023\n",
       "2007                                    Air  2023\n",
       "7349      Ant-Man and the Wasp: Quantumania  2023\n",
       "2018  Are You There God? It's Me, Margaret.  2023\n",
       "4849                          Asteroid City  2023\n",
       "2006                                 Barbie  2023\n",
       "4852                                 Bawaal  2023\n",
       "4454                         Beau Is Afraid  2023"
      ]
     },
     "execution_count": 17,
     "metadata": {},
     "output_type": "execute_result"
    }
   ],
   "source": [
    "df_imdb[\"year\"] = df_imdb[\"year\"].str[-4:]\n",
    "df_imdb[[\"title\", \"year\"]].sort_values(by=[\"year\", \"title\"], ascending=(0, 1))[:10]"
   ]
  },
  {
   "cell_type": "markdown",
   "id": "e0f33c6e-0372-455a-909d-d41f1c087144",
   "metadata": {},
   "source": [
    "__2-__ Calcule a duração média dos filmes."
   ]
  },
  {
   "cell_type": "code",
   "execution_count": 18,
   "id": "487f25d0-8d84-41c6-a9d1-1d48d942154e",
   "metadata": {},
   "outputs": [
    {
     "data": {
      "text/plain": [
       "110.57833282566759"
      ]
     },
     "execution_count": 18,
     "metadata": {},
     "output_type": "execute_result"
    }
   ],
   "source": [
    "df_imdb[\"runtime\"].mean()"
   ]
  },
  {
   "cell_type": "markdown",
   "id": "392d0cd7-55d3-4afb-82cf-f2fa4c8d2bc5",
   "metadata": {},
   "source": [
    "__3-__ Identifique o filme com a maior quantidade de votos (votes)."
   ]
  },
  {
   "cell_type": "code",
   "execution_count": 19,
   "id": "7a1f291a-63c3-4326-a13b-bbdb990f1ecd",
   "metadata": {},
   "outputs": [
    {
     "data": {
      "text/plain": [
       "0    The Shawshank Redemption\n",
       "Name: title, dtype: object"
      ]
     },
     "execution_count": 19,
     "metadata": {},
     "output_type": "execute_result"
    }
   ],
   "source": [
    "df_imdb[df_imdb[\"votes\"] == df_imdb[\"votes\"].max()][\"title\"]"
   ]
  },
  {
   "cell_type": "markdown",
   "id": "142602ae-3e73-46c0-9463-2d6f8c801a8a",
   "metadata": {},
   "source": [
    "__4-__ Determine quantos filmes possuem uma classificação (avg_vote) superior a 8."
   ]
  },
  {
   "cell_type": "code",
   "execution_count": 20,
   "id": "f685bd0c",
   "metadata": {},
   "outputs": [
    {
     "data": {
      "text/plain": [
       "445"
      ]
     },
     "execution_count": 20,
     "metadata": {},
     "output_type": "execute_result"
    }
   ],
   "source": [
    "df_imdb[df_imdb[\"rating\"] > 8].shape[0]"
   ]
  },
  {
   "cell_type": "markdown",
   "id": "075f5708-95aa-4b0b-94e7-715113350986",
   "metadata": {},
   "source": [
    "###"
   ]
  },
  {
   "cell_type": "markdown",
   "id": "12c3bc7f",
   "metadata": {},
   "source": [
    "__Exercício 5:__ Explorando Dados de Jogos de Videogame\n",
    "    \n",
    "__Dataset:__ Disponível no Kaggle como _Video Game Sales with Ratings_."
   ]
  },
  {
   "cell_type": "code",
   "execution_count": 21,
   "id": "380f0710-3726-4787-ad0b-8c50f752bf63",
   "metadata": {},
   "outputs": [],
   "source": [
    "df_videogame = pd.read_csv(\"datasets/02-15-Video_Games_Sales_as_at_22_Dec_2016.csv\")"
   ]
  },
  {
   "cell_type": "markdown",
   "id": "58e04250-c8bc-4f28-82f5-06f37086a83c",
   "metadata": {},
   "source": [
    "__Questões:__\n",
    "\n",
    "__1-__ Liste os 5 jogos mais vendidos globalmente (Global_Sales)."
   ]
  },
  {
   "cell_type": "code",
   "execution_count": 22,
   "id": "695d85f2-ec16-4f11-ab6c-1c6a19c5b99e",
   "metadata": {},
   "outputs": [
    {
     "data": {
      "text/plain": [
       "0                  Wii Sports\n",
       "1           Super Mario Bros.\n",
       "2              Mario Kart Wii\n",
       "3           Wii Sports Resort\n",
       "4    Pokemon Red/Pokemon Blue\n",
       "Name: Name, dtype: object"
      ]
     },
     "execution_count": 22,
     "metadata": {},
     "output_type": "execute_result"
    }
   ],
   "source": [
    "df_videogame.sort_values(by=\"Global_Sales\", ascending=False)[\"Name\"][:5]"
   ]
  },
  {
   "cell_type": "markdown",
   "id": "78da5999-894e-4c86-a6d0-aa699734c444",
   "metadata": {},
   "source": [
    "__2-__ Calcule as vendas totais na América do Norte (NA_Sales)."
   ]
  },
  {
   "cell_type": "code",
   "execution_count": 23,
   "id": "04819c38",
   "metadata": {},
   "outputs": [
    {
     "data": {
      "text/plain": [
       "4402.620000000001"
      ]
     },
     "execution_count": 23,
     "metadata": {},
     "output_type": "execute_result"
    }
   ],
   "source": [
    "df_videogame[\"NA_Sales\"].sum()"
   ]
  },
  {
   "cell_type": "markdown",
   "id": "46edffb9-cb9b-47ec-aacd-bdc7dde74daa",
   "metadata": {},
   "source": [
    "__3-__ Encontre o jogo mais vendido no Japão (JP_Sales)."
   ]
  },
  {
   "cell_type": "code",
   "execution_count": 24,
   "id": "1c3cf29f-55cc-4b62-b052-faa6e45d4487",
   "metadata": {},
   "outputs": [
    {
     "data": {
      "text/plain": [
       "4    Pokemon Red/Pokemon Blue\n",
       "Name: Name, dtype: object"
      ]
     },
     "execution_count": 24,
     "metadata": {},
     "output_type": "execute_result"
    }
   ],
   "source": [
    "df_videogame[df_videogame[\"JP_Sales\"] == df_videogame[\"JP_Sales\"].max()][\"Name\"]"
   ]
  },
  {
   "cell_type": "markdown",
   "id": "07b62423-e376-4fd0-9ef8-c75c497feaec",
   "metadata": {},
   "source": [
    "__4-__ Determine a média de pontuação dos críticos (Critic_Score) para os jogos da Nintendo."
   ]
  },
  {
   "cell_type": "code",
   "execution_count": 25,
   "id": "78901219-bd0b-4379-af38-669ae466cf64",
   "metadata": {},
   "outputs": [
    {
     "data": {
      "text/plain": [
       "75.52580645161291"
      ]
     },
     "execution_count": 25,
     "metadata": {},
     "output_type": "execute_result"
    }
   ],
   "source": [
    "df_videogame[df_videogame[\"Publisher\"] == \"Nintendo\"][\"Critic_Score\"].mean()"
   ]
  }
 ],
 "metadata": {
  "kernelspec": {
   "display_name": "Python 3 (ipykernel)",
   "language": "python",
   "name": "python3"
  },
  "language_info": {
   "codemirror_mode": {
    "name": "ipython",
    "version": 3
   },
   "file_extension": ".py",
   "mimetype": "text/x-python",
   "name": "python",
   "nbconvert_exporter": "python",
   "pygments_lexer": "ipython3",
   "version": "3.12.1"
  }
 },
 "nbformat": 4,
 "nbformat_minor": 5
}
