{
 "cells": [
  {
   "cell_type": "markdown",
   "id": "e71676bc-8e6a-412e-9038-7e8d2ea918ff",
   "metadata": {},
   "source": [
    "# Santander Coders exercises from Class #6 Unit #2\n",
    "\n",
    "Date: 02/15/2024. From: Ada Tech. Language: Portuguese."
   ]
  },
  {
   "cell_type": "code",
   "execution_count": null,
   "id": "021d9684-a5ca-43ee-95c6-e12f4ad0492d",
   "metadata": {},
   "outputs": [],
   "source": [
    "from os import path\n",
    "import pandas as pd\n",
    "import numpy as np"
   ]
  },
  {
   "cell_type": "markdown",
   "id": "ba2a74d6",
   "metadata": {},
   "source": [
    "## Exercícios\n",
    "\n",
    "_Descrição dos Exercícios:_ Serão 5 exercícios onde o objetivo será conseguir os dados de datasets conhecidos do Kaggle e responder os tópicos propostos para cada um deles."
   ]
  },
  {
   "cell_type": "markdown",
   "id": "b8ad0a66",
   "metadata": {},
   "source": [
    "## "
   ]
  },
  {
   "cell_type": "markdown",
   "id": "46b3e838",
   "metadata": {},
   "source": [
    "__Exercício 1:__ Análise de Dados do Airbnb em Nova York\n",
    "__Dataset:__  Disponível no Kaggle como _New York City Airbnb Open Data_."
   ]
  },
  {
   "cell_type": "code",
   "execution_count": null,
   "id": "efc550de-c549-4f4e-836d-64b9ea04329b",
   "metadata": {},
   "outputs": [],
   "source": []
  },
  {
   "cell_type": "markdown",
   "id": "416e0a66-91a1-4c6c-bf6c-1e4a886ee21b",
   "metadata": {},
   "source": [
    "__Questões:__\n",
    "\n",
    "__1-__ Exiba as primeiras 5 linhas do dataset para entender a estrutura dos dados."
   ]
  },
  {
   "cell_type": "code",
   "execution_count": null,
   "id": "a66f1d25-1920-41d8-8da0-1ec13bf29560",
   "metadata": {},
   "outputs": [],
   "source": []
  },
  {
   "cell_type": "markdown",
   "id": "0cc0dd54-2e45-452b-9408-cfc908f648e9",
   "metadata": {},
   "source": [
    "__2-__ Calcule o preço médio de aluguel por bairro (neighbourhood_group)."
   ]
  },
  {
   "cell_type": "code",
   "execution_count": null,
   "id": "0602621d-17ff-4889-b8b6-ac4a811e6039",
   "metadata": {},
   "outputs": [],
   "source": []
  },
  {
   "cell_type": "markdown",
   "id": "218a5e06-d128-436b-a8ea-142b159abc5d",
   "metadata": {},
   "source": [
    "__3-__ Encontre o número de opções de hospedagem disponíveis em cada tipo de quarto (room_type)."
   ]
  },
  {
   "cell_type": "code",
   "execution_count": null,
   "id": "0e341ec8-2d10-427a-9fc7-e31ae8d3f5ac",
   "metadata": {},
   "outputs": [],
   "source": []
  },
  {
   "cell_type": "markdown",
   "id": "974f9e43-6994-41ac-b709-6cdcb0d18ad1",
   "metadata": {},
   "source": [
    "__4-__ Determine os 10 bairros com a maior quantidade de hospedagens listadas."
   ]
  },
  {
   "cell_type": "code",
   "execution_count": null,
   "id": "c9561576",
   "metadata": {},
   "outputs": [],
   "source": []
  },
  {
   "cell_type": "markdown",
   "id": "45d07151-d97e-4f1c-b183-e812b5ec093b",
   "metadata": {},
   "source": [
    "###"
   ]
  },
  {
   "cell_type": "markdown",
   "id": "9213d3a2",
   "metadata": {},
   "source": [
    "__Exercício 2:__ Explorando Dados de Vendas de Imóveis\n",
    "    \n",
    "__Dataset:__ Disponível no Kaggle como _House Prices: Advanced Regression Techniques._"
   ]
  },
  {
   "cell_type": "code",
   "execution_count": null,
   "id": "1b4be413-a433-411f-b9c4-84bbb43a9fae",
   "metadata": {},
   "outputs": [],
   "source": []
  },
  {
   "cell_type": "markdown",
   "id": "ca6699cc-59b3-4ba8-a49a-f77325455da7",
   "metadata": {},
   "source": [
    "__Questões:__\n",
    "\n",
    "__1-__ Exiba o número total de linhas e colunas no DataFrame."
   ]
  },
  {
   "cell_type": "code",
   "execution_count": null,
   "id": "699126f1-f4fc-49d5-9939-27c7680a2bb4",
   "metadata": {},
   "outputs": [],
   "source": []
  },
  {
   "cell_type": "markdown",
   "id": "10cd9925-3598-4f58-982c-566f90939368",
   "metadata": {},
   "source": [
    "__2-__ Encontre o preço médio dos imóveis."
   ]
  },
  {
   "cell_type": "code",
   "execution_count": null,
   "id": "b40dbebc-f594-4839-a8a9-83ad3e988a15",
   "metadata": {},
   "outputs": [],
   "source": []
  },
  {
   "cell_type": "markdown",
   "id": "3fc3e087-e4c3-42bc-acfb-a1b688de0393",
   "metadata": {},
   "source": [
    "__3-__ Liste as 5 áreas de lote (LotArea) mais grandes."
   ]
  },
  {
   "cell_type": "code",
   "execution_count": null,
   "id": "66a0a1b9",
   "metadata": {},
   "outputs": [],
   "source": []
  },
  {
   "cell_type": "markdown",
   "id": "1cd03582-b689-40e9-8780-12ee9261b8ab",
   "metadata": {},
   "source": [
    "__4-__ Determine quantos imóveis possuem mais de 2 banheiros (FullBath)."
   ]
  },
  {
   "cell_type": "code",
   "execution_count": null,
   "id": "017a53db",
   "metadata": {},
   "outputs": [],
   "source": []
  },
  {
   "cell_type": "markdown",
   "id": "4fb5ed57-9ffe-4fdb-9a19-3d80e3cea799",
   "metadata": {},
   "source": [
    "###"
   ]
  },
  {
   "cell_type": "markdown",
   "id": "decf8921",
   "metadata": {},
   "source": [
    "__Exercício 3:__ Análise de Dados de Compras Online\n",
    "\n",
    "__Dataset:__ Disponível no Kaggle como _Brazilian E-Commerce Public Dataset by Olist._"
   ]
  },
  {
   "cell_type": "code",
   "execution_count": null,
   "id": "49f9d68f",
   "metadata": {},
   "outputs": [],
   "source": []
  },
  {
   "cell_type": "markdown",
   "id": "abb5c6d4-d11e-40c8-88fd-7e214c06c8cd",
   "metadata": {},
   "source": [
    "__Questões:__\n",
    "\n",
    "__1-__ Determine quantos pedidos foram feitos em cada ano."
   ]
  },
  {
   "cell_type": "code",
   "execution_count": null,
   "id": "6288c0d3-aa47-4a0e-9c25-8892e2f984a2",
   "metadata": {},
   "outputs": [],
   "source": []
  },
  {
   "cell_type": "markdown",
   "id": "0fa21b90-50e0-4b97-9bbe-4ab3e327aa6c",
   "metadata": {},
   "source": [
    "__2-__ Calcule o tempo médio de entrega (diferença entre order_purchase_timestamp e order_delivered_customer_date)."
   ]
  },
  {
   "cell_type": "code",
   "execution_count": null,
   "id": "ffc8be2c-5efb-478f-ab97-28ed40ba27fc",
   "metadata": {},
   "outputs": [],
   "source": []
  },
  {
   "cell_type": "markdown",
   "id": "bfebe334-922e-4f94-98f0-d33676970e23",
   "metadata": {},
   "source": [
    "__3-__ Identifique o top 5 categorias de produtos mais vendidos.   "
   ]
  },
  {
   "cell_type": "code",
   "execution_count": null,
   "id": "5038e54b-32a0-4fbb-b082-834b84e1e01b",
   "metadata": {},
   "outputs": [],
   "source": []
  },
  {
   "cell_type": "markdown",
   "id": "50a2c801-799a-42e2-9d09-2f05296b2c66",
   "metadata": {},
   "source": [
    "###"
   ]
  },
  {
   "cell_type": "markdown",
   "id": "5ec215a3-5c99-476a-93b5-a698e2e15929",
   "metadata": {},
   "source": [
    "__Exercício 4:__ Análise de Dados de Filmes do IMDb\n",
    "    \n",
    "__Dataset:__ Disponível no Kaggle como _IMDb movies extensive dataset_."
   ]
  },
  {
   "cell_type": "code",
   "execution_count": null,
   "id": "f69a322f",
   "metadata": {},
   "outputs": [],
   "source": []
  },
  {
   "cell_type": "markdown",
   "id": "1df429ec",
   "metadata": {},
   "source": [
    "__Questões:__\n",
    "\n",
    "__1-__ Exiba os títulos e anos dos 10 filmes mais recentes no dataset."
   ]
  },
  {
   "cell_type": "code",
   "execution_count": null,
   "id": "2f6dafad",
   "metadata": {},
   "outputs": [],
   "source": []
  },
  {
   "cell_type": "markdown",
   "id": "e0f33c6e-0372-455a-909d-d41f1c087144",
   "metadata": {},
   "source": [
    "__2-__ Calcule a duração média dos filmes."
   ]
  },
  {
   "cell_type": "code",
   "execution_count": null,
   "id": "487f25d0-8d84-41c6-a9d1-1d48d942154e",
   "metadata": {},
   "outputs": [],
   "source": []
  },
  {
   "cell_type": "markdown",
   "id": "392d0cd7-55d3-4afb-82cf-f2fa4c8d2bc5",
   "metadata": {},
   "source": [
    "__3-__ Identifique o filme com a maior quantidade de votos (votes)."
   ]
  },
  {
   "cell_type": "code",
   "execution_count": null,
   "id": "7a1f291a-63c3-4326-a13b-bbdb990f1ecd",
   "metadata": {},
   "outputs": [],
   "source": []
  },
  {
   "cell_type": "markdown",
   "id": "142602ae-3e73-46c0-9463-2d6f8c801a8a",
   "metadata": {},
   "source": [
    "__4-__ Determine quantos filmes possuem uma classificação (avg_vote) superior a 8."
   ]
  },
  {
   "cell_type": "code",
   "execution_count": null,
   "id": "f685bd0c",
   "metadata": {},
   "outputs": [],
   "source": []
  },
  {
   "cell_type": "markdown",
   "id": "075f5708-95aa-4b0b-94e7-715113350986",
   "metadata": {},
   "source": [
    "###"
   ]
  },
  {
   "cell_type": "markdown",
   "id": "12c3bc7f",
   "metadata": {},
   "source": [
    "__Exercício 5:__ Explorando Dados de Jogos de Videogame\n",
    "    \n",
    "__Dataset:__ Disponível no Kaggle como _Video Game Sales with Ratings_."
   ]
  },
  {
   "cell_type": "code",
   "execution_count": null,
   "id": "380f0710-3726-4787-ad0b-8c50f752bf63",
   "metadata": {},
   "outputs": [],
   "source": []
  },
  {
   "cell_type": "markdown",
   "id": "58e04250-c8bc-4f28-82f5-06f37086a83c",
   "metadata": {},
   "source": [
    "__Questões:__\n",
    "\n",
    "__1-__ Liste os 5 jogos mais vendidos globalmente (Global_Sales)."
   ]
  },
  {
   "cell_type": "code",
   "execution_count": null,
   "id": "695d85f2-ec16-4f11-ab6c-1c6a19c5b99e",
   "metadata": {},
   "outputs": [],
   "source": []
  },
  {
   "cell_type": "markdown",
   "id": "78da5999-894e-4c86-a6d0-aa699734c444",
   "metadata": {},
   "source": [
    "__2-__ Calcule as vendas totais na América do Norte (NA_Sales)."
   ]
  },
  {
   "cell_type": "code",
   "execution_count": null,
   "id": "04819c38",
   "metadata": {},
   "outputs": [],
   "source": []
  },
  {
   "cell_type": "markdown",
   "id": "46edffb9-cb9b-47ec-aacd-bdc7dde74daa",
   "metadata": {},
   "source": [
    "__3-__ Encontre o jogo mais vendido no Japão (JP_Sales)."
   ]
  },
  {
   "cell_type": "code",
   "execution_count": null,
   "id": "1c3cf29f-55cc-4b62-b052-faa6e45d4487",
   "metadata": {},
   "outputs": [],
   "source": []
  },
  {
   "cell_type": "markdown",
   "id": "07b62423-e376-4fd0-9ef8-c75c497feaec",
   "metadata": {},
   "source": [
    "__4-__ Determine a média de pontuação dos críticos (Critic_Score) para os jogos da Nintendo."
   ]
  },
  {
   "cell_type": "code",
   "execution_count": null,
   "id": "78901219-bd0b-4379-af38-669ae466cf64",
   "metadata": {},
   "outputs": [],
   "source": []
  }
 ],
 "metadata": {
  "kernelspec": {
   "display_name": "Python 3 (ipykernel)",
   "language": "python",
   "name": "python3"
  },
  "language_info": {
   "codemirror_mode": {
    "name": "ipython",
    "version": 3
   },
   "file_extension": ".py",
   "mimetype": "text/x-python",
   "name": "python",
   "nbconvert_exporter": "python",
   "pygments_lexer": "ipython3",
   "version": "3.12.0"
  }
 },
 "nbformat": 4,
 "nbformat_minor": 5
}
