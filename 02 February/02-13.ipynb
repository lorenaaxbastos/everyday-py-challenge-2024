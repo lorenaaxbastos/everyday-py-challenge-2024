{
 "cells": [
  {
   "cell_type": "markdown",
   "id": "6b121fe5-17e4-433e-9caf-2be7bd91fd0d",
   "metadata": {},
   "source": [
    "# Decode a web page\n",
    "\n",
    "Date: 02/13/2024.\n",
    "From: Practice Python. \n",
    "Link to [exercise](https://www.practicepython.org/exercise/2014/06/06/17-decode-a-web-page.html).\n",
    "\n",
    "### Description\n",
    "\n",
    "***Note:** this is a 4-chili exercise, not because it introduces a concept (although it introduces a new library), but because this exercise is more like a project.*\n",
    "\n",
    "Use the `BeautifulSoup` and `requests` Python packages to print out a list of all the article titles on the [New York Times homepage](http://www.nytimes.com/).\n",
    "\n",
    "### My solution"
   ]
  },
  {
   "cell_type": "code",
   "execution_count": 1,
   "id": "1f0454cf-2fc7-4ff8-9ebb-36bbb4faf5ce",
   "metadata": {},
   "outputs": [],
   "source": [
    "from pprint import pprint\n",
    "import requests\n",
    "from bs4 import BeautifulSoup"
   ]
  },
  {
   "cell_type": "code",
   "execution_count": 2,
   "id": "f9bd1e1a-b476-448b-9d6b-efd8cbe07240",
   "metadata": {},
   "outputs": [
    {
     "name": "stdout",
     "output_type": "stream",
     "text": [
      "['A Super Bowl ad is the latest chapter in a growing rift between Robert F. '\n",
      " 'Kennedy Jr. and much of his family.',\n",
      " 'A Tunnel Offers Clues to How Hamas Uses Gaza’s Hospitals',\n",
      " 'A ‘Democracy Party’ Like No Other: One of the World’s Biggest Elections',\n",
      " 'Biden’s Age Is a Campaign Problem, Not a Governing One',\n",
      " 'Carnival Starts Only When 12-Foot John Travolta Arrives',\n",
      " 'Check how much snow will fall where you live.',\n",
      " 'Connections',\n",
      " 'Connections Companion',\n",
      " 'Critical House Election in New York May Be Shaped by a New Issue: Snow',\n",
      " 'Donald Trump is backing his daughter-in-law, Lara Trump, to be the co-chair '\n",
      " 'of the Republican National Committee.',\n",
      " 'Donald Trump’s threat to NATO allies has moved attention away from questions '\n",
      " 'about President Biden’s age.',\n",
      " 'Economists Think U.S. Inflation Probably Cooled Last Month',\n",
      " 'Feb. 13: A Holiday I Prefer Not to Celebrate',\n",
      " 'Haley’s Hard-Line Immigration Record Runs Counter to Trump’s Attacks',\n",
      " 'Here are the Republican senators who broke with their party to back Ukraine '\n",
      " 'aid.',\n",
      " 'Here’s what to know about the special House election to replace George '\n",
      " 'Santos.',\n",
      " 'Hezbollah fired missiles into northern Israel and injured at least two '\n",
      " 'people, officials said.',\n",
      " 'Intimate Clashes Reveal a Hierarchy’s Dynamics',\n",
      " 'I’m a Neuroscientist. We’re Thinking About Biden’s Memory and Age in the '\n",
      " 'Wrong Way.',\n",
      " 'Jon Stewart’s return was the highlight of Monday’s late night shows.',\n",
      " 'Letter Boxed',\n",
      " 'Light, Pretty Knits for Spring',\n",
      " 'Mediators in Cairo, Including C.I.A. Chief, Renew Push for Gaza Cease-Fire',\n",
      " 'New York braces for snow, and Donald Trump makes a last-ditch bid for '\n",
      " 'immunity.',\n",
      " 'No Deposits This Year at Love Bank, a Museum Hit by Fire',\n",
      " 'One Killed and 5 Wounded in Shooting at Bronx Subway Station',\n",
      " 'Only Biden and M.B.S. Can Redirect the Israeli-Palestinian Conflict',\n",
      " 'Powerful Nor’easter Begins Moving Through New York',\n",
      " 'Senate Passes Bill for Ukraine Aid, but Fate Is Uncertain in a Hostile House',\n",
      " 'Spelling Bee',\n",
      " 'Student Housing Has a New Mantra: Bigger Is Better',\n",
      " 'The Crossword',\n",
      " 'The Deep Joy of Squirreling It All Away',\n",
      " 'The Morning',\n",
      " 'The Politics of Betrayal Are at Work in Michigan',\n",
      " 'They’re Starting a Pro-Housing Club. No NIMBYs Allowed.',\n",
      " 'This Is Not the Way Team Biden Drew It Up',\n",
      " 'This is why the race to replace George Santos is so close.',\n",
      " 'To Deepen Love, Consider Duty',\n",
      " 'Trump Is Losing It',\n",
      " 'Truth-Telling in the New York House Election',\n",
      " 'Twyla Tharp: ‘You Dig Down, You Settle In, You Don’t Stop’',\n",
      " 'U.S. Gas Producers Are Racing to Sell to Asia. And Mexico Is Key.',\n",
      " 'Usher’s Tribute to Black College Culture Was a True Homecoming',\n",
      " 'Was Boston’s snow forecast a bust? It depends on whom you ask.',\n",
      " 'We Keep Domestic Violence Shelters Secret. Who Is That Really Helping?',\n",
      " 'What Do We Owe Black Americans?',\n",
      " 'What a Split in Consumer Confidence Means for Biden',\n",
      " 'When Flowers Just Won’t Do',\n",
      " 'Why I Am Now Deeply Worried for America',\n",
      " 'Why This Group of Undecided Independent Voters Is Leaning Toward Trump',\n",
      " 'Will Voters in San Francisco Go for a Different Kind of Mayor?',\n",
      " 'Wordle',\n",
      " '‘Now Where Was I?’ Jon Stewart Is Back in His Old ‘Daily Show’ Seat']\n"
     ]
    }
   ],
   "source": [
    "try:\n",
    "    response = requests.get(\"https://www.nytimes.com/\")\n",
    "    response.raise_for_status()\n",
    "except requests.HTTPError as http_error:\n",
    "    print(f\"An http error occurred. {http_error}\")\n",
    "except Exception as e:\n",
    "    print(f\"Another error occurred. {e}\")\n",
    "else:\n",
    "    conteudo = response.content\n",
    "    soup = BeautifulSoup(conteudo, \"html.parser\")\n",
    "    sections = soup.select(\"section.story-wrapper\")\n",
    "\n",
    "    article_titles = set()\n",
    "    \n",
    "    for section in sections:\n",
    "        if section.select(\"p.indicate-hover\"):\n",
    "            title = section.select(\"p.indicate-hover\")[0].text\n",
    "            article_titles.add(title)\n",
    "\n",
    "    pprint(sorted(article_titles))"
   ]
  },
  {
   "cell_type": "markdown",
   "id": "6c87ed5d-2e87-4e47-9796-1bc26ee920ee",
   "metadata": {},
   "source": [
    "### Sample solution\n",
    "\n",
    "[Link](https://www.practicepython.org/solution/2014/07/10/17-decode-a-web-page-solutions.html) to sample solution."
   ]
  }
 ],
 "metadata": {
  "kernelspec": {
   "display_name": "Python 3 (ipykernel)",
   "language": "python",
   "name": "python3"
  },
  "language_info": {
   "codemirror_mode": {
    "name": "ipython",
    "version": 3
   },
   "file_extension": ".py",
   "mimetype": "text/x-python",
   "name": "python",
   "nbconvert_exporter": "python",
   "pygments_lexer": "ipython3",
   "version": "3.12.1"
  }
 },
 "nbformat": 4,
 "nbformat_minor": 5
}
