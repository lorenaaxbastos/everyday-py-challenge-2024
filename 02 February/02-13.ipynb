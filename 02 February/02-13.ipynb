{
 "cells": [
  {
   "cell_type": "markdown",
   "id": "6b121fe5-17e4-433e-9caf-2be7bd91fd0d",
   "metadata": {},
   "source": [
    "# Decode a web page\n",
    "\n",
    "Date: 02/13/2024.\n",
    "From: Practice Python. \n",
    "Link to [exercise](https://www.practicepython.org/exercise/2014/06/06/17-decode-a-web-page.html).\n",
    "\n",
    "### Description\n",
    "\n",
    "***Note:** this is a 4-chili exercise, not because it introduces a concept (although it introduces a new library), but because this exercise is more like a project.*\n",
    "\n",
    "Use the `BeautifulSoup` and `requests` Python packages to print out a list of all the article titles on the [New York Times homepage](http://www.nytimes.com/).\n",
    "\n",
    "### My solution"
   ]
  },
  {
   "cell_type": "code",
   "execution_count": null,
   "id": "1f0454cf-2fc7-4ff8-9ebb-36bbb4faf5ce",
   "metadata": {},
   "outputs": [],
   "source": []
  },
  {
   "cell_type": "markdown",
   "id": "6c87ed5d-2e87-4e47-9796-1bc26ee920ee",
   "metadata": {},
   "source": [
    "### Sample solution\n",
    "\n",
    "[Link](https://www.practicepython.org/solution/2014/07/10/17-decode-a-web-page-solutions.html) to sample solution."
   ]
  }
 ],
 "metadata": {
  "kernelspec": {
   "display_name": "Python 3 (ipykernel)",
   "language": "python",
   "name": "python3"
  },
  "language_info": {
   "codemirror_mode": {
    "name": "ipython",
    "version": 3
   },
   "file_extension": ".py",
   "mimetype": "text/x-python",
   "name": "python",
   "nbconvert_exporter": "python",
   "pygments_lexer": "ipython3",
   "version": "3.12.1"
  }
 },
 "nbformat": 4,
 "nbformat_minor": 5
}
