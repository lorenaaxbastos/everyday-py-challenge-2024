{
 "cells": [
  {
   "cell_type": "markdown",
   "id": "434c90d2-e7ed-4d50-9695-d27108ed5de0",
   "metadata": {},
   "source": [
    "# String lists\r\n",
    "\r\n",
    "Date: 02/01/2024.\r\n",
    "From: Practice Python. \r\n",
    "Link to [exercise](https://www.practicepython.org/exercise/2014/03/12/06-string-lists.html).\r\n",
    "\r\n",
    "### Description\r\n",
    "\r\n",
    "Ask the user for a string and print out whether this string is a palindrome or not. (A palindrome is a string that reads the same forwards and backwards.)\r\n",
    "\r\n",
    "### My solution"
   ]
  },
  {
   "cell_type": "code",
   "execution_count": null,
   "id": "b924111c-4770-4eaf-bf60-107b48a52f86",
   "metadata": {},
   "outputs": [],
   "source": []
  },
  {
   "cell_type": "markdown",
   "id": "bdabd789-1efd-4e21-bf98-72afe26fc618",
   "metadata": {},
   "source": [
    "### Sample solution\r\n",
    "\r\n",
    "[Link](https://www.practicepython.org/solution/2014/03/19/06-string-lists-solutions.html) to sample solution.\r\n",
    "\r\n",
    "# List comprehensions\r\n",
    "\r\n",
    "Date: 02/01/2024.\r\n",
    "From: Practice Python. \r\n",
    "Link to [exercise](https://www.practicepython.org/exercise/2014/03/19/07-list-comprehensions.html).\r\n",
    "\r\n",
    "### Description\r\n",
    "\r\n",
    "Let’s say I give you a list saved in a variable: a = [1, 4, 9, 16, 25, 36, 49, 64, 81, 100]. Write one line of Python that takes this list a and makes a new list that has only the even elements of this list in it.\r\n",
    "\r\n",
    "### My solution"
   ]
  },
  {
   "cell_type": "code",
   "execution_count": null,
   "id": "91cf3971-bb34-4c17-8fd0-e5f1cc85d7cf",
   "metadata": {},
   "outputs": [],
   "source": []
  },
  {
   "cell_type": "markdown",
   "id": "9b9efe6a-4945-4cdc-92c9-654e16080fbd",
   "metadata": {},
   "source": [
    "### Sample solution\n",
    "\n",
    "[Link](https://www.practicepython.org/solution/2014/03/26/07-list-comprehensions-solutions.html) to sample solution.\n",
    "\n",
    "# List overlap comprehensions\n",
    "\n",
    "Date: 02/01/2024.\n",
    "From: Practice Python. \n",
    "Link to [exercise](https://www.practicepython.org/exercise/2014/04/10/10-list-overlap-comprehensions.html).\n",
    "\n",
    "### Description\n",
    "\n",
    "This week’s exercise is going to be revisiting an old exercise (see Exercise 5), except require the solution in a different way.\n",
    "\n",
    "Take two lists, say for example these two:\n",
    "\n",
    "```\n",
    "a = [1, 1, 2, 3, 5, 8, 13, 21, 34, 55, 89]\n",
    "b = [1, 2, 3, 4, 5, 6, 7, 8, 9, 10, 11, 12, 13]\n",
    "```\n",
    "\n",
    "and write a program that returns a list that contains only the elements that are common between the lists (without duplicates). Make sure your program works on two lists of different sizes. Write this using at least one list comprehension. \n",
    "\n",
    "**Extra**\n",
    "\n",
    "- Randomly generate two lists to test this.\n",
    "\n",
    "### My solution"
   ]
  },
  {
   "cell_type": "code",
   "execution_count": null,
   "id": "f1f7340c-5c40-4a91-820d-7ceda0a6df57",
   "metadata": {},
   "outputs": [],
   "source": []
  },
  {
   "cell_type": "markdown",
   "id": "9d01d4d7-3f5e-4f65-a8f0-04baa05b6151",
   "metadata": {},
   "source": [
    "### Sample solution\r\n",
    "\r\n",
    "[Link](https://www.practicepython.org/solution/2014/04/16/10-list-overlap-comprehensions-solutions.html) to sample solution."
   ]
  }
 ],
 "metadata": {
  "kernelspec": {
   "display_name": "Python 3 (ipykernel)",
   "language": "python",
   "name": "python3"
  },
  "language_info": {
   "codemirror_mode": {
    "name": "ipython",
    "version": 3
   },
   "file_extension": ".py",
   "mimetype": "text/x-python",
   "name": "python",
   "nbconvert_exporter": "python",
   "pygments_lexer": "ipython3",
   "version": "3.12.0"
  }
 },
 "nbformat": 4,
 "nbformat_minor": 5
}
