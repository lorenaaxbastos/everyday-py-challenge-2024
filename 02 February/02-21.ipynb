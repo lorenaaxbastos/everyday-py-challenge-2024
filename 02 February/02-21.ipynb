{
 "cells": [
  {
   "cell_type": "markdown",
   "id": "46e4d072-1ea7-4192-a009-06677fb2f03d",
   "metadata": {},
   "source": [
    "# Read from a file\n",
    "\n",
    "Date: 02/21/2024.\n",
    "From: Practice Python. \n",
    "Link to [exercise](https://www.practicepython.org/exercise/2014/12/06/22-read-from-file.html).\n",
    "\n",
    "### Description\n",
    "\n",
    "[Given a .txt](https://www.practicepython.org/assets/nameslist.txt) file that has a list of a bunch of names, count how many of each name there are in the file, and print out the results to the screen. \n",
    "\n",
    "**Extra**\n",
    "\n",
    "- Instead of using the .txt file from above, [take this .txt file](https://www.practicepython.org/assets/Training_01.txt), and count how many of each “category” of each image there are. This text file is actually a list of files corresponding to the SUN database scene recognition database, and lists the file directory hierarchy for the images. Once you take a look at the first line or two of the file, it will be clear which part represents the scene category. \n",
    "\n",
    "### My solution"
   ]
  },
  {
   "cell_type": "code",
   "execution_count": null,
   "id": "49bab537-455d-4295-9dc5-2c06c3e2225b",
   "metadata": {},
   "outputs": [],
   "source": []
  },
  {
   "cell_type": "markdown",
   "id": "f94af6bc-e4f1-48d0-976c-bcc65eee7c7a",
   "metadata": {},
   "source": [
    "### Sample solution\n",
    "\n",
    "[Link](https://www.practicepython.org/solution/2014/12/14/22-read-from-file-solutions.html) to sample solution."
   ]
  }
 ],
 "metadata": {
  "kernelspec": {
   "display_name": "Python 3 (ipykernel)",
   "language": "python",
   "name": "python3"
  },
  "language_info": {
   "codemirror_mode": {
    "name": "ipython",
    "version": 3
   },
   "file_extension": ".py",
   "mimetype": "text/x-python",
   "name": "python",
   "nbconvert_exporter": "python",
   "pygments_lexer": "ipython3",
   "version": "3.12.2"
  }
 },
 "nbformat": 4,
 "nbformat_minor": 5
}
