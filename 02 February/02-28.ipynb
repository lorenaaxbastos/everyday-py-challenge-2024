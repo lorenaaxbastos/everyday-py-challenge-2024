{
 "cells": [
  {
   "cell_type": "markdown",
   "id": "2155ad6d-2776-4fa3-a275-344808272724",
   "metadata": {},
   "source": [
    "# Tic tac toe game\n",
    "\n",
    "Date: 02/28/2024.\n",
    "From: Practice Python. \n",
    "Link to [exercise](https://www.practicepython.org/exercise/2016/08/03/29-tic-tac-toe-game.html).\n",
    "\n",
    "### Description\n",
    "\n",
    "In 3 previous exercises, we built up a few components needed to build a Tic Tac Toe game in Python:\n",
    "\n",
    "- Draw the Tic Tac Toe game board\n",
    "- Checking whether a game board has a winner\n",
    "- Handle a player move from user input\n",
    "\n",
    "The next step is to put all these three components together to make a two-player Tic Tac Toe game! Your challenge in this exercise is to use the functions from those previous exercises all together in the same program to make a two-player game that you can play with a friend. There are a lot of choices you will have to make when completing this exercise, so you can go as far or as little as you want with it.\n",
    "\n",
    "Here are a few things to keep in mind:\n",
    "\n",
    "- You should keep track of who won - if there is a winner, show a congratulatory message on the screen.\n",
    "- If there are no more moves left, don’t ask for the next player’s move!\n",
    "\n",
    "As a bonus, you can ask the players if they want to play again and keep a running tally of who won more - Player 1 or Player 2.\n",
    "\n",
    "### My solution"
   ]
  },
  {
   "cell_type": "code",
   "execution_count": null,
   "id": "a25d2de4-b3e4-4d3f-86cf-d42c88a9fc84",
   "metadata": {},
   "outputs": [],
   "source": []
  },
  {
   "cell_type": "markdown",
   "id": "5a7f2ed2-1b76-46c1-af88-bdd484e40167",
   "metadata": {},
   "source": [
    "### Sample solution\n",
    "[Link](https://www.practicepython.org/solution/2016/09/11/29-tic-tac-toe-game-solutions.html) to sample solution."
   ]
  }
 ],
 "metadata": {
  "kernelspec": {
   "display_name": "Python 3 (ipykernel)",
   "language": "python",
   "name": "python3"
  },
  "language_info": {
   "codemirror_mode": {
    "name": "ipython",
    "version": 3
   },
   "file_extension": ".py",
   "mimetype": "text/x-python",
   "name": "python",
   "nbconvert_exporter": "python",
   "pygments_lexer": "ipython3",
   "version": "3.12.2"
  }
 },
 "nbformat": 4,
 "nbformat_minor": 5
}
