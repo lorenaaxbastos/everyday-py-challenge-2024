{
 "cells": [
  {
   "cell_type": "markdown",
   "id": "2155ad6d-2776-4fa3-a275-344808272724",
   "metadata": {},
   "source": [
    "# Tic tac toe game\n",
    "\n",
    "Date: 02/28/2024.\n",
    "From: Practice Python. \n",
    "Link to [exercise](https://www.practicepython.org/exercise/2016/08/03/29-tic-tac-toe-game.html).\n",
    "\n",
    "### Description\n",
    "\n",
    "In 3 previous exercises, we built up a few components needed to build a Tic Tac Toe game in Python:\n",
    "\n",
    "- Draw the Tic Tac Toe game board\n",
    "- Checking whether a game board has a winner\n",
    "- Handle a player move from user input\n",
    "\n",
    "The next step is to put all these three components together to make a two-player Tic Tac Toe game! Your challenge in this exercise is to use the functions from those previous exercises all together in the same program to make a two-player game that you can play with a friend. There are a lot of choices you will have to make when completing this exercise, so you can go as far or as little as you want with it.\n",
    "\n",
    "Here are a few things to keep in mind:\n",
    "\n",
    "- You should keep track of who won - if there is a winner, show a congratulatory message on the screen.\n",
    "- If there are no more moves left, don’t ask for the next player’s move!\n",
    "\n",
    "As a bonus, you can ask the players if they want to play again and keep a running tally of who won more - Player 1 or Player 2.\n",
    "\n",
    "### My solution"
   ]
  },
  {
   "cell_type": "code",
   "execution_count": 1,
   "id": "a25d2de4-b3e4-4d3f-86cf-d42c88a9fc84",
   "metadata": {},
   "outputs": [
    {
     "name": "stdout",
     "output_type": "stream",
     "text": [
      "GAME START\n",
      "\n",
      " --- --- ---\n",
      "|   |   |   |\n",
      " --- --- ---\n",
      "|   |   |   |\n",
      " --- --- ---\n",
      "|   |   |   |\n",
      " --- --- --- \n",
      "\n"
     ]
    },
    {
     "name": "stdin",
     "output_type": "stream",
     "text": [
      "Player 1, choose a coordinate to place your piece (row, column):  1,1\n"
     ]
    },
    {
     "name": "stdout",
     "output_type": "stream",
     "text": [
      " --- --- ---\n",
      "| X |   |   |\n",
      " --- --- ---\n",
      "|   |   |   |\n",
      " --- --- ---\n",
      "|   |   |   |\n",
      " --- --- --- \n",
      "\n"
     ]
    },
    {
     "name": "stdin",
     "output_type": "stream",
     "text": [
      "Player 2, choose a coordinate to place your piece (row, column):  2,2\n"
     ]
    },
    {
     "name": "stdout",
     "output_type": "stream",
     "text": [
      " --- --- ---\n",
      "| X |   |   |\n",
      " --- --- ---\n",
      "|   | O |   |\n",
      " --- --- ---\n",
      "|   |   |   |\n",
      " --- --- --- \n",
      "\n"
     ]
    },
    {
     "name": "stdin",
     "output_type": "stream",
     "text": [
      "Player 1, choose a coordinate to place your piece (row, column):  1,3\n"
     ]
    },
    {
     "name": "stdout",
     "output_type": "stream",
     "text": [
      " --- --- ---\n",
      "| X |   | X |\n",
      " --- --- ---\n",
      "|   | O |   |\n",
      " --- --- ---\n",
      "|   |   |   |\n",
      " --- --- --- \n",
      "\n"
     ]
    },
    {
     "name": "stdin",
     "output_type": "stream",
     "text": [
      "Player 2, choose a coordinate to place your piece (row, column):  3,2\n"
     ]
    },
    {
     "name": "stdout",
     "output_type": "stream",
     "text": [
      " --- --- ---\n",
      "| X |   | X |\n",
      " --- --- ---\n",
      "|   | O |   |\n",
      " --- --- ---\n",
      "|   | O |   |\n",
      " --- --- --- \n",
      "\n"
     ]
    },
    {
     "name": "stdin",
     "output_type": "stream",
     "text": [
      "Player 1, choose a coordinate to place your piece (row, column):  1,2\n"
     ]
    },
    {
     "name": "stdout",
     "output_type": "stream",
     "text": [
      " --- --- ---\n",
      "| X | X | X |\n",
      " --- --- ---\n",
      "|   | O |   |\n",
      " --- --- ---\n",
      "|   | O |   |\n",
      " --- --- --- \n",
      "\n",
      "Player 1 WINS!\n",
      "\n"
     ]
    },
    {
     "name": "stdin",
     "output_type": "stream",
     "text": [
      "Keep playing? [Y/N] n\n"
     ]
    },
    {
     "name": "stdout",
     "output_type": "stream",
     "text": [
      "\n",
      "FINAL SCORE: 1 x 0\n"
     ]
    }
   ],
   "source": [
    "import numpy as np\n",
    "import pandas as pd\n",
    "\n",
    "\n",
    "def draw_tic_tac_toe_board(pieces):\n",
    "    dashes = \" ---\"\n",
    "    \n",
    "    for i in range(3):\n",
    "        print(dashes * 3)\n",
    "        k = i * 3\n",
    "        for j in range(3):\n",
    "            pipes = f\"| {pieces[k + j]} \"\n",
    "            print(pipes, sep=\"\", end=\"\")\n",
    "        print(\"|\")\n",
    "    \n",
    "    print(dashes * 3, \"\\n\")\n",
    "    \n",
    "\n",
    "def winner(game, piece):\n",
    "    check_column = np.all(game == piece, axis=0).any()\n",
    "    check_row = np.all(game == piece, axis=1).any()\n",
    "    check_diag = np.all(np.diag(game[::1]) == piece).any()\n",
    "    check_diag_inverse = np.all(np.diag(game[::-1]) == piece).any()\n",
    "    \n",
    "    return check_column or check_row or check_diag or check_diag_inverse\n",
    "\n",
    "\n",
    "score = [0, 0]\n",
    "game_on = True\n",
    "\n",
    "while game_on:\n",
    "    initial_board = [[\" \", \" \", \" \"],\n",
    "                     [\" \", \" \", \" \"],\n",
    "                     [\" \", \" \", \" \"]]\n",
    "\n",
    "    game = pd.DataFrame(initial_board, index=[1, 2, 3], columns=[1, 2, 3])\n",
    "    has_winner = False\n",
    "\n",
    "    print(\"GAME START\\n\")\n",
    "    draw_tic_tac_toe_board(game.values.flatten())\n",
    "\n",
    "    while \" \" in game.values.flatten():\n",
    "        \n",
    "        for player in range(2):           \n",
    "            counts = np.unique(game.values.flatten(), return_counts=True)\n",
    "            piece = \"X\" if player == 0 else \"O\"         \n",
    "            \n",
    "            if dict(zip(*counts))[\" \"] == 1:\n",
    "                coordinate = np.asarray(game == \" \").nonzero()\n",
    "                i, j = list(zip(*coordinate))[0]\n",
    "                game.loc[i + 1, j + 1] = piece\n",
    "                if not winner(game, piece):\n",
    "                    break\n",
    "            else:\n",
    "                i, j = [int(number.strip()) for number in input(f\"Player {player + 1}, choose a coordinate to place your piece (row, column): \").split(\",\")]\n",
    "                \n",
    "                while game[j][i] != \" \":\n",
    "                    i, j = [int(number.strip()) for number in input(\"This place already has a piece. Try another coordinate (row, column): \").split(\",\")]\n",
    "            \n",
    "                game.loc[i, j] = piece\n",
    "\n",
    "            draw_tic_tac_toe_board(game.values.flatten())\n",
    "            \n",
    "            if winner(game, piece):\n",
    "                has_winner = True\n",
    "                break\n",
    "    \n",
    "        \n",
    "        if has_winner:\n",
    "            score[player] += 1\n",
    "            print(f\"Player {player + 1} WINS!\\n\")            \n",
    "            break\n",
    "    else:\n",
    "        draw_tic_tac_toe_board(game.values.flatten())\n",
    "        print(\"It's a DRAW\")\n",
    "        \n",
    "    game_on = True if input(\"Keep playing? [Y/N]\").upper() == \"Y\" else False\n",
    "    print()\n",
    "\n",
    "print(f\"FINAL SCORE: {score[0]} x {score[1]}\")"
   ]
  },
  {
   "cell_type": "markdown",
   "id": "5a7f2ed2-1b76-46c1-af88-bdd484e40167",
   "metadata": {},
   "source": [
    "### Sample solution\n",
    "[Link](https://www.practicepython.org/solution/2016/09/11/29-tic-tac-toe-game-solutions.html) to sample solution."
   ]
  }
 ],
 "metadata": {
  "kernelspec": {
   "display_name": "Python 3 (ipykernel)",
   "language": "python",
   "name": "python3"
  },
  "language_info": {
   "codemirror_mode": {
    "name": "ipython",
    "version": 3
   },
   "file_extension": ".py",
   "mimetype": "text/x-python",
   "name": "python",
   "nbconvert_exporter": "python",
   "pygments_lexer": "ipython3",
   "version": "3.12.1"
  }
 },
 "nbformat": 4,
 "nbformat_minor": 5
}
