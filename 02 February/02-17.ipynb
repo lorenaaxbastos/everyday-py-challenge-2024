{
 "cells": [
  {
   "cell_type": "markdown",
   "id": "8e87d920-a81e-4ace-b7a3-e9ac3e009f0a",
   "metadata": {},
   "source": [
    "# Element search\n",
    "\n",
    "Date: 02/17/2024.\n",
    "From: Practice Python. \n",
    "Link to [exercise](https://www.practicepython.org/exercise/2014/11/11/20-element-search.html).\n",
    "\n",
    "### Description\n",
    "\n",
    "Write a function that takes an ordered list of numbers (a list where the elements are in order from smallest to largest) and another number. The function decides whether or not the given number is inside the list and returns (then prints) an appropriate boolean.\n",
    "\n",
    "**Extras**\n",
    "\n",
    "- Use binary search.\n",
    "\n",
    "### My solution"
   ]
  },
  {
   "cell_type": "code",
   "execution_count": 63,
   "id": "1710f687-8820-41aa-8d8c-4b89b271ebee",
   "metadata": {},
   "outputs": [
    {
     "name": "stdout",
     "output_type": "stream",
     "text": [
      "List: [6, 19, 24, 25, 26, 26, 29, 31, 33, 34, 49]\n",
      "Number: 19 \n",
      "\n",
      "[Python Built-in Search] Number in list? True\n",
      "[Binary Search Algorithm] Number in list? True\n"
     ]
    }
   ],
   "source": [
    "from random import randint\n",
    "\n",
    "ls = sorted([randint(0, 50) for _ in range(randint(10, 30))])\n",
    "n = randint(0, 50)\n",
    "\n",
    "print(\"List:\", ls)\n",
    "print(\"Number:\", n, \"\\n\")\n",
    "\n",
    "\n",
    "def search(sorted_list, number):\n",
    "    return number in ls\n",
    "\n",
    "\n",
    "print(\"[Python Built-in Search] Number in list?\", search(ls, n))\n",
    "\n",
    "\n",
    "def binary_search(sorted_list, number):\n",
    "\n",
    "    \n",
    "    def find_median_el(ls):\n",
    "        if len(ls) > 1:\n",
    "            return ls[len(ls) // 2]\n",
    "        else:\n",
    "            return ls[0]\n",
    "\n",
    "\n",
    "    median_el = find_median_el(sorted_list)\n",
    "    \n",
    "    while len(sorted_list) > 2 :\n",
    "        if median_el == number:\n",
    "            return True\n",
    "        elif median_el < number:\n",
    "            idx = sorted_list.index(median_el)\n",
    "            sorted_list = sorted_list[idx + 1:]\n",
    "            median_el = find_median_el(sorted_list)\n",
    "        else:\n",
    "            idx = sorted_list.index(median_el)\n",
    "            sorted_list = sorted_list[:idx]\n",
    "            median_el = find_median_el(sorted_list)\n",
    "\n",
    "    \n",
    "    if len(sorted_list) == 1:\n",
    "        return sorted_list[0] == number\n",
    "    else:\n",
    "        return sorted_list[0] == number or sorted_list[1] == number\n",
    "                    \n",
    "\n",
    "print(\"[Binary Search Algorithm] Number in list?\", binary_search(ls, n))"
   ]
  },
  {
   "cell_type": "markdown",
   "id": "75dbbe63-edb9-4701-9a92-e364aa7cb066",
   "metadata": {},
   "source": [
    "### Sample solution\n",
    "\n",
    "[Link](https://www.practicepython.org/solution/2014/11/30/20-element-search-solutions.html) to sample solution."
   ]
  }
 ],
 "metadata": {
  "kernelspec": {
   "display_name": "Python 3 (ipykernel)",
   "language": "python",
   "name": "python3"
  },
  "language_info": {
   "codemirror_mode": {
    "name": "ipython",
    "version": 3
   },
   "file_extension": ".py",
   "mimetype": "text/x-python",
   "name": "python",
   "nbconvert_exporter": "python",
   "pygments_lexer": "ipython3",
   "version": "3.12.1"
  }
 },
 "nbformat": 4,
 "nbformat_minor": 5
}
