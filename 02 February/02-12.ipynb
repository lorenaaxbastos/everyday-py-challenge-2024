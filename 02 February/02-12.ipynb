{
 "cells": [
  {
   "cell_type": "markdown",
   "id": "7e603085-7bae-4d5a-b381-045bab966ba4",
   "metadata": {},
   "source": [
    "# Which are in?\n",
    "\n",
    "Date: 02/12/2024.\n",
    "From: Codewars. \n",
    "Link to [kata](https://www.codewars.com/kata/550554fd08b86f84fe000a58/train/python).\n",
    "\n",
    "### Description\n",
    "\n",
    "Given two arrays of strings `a1` and `a2` return a sorted array `r` in lexicographical order of the strings of `a1` which are substrings of strings of `a2`.\n",
    "\n",
    "Example 1:\n",
    "\n",
    "```python\n",
    "a1 = [\"arp\", \"live\", \"strong\"]\n",
    "a2 = [\"lively\", \"alive\", \"harp\", \"sharp\", \"armstrong\"]\n",
    "# returns [\"arp\", \"live\", \"strong\"]\n",
    "```\n",
    "\n",
    "Example 2:\n",
    "\n",
    "```python\n",
    "a1 = [\"tarp\", \"mice\", \"bull\"]\n",
    "a2 = [\"lively\", \"alive\", \"harp\", \"sharp\", \"armstrong\"]\n",
    "# returns []\n",
    "```\n",
    "\n",
    "### My solution"
   ]
  },
  {
   "cell_type": "code",
   "execution_count": 1,
   "id": "4668ca1e-c5f1-4d54-8dc5-7699fdbcc2e7",
   "metadata": {},
   "outputs": [],
   "source": [
    "def in_array(array1, array2):\n",
    "    pass"
   ]
  },
  {
   "cell_type": "markdown",
   "id": "204f2268-dbcd-494a-b139-663d11ff36c0",
   "metadata": {},
   "source": [
    "### Basic tests"
   ]
  },
  {
   "cell_type": "code",
   "execution_count": 2,
   "id": "8b3af16b-3a66-4cbe-b19a-8989ad7408ef",
   "metadata": {},
   "outputs": [
    {
     "name": "stdout",
     "output_type": "stream",
     "text": [
      "None\n",
      "None\n"
     ]
    }
   ],
   "source": [
    "print(in_array([\"live\", \"arp\", \"strong\"], [\"lively\", \"alive\", \"harp\", \"sharp\", \"armstrong\"])) # expects ['arp', 'live', 'strong']\n",
    "print(in_array([\"arp\", \"mice\", \"bull\"], [\"lively\", \"alive\", \"harp\", \"sharp\", \"armstrong\"])) # expects ['arp']"
   ]
  }
 ],
 "metadata": {
  "kernelspec": {
   "display_name": "Python 3 (ipykernel)",
   "language": "python",
   "name": "python3"
  },
  "language_info": {
   "codemirror_mode": {
    "name": "ipython",
    "version": 3
   },
   "file_extension": ".py",
   "mimetype": "text/x-python",
   "name": "python",
   "nbconvert_exporter": "python",
   "pygments_lexer": "ipython3",
   "version": "3.12.1"
  }
 },
 "nbformat": 4,
 "nbformat_minor": 5
}
