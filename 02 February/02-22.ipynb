{
 "cells": [
  {
   "cell_type": "markdown",
   "id": "9c45bc73-151f-4c0e-88d3-91d8f176b44a",
   "metadata": {},
   "source": [
    "# File overlap\n",
    "\n",
    "Date: 02/22/2024.\n",
    "From: Practice Python. \n",
    "Link to [exercise](https://www.practicepython.org/exercise/2014/12/14/23-file-overlap.html).\n",
    "\n",
    "### Description\n",
    "\n",
    "Given two .txt files that have lists of numbers in them, find the numbers that are overlapping. [One .txt file](https://www.practicepython.org/assets/primenumbers.txt) has a list of all prime numbers under 1000, and [the other .txt file](https://www.practicepython.org/assets/happynumbers.txt) has a list of happy numbers up to 1000.\n",
    "\n",
    "### My solution"
   ]
  },
  {
   "cell_type": "code",
   "execution_count": null,
   "id": "a41e167a-6f9d-458b-90b0-b822b3bc140f",
   "metadata": {},
   "outputs": [],
   "source": []
  },
  {
   "cell_type": "markdown",
   "id": "15f66356-c37e-4f68-9e86-be55b14fd398",
   "metadata": {},
   "source": [
    "### Sample solution\n",
    "\n",
    "[Link](https://www.practicepython.org/solution/2014/12/25/23-file-overlap-solutions.html) to sample solution."
   ]
  }
 ],
 "metadata": {
  "kernelspec": {
   "display_name": "Python 3 (ipykernel)",
   "language": "python",
   "name": "python3"
  },
  "language_info": {
   "codemirror_mode": {
    "name": "ipython",
    "version": 3
   },
   "file_extension": ".py",
   "mimetype": "text/x-python",
   "name": "python",
   "nbconvert_exporter": "python",
   "pygments_lexer": "ipython3",
   "version": "3.12.2"
  }
 },
 "nbformat": 4,
 "nbformat_minor": 5
}
