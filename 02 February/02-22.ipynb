{
 "cells": [
  {
   "cell_type": "markdown",
   "id": "9c45bc73-151f-4c0e-88d3-91d8f176b44a",
   "metadata": {},
   "source": [
    "# File overlap\n",
    "\n",
    "Date: 02/22/2024.\n",
    "From: Practice Python. \n",
    "Link to [exercise](https://www.practicepython.org/exercise/2014/12/14/23-file-overlap.html).\n",
    "\n",
    "### Description\n",
    "\n",
    "Given two .txt files that have lists of numbers in them, find the numbers that are overlapping. [One .txt file](https://www.practicepython.org/assets/primenumbers.txt) has a list of all prime numbers under 1000, and [the other .txt file](https://www.practicepython.org/assets/happynumbers.txt) has a list of happy numbers up to 1000.\n",
    "\n",
    "### My solution"
   ]
  },
  {
   "cell_type": "code",
   "execution_count": 9,
   "id": "a41e167a-6f9d-458b-90b0-b822b3bc140f",
   "metadata": {},
   "outputs": [
    {
     "name": "stdout",
     "output_type": "stream",
     "text": [
      "Numbers that are overlapping: [7, 13, 19, 23, 31, 79, 97, 103, 109, 139, 167, 193, 239, 263, 293, 313, 331, 367, 379, 383, 397, 409, 487, 563, 617, 653, 673, 683, 709, 739, 761, 863, 881, 907, 937]\n"
     ]
    }
   ],
   "source": [
    "import requests\n",
    "\n",
    "response = requests.get(\"https://www.practicepython.org/assets/primenumbers.txt\")\n",
    "prime_numbers_list = [int(number) for number in response.text.split(\"\\n\")]\n",
    "response = requests.get(\"https://www.practicepython.org/assets/happynumbers.txt\")\n",
    "happy_numbers_list = [int(number) for number in response.text.split(\"\\n\")]\n",
    "\n",
    "print(\"Numbers that are overlapping:\", sorted(set(prime_numbers_list) & set(happy_numbers_list)))"
   ]
  },
  {
   "cell_type": "markdown",
   "id": "15f66356-c37e-4f68-9e86-be55b14fd398",
   "metadata": {},
   "source": [
    "### Sample solution\n",
    "\n",
    "[Link](https://www.practicepython.org/solution/2014/12/25/23-file-overlap-solutions.html) to sample solution."
   ]
  }
 ],
 "metadata": {
  "kernelspec": {
   "display_name": "Python 3 (ipykernel)",
   "language": "python",
   "name": "python3"
  },
  "language_info": {
   "codemirror_mode": {
    "name": "ipython",
    "version": 3
   },
   "file_extension": ".py",
   "mimetype": "text/x-python",
   "name": "python",
   "nbconvert_exporter": "python",
   "pygments_lexer": "ipython3",
   "version": "3.12.1"
  }
 },
 "nbformat": 4,
 "nbformat_minor": 5
}
