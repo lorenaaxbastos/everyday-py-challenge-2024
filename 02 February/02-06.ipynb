{
 "cells": [
  {
   "cell_type": "markdown",
   "id": "da52c6d3-9994-4a70-9597-e374d851fa70",
   "metadata": {},
   "source": [
    "# List ends\n",
    "\n",
    "Date: 02/06/2024.\n",
    "From: Practice Python. \n",
    "Link to [exercise](https://www.practicepython.org/exercise/2014/04/25/12-list-ends.html).\n",
    "\n",
    "### Description\n",
    "\n",
    "Write a program that takes a list of numbers (for example, a = [5, 10, 15, 20, 25]) and makes a new list of only the first and last elements of the given list. For practice, write this code inside a function.\n",
    "\n",
    "### My solution"
   ]
  },
  {
   "cell_type": "code",
   "execution_count": 1,
   "id": "0e370e50-368b-4ffb-9e49-f8820d90ca6a",
   "metadata": {},
   "outputs": [
    {
     "data": {
      "text/plain": [
       "[5, 25]"
      ]
     },
     "execution_count": 1,
     "metadata": {},
     "output_type": "execute_result"
    }
   ],
   "source": [
    "def first_and_last(ls):\n",
    "    return [ls[0], ls[-1]]\n",
    "\n",
    "a = [5, 10, 15, 20, 25]\n",
    "first_and_last(a)"
   ]
  },
  {
   "cell_type": "markdown",
   "id": "ca00ead3-10cc-4293-a424-aaabd852fbd9",
   "metadata": {},
   "source": [
    "### Sample solution\n",
    "\n",
    "[Link](https://www.practicepython.org/solution/2014/05/15/12-list-ends-solutions.html) to sample solution.\n",
    "\n",
    "# Fibonacci\n",
    "\n",
    "Date: 02/06/2024.\n",
    "From: Practice Python. \n",
    "Link to [exercise](https://www.practicepython.org/exercise/2014/04/30/13-fibonacci.html).\n",
    "\n",
    "### Description\n",
    "\n",
    "Write a program that asks the user how many Fibonnaci numbers to generate and then generates them. Take this opportunity to think about how you can use functions. Make sure to ask the user to enter the number of numbers in the sequence to generate.(Hint: The Fibonnaci seqence is a sequence of numbers where the next number in the sequence is the sum of the previous two numbers in the sequence. The sequence looks like this: 1, 1, 2, 3, 5, 8, 13, …)\n",
    "\n",
    "### My solution"
   ]
  },
  {
   "cell_type": "code",
   "execution_count": 2,
   "id": "83f5b737-f974-43e1-b8d5-ae33dfd197a4",
   "metadata": {},
   "outputs": [
    {
     "data": {
      "text/plain": [
       "[1, 1, 2, 3, 5, 8, 13, 21, 34, 55, 89, 144, 233, 377, 610]"
      ]
     },
     "execution_count": 2,
     "metadata": {},
     "output_type": "execute_result"
    }
   ],
   "source": [
    "def fibonacci(n):\n",
    "    cache = {}\n",
    "    if n == 0:\n",
    "        return []\n",
    "    elif n == 1:\n",
    "        return [1]\n",
    "    elif n == 2:\n",
    "        return [1, 1]\n",
    "    else:\n",
    "        cache[n - 1] = fibonacci(n - 1)\n",
    "        return cache[n - 1] + [sum(cache[n - 1][-2:])]\n",
    "\n",
    "fibonacci(15)"
   ]
  },
  {
   "cell_type": "markdown",
   "id": "42299071-68b3-47a7-a829-0f18950a4882",
   "metadata": {},
   "source": [
    "### Sample solution\n",
    "\n",
    "[Link](https://www.practicepython.org/solution/2014/07/25/13-fibonacci-solutions.html) to sample solution.\n",
    "\n",
    "# List remove duplicates\n",
    "\n",
    "Date: 02/06/2024.\n",
    "From: Practice Python. \n",
    "Link to [exercise](https://www.practicepython.org/exercise/2014/05/15/14-list-remove-duplicates.html).\n",
    "\n",
    "### Description\n",
    "\n",
    "Write a program (function!) that takes a list and returns a new list that contains all the elements of the first list minus all the duplicates.\n",
    "\n",
    "**Extras:**\n",
    "\n",
    "- Write two different functions to do this - one using a loop and constructing a list, and another using sets.\n",
    "\n",
    "### My solution"
   ]
  },
  {
   "cell_type": "code",
   "execution_count": 3,
   "id": "432ec1e0-78cf-4b45-a2c6-36698a470cc6",
   "metadata": {},
   "outputs": [
    {
     "name": "stdout",
     "output_type": "stream",
     "text": [
      "[1, 5, 6, 7, 8, 9, 10]\n",
      "[1, 5, 6, 7, 8, 9, 10]\n"
     ]
    }
   ],
   "source": [
    "l1 = [1, 5, 6, 1, 7, 8, 5, 9, 10]\n",
    "\n",
    "def uniques1(ls):\n",
    "    new_list = []\n",
    "    for el in ls:\n",
    "        if el not in new_list:\n",
    "            new_list.append(el)\n",
    "    return new_list\n",
    "\n",
    "print(uniques1(l1))\n",
    "\n",
    "def uniques2(ls):\n",
    "    return list(set(ls))\n",
    "\n",
    "print(uniques2(l1))"
   ]
  },
  {
   "cell_type": "markdown",
   "id": "84637549-a993-4d71-a4fc-b0adefbc16e2",
   "metadata": {},
   "source": [
    "### Sample solution\n",
    "\n",
    "[Link](https://www.practicepython.org/solution/2014/05/21/14-list-remove-duplicates-solutions.html) to sample solution."
   ]
  }
 ],
 "metadata": {
  "kernelspec": {
   "display_name": "Python 3 (ipykernel)",
   "language": "python",
   "name": "python3"
  },
  "language_info": {
   "codemirror_mode": {
    "name": "ipython",
    "version": 3
   },
   "file_extension": ".py",
   "mimetype": "text/x-python",
   "name": "python",
   "nbconvert_exporter": "python",
   "pygments_lexer": "ipython3",
   "version": "3.12.0"
  }
 },
 "nbformat": 4,
 "nbformat_minor": 5
}
