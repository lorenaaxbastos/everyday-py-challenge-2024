{
 "cells": [
  {
   "cell_type": "markdown",
   "metadata": {},
   "source": [
    "# Santander Coders exercises from Class #4 Unit #2\n",
    "\n",
    "Date: 02/11/2024. From: Ada Tech. Language: Portuguese."
   ]
  },
  {
   "cell_type": "code",
   "execution_count": 1,
   "metadata": {},
   "outputs": [],
   "source": [
    "import pandas as pd\n",
    "import numpy as np"
   ]
  },
  {
   "cell_type": "markdown",
   "metadata": {},
   "source": [
    "## Exercícios"
   ]
  },
  {
   "cell_type": "markdown",
   "metadata": {},
   "source": [
    "**1)** Crie uma série de pandas que tenha os números inteiros de 0 a 100. Feito isso, imprima a média e o desvio padrão."
   ]
  },
  {
   "cell_type": "code",
   "execution_count": 2,
   "metadata": {},
   "outputs": [
    {
     "name": "stdout",
     "output_type": "stream",
     "text": [
      "Média: 45.68\n",
      "Desvio padrão: 29.488871381481104\n"
     ]
    }
   ],
   "source": [
    "np.random.seed(1)\n",
    "\n",
    "serie = pd.Series(np.random.randint(1, 100, 100))\n",
    "\n",
    "print(\"Média:\", serie.mean())\n",
    "print(\"Desvio padrão:\", serie.std())"
   ]
  },
  {
   "cell_type": "markdown",
   "metadata": {},
   "source": [
    "**2)** Baixe e carregue em um pd.DataFrame o arquivo \"IBOV.csv\", que contém as cotações diárias do índice Ibovespa nos três primeiros trimestres de 2020."
   ]
  },
  {
   "cell_type": "code",
   "execution_count": 3,
   "metadata": {},
   "outputs": [],
   "source": [
    "ibov = pd.read_csv(\"02-11-IBOV.csv\")"
   ]
  },
  {
   "cell_type": "markdown",
   "metadata": {},
   "source": [
    "**3)** Imprima as três primeiras linhas do DataFrame carregado e depois as três últimas."
   ]
  },
  {
   "cell_type": "code",
   "execution_count": 4,
   "metadata": {},
   "outputs": [
    {
     "name": "stdout",
     "output_type": "stream",
     "text": [
      "As 3 primeiras linhas:\n"
     ]
    },
    {
     "data": {
      "text/html": [
       "<div>\n",
       "<style scoped>\n",
       "    .dataframe tbody tr th:only-of-type {\n",
       "        vertical-align: middle;\n",
       "    }\n",
       "\n",
       "    .dataframe tbody tr th {\n",
       "        vertical-align: top;\n",
       "    }\n",
       "\n",
       "    .dataframe thead th {\n",
       "        text-align: right;\n",
       "    }\n",
       "</style>\n",
       "<table border=\"1\" class=\"dataframe\">\n",
       "  <thead>\n",
       "    <tr style=\"text-align: right;\">\n",
       "      <th></th>\n",
       "      <th>Date</th>\n",
       "      <th>Open</th>\n",
       "      <th>High</th>\n",
       "      <th>Low</th>\n",
       "      <th>Close</th>\n",
       "      <th>Adj Close</th>\n",
       "      <th>Volume</th>\n",
       "    </tr>\n",
       "  </thead>\n",
       "  <tbody>\n",
       "    <tr>\n",
       "      <th>0</th>\n",
       "      <td>2020-01-02</td>\n",
       "      <td>115652.0</td>\n",
       "      <td>118573.0</td>\n",
       "      <td>115649.0</td>\n",
       "      <td>118573.0</td>\n",
       "      <td>118573.0</td>\n",
       "      <td>5162700.0</td>\n",
       "    </tr>\n",
       "    <tr>\n",
       "      <th>1</th>\n",
       "      <td>2020-01-03</td>\n",
       "      <td>118564.0</td>\n",
       "      <td>118792.0</td>\n",
       "      <td>117341.0</td>\n",
       "      <td>117707.0</td>\n",
       "      <td>117707.0</td>\n",
       "      <td>6834500.0</td>\n",
       "    </tr>\n",
       "    <tr>\n",
       "      <th>2</th>\n",
       "      <td>2020-01-06</td>\n",
       "      <td>117707.0</td>\n",
       "      <td>117707.0</td>\n",
       "      <td>116269.0</td>\n",
       "      <td>116878.0</td>\n",
       "      <td>116878.0</td>\n",
       "      <td>6570000.0</td>\n",
       "    </tr>\n",
       "  </tbody>\n",
       "</table>\n",
       "</div>"
      ],
      "text/plain": [
       "         Date      Open      High       Low     Close  Adj Close     Volume\n",
       "0  2020-01-02  115652.0  118573.0  115649.0  118573.0   118573.0  5162700.0\n",
       "1  2020-01-03  118564.0  118792.0  117341.0  117707.0   117707.0  6834500.0\n",
       "2  2020-01-06  117707.0  117707.0  116269.0  116878.0   116878.0  6570000.0"
      ]
     },
     "metadata": {},
     "output_type": "display_data"
    },
    {
     "name": "stdout",
     "output_type": "stream",
     "text": [
      "\n",
      "As 3 últimas linhas:\n"
     ]
    },
    {
     "data": {
      "text/html": [
       "<div>\n",
       "<style scoped>\n",
       "    .dataframe tbody tr th:only-of-type {\n",
       "        vertical-align: middle;\n",
       "    }\n",
       "\n",
       "    .dataframe tbody tr th {\n",
       "        vertical-align: top;\n",
       "    }\n",
       "\n",
       "    .dataframe thead th {\n",
       "        text-align: right;\n",
       "    }\n",
       "</style>\n",
       "<table border=\"1\" class=\"dataframe\">\n",
       "  <thead>\n",
       "    <tr style=\"text-align: right;\">\n",
       "      <th></th>\n",
       "      <th>Date</th>\n",
       "      <th>Open</th>\n",
       "      <th>High</th>\n",
       "      <th>Low</th>\n",
       "      <th>Close</th>\n",
       "      <th>Adj Close</th>\n",
       "      <th>Volume</th>\n",
       "    </tr>\n",
       "  </thead>\n",
       "  <tbody>\n",
       "    <tr>\n",
       "      <th>184</th>\n",
       "      <td>2020-09-25</td>\n",
       "      <td>97011.0</td>\n",
       "      <td>97012.0</td>\n",
       "      <td>95632.0</td>\n",
       "      <td>96999.0</td>\n",
       "      <td>96999.0</td>\n",
       "      <td>7351100.0</td>\n",
       "    </tr>\n",
       "    <tr>\n",
       "      <th>185</th>\n",
       "      <td>2020-09-28</td>\n",
       "      <td>97005.0</td>\n",
       "      <td>98314.0</td>\n",
       "      <td>94371.0</td>\n",
       "      <td>94666.0</td>\n",
       "      <td>94666.0</td>\n",
       "      <td>10508900.0</td>\n",
       "    </tr>\n",
       "    <tr>\n",
       "      <th>186</th>\n",
       "      <td>2020-09-29</td>\n",
       "      <td>94665.0</td>\n",
       "      <td>95505.0</td>\n",
       "      <td>93408.0</td>\n",
       "      <td>93580.0</td>\n",
       "      <td>93580.0</td>\n",
       "      <td>8737200.0</td>\n",
       "    </tr>\n",
       "  </tbody>\n",
       "</table>\n",
       "</div>"
      ],
      "text/plain": [
       "           Date     Open     High      Low    Close  Adj Close      Volume\n",
       "184  2020-09-25  97011.0  97012.0  95632.0  96999.0    96999.0   7351100.0\n",
       "185  2020-09-28  97005.0  98314.0  94371.0  94666.0    94666.0  10508900.0\n",
       "186  2020-09-29  94665.0  95505.0  93408.0  93580.0    93580.0   8737200.0"
      ]
     },
     "metadata": {},
     "output_type": "display_data"
    }
   ],
   "source": [
    "print(\"As 3 primeiras linhas:\")\n",
    "display(ibov.head(3))\n",
    "print(\"\\nAs 3 últimas linhas:\")\n",
    "display(ibov.tail(3))"
   ]
  },
  {
   "cell_type": "markdown",
   "metadata": {},
   "source": [
    "**4)** Imprima o maior e o menor valor de fechamento do índice no período analisado."
   ]
  },
  {
   "cell_type": "code",
   "execution_count": 5,
   "metadata": {},
   "outputs": [
    {
     "name": "stdout",
     "output_type": "stream",
     "text": [
      "Maior valor de fechamento: 119528.0\n",
      "Menor valor de fechamento: 63570.0\n"
     ]
    }
   ],
   "source": [
    "print(\"Maior valor de fechamento:\", ibov[\"Close\"].max())\n",
    "print(\"Menor valor de fechamento:\", ibov[\"Close\"].min())"
   ]
  },
  {
   "cell_type": "markdown",
   "metadata": {},
   "source": [
    "**5)** Qual é o dia associado à 50ª linha do DataFrame?"
   ]
  },
  {
   "cell_type": "code",
   "execution_count": 6,
   "metadata": {},
   "outputs": [
    {
     "data": {
      "text/plain": [
       "'2020-03-13'"
      ]
     },
     "execution_count": 6,
     "metadata": {},
     "output_type": "execute_result"
    }
   ],
   "source": [
    "ibov.loc[49][\"Date\"]"
   ]
  },
  {
   "cell_type": "markdown",
   "metadata": {},
   "source": [
    "**6)** Compare a média do valor de fechamento do índice entre o primeiro e o segundo trimestre do ano estudado. Em qual dos períodos verifica-se maior média?"
   ]
  },
  {
   "cell_type": "code",
   "execution_count": 7,
   "metadata": {},
   "outputs": [
    {
     "name": "stdout",
     "output_type": "stream",
     "text": [
      "O 1º semestre teve maior média de fechamento do índice (103236.24590163934)\n"
     ]
    }
   ],
   "source": [
    "primeiro_semestre = ibov[0:ibov[ibov[\"Date\"] == \"2020-04-01\"].index[0]]\n",
    "segundo_semestre = ibov[ibov[ibov[\"Date\"] == \"2020-04-01\"].index[0]:ibov[ibov[\"Date\"] == \"2020-07-01\"].index[0]]\n",
    "\n",
    "media_fechamento_primeiro_semestre = primeiro_semestre[\"Close\"].mean()\n",
    "media_fechamento_segundo_semestre = segundo_semestre[\"Close\"].mean()\n",
    "\n",
    "if media_fechamento_primeiro_semestre > media_fechamento_segundo_semestre:\n",
    "    print(f\"O 1º semestre teve maior média de fechamento do índice ({media_fechamento_primeiro_semestre})\")\n",
    "else:\n",
    "    print(f\"O 2º semestre teve maior média de fechamento do índice ({media_fechamento_segundo_semestre})\")"
   ]
  },
  {
   "cell_type": "markdown",
   "metadata": {},
   "source": [
    "**7)** Acrescente uma coluna ao DataFrame chamada 'amplitude', contendo a variação máxima diária, isto é, valor máximo - valor mínimo. Imprima a linha onde se teve a maior variação do índice e depois salve o DataFrame modificado no arquivo \"BVSP_mod.csv\"."
   ]
  },
  {
   "cell_type": "code",
   "execution_count": 8,
   "metadata": {},
   "outputs": [
    {
     "data": {
      "text/html": [
       "<div>\n",
       "<style scoped>\n",
       "    .dataframe tbody tr th:only-of-type {\n",
       "        vertical-align: middle;\n",
       "    }\n",
       "\n",
       "    .dataframe tbody tr th {\n",
       "        vertical-align: top;\n",
       "    }\n",
       "\n",
       "    .dataframe thead th {\n",
       "        text-align: right;\n",
       "    }\n",
       "</style>\n",
       "<table border=\"1\" class=\"dataframe\">\n",
       "  <thead>\n",
       "    <tr style=\"text-align: right;\">\n",
       "      <th></th>\n",
       "      <th>Date</th>\n",
       "      <th>Open</th>\n",
       "      <th>High</th>\n",
       "      <th>Low</th>\n",
       "      <th>Close</th>\n",
       "      <th>Adj Close</th>\n",
       "      <th>Volume</th>\n",
       "      <th>Amplitude</th>\n",
       "    </tr>\n",
       "  </thead>\n",
       "  <tbody>\n",
       "    <tr>\n",
       "      <th>48</th>\n",
       "      <td>2020-03-12</td>\n",
       "      <td>85103.0</td>\n",
       "      <td>85103.0</td>\n",
       "      <td>68488.0</td>\n",
       "      <td>72583.0</td>\n",
       "      <td>72583.0</td>\n",
       "      <td>12008700.0</td>\n",
       "      <td>16615.0</td>\n",
       "    </tr>\n",
       "  </tbody>\n",
       "</table>\n",
       "</div>"
      ],
      "text/plain": [
       "          Date     Open     High      Low    Close  Adj Close      Volume  \\\n",
       "48  2020-03-12  85103.0  85103.0  68488.0  72583.0    72583.0  12008700.0   \n",
       "\n",
       "    Amplitude  \n",
       "48    16615.0  "
      ]
     },
     "metadata": {},
     "output_type": "display_data"
    }
   ],
   "source": [
    "amplitude = pd.Series(ibov[\"High\"] - ibov[\"Low\"], name=\"Amplitude\")\n",
    "ibov_modificado = pd.concat([ibov, amplitude], axis=1)\n",
    "\n",
    "display(ibov_modificado[ibov_modificado[\"Amplitude\"] == ibov_modificado[\"Amplitude\"].max()])\n",
    "\n",
    "ibov_modificado.to_csv(\"02-11-BVSP_mod.csv\")"
   ]
  }
 ],
 "metadata": {
  "kernelspec": {
   "display_name": "Python 3 (ipykernel)",
   "language": "python",
   "name": "python3"
  },
  "language_info": {
   "codemirror_mode": {
    "name": "ipython",
    "version": 3
   },
   "file_extension": ".py",
   "mimetype": "text/x-python",
   "name": "python",
   "nbconvert_exporter": "python",
   "pygments_lexer": "ipython3",
   "version": "3.12.1"
  }
 },
 "nbformat": 4,
 "nbformat_minor": 4
}
