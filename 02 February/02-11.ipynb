{
 "cells": [
  {
   "cell_type": "markdown",
   "metadata": {},
   "source": [
    "# Santander Coders exercises from Class #4 Unit #2\n",
    "\n",
    "Date: 02/11/2024. From: Ada Tech. Language: Portuguese."
   ]
  },
  {
   "cell_type": "code",
   "execution_count": null,
   "metadata": {},
   "outputs": [],
   "source": [
    "import pandas as pd\n",
    "import numpy as np"
   ]
  },
  {
   "cell_type": "markdown",
   "metadata": {},
   "source": [
    "## Exercícios"
   ]
  },
  {
   "cell_type": "markdown",
   "metadata": {},
   "source": [
    "**1)** Crie uma série de pandas que tenha os números inteiros de 0 a 100. Feito isso, imprima a média e o desvio padrão."
   ]
  },
  {
   "cell_type": "code",
   "execution_count": null,
   "metadata": {},
   "outputs": [],
   "source": [
    "np.random.seed(1)\n",
    "\n",
    "serie = pd.Series(np.random.randint(1, 100, 100))\n",
    "\n",
    "print(\"Média:\", serie.mean())\n",
    "print(\"Desvio padrão:\", serie.std())"
   ]
  },
  {
   "cell_type": "markdown",
   "metadata": {},
   "source": [
    "**2)** Baixe e carregue em um pd.DataFrame o arquivo \"IBOV.csv\", que contém as cotações diárias do índice Ibovespa nos três primeiros trimestres de 2020."
   ]
  },
  {
   "cell_type": "code",
   "execution_count": null,
   "metadata": {},
   "outputs": [],
   "source": [
    "ibov = pd.read_csv(\"02-11-IBOV.csv\")"
   ]
  },
  {
   "cell_type": "markdown",
   "metadata": {},
   "source": [
    "**3)** Imprima as três primeiras linhas do DataFrame carregado e depois as três últimas."
   ]
  },
  {
   "cell_type": "code",
   "execution_count": null,
   "metadata": {},
   "outputs": [],
   "source": [
    "print(\"As 3 primeiras linhas:\")\n",
    "display(ibov.head(3))\n",
    "print(\"\\nAs 3 últimas linhas:\")\n",
    "display(ibov.tail(3))"
   ]
  },
  {
   "cell_type": "markdown",
   "metadata": {},
   "source": [
    "**4)** Imprima o maior e o menor valor de fechamento do índice no período analisado."
   ]
  },
  {
   "cell_type": "code",
   "execution_count": null,
   "metadata": {},
   "outputs": [],
   "source": [
    "print(\"Maior valor de fechamento:\", ibov[\"Close\"].max())\n",
    "print(\"Menor valor de fechamento:\", ibov[\"Close\"].min())"
   ]
  },
  {
   "cell_type": "markdown",
   "metadata": {},
   "source": [
    "**5)** Qual é o dia associado à 50ª linha do DataFrame?"
   ]
  },
  {
   "cell_type": "code",
   "execution_count": null,
   "metadata": {},
   "outputs": [],
   "source": [
    "ibov.loc[49][\"Date\"]"
   ]
  },
  {
   "cell_type": "markdown",
   "metadata": {},
   "source": [
    "**6)** Compare a média do valor de fechamento do índice entre o primeiro e o segundo trimestre do ano estudado. Em qual dos períodos verifica-se maior média?"
   ]
  },
  {
   "cell_type": "code",
   "execution_count": null,
   "metadata": {},
   "outputs": [],
   "source": [
    "primeiro_semestre = ibov[0:ibov[ibov[\"Date\"] == \"2020-04-01\"].index[0]]\n",
    "segundo_semestre = ibov[ibov[ibov[\"Date\"] == \"2020-04-01\"].index[0]:ibov[ibov[\"Date\"] == \"2020-07-01\"].index[0]]\n",
    "\n",
    "media_fechamento_primeiro_semestre = primeiro_semestre[\"Close\"].mean()\n",
    "media_fechamento_segundo_semestre = segundo_semestre[\"Close\"].mean()\n",
    "\n",
    "if media_fechamento_primeiro_semestre > media_fechamento_segundo_semestre:\n",
    "    print(f\"O 1º semestre teve maior média de fechamento do índice ({media_fechamento_primeiro_semestre})\")\n",
    "else:\n",
    "    print(f\"O 2º semestre teve maior média de fechamento do índice ({media_fechamento_segundo_semestre})\")"
   ]
  },
  {
   "cell_type": "markdown",
   "metadata": {},
   "source": [
    "**7)** Acrescente uma coluna ao DataFrame chamada 'amplitude', contendo a variação máxima diária, isto é, valor máximo - valor mínimo. Imprima a linha onde se teve a maior variação do índice e depois salve o DataFrame modificado no arquivo \"BVSP_mod.csv\"."
   ]
  },
  {
   "cell_type": "code",
   "execution_count": null,
   "metadata": {},
   "outputs": [],
   "source": [
    "amplitude = pd.Series(ibov[\"High\"] - ibov[\"Low\"], name=\"Amplitude\")\n",
    "ibov_modificado = pd.concat([ibov, amplitude], axis=1)\n",
    "\n",
    "display(ibov_modificado[ibov_modificado[\"Amplitude\"] == ibov_modificado[\"Amplitude\"].max()])\n",
    "\n",
    "ibov_modificado.to_csv(\"02-11-BVSP_mod.csv\")"
   ]
  }
 ],
 "metadata": {
  "kernelspec": {
   "display_name": "Python 3 (ipykernel)",
   "language": "python",
   "name": "python3"
  },
  "language_info": {
   "codemirror_mode": {
    "name": "ipython",
    "version": 3
   },
   "file_extension": ".py",
   "mimetype": "text/x-python",
   "name": "python",
   "nbconvert_exporter": "python",
   "pygments_lexer": "ipython3",
   "version": "3.12.1"
  }
 },
 "nbformat": 4,
 "nbformat_minor": 4
}
