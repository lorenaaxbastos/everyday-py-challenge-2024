{
 "cells": [
  {
   "cell_type": "markdown",
   "id": "d25d7161-d894-45da-865a-c5d813e331a8",
   "metadata": {},
   "source": [
    "# Scramblies\n",
    "\n",
    "Date: 02/05/2024.\n",
    "From: Codewars. \n",
    "Link to [kata](https://www.codewars.com/kata/55c04b4cc56a697bb0000048/train/python).\n",
    "\n",
    "### Description\n",
    "\n",
    "Complete the function `scramble(str1, str2)` that returns true if a portion of `str1` characters can be rearranged to match `str2`, otherwise returns false.\n",
    "\n",
    "**Notes**\n",
    "\n",
    "- Only lower case letters will be used (a-z). No punctuation or digits will be included.\n",
    "- Performance needs to be considered.\n",
    "\n",
    "**Examples**\n",
    "\n",
    "```\n",
    "scramble('rkqodlw', 'world') ==> True\n",
    "scramble('cedewaraaossoqqyt', 'codewars') ==> True\n",
    "scramble('katas', 'steak') ==> False\n",
    "```"
   ]
  },
  {
   "cell_type": "markdown",
   "id": "cb73274a-4e35-4204-bd8d-1df3c9401741",
   "metadata": {},
   "source": [
    "### My solution"
   ]
  },
  {
   "cell_type": "code",
   "execution_count": 5,
   "id": "bc3fb73a-224a-4ec4-9198-4fa9635de5ab",
   "metadata": {},
   "outputs": [],
   "source": [
    "from collections import Counter\n",
    "\n",
    "def scramble(s1, s2):\n",
    "    for letter, freq in Counter(s2).items():\n",
    "        counter_s1 = Counter(s1)\n",
    "        if letter in counter_s1 and freq <= counter_s1[letter]:\n",
    "            continue\n",
    "        else:\n",
    "            return False\n",
    "    return True"
   ]
  },
  {
   "cell_type": "markdown",
   "id": "9b5faf01-36fc-437d-9c89-3565771d7c40",
   "metadata": {},
   "source": [
    "### Basic tests"
   ]
  },
  {
   "cell_type": "code",
   "execution_count": 6,
   "id": "3432e1e6-ae15-402e-80b0-d0f8a082ba25",
   "metadata": {},
   "outputs": [
    {
     "name": "stdout",
     "output_type": "stream",
     "text": [
      "True\n",
      "True\n",
      "False\n",
      "True\n",
      "True\n"
     ]
    }
   ],
   "source": [
    "print(scramble('rkqodlw', 'world')) # expexts True\n",
    "print(scramble('cedewaraaossoqqyt', 'codewars')) # expexts True\n",
    "print(scramble('katas', 'steak')) # expexts False\n",
    "print(scramble('scriptjava', 'javascript')) # expexts True\n",
    "print(scramble('scriptingjava', 'javascript')) # expexts True"
   ]
  }
 ],
 "metadata": {
  "kernelspec": {
   "display_name": "Python 3 (ipykernel)",
   "language": "python",
   "name": "python3"
  },
  "language_info": {
   "codemirror_mode": {
    "name": "ipython",
    "version": 3
   },
   "file_extension": ".py",
   "mimetype": "text/x-python",
   "name": "python",
   "nbconvert_exporter": "python",
   "pygments_lexer": "ipython3",
   "version": "3.12.1"
  }
 },
 "nbformat": 4,
 "nbformat_minor": 5
}
