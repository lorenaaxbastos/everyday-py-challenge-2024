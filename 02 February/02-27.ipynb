{
 "cells": [
  {
   "cell_type": "markdown",
   "id": "6f7ac446-fd26-49e5-9174-388a715aa35a",
   "metadata": {},
   "source": [
    "# Max of three\n",
    "\n",
    "Date: 02/27/2024.\n",
    "From: Practice Python. \n",
    "Link to [exercise](https://www.practicepython.org/exercise/2016/03/27/28-max-of-three.html).\n",
    "\n",
    "### Description\n",
    "\n",
    "Implement a function that takes as input three variables, and returns the largest of the three. Do this without using the Python max() function!\n",
    "\n",
    "The goal of this exercise is to think about some internals that Python normally takes care of for us. All you need is some variables and if statements!\n",
    "\n",
    "### My solution"
   ]
  },
  {
   "cell_type": "code",
   "execution_count": 6,
   "id": "c96650df-8907-4026-a234-15092135a16a",
   "metadata": {},
   "outputs": [
    {
     "data": {
      "text/plain": [
       "-1"
      ]
     },
     "execution_count": 6,
     "metadata": {},
     "output_type": "execute_result"
    }
   ],
   "source": [
    "def max_three(n1, n2, n3):\n",
    "    if n1 > n2:\n",
    "        max_ = n1 if n1 > n3 else n3\n",
    "    else:\n",
    "        max_ = n2 if n2 > n3 else n3\n",
    "    return max_\n",
    "\n",
    "max_three(-5, -1, -7)"
   ]
  },
  {
   "cell_type": "markdown",
   "id": "6862f222-d9e3-4276-856e-28ad7f35ee6c",
   "metadata": {},
   "source": [
    "### Sample solution\n",
    "[Link](https://www.practicepython.org/solution/2016/07/16/28-max-of-three-solutions.html) to sample solution."
   ]
  }
 ],
 "metadata": {
  "kernelspec": {
   "display_name": "Python 3 (ipykernel)",
   "language": "python",
   "name": "python3"
  },
  "language_info": {
   "codemirror_mode": {
    "name": "ipython",
    "version": 3
   },
   "file_extension": ".py",
   "mimetype": "text/x-python",
   "name": "python",
   "nbconvert_exporter": "python",
   "pygments_lexer": "ipython3",
   "version": "3.12.2"
  }
 },
 "nbformat": 4,
 "nbformat_minor": 5
}
