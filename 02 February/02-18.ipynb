{
 "cells": [
  {
   "cell_type": "markdown",
   "id": "a954437a-ae0a-465c-bb2d-ff9d7eb58e88",
   "metadata": {},
   "source": [
    "# Convert string to camel case\n",
    "\n",
    "Date: 02/18/2024.\n",
    "From: Codewars. \n",
    "Link to [kata](https://www.codewars.com/kata/517abf86da9663f1d2000003/train/python).\n",
    "\n",
    "### Description\n",
    "\n",
    "Complete the method/function so that it converts dash/underscore delimited words into camel casing. The first word within the output should be capitalized only if the original word was capitalized (known as Upper Camel Case, also often referred to as Pascal case). The next words should be always capitalized.\n",
    "\n",
    "Examples\n",
    "\n",
    "```python\n",
    "\"the-stealth-warrior\" gets converted to \"theStealthWarrior\"\n",
    "\n",
    "\"The_Stealth_Warrior\" gets converted to \"TheStealthWarrior\"\n",
    "\n",
    "\"The_Stealth-Warrior\" gets converted to \"TheStealthWarrior\"\n",
    "```\n",
    "\n",
    "### My solution"
   ]
  },
  {
   "cell_type": "code",
   "execution_count": 1,
   "id": "2cb949b0-765c-4fed-8cd5-e8f15f91b1e5",
   "metadata": {},
   "outputs": [],
   "source": [
    "def to_camel_case(text):\n",
    "    pass"
   ]
  },
  {
   "cell_type": "code",
   "execution_count": 2,
   "id": "5d89bde2-28e4-4116-8eb9-3de3ef4f849d",
   "metadata": {},
   "outputs": [
    {
     "name": "stdout",
     "output_type": "stream",
     "text": [
      "None\n",
      "None\n",
      "None\n",
      "None\n"
     ]
    }
   ],
   "source": [
    "print(to_camel_case(\"\")) # expexts \"\"\n",
    "print(to_camel_case(\"the_stealth_warrior\")) # expexts \"theStealthWarrior\"\n",
    "print(to_camel_case(\"The-Stealth-Warrior\")) # expexts \"TheStealthWarrior\"\n",
    "print(to_camel_case(\"A-B-C\")) # expexts \"ABC\""
   ]
  }
 ],
 "metadata": {
  "kernelspec": {
   "display_name": "Python 3 (ipykernel)",
   "language": "python",
   "name": "python3"
  },
  "language_info": {
   "codemirror_mode": {
    "name": "ipython",
    "version": 3
   },
   "file_extension": ".py",
   "mimetype": "text/x-python",
   "name": "python",
   "nbconvert_exporter": "python",
   "pygments_lexer": "ipython3",
   "version": "3.12.1"
  }
 },
 "nbformat": 4,
 "nbformat_minor": 5
}
