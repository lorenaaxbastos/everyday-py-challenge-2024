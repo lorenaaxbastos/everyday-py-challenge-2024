{
 "cells": [
  {
   "cell_type": "markdown",
   "id": "b576ce47-dc4d-42fb-b2a5-35772ebc37d2",
   "metadata": {},
   "source": [
    "# Pick word\n",
    "\n",
    "Date: 02/29/2024.\n",
    "From: Practice Python. \n",
    "Link to [exercise](https://www.practicepython.org/exercise/2016/09/24/30-pick-word.html).\n",
    "\n",
    "### Description\n",
    "\n",
    "In this exercise, the task is to write a function that picks a random word from a list of words from the [SOWPODS dictionary](http://norvig.com/ngrams/sowpods.txt). Download this file and save it in the same directory as your Python code. This file is [Peter Norvig’s](https://en.wikipedia.org/wiki/Peter_Norvig) compilation of the dictionary of words used in professional Scrabble tournaments. Each line in the file contains a single word.\n",
    "\n",
    "*Hint: use the Python random library for picking a random word.*\n",
    "\n",
    "### My solution"
   ]
  },
  {
   "cell_type": "code",
   "execution_count": null,
   "id": "532da225-7042-431f-8711-9c56cfc1020e",
   "metadata": {},
   "outputs": [],
   "source": []
  },
  {
   "cell_type": "markdown",
   "id": "6ae0505f-f7d1-4235-a1ee-bf64efaf927b",
   "metadata": {},
   "source": [
    "### Sample solution\n",
    "[Link](https://www.practicepython.org/solution/2016/10/15/30-pick-word-solutions.html) to sample solution."
   ]
  }
 ],
 "metadata": {
  "kernelspec": {
   "display_name": "Python 3 (ipykernel)",
   "language": "python",
   "name": "python3"
  },
  "language_info": {
   "codemirror_mode": {
    "name": "ipython",
    "version": 3
   },
   "file_extension": ".py",
   "mimetype": "text/x-python",
   "name": "python",
   "nbconvert_exporter": "python",
   "pygments_lexer": "ipython3",
   "version": "3.12.1"
  }
 },
 "nbformat": 4,
 "nbformat_minor": 5
}
