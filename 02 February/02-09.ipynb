{
 "cells": [
  {
   "cell_type": "markdown",
   "id": "3c154c9b-bfb6-4ca4-a3ad-b40122cba05e",
   "metadata": {},
   "source": [
    "# Breaking chocolate problem\n",
    "\n",
    "Date: 02/09/2024.\n",
    "From: Codewars. \n",
    "Link to [kata](https://www.codewars.com/kata/534ea96ebb17181947000ada/train/python).\n",
    "\n",
    "### Description\n",
    "\n",
    "Your task is to split the chocolate bar of given dimension `n` x `m` into small squares. Each square is of size 1x1 and unbreakable. Implement a function that will return minimum number of breaks needed.\n",
    "\n",
    "For example if you are given a chocolate bar of size `2` x `1` you can split it to single squares in just one break, but for size `3` x `1` you must do two breaks.\n",
    "\n",
    "If input data is invalid you should return 0 (as in no breaks are needed if we do not have any chocolate to split). Input will always be a non-negative integer.\n",
    "\n",
    "### My solution"
   ]
  },
  {
   "cell_type": "code",
   "execution_count": 1,
   "id": "f2100574-89e2-4b36-b5b1-f54c3318b731",
   "metadata": {},
   "outputs": [],
   "source": [
    "def break_chocolate(n, m):\n",
    "    pass"
   ]
  },
  {
   "cell_type": "markdown",
   "id": "418fb6f4-2c4a-44b4-9584-8ce09e75a696",
   "metadata": {},
   "source": [
    "### Basic tests"
   ]
  },
  {
   "cell_type": "code",
   "execution_count": 2,
   "id": "a5da4991-80f6-44df-91b9-61416abc52fb",
   "metadata": {},
   "outputs": [
    {
     "name": "stdout",
     "output_type": "stream",
     "text": [
      "None\n",
      "None\n",
      "None\n",
      "None\n",
      "None\n"
     ]
    }
   ],
   "source": [
    "print(break_chocolate(5, 5)) # expects 24\n",
    "print(break_chocolate(7, 4)) # expects 27\n",
    "print(break_chocolate(1, 1)) # expects 0\n",
    "print(break_chocolate(0, 0)) # expects 0\n",
    "print(break_chocolate(6, 1)) # expects 5"
   ]
  }
 ],
 "metadata": {
  "kernelspec": {
   "display_name": "Python 3 (ipykernel)",
   "language": "python",
   "name": "python3"
  },
  "language_info": {
   "codemirror_mode": {
    "name": "ipython",
    "version": 3
   },
   "file_extension": ".py",
   "mimetype": "text/x-python",
   "name": "python",
   "nbconvert_exporter": "python",
   "pygments_lexer": "ipython3",
   "version": "3.12.1"
  }
 },
 "nbformat": 4,
 "nbformat_minor": 5
}
