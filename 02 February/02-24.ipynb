{
 "cells": [
  {
   "cell_type": "markdown",
   "id": "e1d7b757-e372-4752-85c1-d86a9dec6a30",
   "metadata": {},
   "source": [
    "# Guessing game two\n",
    "\n",
    "Date: 02/24/2024.\n",
    "From: Practice Python. \n",
    "Link to [exercise](https://www.practicepython.org/exercise/2015/11/01/25-guessing-game-two.html).\n",
    "\n",
    "### Description\n",
    "\n",
    "In a previous exercise, we’ve written a program that “knows” a number and asks a user to guess it.\n",
    "\n",
    "This time, we’re going to do exactly the opposite. You, the user, will have in your head a number between 0 and 100. The program will guess a number, and you, the user, will say whether it is too high, too low, or your number.\n",
    "\n",
    "At the end of this exchange, your program should print out how many guesses it took to get your number.\n",
    "\n",
    "As the writer of this program, you will have to choose how your program will strategically guess. A naive strategy can be to simply start the guessing at 1, and keep going (2, 3, 4, etc.) until you hit the number. But that’s not an optimal guessing strategy. An alternate strategy might be to guess 50 (right in the middle of the range), and then increase / decrease by 1 as needed. After you’ve written the program, try to find the optimal strategy! (We’ll talk about what is the optimal one next week with the solution.)\n",
    "\n",
    "### My solution"
   ]
  },
  {
   "cell_type": "code",
   "execution_count": 28,
   "id": "2390bb18-11f6-492b-af0b-8f8ff5b2123a",
   "metadata": {},
   "outputs": [
    {
     "name": "stdout",
     "output_type": "stream",
     "text": [
      "I guess the number is 50.\n"
     ]
    },
    {
     "name": "stdin",
     "output_type": "stream",
     "text": [
      "Is the guess...\n",
      "[1] Too High!\n",
      "[2] Too low!\n",
      "[3] Exactly right!\n",
      "Answer:  2\n"
     ]
    },
    {
     "name": "stdout",
     "output_type": "stream",
     "text": [
      "I guess the number is 75.\n"
     ]
    },
    {
     "name": "stdin",
     "output_type": "stream",
     "text": [
      "Is the guess...\n",
      "[1] Too High!\n",
      "[2] Too low!\n",
      "[3] Exactly right!\n",
      "Answer:  1\n"
     ]
    },
    {
     "name": "stdout",
     "output_type": "stream",
     "text": [
      "I guess the number is 62.\n"
     ]
    },
    {
     "name": "stdin",
     "output_type": "stream",
     "text": [
      "Is the guess...\n",
      "[1] Too High!\n",
      "[2] Too low!\n",
      "[3] Exactly right!\n",
      "Answer:  2\n"
     ]
    },
    {
     "name": "stdout",
     "output_type": "stream",
     "text": [
      "I guess the number is 68.\n"
     ]
    },
    {
     "name": "stdin",
     "output_type": "stream",
     "text": [
      "Is the guess...\n",
      "[1] Too High!\n",
      "[2] Too low!\n",
      "[3] Exactly right!\n",
      "Answer:  2\n"
     ]
    },
    {
     "name": "stdout",
     "output_type": "stream",
     "text": [
      "I guess the number is 71.\n"
     ]
    },
    {
     "name": "stdin",
     "output_type": "stream",
     "text": [
      "Is the guess...\n",
      "[1] Too High!\n",
      "[2] Too low!\n",
      "[3] Exactly right!\n",
      "Answer:  2\n"
     ]
    },
    {
     "name": "stdout",
     "output_type": "stream",
     "text": [
      "I guess the number is 73.\n"
     ]
    },
    {
     "name": "stdin",
     "output_type": "stream",
     "text": [
      "Is the guess...\n",
      "[1] Too High!\n",
      "[2] Too low!\n",
      "[3] Exactly right!\n",
      "Answer:  1\n"
     ]
    },
    {
     "name": "stdout",
     "output_type": "stream",
     "text": [
      "I guess the number is 72.\n"
     ]
    },
    {
     "name": "stdin",
     "output_type": "stream",
     "text": [
      "Is the guess...\n",
      "[1] Too High!\n",
      "[2] Too low!\n",
      "[3] Exactly right!\n",
      "Answer:  3\n"
     ]
    },
    {
     "name": "stdout",
     "output_type": "stream",
     "text": [
      "Yay! It took me 7 attempts to guess the number 72.\n"
     ]
    }
   ],
   "source": [
    "choices = list(range(0, 101))\n",
    "guess_count = 0\n",
    "option = \"\"\n",
    "\n",
    "while option != \"3\":        \n",
    "    guess = choices[len(choices) // 2]\n",
    "    guess_count += 1\n",
    "    print(f\"I guess the number is {guess}.\")\n",
    "    option = input(f\"Is the guess...\\n[1] Too High!\\n[2] Too low!\\n[3] Exactly right!\\nAnswer: \")\n",
    "    \n",
    "    while option not in \"123\":\n",
    "        option = input(\"Choose one of the options above: \")\n",
    "    \n",
    "    if option == \"1\":\n",
    "        choices = choices[:choices.index(guess)]\n",
    "    elif option == \"2\":\n",
    "        choices = choices[choices.index(guess):]\n",
    "        \n",
    "\n",
    "print(f\"Yay! It took me {guess_count} {'attempt' if guess_count == 1 else 'attempts'} to guess the number {guess}.\")"
   ]
  },
  {
   "cell_type": "markdown",
   "id": "5f2cafac-3f1c-4237-a39b-53ed16918f05",
   "metadata": {},
   "source": [
    "### Sample solution\n",
    "\n",
    "[Link](https://www.practicepython.org/solution/2015/11/08/25-guessing-game-two-solutions.html) to sample solution."
   ]
  }
 ],
 "metadata": {
  "kernelspec": {
   "display_name": "Python 3 (ipykernel)",
   "language": "python",
   "name": "python3"
  },
  "language_info": {
   "codemirror_mode": {
    "name": "ipython",
    "version": 3
   },
   "file_extension": ".py",
   "mimetype": "text/x-python",
   "name": "python",
   "nbconvert_exporter": "python",
   "pygments_lexer": "ipython3",
   "version": "3.12.1"
  }
 },
 "nbformat": 4,
 "nbformat_minor": 5
}
