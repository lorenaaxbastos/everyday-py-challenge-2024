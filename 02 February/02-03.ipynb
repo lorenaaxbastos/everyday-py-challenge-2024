{
 "cells": [
  {
   "cell_type": "markdown",
   "id": "a1b15f01-a076-47e3-9a35-0e301d586472",
   "metadata": {},
   "source": [
    "# Range extraction\n",
    "\n",
    "Date: 02/03/2024.\n",
    "From: Codewars. \n",
    "Link to [kata](https://www.codewars.com/kata/51ba717bb08c1cd60f00002f/train/python).\n",
    "\n",
    "### Description\n",
    "\n",
    "A format for expressing an ordered list of integers is to use a comma separated list of either individual integers or a range of integers denoted by the starting integer separated from the end integer in the range by a dash, '-'. The range includes all integers in the interval including both endpoints. It is not considered a range unless it spans at least 3 numbers. For example \"12,13,15-17\". \n",
    "\n",
    "Complete the solution so that it takes a list of integers in increasing order and returns a correctly formatted string in the range format.\n",
    "\n",
    "**Example**\n",
    "\n",
    "```\n",
    "solution([-10, -9, -8, -6, -3, -2, -1, 0, 1, 3, 4, 5, 7, 8, 9, 10, 11, 14, 15, 17, 18, 19, 20])\n",
    "# returns \"-10--8,-6,-3-1,3-5,7-11,14,15,17-20\"\n",
    "```\n",
    "\n",
    "*Courtesy of rosettacode.org*"
   ]
  },
  {
   "cell_type": "markdown",
   "id": "e2b903d9-15e4-4e40-b84c-9bac4ab90644",
   "metadata": {},
   "source": [
    "### My solution"
   ]
  },
  {
   "cell_type": "code",
   "execution_count": 1,
   "id": "076b3c1e-d3bc-4488-a55b-3a76d965b026",
   "metadata": {},
   "outputs": [],
   "source": [
    "def solution(args):\n",
    "    pass"
   ]
  },
  {
   "cell_type": "markdown",
   "id": "ed4c81fc-153f-47f6-886c-986fc2e7b765",
   "metadata": {},
   "source": [
    "### Basic tests"
   ]
  },
  {
   "cell_type": "code",
   "execution_count": 2,
   "id": "2e533e54-7c5b-4c47-a6c6-0accc56aa89a",
   "metadata": {},
   "outputs": [
    {
     "name": "stdout",
     "output_type": "stream",
     "text": [
      "None\n",
      "None\n"
     ]
    }
   ],
   "source": [
    "print(solution([-6,-3,-2,-1,0,1,3,4,5,7,8,9,10,11,14,15,17,18,19,20])) # expects '-6,-3-1,3-5,7-11,14,15,17-20'\n",
    "print(solution([-3,-2,-1,2,10,15,16,18,19,20])) # expects '-3--1,2,10,15,16,18-20'"
   ]
  }
 ],
 "metadata": {
  "kernelspec": {
   "display_name": "Python 3 (ipykernel)",
   "language": "python",
   "name": "python3"
  },
  "language_info": {
   "codemirror_mode": {
    "name": "ipython",
    "version": 3
   },
   "file_extension": ".py",
   "mimetype": "text/x-python",
   "name": "python",
   "nbconvert_exporter": "python",
   "pygments_lexer": "ipython3",
   "version": "3.12.1"
  }
 },
 "nbformat": 4,
 "nbformat_minor": 5
}
