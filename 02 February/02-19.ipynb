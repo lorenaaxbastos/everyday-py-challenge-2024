{
 "cells": [
  {
   "cell_type": "markdown",
   "id": "c8cc65e1-8b03-4b08-a212-7af28fb82b49",
   "metadata": {},
   "source": [
    "# Write to a file\n",
    "\n",
    "Date: 02/19/2024.\n",
    "From: Practice Python. \n",
    "Link to [exercise](https://www.practicepython.org/exercise/2014/11/30/21-write-to-a-file.html).\n",
    "\n",
    "### Description\n",
    "\n",
    "Take the code from the *How To Decode A Website* exercise, and instead of printing the results to a screen, write the results to a txt file. In your code, just make up a name for the file you are saving to.\n",
    "\n",
    "**Extras**\n",
    "\n",
    "- Ask the user to specify the name of the output file that will be saved.\n",
    "\n",
    "### My solution"
   ]
  },
  {
   "cell_type": "code",
   "execution_count": 1,
   "id": "467e6461-76cf-4bfd-91c5-81f1cfca7334",
   "metadata": {},
   "outputs": [],
   "source": [
    "import requests\n",
    "from requests import HTTPError\n",
    "from bs4 import BeautifulSoup\n",
    "import json"
   ]
  },
  {
   "cell_type": "code",
   "execution_count": 3,
   "id": "866d85ac-eac2-4215-880e-b4083496c4be",
   "metadata": {},
   "outputs": [],
   "source": [
    "# code from exercise 02-16\n",
    "\n",
    "url = \"https://www.vanityfair.com/style/society/2014/06/monica-lewinsky-humiliation-culture\"\n",
    "\n",
    "try:\n",
    "    response = requests.get(url)\n",
    "    response.raise_for_status()\n",
    "except HTTPError as http_error:\n",
    "    print(f\"A HTTP error happened. {http_error}\")\n",
    "\n",
    "content = response.content\n",
    "soup = BeautifulSoup(content, \"html.parser\")\n",
    "\n",
    "for dictionary in soup.find(\"script\", attrs={\"type\": \"application/ld+json\"}):\n",
    "    text = json.loads(dictionary)[\"articleBody\"]"
   ]
  },
  {
   "cell_type": "code",
   "execution_count": 5,
   "id": "44757948-2fb2-4251-9526-4e10e3baf853",
   "metadata": {},
   "outputs": [
    {
     "name": "stdin",
     "output_type": "stream",
     "text": [
      "What should be the name of the output file?  02-19-text\n"
     ]
    }
   ],
   "source": [
    "name_file = input(\"What should be the name of the output file? \")\n",
    "\n",
    "with open(f\"{name_file}.txt\", \"w\") as text_file:\n",
    "    text_file.write(text)"
   ]
  },
  {
   "cell_type": "markdown",
   "id": "41fe37d0-69d6-41d3-8248-993c7ffa7baf",
   "metadata": {},
   "source": [
    "### Sample solution\n",
    "\n",
    "[Link](https://www.practicepython.org/solution/2014/12/08/21-write-to-a-file-solutions.html) to sample solution."
   ]
  }
 ],
 "metadata": {
  "kernelspec": {
   "display_name": "Python 3 (ipykernel)",
   "language": "python",
   "name": "python3"
  },
  "language_info": {
   "codemirror_mode": {
    "name": "ipython",
    "version": 3
   },
   "file_extension": ".py",
   "mimetype": "text/x-python",
   "name": "python",
   "nbconvert_exporter": "python",
   "pygments_lexer": "ipython3",
   "version": "3.12.2"
  }
 },
 "nbformat": 4,
 "nbformat_minor": 5
}
