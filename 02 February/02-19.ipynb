{
 "cells": [
  {
   "cell_type": "markdown",
   "id": "c8cc65e1-8b03-4b08-a212-7af28fb82b49",
   "metadata": {},
   "source": [
    "# Write to a file\n",
    "\n",
    "Date: 02/19/2024.\n",
    "From: Practice Python. \n",
    "Link to [exercise](https://www.practicepython.org/exercise/2014/11/30/21-write-to-a-file.html).\n",
    "\n",
    "### Description\n",
    "\n",
    "Take the code from the *How To Decode A Website* exercise, and instead of printing the results to a screen, write the results to a txt file. In your code, just make up a name for the file you are saving to.\n",
    "\n",
    "**Extras**\n",
    "\n",
    "- Ask the user to specify the name of the output file that will be saved.\n",
    "\n",
    "### My solution"
   ]
  },
  {
   "cell_type": "code",
   "execution_count": null,
   "id": "467e6461-76cf-4bfd-91c5-81f1cfca7334",
   "metadata": {},
   "outputs": [],
   "source": []
  },
  {
   "cell_type": "markdown",
   "id": "41fe37d0-69d6-41d3-8248-993c7ffa7baf",
   "metadata": {},
   "source": [
    "### Sample solution\n",
    "\n",
    "[Link](https://www.practicepython.org/solution/2014/12/08/21-write-to-a-file-solutions.html) to sample solution."
   ]
  }
 ],
 "metadata": {
  "kernelspec": {
   "display_name": "Python 3 (ipykernel)",
   "language": "python",
   "name": "python3"
  },
  "language_info": {
   "codemirror_mode": {
    "name": "ipython",
    "version": 3
   },
   "file_extension": ".py",
   "mimetype": "text/x-python",
   "name": "python",
   "nbconvert_exporter": "python",
   "pygments_lexer": "ipython3",
   "version": "3.12.1"
  }
 },
 "nbformat": 4,
 "nbformat_minor": 5
}
