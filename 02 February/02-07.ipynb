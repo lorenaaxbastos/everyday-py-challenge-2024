{
 "cells": [
  {
   "cell_type": "markdown",
   "metadata": {},
   "source": [
    "# Santander Coders exercises from Class #2 Unit #2\n",
    "\n",
    "Date: 02/07/2024. From: Ada Tech. Language: Portuguese."
   ]
  },
  {
   "cell_type": "code",
   "execution_count": 1,
   "metadata": {},
   "outputs": [],
   "source": [
    "import numpy as np"
   ]
  },
  {
   "cell_type": "markdown",
   "metadata": {},
   "source": [
    "### Exercícios"
   ]
  },
  {
   "cell_type": "markdown",
   "metadata": {},
   "source": [
    "Utilize comprehension para gerar a lista de todos os números interios entre 0 e 19. Converta a lista em um <font color='blue'>numpy</font> array bidimensional (matriz) com 4 linhas e 5 colunas."
   ]
  },
  {
   "cell_type": "code",
   "execution_count": 2,
   "metadata": {},
   "outputs": [
    {
     "name": "stdout",
     "output_type": "stream",
     "text": [
      "ARRAY\n",
      " [ 8  7 17  8  7 12  7 14  9 10  5 15 14 17 12 16  7  8  6  1  5  7 18  4\n",
      "  4  9 18  5 12 16] \n",
      "\n",
      "MATRIZ\n",
      " [[ 8  7 17  8  7 12]\n",
      " [ 7 14  9 10  5 15]\n",
      " [14 17 12 16  7  8]\n",
      " [ 6  1  5  7 18  4]\n",
      " [ 4  9 18  5 12 16]]\n"
     ]
    }
   ],
   "source": [
    "arr1 = np.random.randint(0, 20, 30)\n",
    "A = arr1.reshape((5, 6))\n",
    "\n",
    "print(\"ARRAY\\n\", arr1, \"\\n\")\n",
    "print(\"MATRIZ\\n\", A)"
   ]
  },
  {
   "cell_type": "markdown",
   "metadata": {},
   "source": [
    "Construa um array unidimensional com 30 números inteiros escolhidos de forma randômica no intervalo entre 0 e 20. Reformate o array para que se torne uma matriz `A` com 5 linhas e 6 colunas."
   ]
  },
  {
   "cell_type": "code",
   "execution_count": 3,
   "metadata": {},
   "outputs": [
    {
     "name": "stdout",
     "output_type": "stream",
     "text": [
      "LINHAS 0, 1, 3\n",
      " [[ 8 17  7]\n",
      " [ 7  9  5]\n",
      " [ 6  5 18]] \n",
      "\n",
      "LINHAS 1 E 2, COLUNAS 0, 2, 4\n",
      " [[ 7  9  5]\n",
      " [14 12  7]] \n",
      "\n",
      "LINHAS 1, 3, COLUNAS 1, 3\n",
      " [[14 10]\n",
      " [ 1  7]]\n"
     ]
    }
   ],
   "source": [
    "# print(np.concatenate((a_5x6[0], a_5x6[1], a_5x6[3])).reshape((3, 6)), \"\\n\")\n",
    "print(\"LINHAS 0, 1, 3\\n\", A[[0, 1, 3], ::2], \"\\n\")\n",
    "print(\"LINHAS 1 E 2, COLUNAS 0, 2, 4\\n\", A[1:3, ::2], \"\\n\")\n",
    "print(\"LINHAS 1, 3, COLUNAS 1, 3\\n\", A[1:4:2, 1:4:2])"
   ]
  },
  {
   "cell_type": "markdown",
   "metadata": {},
   "source": [
    "Crie uma __view__ da matriz `A` gerada na célula anterior contendo:\n",
    "- as linhas de `A` com índices 0,1 e 3\n",
    "- as linhas de `A` com índice 1 e 2 e as colunas com índice 0,2 e 4\n",
    "- as linhas de `A` com índice 1 e 3 e as colunas com índice 1 e 3"
   ]
  },
  {
   "cell_type": "code",
   "execution_count": 4,
   "metadata": {},
   "outputs": [
    {
     "name": "stdout",
     "output_type": "stream",
     "text": [
      "LINHAS 0, 1, 3\n",
      " [[ 8 17  7]\n",
      " [ 7  9  5]\n",
      " [ 6  5 18]] \n",
      "\n",
      "LINHAS 1 E 2, COLUNAS 0, 2, 4\n",
      " [[ 7  9  5]\n",
      " [14 12  7]] \n",
      "\n",
      "LINHAS 1, 3, COLUNAS 1, 3\n",
      " [[14 10]\n",
      " [ 1  7]]\n"
     ]
    }
   ],
   "source": [
    "# print(np.concatenate((a_5x6[0], a_5x6[1], a_5x6[3])).reshape((3, 6)), \"\\n\")\n",
    "print(\"LINHAS 0, 1, 3\\n\", A[[0, 1, 3], ::2], \"\\n\")\n",
    "print(\"LINHAS 1 E 2, COLUNAS 0, 2, 4\\n\", A[1:3, ::2], \"\\n\")\n",
    "print(\"LINHAS 1, 3, COLUNAS 1, 3\\n\", A[1:4:2, 1:4:2])"
   ]
  },
  {
   "cell_type": "markdown",
   "metadata": {},
   "source": [
    "Construa um array `A` bidimensional 5x6 com 30 números inteiros escolhidos de forma randômica no intervalo entre 0 e 20. \n",
    "- faça uma cópia do array `A` criado, chamando a cópia de `Ac`\n",
    "- Substitua todos os elementos do array `A` que sejam maiores que 10 pelo valor -1 \n",
    "- Substitua todos os elementos do array `Ac` que sejam maiores que 7 e menores que 15 pelo valor -1 \n",
    "\n",
    "__Dica:__ Gere máscaras booleanas para realizar as modificações nos arrays."
   ]
  },
  {
   "cell_type": "code",
   "execution_count": 5,
   "metadata": {},
   "outputs": [
    {
     "name": "stdout",
     "output_type": "stream",
     "text": [
      "ORIGINAL\n",
      " [[ 5 11 12  8  9 11]\n",
      " [ 5 15  0 16  1 12]\n",
      " [ 7 13  6 18  5 18]\n",
      " [11 10 14 18  4  9]\n",
      " [17  0 13  9  9  7]] \n",
      "\n",
      "ORIGINAL ALTERADA\n",
      " [[ 5 -1 -1  8  9 -1]\n",
      " [ 5 -1  0 -1  1 -1]\n",
      " [ 7 -1  6 -1  5 -1]\n",
      " [-1 10 -1 -1  4  9]\n",
      " [-1  0 -1  9  9  7]] \n",
      "\n",
      "CÓPIA ALTERADA\n",
      " [[ 5 -1 -1 -1 -1 -1]\n",
      " [ 5 15  0 16  1 -1]\n",
      " [ 7 -1  6 18  5 18]\n",
      " [-1 -1 -1 18  4 -1]\n",
      " [17  0 -1 -1 -1  7]]\n"
     ]
    }
   ],
   "source": [
    "np.random.seed(1)\n",
    "A = np.random.randint(0, 20, 30).reshape((5, 6))\n",
    "print(\"ORIGINAL\\n\", A, \"\\n\")\n",
    "\n",
    "ac = A.copy()\n",
    "maiores_dez = A > 10\n",
    "maiores_sete = ac > 7\n",
    "menores_quinze = ac < 15\n",
    "\n",
    "A[maiores_dez] = -1\n",
    "ac[maiores_sete & menores_quinze] = -1\n",
    "\n",
    "print(\"ORIGINAL ALTERADA\\n\", A, \"\\n\")\n",
    "print(\"CÓPIA ALTERADA\\n\", ac)"
   ]
  },
  {
   "cell_type": "markdown",
   "metadata": {},
   "source": [
    "Construa um array `A` com 20 linhas e 10 colunas onde os elementos são os números interios de  1 até 200.\n",
    "- Crie uma __view__ de `A` chamada `A_lpares` contendo apenas as linhas de `A` com índice par. \n",
    "- Crie uma __view__ de `A` chamada `A_lpares_cimpares` contendo as linhas `A` com índice par e colunas com índice ímpar. "
   ]
  },
  {
   "cell_type": "code",
   "execution_count": 6,
   "metadata": {},
   "outputs": [
    {
     "name": "stdout",
     "output_type": "stream",
     "text": [
      "ORIGINAL\n",
      " [[ 38 141  73 138 134  80 193 145 130  72]\n",
      " [135  26 179  21 102 147 140 157 158 143]\n",
      " [ 51  69  97  87 142 138   8  64  62  23]\n",
      " [ 58   2 129  61   9 142 116 176 122  31]\n",
      " [ 72 132 199 150  50  58   4 197  25  44]\n",
      " [ 77  27  53  81 110 116  42  16  65 197]\n",
      " [ 26 112 136  27 154 105  23  10 196 127]\n",
      " [ 24 126 101 156 166  58  84 167 137  33]\n",
      " [163  11  24 144  88  26  93  75 191  47]\n",
      " [161 152 184  66 114  78   4 129   7  53]\n",
      " [199   3  77 150   8  78  76  77  44  21]\n",
      " [ 31  37 104   8  46 197  58  97  14  11]\n",
      " [ 24 125  82 136 122 153 149 161 141 194]\n",
      " [ 95  61 153  83 116  98 131 104  99  11]\n",
      " [183  97  83 199 195  72 177  55  16 134]\n",
      " [146 171  21 119 177  23 142 115  98 182]\n",
      " [ 85  11  97 184  62  57 150  97  26 143]\n",
      " [142 117  44 135 185 188 144  25 138 195]\n",
      " [ 54  70 165 102  22  41  78 178 114  48]\n",
      " [169  46  88 145 157  46 196 117  67  47]] \n",
      "\n",
      "LINHAS PARES\n",
      " [[ 38 141  73 138 134  80 193 145 130  72]\n",
      " [ 51  69  97  87 142 138   8  64  62  23]\n",
      " [ 72 132 199 150  50  58   4 197  25  44]\n",
      " [ 26 112 136  27 154 105  23  10 196 127]\n",
      " [163  11  24 144  88  26  93  75 191  47]\n",
      " [199   3  77 150   8  78  76  77  44  21]\n",
      " [ 24 125  82 136 122 153 149 161 141 194]\n",
      " [183  97  83 199 195  72 177  55  16 134]\n",
      " [ 85  11  97 184  62  57 150  97  26 143]\n",
      " [ 54  70 165 102  22  41  78 178 114  48]] \n",
      "\n",
      "LINHAS PARES, COLUNAS ÍMPARES\n",
      " [[141 138  80 145  72]\n",
      " [ 69  87 138  64  23]\n",
      " [132 150  58 197  44]\n",
      " [112  27 105  10 127]\n",
      " [ 11 144  26  75  47]\n",
      " [  3 150  78  77  21]\n",
      " [125 136 153 161 194]\n",
      " [ 97 199  72  55 134]\n",
      " [ 11 184  57  97 143]\n",
      " [ 70 102  41 178  48]]\n"
     ]
    }
   ],
   "source": [
    "np.random.seed(1)\n",
    "A = np.random.randint(1, 200, 20 * 10).reshape((20, 10))\n",
    "print(\"ORIGINAL\\n\", A, \"\\n\")\n",
    "\n",
    "a_lpares = A[::2]\n",
    "a_lpares_cimpares = A[::2, 1::2]\n",
    "\n",
    "print(\"LINHAS PARES\\n\", a_lpares, \"\\n\")\n",
    "print(\"LINHAS PARES, COLUNAS ÍMPARES\\n\", a_lpares_cimpares)"
   ]
  },
  {
   "cell_type": "markdown",
   "metadata": {},
   "source": [
    "Substitua os elememtos do array `A` do exercício anterior por -1 quando pelo menos um dos índices do elemento é par. \n",
    "\n",
    "__Dica:__ Construa uma máscara booleana"
   ]
  },
  {
   "cell_type": "code",
   "execution_count": 7,
   "metadata": {},
   "outputs": [
    {
     "name": "stdout",
     "output_type": "stream",
     "text": [
      "ÍNDICES PARES SUBSTITUÍDOS POR -1\n",
      " [[ -1  -1  -1  -1  -1  -1  -1  -1  -1  -1]\n",
      " [ -1  26  -1  21  -1 147  -1 157  -1 143]\n",
      " [ -1  -1  -1  -1  -1  -1  -1  -1  -1  -1]\n",
      " [ -1   2  -1  61  -1 142  -1 176  -1  31]\n",
      " [ -1  -1  -1  -1  -1  -1  -1  -1  -1  -1]\n",
      " [ -1  27  -1  81  -1 116  -1  16  -1 197]\n",
      " [ -1  -1  -1  -1  -1  -1  -1  -1  -1  -1]\n",
      " [ -1 126  -1 156  -1  58  -1 167  -1  33]\n",
      " [ -1  -1  -1  -1  -1  -1  -1  -1  -1  -1]\n",
      " [ -1 152  -1  66  -1  78  -1 129  -1  53]\n",
      " [ -1  -1  -1  -1  -1  -1  -1  -1  -1  -1]\n",
      " [ -1  37  -1   8  -1 197  -1  97  -1  11]\n",
      " [ -1  -1  -1  -1  -1  -1  -1  -1  -1  -1]\n",
      " [ -1  61  -1  83  -1  98  -1 104  -1  11]\n",
      " [ -1  -1  -1  -1  -1  -1  -1  -1  -1  -1]\n",
      " [ -1 171  -1 119  -1  23  -1 115  -1 182]\n",
      " [ -1  -1  -1  -1  -1  -1  -1  -1  -1  -1]\n",
      " [ -1 117  -1 135  -1 188  -1  25  -1 195]\n",
      " [ -1  -1  -1  -1  -1  -1  -1  -1  -1  -1]\n",
      " [ -1  46  -1 145  -1  46  -1 117  -1  47]]\n"
     ]
    }
   ],
   "source": [
    "A[::2] = A[::, ::2] = -1\n",
    "print(\"ÍNDICES PARES SUBSTITUÍDOS POR -1\\n\", A)"
   ]
  },
  {
   "cell_type": "markdown",
   "metadata": {},
   "source": [
    "Construa uma função chamada `ordena_linhas` que recebe uma matriz como parâmetro e troque as linhas de posição para que fiquem ordenadas de acordo com a primeira coluna. Por exemplo:\n",
    "```python\n",
    "A = np.array([[20, 26, 12], \n",
    "              [8, 3, 26], \n",
    "              [3, 10, 4]])\n",
    "print(ordena_linhas(A))\n",
    "```\n",
    "deve resultar em\n",
    "```python\n",
    "[[ 3 10  4]\n",
    " [ 8  3 26]\n",
    " [20 26 12]]\n",
    "```"
   ]
  },
  {
   "cell_type": "code",
   "execution_count": 8,
   "metadata": {},
   "outputs": [
    {
     "name": "stdout",
     "output_type": "stream",
     "text": [
      "[[ 3 10  4]\n",
      " [ 8  3 26]\n",
      " [20 26 12]]\n"
     ]
    }
   ],
   "source": [
    "def ordena_linhas(mtx):\n",
    "    sort_coluna1 = mtx[:,0].argsort()\n",
    "    return mtx[sort_coluna1]\n",
    "\n",
    "A = np.array([[20, 26, 12], \n",
    "              [8, 3, 26], \n",
    "              [3, 10, 4]])\n",
    "\n",
    "print(ordena_linhas(A))"
   ]
  }
 ],
 "metadata": {
  "kernelspec": {
   "display_name": "Python 3 (ipykernel)",
   "language": "python",
   "name": "python3"
  },
  "language_info": {
   "codemirror_mode": {
    "name": "ipython",
    "version": 3
   },
   "file_extension": ".py",
   "mimetype": "text/x-python",
   "name": "python",
   "nbconvert_exporter": "python",
   "pygments_lexer": "ipython3",
   "version": "3.12.0"
  }
 },
 "nbformat": 4,
 "nbformat_minor": 4
}
