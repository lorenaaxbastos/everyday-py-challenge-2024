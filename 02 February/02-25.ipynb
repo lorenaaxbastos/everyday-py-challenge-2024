{
 "cells": [
  {
   "cell_type": "markdown",
   "id": "d9e18711-1b68-4a72-8d8e-2dfa8dd0a90e",
   "metadata": {},
   "source": [
    "# Check tic tac toe\n",
    "\n",
    "Date: 02/25/2024.\n",
    "From: Practice Python. \n",
    "Link to [exercise](https://www.practicepython.org/exercise/2015/11/16/26-check-tic-tac-toe.html).\n",
    "\n",
    "### Description\n",
    "\n",
    "As you may have guessed, we are trying to build up to a full tic-tac-toe board. However, this is significantly more than half an hour of coding, so we’re doing it in pieces.\n",
    "\n",
    "Today, we will simply focus on checking whether someone has WON a game of Tic Tac Toe, not worrying about how the moves were made.\n",
    "\n",
    "If a game of Tic Tac Toe is represented as a list of lists, like so:\n",
    "\n",
    "```python\n",
    "game = [[1, 2, 0],\n",
    "        [2, 1, 0],\n",
    "        [2, 1, 1]]\n",
    "```\n",
    "\n",
    "where a 0 means an empty square, a 1 means that player 1 put their token in that space, and a 2 means that player 2 put their token in that space.\n",
    "\n",
    "Your task this week: given a 3 by 3 list of lists that represents a Tic Tac Toe game board, tell me whether anyone has won, and tell me which player won, if any. A Tic Tac Toe win is 3 in a row - either in a row, a column, or a diagonal. Don’t worry about the case where TWO people have won - assume that in every board there will only be one winner.\n",
    "\n",
    "Here are some more examples to work with:\n",
    "\n",
    "```python\n",
    "winner_is_2 = [[2, 2, 0],\n",
    "               [2, 1, 0],\n",
    "               [2, 1, 1]]\n",
    "\n",
    "winner_is_1 = [[1, 2, 0],\n",
    "               [2, 1, 0],\n",
    "               [2, 1, 1]]\n",
    "\n",
    "winner_is_also_1 = [[0, 1, 0],\n",
    "                    [2, 1, 0],\n",
    "                    [2, 1, 1]]\n",
    "\n",
    "no_winner = [[1, 2, 0],\n",
    "             [2, 1, 0],\n",
    "             [2, 1, 2]]\n",
    "\n",
    "also_no_winner = [[1, 2, 0],\n",
    "                  [2, 1, 0],\n",
    "                  [2, 1, 0]]\n",
    "```\n",
    "\n",
    "### My solution"
   ]
  },
  {
   "cell_type": "code",
   "execution_count": null,
   "id": "923c822a-3863-40cd-92ac-251990f1b007",
   "metadata": {},
   "outputs": [],
   "source": []
  },
  {
   "cell_type": "markdown",
   "id": "cd7b933e-edaa-49d9-a03e-749f0483f633",
   "metadata": {},
   "source": [
    "### Sample solution\n",
    "\n",
    "[Link](https://www.practicepython.org/solution/2015/11/23/26-check-tic-tac-toe-solutions.html) to sample solution."
   ]
  }
 ],
 "metadata": {
  "kernelspec": {
   "display_name": "Python 3 (ipykernel)",
   "language": "python",
   "name": "python3"
  },
  "language_info": {
   "codemirror_mode": {
    "name": "ipython",
    "version": 3
   },
   "file_extension": ".py",
   "mimetype": "text/x-python",
   "name": "python",
   "nbconvert_exporter": "python",
   "pygments_lexer": "ipython3",
   "version": "3.12.1"
  }
 },
 "nbformat": 4,
 "nbformat_minor": 5
}
