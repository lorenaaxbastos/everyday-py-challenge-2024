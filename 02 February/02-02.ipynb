{
 "cells": [
  {
   "cell_type": "code",
   "execution_count": null,
   "id": "c943d7eb-0931-4ac8-a548-ecf00c344a9a",
   "metadata": {},
   "outputs": [],
   "source": []
  },
  {
   "cell_type": "markdown",
   "id": "16d8bf6f-b7e3-4578-b37e-cf443ca463a0",
   "metadata": {},
   "source": [
    "# Rock paper scissors\n",
    "\n",
    "Date: 02/02/2024. From: Practice Python. [Link to exercise](https://www.practicepython.org/exercise/2014/03/26/08-rock-paper-scissors.html).\n",
    "\n",
    "### Description\n",
    "\n",
    "Make a two-player Rock-Paper-Scissors game.\n",
    "\n",
    "**Remember the rules**\n",
    "\n",
    "- Rock beats scissors\n",
    "- Scissors beats paper\n",
    "- Paper beats rock\n",
    "\n",
    "### My solution"
   ]
  },
  {
   "cell_type": "code",
   "execution_count": null,
   "id": "c1b21b5e-9688-424b-9c69-427085ae6d10",
   "metadata": {},
   "outputs": [],
   "source": []
  },
  {
   "cell_type": "markdown",
   "id": "cbe81afc-f2ee-49a1-8e0f-75aa75ef6614",
   "metadata": {},
   "source": [
    "### Sample solution\n",
    "\n",
    "[Link to sample solution.](https://www.practicepython.org/solution/2014/04/02/08-rock-paper-scissors-solutions.html)"
   ]
  },
  {
   "cell_type": "markdown",
   "id": "e1cf0102-39e6-4b95-9d52-f1426691b837",
   "metadata": {},
   "source": [
    "# Guessing game one\n",
    "\n",
    "Date: 02/02/2024. From: Practice Python. [Link to exercise](https://www.practicepython.org/exercise/2014/04/02/09-guessing-game-one.html).\n",
    "\n",
    "### Description\n",
    "\n",
    "Generate a random number between 1 and 9 (including 1 and 9). Ask the user to guess the number, then tell them whether they guessed too low, too high, or exactly right. \n",
    "\n",
    "**Extras**\n",
    "\n",
    "- Keep the game going until the user types “exit”\n",
    "- Keep track of how many guesses the user has taken, and when the game ends, print this out.\n",
    "\n",
    "### My solution"
   ]
  },
  {
   "cell_type": "code",
   "execution_count": null,
   "id": "42de9554-a018-4e20-871f-391271e484be",
   "metadata": {},
   "outputs": [],
   "source": []
  },
  {
   "cell_type": "markdown",
   "id": "66c7f06b-0646-4b31-a89d-57d440ad0d33",
   "metadata": {},
   "source": [
    "### Sample solution\n",
    "\n",
    "[Link to sample solution.](https://www.practicepython.org/solution/2014/04/10/09-guessing-game-one-solutions.html)"
   ]
  },
  {
   "cell_type": "code",
   "execution_count": null,
   "id": "a00b66df-6e8e-4a21-8bf8-74669701d773",
   "metadata": {},
   "outputs": [],
   "source": []
  }
 ],
 "metadata": {
  "kernelspec": {
   "display_name": "Python 3 (ipykernel)",
   "language": "python",
   "name": "python3"
  },
  "language_info": {
   "codemirror_mode": {
    "name": "ipython",
    "version": 3
   },
   "file_extension": ".py",
   "mimetype": "text/x-python",
   "name": "python",
   "nbconvert_exporter": "python",
   "pygments_lexer": "ipython3",
   "version": "3.12.1"
  }
 },
 "nbformat": 4,
 "nbformat_minor": 5
}
