{
 "cells": [
  {
   "cell_type": "markdown",
   "id": "16d8bf6f-b7e3-4578-b37e-cf443ca463a0",
   "metadata": {},
   "source": [
    "# Rock paper scissors\n",
    "\n",
    "Date: 02/02/2024. From: Practice Python. [Link to exercise](https://www.practicepython.org/exercise/2014/03/26/08-rock-paper-scissors.html).\n",
    "\n",
    "### Description\n",
    "\n",
    "Make a two-player Rock-Paper-Scissors game.\n",
    "\n",
    "**Remember the rules**\n",
    "\n",
    "- Rock beats scissors\n",
    "- Scissors beats paper\n",
    "- Paper beats rock\n",
    "\n",
    "### My solution"
   ]
  },
  {
   "cell_type": "code",
   "execution_count": 27,
   "id": "c1b21b5e-9688-424b-9c69-427085ae6d10",
   "metadata": {},
   "outputs": [
    {
     "name": "stdin",
     "output_type": "stream",
     "text": [
      "[Player 1] Choose an option between rock, scissors or paper [R/S/P]:  r\n",
      "[Player 2] Choose an option between rock, scissors or paper [R/S/P]:  s\n"
     ]
    },
    {
     "name": "stdout",
     "output_type": "stream",
     "text": [
      "\n",
      "[P1] Rock x [P2] Scissors: Player 1 wins!\n",
      "\n"
     ]
    },
    {
     "name": "stdin",
     "output_type": "stream",
     "text": [
      "Want to start a new game [Y/N]?  y\n"
     ]
    },
    {
     "name": "stdout",
     "output_type": "stream",
     "text": [
      "\n",
      "\n"
     ]
    },
    {
     "name": "stdin",
     "output_type": "stream",
     "text": [
      "[Player 1] Choose an option between rock, scissors or paper [R/S/P]:  s\n",
      "[Player 2] Choose an option between rock, scissors or paper [R/S/P]:  s\n"
     ]
    },
    {
     "name": "stdout",
     "output_type": "stream",
     "text": [
      "\n",
      "[P1] Scissors x [P2] Scissors: It's a draw!\n",
      "\n"
     ]
    },
    {
     "name": "stdin",
     "output_type": "stream",
     "text": [
      "Want to start a new game [Y/N]?  y\n"
     ]
    },
    {
     "name": "stdout",
     "output_type": "stream",
     "text": [
      "\n",
      "\n"
     ]
    },
    {
     "name": "stdin",
     "output_type": "stream",
     "text": [
      "[Player 1] Choose an option between rock, scissors or paper [R/S/P]:  r\n",
      "[Player 2] Choose an option between rock, scissors or paper [R/S/P]:  p\n"
     ]
    },
    {
     "name": "stdout",
     "output_type": "stream",
     "text": [
      "\n",
      "[P1] Rock x [P2] Paper: Player 2 wins!\n",
      "\n"
     ]
    },
    {
     "name": "stdin",
     "output_type": "stream",
     "text": [
      "Want to start a new game [Y/N]?  n\n"
     ]
    },
    {
     "name": "stdout",
     "output_type": "stream",
     "text": [
      "\n",
      "\n"
     ]
    }
   ],
   "source": [
    "new_game = \"Y\"\n",
    "result = {\n",
    "        \"R\": {\"wins\": \"S\", \"draw\": \"R\", \"loses\": \"P\"},\n",
    "        \"S\": {\"wins\": \"P\", \"draw\": \"S\", \"loses\": \"R\"},\n",
    "        \"P\": {\"wins\": \"R\", \"draw\": \"P\", \"loses\": \"S\"}\n",
    "    }\n",
    "\n",
    "while new_game != \"N\":\n",
    "    p1_choice = p2_choice = \" \"\n",
    "    \n",
    "    while p1_choice not in \"RSP\":\n",
    "        p1_choice = input(\"[Player 1] Choose an option between rock, scissors or paper [R/S/P]: \").upper()\n",
    "    while p2_choice not in \"RSP\":\n",
    "        p2_choice = input(\"[Player 2] Choose an option between rock, scissors or paper [R/S/P]: \").upper()\n",
    "    \n",
    "    def acronym_to_word(letter):\n",
    "        return \"Rock\" if letter == \"R\" else \"Scissors\" if letter == \"S\" else \"Paper\"\n",
    "    \n",
    "    if result[p1_choice][\"wins\"] == p2_choice:\n",
    "        print(f\"\\n[P1] {acronym_to_word(p1_choice)} x [P2] {acronym_to_word(p2_choice)}: Player 1 wins!\\n\")\n",
    "    elif result[p1_choice][\"draw\"] == p2_choice:\n",
    "        print(f\"\\n[P1] {acronym_to_word(p1_choice)} x [P2] {acronym_to_word(p2_choice)}: It's a draw!\\n\")\n",
    "    else:\n",
    "        print(f\"\\n[P1] {acronym_to_word(p1_choice)} x [P2] {acronym_to_word(p2_choice)}: Player 2 wins!\\n\")\n",
    "\n",
    "    new_game = \" \"\n",
    "    while new_game not in \"YN\":\n",
    "        new_game = input(\"Want to start a new game [Y/N]? \").upper()\n",
    "    print(\"\\n\")"
   ]
  },
  {
   "cell_type": "markdown",
   "id": "cbe81afc-f2ee-49a1-8e0f-75aa75ef6614",
   "metadata": {},
   "source": [
    "### Sample solution\n",
    "\n",
    "[Link to sample solution.](https://www.practicepython.org/solution/2014/04/02/08-rock-paper-scissors-solutions.html)"
   ]
  },
  {
   "cell_type": "markdown",
   "id": "e1cf0102-39e6-4b95-9d52-f1426691b837",
   "metadata": {},
   "source": [
    "# Guessing game one\n",
    "\n",
    "Date: 02/02/2024. From: Practice Python. [Link to exercise](https://www.practicepython.org/exercise/2014/04/02/09-guessing-game-one.html).\n",
    "\n",
    "### Description\n",
    "\n",
    "Generate a random number between 1 and 9 (including 1 and 9). Ask the user to guess the number, then tell them whether they guessed too low, too high, or exactly right. \n",
    "\n",
    "**Extras**\n",
    "\n",
    "- Keep the game going until the user types “exit”\n",
    "- Keep track of how many guesses the user has taken, and when the game ends, print this out.\n",
    "\n",
    "### My solution"
   ]
  },
  {
   "cell_type": "code",
   "execution_count": 40,
   "id": "42de9554-a018-4e20-871f-391271e484be",
   "metadata": {},
   "outputs": [
    {
     "name": "stdin",
     "output_type": "stream",
     "text": [
      "Guess the number (between 1 and 9):  5\n"
     ]
    },
    {
     "name": "stdout",
     "output_type": "stream",
     "text": [
      "Guessed too low!\n",
      "\n"
     ]
    },
    {
     "name": "stdin",
     "output_type": "stream",
     "text": [
      "Guess the number (between 1 and 9):  8\n"
     ]
    },
    {
     "name": "stdout",
     "output_type": "stream",
     "text": [
      "Guessed too high!\n",
      "\n"
     ]
    },
    {
     "name": "stdin",
     "output_type": "stream",
     "text": [
      "Guess the number (between 1 and 9):  7\n"
     ]
    },
    {
     "name": "stdout",
     "output_type": "stream",
     "text": [
      "Exactly right! It took you 3 attempts to guess the number.\n",
      "\n"
     ]
    },
    {
     "name": "stdin",
     "output_type": "stream",
     "text": [
      "Continue or exit?  exit\n"
     ]
    }
   ],
   "source": [
    "from random import randint\n",
    "\n",
    "new_game = \" \"\n",
    "\n",
    "while new_game != \"exit\":\n",
    "    number = randint(1, 9)\n",
    "    guess_count = 0\n",
    "    guess = 0\n",
    "\n",
    "    while guess != number:\n",
    "        while not guess:\n",
    "            guess = input(\"Guess the number (between 1 and 9): \")\n",
    "            try:\n",
    "                guess = int(guess)\n",
    "            except ValueError:\n",
    "                print(\"Guess should be a number.\")\n",
    "                guess = 0\n",
    "                continue\n",
    "            if guess < 1 or guess > 9:\n",
    "                print(\"Guess should be between 1 and 9.\")\n",
    "                guess = 0\n",
    "        \n",
    "        guess_count += 1\n",
    "        \n",
    "        if guess > number:\n",
    "            print(\"Guessed too high!\\n\")\n",
    "        elif guess < number:\n",
    "            print(\"Guessed too low!\\n\")\n",
    "        else:\n",
    "            print(f\"Exactly right! It took you {guess_count} attempts to guess the number.\\n\")\n",
    "            break\n",
    "        guess = 0\n",
    "\n",
    "    new_game = input(\"Continue or exit? \").lower()"
   ]
  },
  {
   "cell_type": "markdown",
   "id": "66c7f06b-0646-4b31-a89d-57d440ad0d33",
   "metadata": {},
   "source": [
    "### Sample solution\n",
    "\n",
    "[Link to sample solution.](https://www.practicepython.org/solution/2014/04/10/09-guessing-game-one-solutions.html)"
   ]
  }
 ],
 "metadata": {
  "kernelspec": {
   "display_name": "Python 3 (ipykernel)",
   "language": "python",
   "name": "python3"
  },
  "language_info": {
   "codemirror_mode": {
    "name": "ipython",
    "version": 3
   },
   "file_extension": ".py",
   "mimetype": "text/x-python",
   "name": "python",
   "nbconvert_exporter": "python",
   "pygments_lexer": "ipython3",
   "version": "3.12.0"
  }
 },
 "nbformat": 4,
 "nbformat_minor": 5
}
