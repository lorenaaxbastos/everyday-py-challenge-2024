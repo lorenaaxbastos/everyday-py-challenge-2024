{
 "cells": [
  {
   "cell_type": "markdown",
   "id": "f6ffad14-5483-4468-b330-4b8fe53964f9",
   "metadata": {},
   "source": [
    "# Sort by last char\r\n",
    "\r\n",
    "Date: 01/21/2024.\r\n",
    "From: Codewars. \r\n",
    "Link to [exercise](https://www.codewars.com/kata/57eba158e8ca2c8aba0002a0/train/python).\r\n",
    "\r\n",
    "### Description\r\n",
    "\r\n",
    "Given a string of words (x), you need to return an array of the words, sorted alphabetically by the final character in each.\r\n",
    "\r\n",
    "If two words have the same last letter, they returned array should show them in the order they appeared in the given string.\r\n",
    "\r\n",
    "All inputs will be valid."
   ]
  },
  {
   "cell_type": "markdown",
   "id": "e37c8659-6157-4824-8986-71d3a50c5d18",
   "metadata": {},
   "source": [
    "### My solution"
   ]
  },
  {
   "cell_type": "code",
   "execution_count": 1,
   "id": "155a1bfe-cf01-455f-989c-c7510d3b1ecd",
   "metadata": {},
   "outputs": [],
   "source": [
    "def last(s):\n",
    "    return sorted(s.split(), key=lambda word: word[-1])"
   ]
  },
  {
   "cell_type": "markdown",
   "id": "f139fd74-a1d0-4488-bbad-7806d1a41077",
   "metadata": {},
   "source": [
    "### Basic tests"
   ]
  },
  {
   "cell_type": "code",
   "execution_count": 2,
   "id": "e3f56961-19d0-425b-bf9f-9125e2a034f7",
   "metadata": {},
   "outputs": [
    {
     "name": "stdout",
     "output_type": "stream",
     "text": [
      "['a', 'need', 'ubud', 'i', 'taxi', 'man', 'to', 'up']\n",
      "['time', 'are', 'we', 'the', 'climbing', 'volcano', 'up', 'what']\n",
      "['take', 'me', 'semynak', 'to']\n",
      "['massage', 'massage', 'massage', 'yes', 'yes']\n",
      "['a', 'and', 'take', 'dance', 'please', 'bintang']\n"
     ]
    }
   ],
   "source": [
    "print(last(\"man i need a taxi up to ubud\")) # expects [\"a\", \"need\", \"ubud\", \"i\", \"taxi\", \"man\", \"to\", \"up\"]\n",
    "print(last(\"what time are we climbing up the volcano\")) # expects [\"time\", \"are\", \"we\", \"the\", \"climbing\", \"volcano\", \"up\", \"what\"])\n",
    "print(last(\"take me to semynak\")) # expects [\"take\", \"me\", \"semynak\", \"to\"]\n",
    "print(last(\"massage yes massage yes massage\")) # expects [\"massage\", \"massage\", \"massage\", \"yes\", \"yes\"]\n",
    "print(last(\"take bintang and a dance please\")) # expects [\"a\", \"and\", \"take\", \"dance\", \"please\", \"bintang\"]"
   ]
  }
 ],
 "metadata": {
  "kernelspec": {
   "display_name": "Python 3 (ipykernel)",
   "language": "python",
   "name": "python3"
  },
  "language_info": {
   "codemirror_mode": {
    "name": "ipython",
    "version": 3
   },
   "file_extension": ".py",
   "mimetype": "text/x-python",
   "name": "python",
   "nbconvert_exporter": "python",
   "pygments_lexer": "ipython3",
   "version": "3.12.0"
  }
 },
 "nbformat": 4,
 "nbformat_minor": 5
}
