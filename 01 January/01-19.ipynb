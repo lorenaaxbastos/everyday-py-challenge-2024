{
 "cells": [
  {
   "cell_type": "markdown",
   "id": "7ba63f92-1696-45db-b642-8da987429832",
   "metadata": {},
   "source": [
    "# Santander Coders exercises from class #5\n",
    "\n",
    "Date: 01/19/2024. From: Ada Tech. Language: Portuguese."
   ]
  },
  {
   "cell_type": "markdown",
   "id": "dabd6254",
   "metadata": {},
   "source": [
    "### Exercícios"
   ]
  },
  {
   "cell_type": "markdown",
   "id": "7fc58df2",
   "metadata": {},
   "source": [
    "Faça uma programa que peça o total, n, de pares chave-valor e retorna um dicionário com os n pares digitados pelo usuário."
   ]
  },
  {
   "cell_type": "code",
   "execution_count": 8,
   "id": "6b96ab23",
   "metadata": {},
   "outputs": [
    {
     "name": "stdin",
     "output_type": "stream",
     "text": [
      "Quantos itens deseja adicionar ao dicionário? 3\n",
      "Informe a 1ª chave:  nome\n",
      "Informe o valor correspondete à 1ª chave:  Lorena\n",
      "Informe a 2ª chave:  idade\n",
      "Informe o valor correspondete à 2ª chave:  30\n",
      "Informe a 3ª chave:  profissao\n",
      "Informe o valor correspondete à 3ª chave:  cientista de dados\n"
     ]
    },
    {
     "name": "stdout",
     "output_type": "stream",
     "text": [
      "{'nome': 'Lorena', 'idade': '30', 'profissao': 'cientista de dados'}\n"
     ]
    }
   ],
   "source": [
    "n = int(input(\"Quantos itens deseja adicionar ao dicionário?\"))\n",
    "\n",
    "dicionario = {}\n",
    "\n",
    "for i in range(n):\n",
    "    chave = input(f\"Informe a {i + 1}ª chave: \")\n",
    "    valor = input(f\"Informe o valor correspondete à {i + 1}ª chave: \")\n",
    "    dicionario[chave] = valor\n",
    "\n",
    "print(dicionario)"
   ]
  },
  {
   "cell_type": "markdown",
   "id": "927d9ef7",
   "metadata": {},
   "source": [
    "Faça uma função que encontre todas as chaves que estão associadas a um determinado valor em um dicionário. A função receberá, no primeiro parâmetro, o dicionário a ser analisado, e como segundo parâmetro, o valor associado a cada chave a ser buscada (i.e., verificará se uma valor aparece em mais chaves). A função retornará uma lista com as chaves encontradas; essa lista pode ter diversos valores, apenas um ou nenhum."
   ]
  },
  {
   "cell_type": "code",
   "execution_count": 18,
   "id": "2c6ea232",
   "metadata": {},
   "outputs": [
    {
     "name": "stdout",
     "output_type": "stream",
     "text": [
      "['b', 'c', 'd']\n"
     ]
    }
   ],
   "source": [
    "def chaves_por_valor(dicionario, valor_referencia):\n",
    "    chaves = [chave for chave, valor in dicionario.items() if valor == valor_referencia]\n",
    "    return chaves\n",
    "\n",
    "vogais = {\n",
    "    'a': True,\n",
    "    'b': False,\n",
    "    'c': False,\n",
    "    'd': False,\n",
    "    'e': True\n",
    "}\n",
    "\n",
    "print(chaves_por_valor(vogais, False))"
   ]
  },
  {
   "cell_type": "markdown",
   "id": "9b925504",
   "metadata": {},
   "source": [
    "Escreva um programa que leia uma frase e calcula a frequência relativa de cada letra em uma frase, usando dicionário. Ignore caracteres brancos e pontuação."
   ]
  },
  {
   "cell_type": "code",
   "execution_count": 10,
   "id": "c1d06228",
   "metadata": {},
   "outputs": [
    {
     "name": "stdin",
     "output_type": "stream",
     "text": [
      "Digite sua frase:  Hello World! Sou Lorena, uma cientista de dados apaixonada por programação criativa!\n"
     ]
    },
    {
     "name": "stdout",
     "output_type": "stream",
     "text": [
      "{'H': 1, 'e': 4, 'l': 3, 'o': 9, 'W': 1, 'r': 6, 'd': 5, 'S': 1, 'u': 2, 'L': 1, 'n': 3, 'a': 12, 'm': 2, 'c': 2, 'i': 5, 't': 3, 's': 2, 'p': 3, 'x': 1, 'g': 1, 'v': 1}\n"
     ]
    }
   ],
   "source": [
    "import string\n",
    "\n",
    "frase = input(\"Digite sua frase: \")\n",
    "frequencia = {}\n",
    "\n",
    "for caractere in frase:\n",
    "    if caractere in string.ascii_letters:\n",
    "        frequencia[caractere] = frase.count(caractere)\n",
    "\n",
    "print(frequencia)"
   ]
  },
  {
   "cell_type": "markdown",
   "id": "e23dc665",
   "metadata": {},
   "source": [
    "Crie um dicionário vazio filmes = {}. Utilize o nome de um filme como chave. Como valor, utilize outro dicionário contendo o vilão e o ano em que o filme foi lançado. Preencha com 5 filmes digitados pelo usuário."
   ]
  },
  {
   "cell_type": "code",
   "execution_count": 12,
   "id": "4029ac0d",
   "metadata": {},
   "outputs": [
    {
     "name": "stdin",
     "output_type": "stream",
     "text": [
      "Informe o nome do filme:  Corra\n",
      "Informe o vilão do filme:  Rose Armstrong\n",
      "Informe o ano de lançamento do filme:  2017\n",
      "Informe o nome do filme:  Parasita\n",
      "Informe o vilão do filme:  Park Dong-ik\n",
      "Informe o ano de lançamento do filme:  2019\n",
      "Informe o nome do filme:  Matrix\n",
      "Informe o vilão do filme:  Mr. Smith\n",
      "Informe o ano de lançamento do filme:  1999\n",
      "Informe o nome do filme:  Fragmentado\n",
      "Informe o vilão do filme:  Kevin Wendell\n",
      "Informe o ano de lançamento do filme:  2016\n",
      "Informe o nome do filme:  Prenda-me se for capaz\n",
      "Informe o vilão do filme:  Carl Hanratty\n",
      "Informe o ano de lançamento do filme:  2002\n"
     ]
    },
    {
     "name": "stdout",
     "output_type": "stream",
     "text": [
      "{'Corra': {'ano': '2017', 'vilao': 'Rose Armstrong'},\n",
      " 'Fragmentado': {'ano': '2016', 'vilao': 'Kevin Wendell'},\n",
      " 'Matrix': {'ano': '1999', 'vilao': 'Mr. Smith'},\n",
      " 'Parasita': {'ano': '2019', 'vilao': 'Park Dong-ik'},\n",
      " 'Prenda-me se for capaz': {'ano': '2002', 'vilao': 'Carl Hanratty'}}\n"
     ]
    }
   ],
   "source": [
    "from pprint import pprint\n",
    "\n",
    "filmes = {}\n",
    "\n",
    "for _ in range(5):\n",
    "    chave = input(\"Informe o nome do filme: \")\n",
    "    valor = {}\n",
    "    valor[\"vilao\"] = input(\"Informe o vilão do filme: \")\n",
    "    valor[\"ano\"] = input(\"Informe o ano de lançamento do filme: \")\n",
    "    filmes[chave] = valor\n",
    "\n",
    "pprint(filmes)"
   ]
  },
  {
   "cell_type": "markdown",
   "id": "dcd53936",
   "metadata": {},
   "source": [
    "Faça uma função que receba duas tuplas de mesmo tamanho, uma com as chaves e outra com os valores. A função deve retornar uma string representando uma dicionário (com as chaves '{', os dois-pontos ':' e tudo mais que um dicionário tenha).​"
   ]
  },
  {
   "cell_type": "code",
   "execution_count": 14,
   "id": "4bcc42cb",
   "metadata": {},
   "outputs": [
    {
     "name": "stdout",
     "output_type": "stream",
     "text": [
      "{\"nome\": \"Lorena\", \"idade\": 30, \"profissao\": \"cientista de dados\"}\n"
     ]
    }
   ],
   "source": [
    "def representacao_dicionario(chaves, valores):\n",
    "    dicionario = \"{\"\n",
    "    for i, (chave, valor) in enumerate(zip(chaves, valores)):\n",
    "        if isinstance(chave, str):\n",
    "            dicionario += f'\"{chave}\": '\n",
    "        else:\n",
    "            dicionario += f\"{chave}: \"\n",
    "        if isinstance(valor, str):\n",
    "            if i == len(chaves) - 1:\n",
    "                dicionario += f'\"{valor}\"}}'\n",
    "            else:\n",
    "                dicionario += f'\"{valor}\", '\n",
    "        else:\n",
    "            if i == len(chaves) - 1:\n",
    "                dicionario += f'{valor}}}'\n",
    "            else:\n",
    "                dicionario += f'{valor}, '                \n",
    "    return dicionario\n",
    "\n",
    "print(representacao_dicionario((\"nome\", \"idade\", \"profissao\"), (\"Lorena\", 30, \"cientista de dados\")))"
   ]
  },
  {
   "cell_type": "markdown",
   "id": "77718e3d",
   "metadata": {},
   "source": [
    "Faça uma função que recebe um inteiro (representando a quantidade de vezes que um dado comum será jogado) e retorna um dicionário contendo os valores de 1 a 6 como chave e a quantidade vezes que aquele lado do dado apareceu no lançamento do dado. Utilize a função randint do módulo random, no intervalo de 1 a 6, para simular os valores do lançamento do dado."
   ]
  },
  {
   "cell_type": "code",
   "execution_count": 17,
   "id": "13b7aea5",
   "metadata": {},
   "outputs": [
    {
     "name": "stdout",
     "output_type": "stream",
     "text": [
      "{1: 179, 2: 166, 3: 176, 4: 165, 5: 167, 6: 147}\n"
     ]
    }
   ],
   "source": [
    "from random import randint\n",
    "\n",
    "def frequencia_lancamento_dado(n):\n",
    "    dado = dict.fromkeys([1, 2, 3, 4, 5, 6], 0)\n",
    "    for _ in range(n):\n",
    "        lado = randint(1, 6)\n",
    "        dado[lado] += 1\n",
    "    return dado\n",
    "\n",
    "print(frequencia_lancamento_dado(1000))"
   ]
  },
  {
   "cell_type": "markdown",
   "id": "01dfa9b8",
   "metadata": {},
   "source": [
    "Dado um dicionário e um número n, faça uma função (chamada 'divide_dicionario') que divida o dicionário em uma lista de dicionários, onde cada dicionário menor terá tamanho n.\n",
    "\n",
    "Exemplo de saída:\n",
    "dados = {'nome': 'carlos', 'idade': 21, 'liguagem':'python, 'empresa':'raia-drogasil', 'casado':False, 'inglês': 'intermediário}\n",
    "\n",
    "divide_dicionario(dados, 2)  →\n",
    "  [{'nome': 'carlos', 'idade': 21}, {liguagem':'python, 'empresa':'raia-drogasil'}, {'casado':False, 'inglês': 'intermediário} ]\n",
    "divide_dicionario(dados, 3)  →\n",
    "  [{'nome': 'carlos', 'idade': 21, liguagem':'python}, { 'empresa':'raia-drogasil', 'casado':False, 'inglês': 'intermediário} ]\n",
    "\n",
    "divide_dicionario(dados, 4)  →\n",
    "  [{'nome': 'carlos', 'idade': 21, liguagem':'python, 'empresa':'raia-drogasil'} ]\n",
    "\n",
    "Observe que, nesse último exemplo, só coube um único dicionário de tamanho 4."
   ]
  },
  {
   "cell_type": "code",
   "execution_count": 3,
   "id": "5c8245f1",
   "metadata": {},
   "outputs": [
    {
     "name": "stdout",
     "output_type": "stream",
     "text": [
      "[{'idade': 21, 'liguagem': 'python', 'nome': 'carlos'},\n",
      " {'casado': False, 'empresa': 'raia-drogasil', 'inglês': 'intermediário'}]\n"
     ]
    }
   ],
   "source": [
    "from pprint import pprint\n",
    "\n",
    "dados = {\n",
    "    'nome': 'carlos', \n",
    "    'idade': 21, \n",
    "    'liguagem':'python', \n",
    "    'empresa':'raia-drogasil', \n",
    "    'casado':False, \n",
    "    'inglês': 'intermediário'\n",
    "}\n",
    "\n",
    "def divide_dicionario(dicionario, n):\n",
    "    dicionarios = []\n",
    "    for _ in range(len(dicionario) // n):\n",
    "        sub_dicionario = {}\n",
    "        chaves_para_remover = []\n",
    "        for i, (chave, valor) in enumerate(dicionario.items()):\n",
    "            if i < n:\n",
    "                sub_dicionario[chave] = valor\n",
    "                chaves_para_remover.append(chave)\n",
    "            else:\n",
    "                break\n",
    "        for chave in chaves_para_remover:\n",
    "            dicionario.pop(chave)\n",
    "        dicionarios.append(sub_dicionario)\n",
    "    return dicionarios\n",
    "\n",
    "pprint(divide_dicionario(dados, 3))"
   ]
  }
 ],
 "metadata": {
  "kernelspec": {
   "display_name": "Python 3 (ipykernel)",
   "language": "python",
   "name": "python3"
  },
  "language_info": {
   "codemirror_mode": {
    "name": "ipython",
    "version": 3
   },
   "file_extension": ".py",
   "mimetype": "text/x-python",
   "name": "python",
   "nbconvert_exporter": "python",
   "pygments_lexer": "ipython3",
   "version": "3.12.0"
  }
 },
 "nbformat": 4,
 "nbformat_minor": 5
}
