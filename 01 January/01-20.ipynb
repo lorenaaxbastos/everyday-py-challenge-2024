{
 "cells": [
  {
   "cell_type": "markdown",
   "id": "403bed9b-8549-40a2-9b05-171f2cdc901d",
   "metadata": {},
   "source": [
    "# Help the fruit guy\n",
    "\n",
    "Date: 01/20/2024.\n",
    "From: Codewars. \n",
    "Link to [exercise](https://www.codewars.com/kata/557af4c6169ac832300000ba/train/python).\n",
    "\n",
    "### Description\n",
    "\n",
    "Our fruit guy has a bag of fruit (represented as an array of strings) where some fruits are rotten. He wants to replace all the rotten pieces of fruit with fresh ones. For example, given `[\"apple\",\"rottenBanana\",\"apple\"]` the replaced array should be `[\"apple\",\"banana\",\"apple\"]`. Your task is to implement a method that accepts an array of strings containing fruits should returns an array of strings where all the rotten fruits are replaced by good ones.\n",
    "\n",
    "**Notes**\n",
    "\n",
    "- If the array is null/nil/None or empty you should return empty array (`[]`).\n",
    "- The rotten fruit name will be in this camelcase (`rottenFruit`).\n",
    "- The returned array should be in lowercase."
   ]
  },
  {
   "cell_type": "markdown",
   "id": "8ad81d48-ac83-439b-a773-731c6424d55a",
   "metadata": {},
   "source": [
    "### My solution"
   ]
  },
  {
   "cell_type": "code",
   "execution_count": 1,
   "id": "d68036d5-bef5-4c01-aedb-064738f1727e",
   "metadata": {},
   "outputs": [],
   "source": [
    "def remove_rotten(bag_of_fruits):\n",
    "    replaced_with_fresh = [fruit.split(\"rotten\")[-1].lower() if fruit.startswith(\"rotten\") else fruit for fruit in bag_of_fruits]\n",
    "    return [] if bag_of_fruits is None else replaced_with_fresh"
   ]
  },
  {
   "cell_type": "markdown",
   "id": "c7b45cf3-0682-4cea-8897-43b539aea2fd",
   "metadata": {},
   "source": [
    "### Basic tests"
   ]
  },
  {
   "cell_type": "code",
   "execution_count": 2,
   "id": "3fdb2612-d4d9-472d-81df-66e31b578cc3",
   "metadata": {},
   "outputs": [
    {
     "name": "stdout",
     "output_type": "stream",
     "text": [
      "['apple', 'banana', 'apple', 'pineapple', 'kiwi']\n",
      "[]\n"
     ]
    }
   ],
   "source": [
    "print(remove_rotten([\"rottenApple\",\"rottenBanana\",\"rottenApple\",\"rottenPineapple\",\"rottenKiwi\"])) # expects [\"apple\",\"banana\",\"apple\",\"pineapple\",\"kiwi\"]\n",
    "print(remove_rotten([])) # expects []"
   ]
  }
 ],
 "metadata": {
  "kernelspec": {
   "display_name": "Python 3 (ipykernel)",
   "language": "python",
   "name": "python3"
  },
  "language_info": {
   "codemirror_mode": {
    "name": "ipython",
    "version": 3
   },
   "file_extension": ".py",
   "mimetype": "text/x-python",
   "name": "python",
   "nbconvert_exporter": "python",
   "pygments_lexer": "ipython3",
   "version": "3.12.0"
  }
 },
 "nbformat": 4,
 "nbformat_minor": 5
}
