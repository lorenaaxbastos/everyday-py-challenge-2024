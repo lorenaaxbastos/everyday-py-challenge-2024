{
 "cells": [
  {
   "cell_type": "markdown",
   "id": "7db53bf0-30d0-495c-a135-89e0d4df6595",
   "metadata": {},
   "source": [
    "# Find the integral\r\n",
    "\r\n",
    "Date: 01/11/2024.\r\n",
    "From: Codewars. \r\n",
    "Link to [kata](https://www.codewars.com/kata/59811fd8a070625d4c000013/python).\r\n",
    "\r\n",
    "### Description\r\n",
    "\r\n",
    "Create a function that finds the integral of the expression passed.\r\n",
    "\r\n",
    "In order to find the integral all you need to do is add one to the exponent (the second argument), and divide the coefficient (the first argument) by that new number.\r\n",
    "\r\n",
    "For example for 3x^2, the integral would be 1x^3: we added 1 to the exponent, and divided the coefficient by that new number).\r\n",
    "\r\n",
    "**Notes**\r\n",
    "\r\n",
    "- The output should be a string.\r\n",
    "- The coefficient and exponent is always a positive integer.\r\n",
    "\r\n",
    "**Examples**\r\n",
    "- 3, 2 retorna \"1x^3\"\r\n",
    "- 12, 5 retorna \"2x^6\"\r\n",
    "- 20, 1 retorna \"10x^2\"\r\n",
    "- 40, 3 retorna \"10x^4\"\r\n",
    "- 90, 2 retorna \"30x^3\""
   ]
  },
  {
   "cell_type": "markdown",
   "id": "7c563a55-d9d1-4f24-a3b1-ebea86bd0f04",
   "metadata": {},
   "source": [
    "### My solution"
   ]
  },
  {
   "cell_type": "code",
   "execution_count": 1,
   "id": "7d62d336-2ec4-4580-a318-65554e3021b5",
   "metadata": {},
   "outputs": [],
   "source": [
    "def integrate(coefficient, exponent):\n",
    "    integral = f\"{coefficient // (exponent + 1)}x^{exponent + 1}\"\n",
    "    return integral"
   ]
  },
  {
   "cell_type": "markdown",
   "id": "7f42728d-9493-4842-9810-f3d57d32c5c3",
   "metadata": {},
   "source": [
    "### Basic tests"
   ]
  },
  {
   "cell_type": "code",
   "execution_count": 3,
   "id": "e3977991-0faa-40f5-ad58-bc7a4e299db9",
   "metadata": {},
   "outputs": [
    {
     "name": "stdout",
     "output_type": "stream",
     "text": [
      "1x^3\n",
      "2x^6\n",
      "10x^2\n",
      "10x^4\n",
      "30x^3\n"
     ]
    }
   ],
   "source": [
    "print(integrate(3, 2)) # expect \"1x^3\"\n",
    "print(integrate(12, 5)) # expect \"2x^6\"\n",
    "print(integrate(20, 1)) # expect \"10x^2\"\n",
    "print(integrate(40, 3)) # expect \"10x^4\"\n",
    "print(integrate(90, 2)) # expect \"30x^3\""
   ]
  }
 ],
 "metadata": {
  "kernelspec": {
   "display_name": "Python 3 (ipykernel)",
   "language": "python",
   "name": "python3"
  },
  "language_info": {
   "codemirror_mode": {
    "name": "ipython",
    "version": 3
   },
   "file_extension": ".py",
   "mimetype": "text/x-python",
   "name": "python",
   "nbconvert_exporter": "python",
   "pygments_lexer": "ipython3",
   "version": "3.12.0"
  }
 },
 "nbformat": 4,
 "nbformat_minor": 5
}
