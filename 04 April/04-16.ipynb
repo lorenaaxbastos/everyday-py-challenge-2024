{
 "cells": [
  {
   "cell_type": "markdown",
   "id": "fa8edc40-55fa-4687-8160-a19f5f1f8707",
   "metadata": {},
   "source": [
    "# Find the missing term in an Arithmetic Progression\n",
    "\n",
    "Date: 04/16/2024.\n",
    "From: Codewars.\n",
    "Link to [kata](https://www.codewars.com/kata/52de553ebb55d1fca3000371/train/python).\n",
    "\n",
    "### Description\n",
    "\n",
    "An Arithmetic Progression is defined as one in which there is a constant difference between the consecutive terms of a given series of numbers. You are provided with consecutive elements of an Arithmetic Progression. There is however one hitch: exactly one term from the original series is missing from the set of numbers which have been given to you. The rest of the given series is the same as the original AP. Find the missing term.\n",
    "\n",
    "You have to write a function that receives a list, list size will always be at least 3 numbers. The missing term will never be the first or last one.\n",
    "\n",
    "**Example:**\n",
    "\n",
    "```python\n",
    "find_missing([1, 3, 5, 9, 11]) == 7\n",
    "```\n",
    "\n",
    "PS: This is a sample question of the facebook engineer challenge on interviewstreet. I found it quite fun to solve on paper using math, derive the algo that way. Have fun!\n",
    "\n",
    "### My solution"
   ]
  },
  {
   "cell_type": "code",
   "execution_count": 1,
   "id": "106ebd8c-92f7-4ef9-afca-4e6b561b4dcd",
   "metadata": {},
   "outputs": [],
   "source": [
    "def find_missing(sequence):\n",
    "    pass"
   ]
  },
  {
   "cell_type": "markdown",
   "id": "345e4599-66bc-4f06-a1c1-b781d1d1e312",
   "metadata": {},
   "source": [
    "### Basis tests"
   ]
  },
  {
   "cell_type": "code",
   "execution_count": 2,
   "id": "dfa3a275-3cba-4f9e-aac1-392a69169efb",
   "metadata": {},
   "outputs": [
    {
     "name": "stdout",
     "output_type": "stream",
     "text": [
      "None\n",
      "None\n"
     ]
    }
   ],
   "source": [
    "print(find_missing([1, 2, 3, 4, 6, 7, 8, 9])) # expects 5\n",
    "print(find_missing([1, 3, 4, 5, 6, 7, 8, 9])) # expects 2"
   ]
  }
 ],
 "metadata": {
  "kernelspec": {
   "display_name": "Python 3 (ipykernel)",
   "language": "python",
   "name": "python3"
  },
  "language_info": {
   "codemirror_mode": {
    "name": "ipython",
    "version": 3
   },
   "file_extension": ".py",
   "mimetype": "text/x-python",
   "name": "python",
   "nbconvert_exporter": "python",
   "pygments_lexer": "ipython3",
   "version": "3.12.2"
  }
 },
 "nbformat": 4,
 "nbformat_minor": 5
}
