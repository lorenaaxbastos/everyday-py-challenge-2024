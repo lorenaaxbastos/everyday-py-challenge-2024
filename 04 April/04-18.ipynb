{
 "cells": [
  {
   "cell_type": "markdown",
   "id": "54177f65-e329-4474-aa89-baad84785269",
   "metadata": {},
   "source": [
    "# PaginationHelper\n",
    "\n",
    "Date: 04/18/2024.\n",
    "From: Codewars.\n",
    "Link to [kata](https://www.codewars.com/kata/515bb423de843ea99400000a/train/python).\n",
    "\n",
    "### Description\n",
    "\n",
    "For this exercise you will be strengthening your page-fu mastery. You will complete the PaginationHelper class, which is a utility class helpful for querying paging information related to an array.\n",
    "\n",
    "The class is designed to take in an array of values and an integer indicating how many items will be allowed per each page. The types of values contained within the collection/array are not relevant.\n",
    "\n",
    "The following are some examples of how this class is used:\n",
    "\n",
    "```python\n",
    "helper = PaginationHelper(['a','b','c','d','e','f'], 4)\n",
    "helper.page_count() # should == 2\n",
    "helper.item_count() # should == 6\n",
    "helper.page_item_count(0) # should == 4\n",
    "helper.page_item_count(1) # last page - should == 2\n",
    "helper.page_item_count(2) # should == -1 since the page is invalid\n",
    "\n",
    "# page_index takes an item index and returns the page that it belongs on\n",
    "helper.page_index(5) # should == 1 (zero based index)\n",
    "helper.page_index(2) # should == 0\n",
    "helper.page_index(20) # should == -1\n",
    "helper.page_index(-10) # should == -1 because negative indexes are invalid\n",
    "```\n",
    "\n",
    "### My solution"
   ]
  },
  {
   "cell_type": "code",
   "execution_count": 37,
   "id": "19f408e3-4adc-4d07-b48d-d930bd4fbac2",
   "metadata": {},
   "outputs": [],
   "source": [
    "import math\n",
    "\n",
    "class PaginationHelper:\n",
    "\n",
    "    def __init__(self, collection, items_per_page):\n",
    "        self.collection = collection\n",
    "        self.items_per_page = items_per_page\n",
    "\n",
    "    def item_count(self):\n",
    "        return len(self.collection)\n",
    "\n",
    "    def page_count(self):\n",
    "        return math.ceil(len(self.collection) / self.items_per_page)\n",
    "\n",
    "    def page_item_count(self, page_index):\n",
    "        num_pages = self.page_count()\n",
    "        if 0 <= page_index < num_pages:\n",
    "            if page_index == num_pages - 1 and not self.items_per_page == len(self.collection) and not len(self.collection) % self.items_per_page == 0:\n",
    "                return len(self.collection) % self.items_per_page if self.items_per_page > 1 else 1\n",
    "            else:\n",
    "                return self.items_per_page\n",
    "        else:\n",
    "            return -1\n",
    "\n",
    "    def page_index(self, item_index):\n",
    "        num_pages = self.page_count()\n",
    "        if 0 <= item_index < len(self.collection):\n",
    "            return item_index // self.items_per_page\n",
    "        else:\n",
    "            return -1"
   ]
  },
  {
   "cell_type": "markdown",
   "id": "fff64d6a-f73c-4437-8594-5ba2ea8e291a",
   "metadata": {},
   "source": [
    "### Basic tests"
   ]
  },
  {
   "cell_type": "code",
   "execution_count": 38,
   "id": "1c0dab1f-5572-4247-b259-65ef354034f8",
   "metadata": {},
   "outputs": [
    {
     "name": "stdout",
     "output_type": "stream",
     "text": [
      "2\n",
      "6\n",
      "4\n",
      "2\n",
      "-1\n",
      "\n",
      "1\n",
      "0\n",
      "-1\n",
      "-1\n",
      "\n",
      "0\n",
      "0\n",
      "-1\n",
      "-1\n",
      "-1\n",
      "-1\n",
      "-1\n",
      "-1\n"
     ]
    }
   ],
   "source": [
    "collection = ['a','b','c','d','e','f']\n",
    "helper = PaginationHelper(collection, 4)\n",
    "print(helper.page_count()) # expects 2\n",
    "print(helper.item_count()) # expects 6\n",
    "print(helper.page_item_count(0)) # expects  4\n",
    "print(helper.page_item_count(1)) # expects  2\n",
    "print(helper.page_item_count(2)) # expects -1\n",
    "print()\n",
    "print(helper.page_index(  5)) # expects  1\n",
    "print(helper.page_index(  2)) # expects  0\n",
    "print(helper.page_index( 20)) # expects -1\n",
    "print(helper.page_index(-10)) # expects -1\n",
    "print()\n",
    "empty = PaginationHelper([], 10)\n",
    "print(empty.item_count()) # expects 0\n",
    "print(empty.page_count()) # expects 0\n",
    "print(empty.page_index( 0)) # expects -1\n",
    "print(empty.page_index( 1)) # expects -1\n",
    "print(empty.page_index(-1)) # expects -1\n",
    "print(empty.page_item_count(0)) # expects -1\n",
    "print(empty.page_item_count(1)) # expects -1\n",
    "print(empty.page_item_count(-1)) # expects -1"
   ]
  }
 ],
 "metadata": {
  "kernelspec": {
   "display_name": "Python 3 (ipykernel)",
   "language": "python",
   "name": "python3"
  },
  "language_info": {
   "codemirror_mode": {
    "name": "ipython",
    "version": 3
   },
   "file_extension": ".py",
   "mimetype": "text/x-python",
   "name": "python",
   "nbconvert_exporter": "python",
   "pygments_lexer": "ipython3",
   "version": "3.12.2"
  }
 },
 "nbformat": 4,
 "nbformat_minor": 5
}
