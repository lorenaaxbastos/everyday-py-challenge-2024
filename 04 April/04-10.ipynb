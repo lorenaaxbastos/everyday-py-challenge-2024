{
 "cells": [
  {
   "cell_type": "markdown",
   "id": "52f335b2-fcfc-43d2-952a-0092d92f38a9",
   "metadata": {},
   "source": [
    "# Split strings\n",
    "\n",
    "Date: 04/10/2024.\n",
    "From: Codewars.\n",
    "Link to [kata](https://www.codewars.com/kata/515de9ae9dcfc28eb6000001/train/python).\n",
    "\n",
    "### Description\n",
    "\n",
    "Complete the solution so that it splits the string into pairs of two characters. If the string contains an odd number of characters then it should replace the missing second character of the final pair with an underscore ('_').\n",
    "\n",
    "Examples:\n",
    "\n",
    "```\n",
    "* 'abc' =>  ['ab', 'c_']\n",
    "* 'abcdef' => ['ab', 'cd', 'ef']\n",
    "```\n",
    "\n",
    "### My solution"
   ]
  },
  {
   "cell_type": "code",
   "execution_count": 1,
   "id": "19a2bf44-461f-44e2-a082-55a3e175c0c2",
   "metadata": {},
   "outputs": [],
   "source": [
    "def solution(s):\n",
    "    return [s[i:i + 2] if i < len(s) - 1 else s[i] + \"_\" for i in range(0, len(s), 2)]"
   ]
  },
  {
   "cell_type": "markdown",
   "id": "40bbc93c-280d-426e-96df-2ee35cb247eb",
   "metadata": {},
   "source": [
    "### Basic tests"
   ]
  },
  {
   "cell_type": "code",
   "execution_count": 2,
   "id": "b8f3d58a-686f-4627-9066-274ff817c747",
   "metadata": {},
   "outputs": [
    {
     "name": "stdout",
     "output_type": "stream",
     "text": [
      "['as', 'df', 'ad', 'sf']\n",
      "['as', 'df', 'ad', 's_']\n",
      "[]\n",
      "['x_']\n"
     ]
    }
   ],
   "source": [
    "print(solution(\"asdfadsf\")) # print ['as', 'df', 'ad', 'sf'])\n",
    "print(solution(\"asdfads\")) # print ['as', 'df', 'ad', 's_'])\n",
    "print(solution(\"\")) # print [])\n",
    "print(solution(\"x\")) # print [\"x_\"])"
   ]
  }
 ],
 "metadata": {
  "kernelspec": {
   "display_name": "Python 3 (ipykernel)",
   "language": "python",
   "name": "python3"
  },
  "language_info": {
   "codemirror_mode": {
    "name": "ipython",
    "version": 3
   },
   "file_extension": ".py",
   "mimetype": "text/x-python",
   "name": "python",
   "nbconvert_exporter": "python",
   "pygments_lexer": "ipython3",
   "version": "3.12.1"
  }
 },
 "nbformat": 4,
 "nbformat_minor": 5
}
