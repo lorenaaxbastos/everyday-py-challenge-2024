{
 "cells": [
  {
   "cell_type": "markdown",
   "id": "f667ced6-3f10-4521-a54e-68300102f373",
   "metadata": {},
   "source": [
    "# The maximum and minimum difference -- Simple version\n",
    "\n",
    "Date: 04/30/2024.\n",
    "From: Codewars.\n",
    "Link to [kata](https://www.codewars.com/kata/583c5469977933319f000403/train/python).\n",
    "\n",
    "### Description\n",
    "\n",
    "Given two array of integers(arr1,arr2). Your task is going to find a pair of numbers(an element in arr1, and another element in arr2), their difference is as big as possible(absolute value); Again, you should to find a pair of numbers, their difference is as small as possible. Return the maximum and minimum difference values by an array: `[max difference,  min difference]`\n",
    "\n",
    "For example:\n",
    "\n",
    "Given arr1 = `[3,10,5]`, arr2 = `[20,7,15,8]`\n",
    "should return `[17,2]` because 20 - 3 = 17, 10 - 8 = 2\n",
    "\n",
    "Note:\n",
    "\n",
    "- arr1 and arr2 contains only integers(positive, negative or 0);\n",
    "- arr1 and arr2 may have different lengths, they always has at least one element;\n",
    "- All inputs are valid.\n",
    "- This is a simple version, if you want some challenges, try the challenge version.\n",
    "\n",
    "**Some Examples**\n",
    "\n",
    "```\n",
    "maxAndMin([3,10,5],[20,7,15,8]) === [17,2]\n",
    "maxAndMin([3],[20]) === [17,17]\n",
    "maxAndMin([3,10,5],[3,10,5]) === [7,0]\n",
    "maxAndMin([1,2,3,4,5],[6,7,8,9,10]) === [9,1]\n",
    "```\n",
    "\n",
    "### My solution"
   ]
  },
  {
   "cell_type": "code",
   "execution_count": 1,
   "id": "5ec113f1-6a02-4fed-8372-4ece76938574",
   "metadata": {},
   "outputs": [],
   "source": [
    "def max_and_min(arr1,arr2):\n",
    "    pass"
   ]
  },
  {
   "cell_type": "markdown",
   "id": "3a6207d2-aeab-4edd-9e40-8caafe4fb50f",
   "metadata": {},
   "source": [
    "### Basic tests"
   ]
  },
  {
   "cell_type": "code",
   "execution_count": 2,
   "id": "5906c735-4122-45a6-be2c-ad8b34a2bcb9",
   "metadata": {},
   "outputs": [
    {
     "name": "stdout",
     "output_type": "stream",
     "text": [
      "None\n",
      "None\n",
      "None\n",
      "None\n"
     ]
    }
   ],
   "source": [
    "print(max_and_min([3,10,5],[20,7,15,8])) # expects [17,2]\n",
    "print(max_and_min([3],[20])) # expects [17,17]\n",
    "print(max_and_min([3,10,5],[3,10,5])) # expects [7,0]\n",
    "print(max_and_min([1,2,3,4,5],[6,7,8,9,10])) # expects [9,1]"
   ]
  }
 ],
 "metadata": {
  "kernelspec": {
   "display_name": "Python 3 (ipykernel)",
   "language": "python",
   "name": "python3"
  },
  "language_info": {
   "codemirror_mode": {
    "name": "ipython",
    "version": 3
   },
   "file_extension": ".py",
   "mimetype": "text/x-python",
   "name": "python",
   "nbconvert_exporter": "python",
   "pygments_lexer": "ipython3",
   "version": "3.12.2"
  }
 },
 "nbformat": 4,
 "nbformat_minor": 5
}
