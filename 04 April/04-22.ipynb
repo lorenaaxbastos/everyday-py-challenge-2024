{
 "cells": [
  {
   "cell_type": "markdown",
   "id": "63cf8efb-0171-4d07-947f-9848a68d0425",
   "metadata": {},
   "source": [
    "# Most frequently used words in a text\n",
    "\n",
    "Date: 04/22/2024.\n",
    "From: Codewars.\n",
    "Link to [kata](https://www.codewars.com/kata/51e056fe544cf36c410000fb/train/python).\n",
    "\n",
    "### Description\n",
    "\n",
    "Write a function that, given a string of text (possibly with punctuation and line-breaks), returns an array of the top-3 most occurring words, in descending order of the number of occurrences.\n",
    "\n",
    "Assumptions:\n",
    "\n",
    "- A word is a string of letters (A to Z) optionally containing one or more apostrophes (') in ASCII.\n",
    "- Apostrophes can appear at the start, middle or end of a word ('abc, abc', 'abc', ab'c are all valid)\n",
    "- Any other characters (e.g. #, \\, / , . ...) are not part of a word and should be treated as whitespace.\n",
    "- Matches should be case-insensitive, and the words in the result should be lowercased.\n",
    "- Ties may be broken arbitrarily.\n",
    "- If a text contains fewer than three unique words, then either the top-2 or top-1 words should be returned, or an empty array if a text contains no words.\n",
    "\n",
    "Examples:\n",
    "\n",
    "```\n",
    "\"In a village of La Mancha, the name of which I have no desire to call to\n",
    "mind, there lived not long since one of those gentlemen that keep a lance\n",
    "in the lance-rack, an old buckler, a lean hack, and a greyhound for\n",
    "coursing. An olla of rather more beef than mutton, a salad on most\n",
    "nights, scraps on Saturdays, lentils on Fridays, and a pigeon or so extra\n",
    "on Sundays, made away with three-quarters of his income.\"\n",
    "\n",
    "--> [\"a\", \"of\", \"on\"]\n",
    "\n",
    "\"e e e e DDD ddd DdD: ddd ddd aa aA Aa, bb cc cC e e e\"\n",
    "\n",
    "--> [\"e\", \"ddd\", \"aa\"]\n",
    "\n",
    "\"  //wont won't won't\"\n",
    "\n",
    "--> [\"won't\", \"wont\"]\n",
    "```\n",
    "\n",
    "Bonus points (not really, but just for fun):\n",
    "\n",
    "- Avoid creating an array whose memory footprint is roughly as big as the input text.\n",
    "- Avoid sorting the entire array of unique words.\n",
    "\n",
    "### My solution"
   ]
  },
  {
   "cell_type": "code",
   "execution_count": 1,
   "id": "26f10514-a0e3-40dd-8609-3a0bd75e91a6",
   "metadata": {},
   "outputs": [],
   "source": [
    "def top_3_words(text):\n",
    "    pass"
   ]
  },
  {
   "cell_type": "markdown",
   "id": "745ba5a1-88db-473a-838a-48b663ee8eb8",
   "metadata": {},
   "source": [
    "### Basic tests"
   ]
  },
  {
   "cell_type": "code",
   "execution_count": 2,
   "id": "362f8474-3b03-4e30-804c-b23091b5fbbf",
   "metadata": {},
   "outputs": [
    {
     "name": "stdout",
     "output_type": "stream",
     "text": [
      "None\n",
      "None\n",
      "None\n",
      "None\n",
      "None\n",
      "None\n",
      "None\n",
      "None\n"
     ]
    }
   ],
   "source": [
    "print(top_3_words(\"a a a  b  c c  d d d d  e e e e e\")) # expects [\"e\", \"d\", \"a\"]\n",
    "print(top_3_words(\"e e e e DDD ddd DdD: ddd ddd aa aA Aa, bb cc cC e e e\")) # expects [\"e\", \"ddd\", \"aa\"]\n",
    "print(top_3_words(\"  //wont won't won't \")) # expects [\"won't\", \"wont\"]\n",
    "print(top_3_words(\"  , e   .. \")) # expects [\"e\"]\n",
    "print(top_3_words(\"  ...  \")) # expects []\n",
    "print(top_3_words(\"  '  \")) # expects []\n",
    "print(top_3_words(\"  '''  \")) # expects []\n",
    "print(top_3_words(\"\"\"In a village of La Mancha, the name of which I have no desire to call to mind, there lived not long since one of those gentlemen that keep a lance in the lance-rack, an old buckler, a lean hack, and a greyhound for coursing. An olla of rather more beef than mutton, a salad on most nights, scraps on Saturdays, lentils on Fridays, and a pigeon or so extra on Sundays, made away with three-quarters of his income.\"\"\")) # expects [\"a\", \"of\", \"on\"]"
   ]
  }
 ],
 "metadata": {
  "kernelspec": {
   "display_name": "Python 3 (ipykernel)",
   "language": "python",
   "name": "python3"
  },
  "language_info": {
   "codemirror_mode": {
    "name": "ipython",
    "version": 3
   },
   "file_extension": ".py",
   "mimetype": "text/x-python",
   "name": "python",
   "nbconvert_exporter": "python",
   "pygments_lexer": "ipython3",
   "version": "3.12.1"
  }
 },
 "nbformat": 4,
 "nbformat_minor": 5
}
