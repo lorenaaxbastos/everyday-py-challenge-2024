{
 "cells": [
  {
   "cell_type": "markdown",
   "id": "dc37b505-8b57-4e5f-8650-c742d9955060",
   "metadata": {},
   "source": [
    "# Pete, the baker\n",
    "\n",
    "Date: 04/01/2024.\n",
    "From: Codewars.\n",
    "Link to [kata](https://www.codewars.com/kata/525c65e51bf619685c000059/train/python).\n",
    "\n",
    "### Description\n",
    "\n",
    "Pete likes to bake some cakes. He has some recipes and ingredients. Unfortunately he is not good in maths. Can you help him to find out, how many cakes he could bake considering his recipes?\n",
    "\n",
    "Write a function cakes(), which takes the recipe (object) and the available ingredients (also an object) and returns the maximum number of cakes Pete can bake (integer). For simplicity there are no units for the amounts (e.g. 1 lb of flour or 200 g of sugar are simply 1 or 200). Ingredients that are not present in the objects, can be considered as 0.\n",
    "\n",
    "Examples:\n",
    "\n",
    "```python\n",
    "# must return 2\n",
    "cakes({flour: 500, sugar: 200, eggs: 1}, {flour: 1200, sugar: 1200, eggs: 5, milk: 200})\n",
    "# must return 0\n",
    "cakes({apples: 3, flour: 300, sugar: 150, milk: 100, oil: 100}, {sugar: 500, flour: 2000, milk: 2000})\n",
    "```\n",
    "\n",
    "### My solution"
   ]
  },
  {
   "cell_type": "code",
   "execution_count": 4,
   "id": "5ecbae63-c6b0-4b14-b849-8cd871287747",
   "metadata": {},
   "outputs": [],
   "source": [
    "def cakes(recipe, available):\n",
    "    pass"
   ]
  },
  {
   "cell_type": "markdown",
   "id": "d9810440-2f65-4b93-9932-848bc82f748f",
   "metadata": {},
   "source": [
    "### Basic tests"
   ]
  },
  {
   "cell_type": "code",
   "execution_count": 5,
   "id": "8cb5f21c-25e2-42e5-8f60-77244025d9ad",
   "metadata": {},
   "outputs": [
    {
     "name": "stdout",
     "output_type": "stream",
     "text": [
      "None\n",
      "None\n"
     ]
    }
   ],
   "source": [
    "recipe = {\"flour\": 500, \"sugar\": 200, \"eggs\": 1}\n",
    "available = {\"flour\": 1200, \"sugar\": 1200, \"eggs\": 5, \"milk\": 200}\n",
    "print(cakes(recipe, available)) # expects 2\n",
    "\n",
    "recipe = {\"apples\": 3, \"flour\": 300, \"sugar\": 150, \"milk\": 100, \"oil\": 100}\n",
    "available = {\"sugar\": 500, \"flour\": 2000, \"milk\": 2000}\n",
    "print(cakes(recipe, available)) # expects 0"
   ]
  }
 ],
 "metadata": {
  "kernelspec": {
   "display_name": "Python 3 (ipykernel)",
   "language": "python",
   "name": "python3"
  },
  "language_info": {
   "codemirror_mode": {
    "name": "ipython",
    "version": 3
   },
   "file_extension": ".py",
   "mimetype": "text/x-python",
   "name": "python",
   "nbconvert_exporter": "python",
   "pygments_lexer": "ipython3",
   "version": "3.12.1"
  }
 },
 "nbformat": 4,
 "nbformat_minor": 5
}
