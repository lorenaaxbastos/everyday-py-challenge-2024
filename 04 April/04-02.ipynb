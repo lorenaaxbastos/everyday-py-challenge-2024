{
 "cells": [
  {
   "cell_type": "markdown",
   "id": "a9b68cc0-f875-4414-b33f-10bb52eaa13c",
   "metadata": {},
   "source": [
    "# Common array elements\n",
    "\n",
    "Date: 04/02/2024.\n",
    "From: Codewars.\n",
    "Link to [kata](https://www.codewars.com/kata/5a6225e5d8e145b540000127/train/python).\n",
    "\n",
    "### Description\n",
    "\n",
    "Given three arrays of integers, return the sum of elements that are common in all three arrays.\n",
    "\n",
    "For example:\n",
    "\n",
    "```\n",
    "common([1,2,3],[5,3,2],[7,3,2]) = 5 because 2 & 3 are common in all 3 arrays\n",
    "common([1,2,2,3],[5,3,2,2],[7,3,2,2]) = 7 because 2,2 & 3 are common in the 3 arrays\n",
    "```\n",
    "\n",
    "More examples in the test cases.\n",
    "\n",
    "Good luck!\n",
    "\n",
    "### My solution"
   ]
  },
  {
   "cell_type": "code",
   "execution_count": 1,
   "id": "8e78c222-e2f6-4ef2-829e-8e1b3193a435",
   "metadata": {},
   "outputs": [],
   "source": [
    "def common(a, b, c):\n",
    "    pass"
   ]
  },
  {
   "cell_type": "markdown",
   "id": "1ae65638-2fc8-4048-bde6-7b6d89a85c67",
   "metadata": {},
   "source": [
    "### Basic tests"
   ]
  },
  {
   "cell_type": "code",
   "execution_count": 2,
   "id": "4b33eafd-facc-468e-b3e0-6eebef8c4398",
   "metadata": {},
   "outputs": [
    {
     "name": "stdout",
     "output_type": "stream",
     "text": [
      "None\n",
      "None\n",
      "None\n",
      "None\n"
     ]
    }
   ],
   "source": [
    "print(common([1,2,3],[5,3,2],[7,3,2])) # expects 5\n",
    "print(common([1,2,2,3],[5,3,2,2],[7,3,2,2])) # expects 7\n",
    "print(common([1],[1],[1])) # expects 1\n",
    "print(common([1],[1],[2])) # expects 0"
   ]
  }
 ],
 "metadata": {
  "kernelspec": {
   "display_name": "Python 3 (ipykernel)",
   "language": "python",
   "name": "python3"
  },
  "language_info": {
   "codemirror_mode": {
    "name": "ipython",
    "version": 3
   },
   "file_extension": ".py",
   "mimetype": "text/x-python",
   "name": "python",
   "nbconvert_exporter": "python",
   "pygments_lexer": "ipython3",
   "version": "3.12.2"
  }
 },
 "nbformat": 4,
 "nbformat_minor": 5
}
