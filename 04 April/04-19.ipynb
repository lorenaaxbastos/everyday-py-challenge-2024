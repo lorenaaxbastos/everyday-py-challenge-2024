{
 "cells": [
  {
   "cell_type": "markdown",
   "id": "34f46663-291a-4870-9869-78d6f312d1eb",
   "metadata": {},
   "source": [
    "# Fizz Buzz\n",
    "\n",
    "Date: 04/19/2024.\n",
    "From: Codewars.\n",
    "Link to [kata](https://www.codewars.com/kata/5300901726d12b80e8000498/train/python).\n",
    "\n",
    "### Description\n",
    "\n",
    "Return an array containing the numbers from 1 to N, where N is the parametered value.\n",
    "\n",
    "Replace certain values however if any of the following conditions are met:\n",
    "\n",
    "- If the value is a multiple of 3: use the value \"Fizz\" instead\n",
    "- If the value is a multiple of 5: use the value \"Buzz\" instead\n",
    "- If the value is a multiple of 3 & 5: use the value \"FizzBuzz\" instead\n",
    "\n",
    "N will never be less than 1.\n",
    "\n",
    "Method calling example:\n",
    "\n",
    "`fizzbuzz(3) -->  [1, 2, \"Fizz\"]`\n",
    "\n",
    "### My solution"
   ]
  },
  {
   "cell_type": "code",
   "execution_count": 1,
   "id": "d36110a5-23c9-4979-9a34-3e1236c26885",
   "metadata": {},
   "outputs": [],
   "source": [
    "def fizzbuzz(n):\n",
    "    pass"
   ]
  },
  {
   "cell_type": "markdown",
   "id": "ff011051-ca5a-48bf-b063-5457610c20d2",
   "metadata": {},
   "source": [
    "### Basic tests"
   ]
  },
  {
   "cell_type": "code",
   "execution_count": 2,
   "id": "b74cfdf2-6e01-43bc-addc-68a89536155d",
   "metadata": {},
   "outputs": [
    {
     "name": "stdout",
     "output_type": "stream",
     "text": [
      "None expects [1, 2, 'Fizz', 4, 'Buzz', 'Fizz', 7, 8, 'Fizz', 'Buzz'] Fails with 10 numbers!\n",
      "None expects [1, 2, 'Fizz', 4, 'Buzz', 'Fizz', 7, 8, 'Fizz', 'Buzz', 11, 'Fizz', 13, 14, 'FizzBuzz', 16, 17, 'Fizz', 19, 'Buzz', 'Fizz', 22, 23, 'Fizz', 'Buzz', 26, 'Fizz', 28, 29, 'FizzBuzz'] Fails with 30 numbers!\n",
      "None expects [1] Fails with 1 number!\n",
      "None expects [1, 2, 'Fizz', 4, 'Buzz', 'Fizz', 7, 8, 'Fizz', 'Buzz', 11, 'Fizz', 13, 14, 'FizzBuzz', 16, 17, 'Fizz', 19, 'Buzz', 'Fizz', 22, 23, 'Fizz', 'Buzz', 26, 'Fizz', 28, 29, 'FizzBuzz', 31, 32, 'Fizz', 34, 'Buzz', 'Fizz', 37, 38, 'Fizz', 'Buzz', 41, 'Fizz', 43, 44, 'FizzBuzz', 46, 47, 'Fizz', 49, 'Buzz', 'Fizz', 52, 53, 'Fizz', 'Buzz', 56, 'Fizz', 58, 59, 'FizzBuzz', 61, 62, 'Fizz', 64, 'Buzz', 'Fizz', 67, 68, 'Fizz', 'Buzz', 71, 'Fizz', 73, 74, 'FizzBuzz', 76, 77, 'Fizz', 79, 'Buzz', 'Fizz', 82, 83, 'Fizz', 'Buzz', 86, 'Fizz', 88, 89, 'FizzBuzz', 91, 92, 'Fizz', 94, 'Buzz', 'Fizz', 97, 98, 'Fizz', 'Buzz'] Fails with 100 numbers!\n"
     ]
    }
   ],
   "source": [
    "expected = [1,2,'Fizz',4,'Buzz','Fizz',7,8,'Fizz','Buzz']\n",
    "print(fizzbuzz(10), \"expects\", expected, 'Fails with 10 numbers!')\n",
    "expected = [1, 2, \"Fizz\", 4, \"Buzz\", \"Fizz\", 7, 8, \"Fizz\", \"Buzz\", 11, \"Fizz\", 13, 14, \"FizzBuzz\", 16, 17, \"Fizz\", 19, \"Buzz\", \"Fizz\", 22, 23, \"Fizz\", \"Buzz\", 26, \"Fizz\", 28, 29, \"FizzBuzz\"]\n",
    "print(fizzbuzz(30), \"expects\", expected, 'Fails with 30 numbers!')\n",
    "expected = [1]\n",
    "print(fizzbuzz(1), \"expects\", expected, 'Fails with 1 number!')\n",
    "expected = [1, 2, \"Fizz\", 4, \"Buzz\", \"Fizz\", 7, 8, \"Fizz\", \"Buzz\", 11, \"Fizz\", 13, 14, \"FizzBuzz\", 16, 17, \"Fizz\", 19, \"Buzz\", \"Fizz\", 22, 23, \"Fizz\", \"Buzz\", 26, \"Fizz\", 28, 29, \"FizzBuzz\", 31, 32, \"Fizz\", 34, \"Buzz\", \"Fizz\", 37, 38, \"Fizz\", \"Buzz\", 41, \"Fizz\", 43, 44, \"FizzBuzz\", 46, 47, \"Fizz\", 49, \"Buzz\", \"Fizz\", 52, 53, \"Fizz\", \"Buzz\", 56, \"Fizz\", 58, 59, \"FizzBuzz\", 61, 62, \"Fizz\", 64, \"Buzz\", \"Fizz\", 67, 68, \"Fizz\", \"Buzz\", 71, \"Fizz\", 73, 74, \"FizzBuzz\", 76, 77, \"Fizz\", 79, \"Buzz\", \"Fizz\", 82, 83, \"Fizz\", \"Buzz\", 86, \"Fizz\", 88, 89, \"FizzBuzz\", 91, 92, \"Fizz\", 94, \"Buzz\", \"Fizz\", 97, 98, \"Fizz\", \"Buzz\"]\n",
    "print(fizzbuzz(100), \"expects\", expected, 'Fails with 100 numbers!')"
   ]
  }
 ],
 "metadata": {
  "kernelspec": {
   "display_name": "Python 3 (ipykernel)",
   "language": "python",
   "name": "python3"
  },
  "language_info": {
   "codemirror_mode": {
    "name": "ipython",
    "version": 3
   },
   "file_extension": ".py",
   "mimetype": "text/x-python",
   "name": "python",
   "nbconvert_exporter": "python",
   "pygments_lexer": "ipython3",
   "version": "3.12.2"
  }
 },
 "nbformat": 4,
 "nbformat_minor": 5
}
