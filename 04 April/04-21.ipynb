{
 "cells": [
  {
   "cell_type": "markdown",
   "id": "edeb62b7-fb35-46d5-9c26-c892fc090c35",
   "metadata": {},
   "source": [
    "# Pyramid array\n",
    "\n",
    "Date: 04/21/2024.\n",
    "From: Codewars.\n",
    "Link to [kata](https://www.codewars.com/kata/515f51d438015969f7000013/train/python).\n",
    "\n",
    "### Description\n",
    "\n",
    "Write a function that when given a number >= 0, returns an Array of ascending length subarrays.\n",
    "\n",
    "```\n",
    "pyramid(0) => [ ]\n",
    "pyramid(1) => [ [1] ]\n",
    "pyramid(2) => [ [1], [1, 1] ]\n",
    "pyramid(3) => [ [1], [1, 1], [1, 1, 1] ]\n",
    "```\n",
    "\n",
    "*Note: the subarrays should be filled with 1s*\n",
    "\n",
    "### My solution"
   ]
  },
  {
   "cell_type": "code",
   "execution_count": 2,
   "id": "7b68cda8-77bf-47a2-8a6b-b3406ca9a8d6",
   "metadata": {},
   "outputs": [],
   "source": [
    "def pyramid(n):\n",
    "    pass"
   ]
  },
  {
   "cell_type": "markdown",
   "id": "27582dd0-9da7-4d2d-b657-6750bf09b9f4",
   "metadata": {},
   "source": [
    "### Basic tests"
   ]
  },
  {
   "cell_type": "code",
   "execution_count": 3,
   "id": "7d5e2cd4-0783-4013-b899-30cc1ddfbb9a",
   "metadata": {},
   "outputs": [
    {
     "name": "stdout",
     "output_type": "stream",
     "text": [
      "None\n",
      "None\n",
      "None\n",
      "None\n"
     ]
    }
   ],
   "source": [
    "print(pyramid(0)) # expects []\n",
    "print(pyramid(1)) # expects [[1]]\n",
    "print(pyramid(2)) # expects [[1], [1, 1]]\n",
    "print(pyramid(3)) # expects [[1], [1, 1], [1, 1, 1]]"
   ]
  }
 ],
 "metadata": {
  "kernelspec": {
   "display_name": "Python 3 (ipykernel)",
   "language": "python",
   "name": "python3"
  },
  "language_info": {
   "codemirror_mode": {
    "name": "ipython",
    "version": 3
   },
   "file_extension": ".py",
   "mimetype": "text/x-python",
   "name": "python",
   "nbconvert_exporter": "python",
   "pygments_lexer": "ipython3",
   "version": "3.12.1"
  }
 },
 "nbformat": 4,
 "nbformat_minor": 5
}
