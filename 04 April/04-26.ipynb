{
 "cells": [
  {
   "cell_type": "markdown",
   "id": "5dc07fee-e49e-47fb-950b-568b41d9ff64",
   "metadata": {},
   "source": [
    "# Simple fun #247: To and from\n",
    "\n",
    "Date: 04/25/2024.\n",
    "From: Codewars.\n",
    "Link to [kata](https://www.codewars.com/kata/590c3173cd3b99c467000a26/train/python).\n",
    "\n",
    "### Description\n",
    "\n",
    "A person is moving along a straight line. Initially he is at point A. He goes to point B from A with speed equal to 1 meter per second. Immediately after reaching B he turns around and heads to A from B with the same speed. After reaching point A he turns around once again and heads to B. etc.\n",
    "\n",
    "We need an algorithm that identifies the location of the person at any given moment in time(argument t).\n",
    "\n",
    "It's guaranteed that A and B are two different points.\n",
    "\n",
    "**Input/Output**\n",
    "\n",
    "`[input] integer a`\n",
    "\n",
    "Coordinate of point A (in meters).\n",
    "\n",
    "1 ≤ a ≤ 10^9.\n",
    "\n",
    "`[input] integer b`\n",
    "\n",
    "Coordinate of point B (in meters).\n",
    "\n",
    "1 ≤ b ≤ 10^9,\n",
    "\n",
    "b ≠ a.\n",
    "\n",
    "`[input] integer t`\n",
    "\n",
    "A positive integer representing time (in seconds).\n",
    "\n",
    "3 ≤ t ≤ 10^9.\n",
    "\n",
    "`[output] an integer`\n",
    "\n",
    "Coordinate of the person t seconds after he left A.\n",
    "\n",
    "**Example**\n",
    "\n",
    "For a = 2, b = 4 and t = 3, the output should be 3.\n",
    "\n",
    "```\n",
    "t-->From A to B  0  1  2\n",
    "                    3     <--B back to A\n",
    "                 A  |  B\n",
    "  line --> .--.--.--.--.--.--.--.--.\n",
    "           0  1  2  3  4  5  6  7  8\n",
    "```\n",
    "           \n",
    "For a = 1, b = 10 and t = 8, the output should be 9.\n",
    "\n",
    "```\n",
    "t-->From A to B   0  1  2  3  4  5  6  7  8\n",
    "                  A                       |  B\n",
    "      line --> .--.--.--.--.--.--.--.--.--.--.--.\n",
    "               0  1  2  3  4  5  6  7  8  9 10 11\n",
    "```\n",
    "\n",
    "### My solution"
   ]
  },
  {
   "cell_type": "code",
   "execution_count": 1,
   "id": "c2cc886e-21db-4ad6-a802-4cd862a3256c",
   "metadata": {},
   "outputs": [],
   "source": [
    "def to_and_from(a, b, t):\n",
    "    pass"
   ]
  },
  {
   "cell_type": "markdown",
   "id": "ee76dad0-f581-4d9d-b540-b180058cbc68",
   "metadata": {},
   "source": [
    "### Basic tests"
   ]
  },
  {
   "cell_type": "code",
   "execution_count": 2,
   "id": "5d9433cc-3082-42e5-a1f1-cd44ba3a47e6",
   "metadata": {},
   "outputs": [
    {
     "name": "stdout",
     "output_type": "stream",
     "text": [
      "None\n",
      "None\n",
      "None\n",
      "None\n",
      "None\n"
     ]
    }
   ],
   "source": [
    "print(to_and_from(2, 4, 3)) # expects 3\n",
    "print(to_and_from(1, 10, 8)) # expects 9\n",
    "print(to_and_from(10, 4, 8)) # expects 6\n",
    "print(to_and_from(2, 4, 5)) # expects 3\n",
    "print(to_and_from(42, 150, 548)) # expects 142"
   ]
  }
 ],
 "metadata": {
  "kernelspec": {
   "display_name": "Python 3 (ipykernel)",
   "language": "python",
   "name": "python3"
  },
  "language_info": {
   "codemirror_mode": {
    "name": "ipython",
    "version": 3
   },
   "file_extension": ".py",
   "mimetype": "text/x-python",
   "name": "python",
   "nbconvert_exporter": "python",
   "pygments_lexer": "ipython3",
   "version": "3.12.2"
  }
 },
 "nbformat": 4,
 "nbformat_minor": 5
}
