{
 "cells": [
  {
   "cell_type": "markdown",
   "id": "6dc39ee4-6f73-4039-b16f-571f9343c349",
   "metadata": {},
   "source": [
    "# Number shortening filter\n",
    "\n",
    "Date: 04/28/2024.\n",
    "From: Codewars.\n",
    "Link to [kata](https://www.codewars.com/kata/56b4af8ac6167012ec00006f/train/python).\n",
    "\n",
    "### Description\n",
    "\n",
    "Here is a new kata that Codewars asked me to do related to interviewing and working in a production setting.\n",
    "\n",
    "You might be familar with and have used Angular.js. Among other things, it lets you create your own filters that work as functions. You can then put these in a page to perform specific data changes, such as shortening a number to display a more concise notation.\n",
    "\n",
    "In this kata, we will create a function which returns another function (or process, in Ruby) that shortens very long numbers. Given an initial array of values replace the Xth power of a given base. If the input of the returned function is not a numerical string, it should return the input itself as a string.\n",
    "\n",
    "Here's an example, which is worth a thousand words:\n",
    "\n",
    "```\n",
    "filter1 = shorten_number(['','k','m'],1000)\n",
    "filter1('234324') == '234k'\n",
    "filter1('98234324') == '98m'\n",
    "filter1([1,2,3]) == '[1,2,3]'\n",
    "filter2 = shorten_number(['B','KB','MB','GB'],1024)\n",
    "filter2('32') == '32B'\n",
    "filter2('2100') == '2KB';\n",
    "filter2('pippi') == 'pippi'\n",
    "```\n",
    "\n",
    "If you like to test yourself on kata related to actual work and interviews, consider trying this kata where you will build a breadcrumb generator\n",
    "\n",
    "\n",
    "### My solution"
   ]
  },
  {
   "cell_type": "code",
   "execution_count": 21,
   "id": "99079de5-2655-4299-880c-777e0b982678",
   "metadata": {},
   "outputs": [],
   "source": [
    "def shorten_number(suffixes, base):\n",
    "    def result(number):\n",
    "        i = 0\n",
    "        try:\n",
    "            number = int(number)\n",
    "            while number >= base and i < len(suffixes) - 1:\n",
    "                number //= base\n",
    "                i += 1\n",
    "        except:\n",
    "            pass\n",
    "        return f\"{number}{suffixes[i]}\"\n",
    "    return result"
   ]
  },
  {
   "cell_type": "markdown",
   "id": "c37f398d-4710-4194-9e80-adb07bc69c0b",
   "metadata": {},
   "source": [
    "### Basic Tests"
   ]
  },
  {
   "cell_type": "code",
   "execution_count": 22,
   "id": "533cb425-e9aa-4d2b-b370-58f6f840dceb",
   "metadata": {},
   "outputs": [
    {
     "name": "stdout",
     "output_type": "stream",
     "text": [
      "234k\n",
      "98m\n",
      "[1, 2, 3]\n",
      "\n",
      "32424m\n",
      "32\n",
      "2KB\n",
      "pippi\n",
      "2100k\n",
      "1023MB\n"
     ]
    }
   ],
   "source": [
    "filter1 = shorten_number(['','k','m'],1000)\n",
    "print(filter1('234324')) # expects '234k'\n",
    "print(filter1('98234324')) # expects '98m'\n",
    "print(filter1([1,2,3])) # expects '[1, 2, 3]'\n",
    "print(filter1('')) # expects ''\n",
    "print(filter1('32424234223')) # expects '32424m'\n",
    "\n",
    "filter2 = shorten_number(['','KB','MB','GB'],1024)\n",
    "print(filter2('32')) # expects '32'\n",
    "print(filter2('2100')) # expects '2KB'\n",
    "print(filter2('pippi')) # expects 'pippi'\n",
    "print(filter2('2100k')) # expects '2100k'\n",
    "print(filter2('1073741823')) # expects '1023MB'"
   ]
  }
 ],
 "metadata": {
  "kernelspec": {
   "display_name": "Python 3 (ipykernel)",
   "language": "python",
   "name": "python3"
  },
  "language_info": {
   "codemirror_mode": {
    "name": "ipython",
    "version": 3
   },
   "file_extension": ".py",
   "mimetype": "text/x-python",
   "name": "python",
   "nbconvert_exporter": "python",
   "pygments_lexer": "ipython3",
   "version": "3.12.1"
  }
 },
 "nbformat": 4,
 "nbformat_minor": 5
}
