{
 "cells": [
  {
   "cell_type": "markdown",
   "id": "c50b9e2d-1aba-4f52-9974-21663a58189b",
   "metadata": {},
   "source": [
    "# Compare versions\n",
    "\n",
    "Date: 04/20/2024.\n",
    "From: Codewars.\n",
    "Link to [kata](https://www.codewars.com/kata/53b138b3b987275b46000115/train/python).\n",
    "\n",
    "### Description\n",
    "\n",
    "Karan's company makes software that provides different features based on the version of operating system of the user.\n",
    "\n",
    "To compare versions, Karan currently parses both version numbers as floats.\n",
    "\n",
    "While this worked for OS versions 10.6, 10.7, 10.8 and 10.9, the operating system company just released OS version 10.10. This causes his method to fail, as 10.9 is greater than 10.10 when interpreting both as numbers, despite being a lesser version.\n",
    "\n",
    "Help Karan by writing him a function which compares two versions, and returns whether or not the first one is greater than or equal to the second.\n",
    "\n",
    "**Specification notes:**\n",
    "\n",
    "- Versions are provided as strings of one or more integers separated by ..\n",
    "- The version strings will never be empty.\n",
    "- The two versions are not guaranteed to have an equal amount of sub-versions, when this happens assume that all missing sub-versions are zero.\n",
    "- Two versions which differ only by trailing zero sub-versions will never be given.\n",
    "\n",
    "### My solution"
   ]
  },
  {
   "cell_type": "code",
   "execution_count": 42,
   "id": "4882748c-649f-47f3-bdd6-4c4a19d3b5a8",
   "metadata": {},
   "outputs": [],
   "source": [
    "def compare_versions(version1,version2):\n",
    "    version1 = list(map(lambda x: int(x), version1.split(\".\")))\n",
    "    version2 = list(map(lambda x: int(x), version2.split(\".\")))\n",
    "\n",
    "    while len(version1) > len(version2):\n",
    "        version2.append(0)\n",
    "    while len(version2) > len(version1):\n",
    "        version1.append(0)\n",
    "        \n",
    "    for i in range(len(version1)):\n",
    "        if version1[i] > version2[i]:\n",
    "            return True\n",
    "        elif version1[i] == version2[i]:\n",
    "            if i < len(version1) - 1:\n",
    "                continue\n",
    "            else:\n",
    "                return True\n",
    "        else:\n",
    "            return False"
   ]
  },
  {
   "cell_type": "markdown",
   "id": "437258a5-e021-4ef0-90df-2a1c550b222b",
   "metadata": {},
   "source": [
    "### Basic tests"
   ]
  },
  {
   "cell_type": "code",
   "execution_count": 43,
   "id": "495c0488-f5c0-4665-a0b5-802b2a86362b",
   "metadata": {},
   "outputs": [
    {
     "name": "stdout",
     "output_type": "stream",
     "text": [
      "True\n",
      "True\n",
      "True\n",
      "False\n",
      "False\n",
      "False\n",
      "False\n"
     ]
    }
   ],
   "source": [
    "print(compare_versions(\"11\", \"10\")) # expects True\n",
    "print(compare_versions(\"11\", \"11\")) # expects True\n",
    "print(compare_versions(\"10.4.6\", \"10.4\")) # expects True\n",
    "print(compare_versions(\"10.4\", \"10.4.8\")) # expects False\n",
    "print(compare_versions(\"10.4\", \"11\")) # expects False\n",
    "print(compare_versions(\"10.4\", \"10.10\")) # expects False\n",
    "print(compare_versions(\"10.4.9\", \"10.5\")) # expects False"
   ]
  }
 ],
 "metadata": {
  "kernelspec": {
   "display_name": "Python 3 (ipykernel)",
   "language": "python",
   "name": "python3"
  },
  "language_info": {
   "codemirror_mode": {
    "name": "ipython",
    "version": 3
   },
   "file_extension": ".py",
   "mimetype": "text/x-python",
   "name": "python",
   "nbconvert_exporter": "python",
   "pygments_lexer": "ipython3",
   "version": "3.12.1"
  }
 },
 "nbformat": 4,
 "nbformat_minor": 5
}
