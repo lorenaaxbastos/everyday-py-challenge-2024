{
 "cells": [
  {
   "cell_type": "markdown",
   "id": "c101d030-1bdd-4139-9ef2-a3bad65cbe65",
   "metadata": {},
   "source": [
    "# Are the numbers in order?\n",
    "\n",
    "Date: 04/09/2024.\n",
    "From: Codewars.\n",
    "Link to [kata](https://www.codewars.com/kata/56b7f2f3f18876033f000307/train/python).\n",
    "\n",
    "### Description\n",
    "\n",
    "In this Kata, your function receives an array of integers as input. Your task is to determine whether the numbers are in ascending order. An array is said to be in ascending order if there are no two adjacent integers where the left integer exceeds the right integer in value.\n",
    "\n",
    "For the purposes of this Kata, you may assume that all inputs are valid, i.e. arrays containing only integers.\n",
    "\n",
    "Note that an array of 0 or 1 integer(s) is automatically considered to be sorted in ascending order since all (zero) adjacent pairs of integers satisfy the condition that the left integer does not exceed the right integer in value.\n",
    "\n",
    "For example:\n",
    "\n",
    "```python\n",
    "in_asc_order([1,2,4,7,19]) # returns True\n",
    "in_asc_order([1,2,3,4,5]) # returns True\n",
    "in_asc_order([1,6,10,18,2,4,20]) # returns False\n",
    "in_asc_order([9,8,7,6,5,4,3,2,1]) # returns False because the numbers are in DESCENDING order\n",
    "```\n",
    "\n",
    "N.B. If your solution passes all fixed tests but fails at the random tests, make sure you aren't mutating the input array.\n",
    "\n",
    "### My solution"
   ]
  },
  {
   "cell_type": "code",
   "execution_count": 2,
   "id": "292a1f11-1db4-48fa-b3e2-8c8617b0341c",
   "metadata": {},
   "outputs": [],
   "source": [
    "def in_asc_order(arr):\n",
    "    pass"
   ]
  },
  {
   "cell_type": "markdown",
   "id": "f378e781-79ec-4232-9b18-0f6fcbc5034f",
   "metadata": {},
   "source": [
    "### Basic tests"
   ]
  },
  {
   "cell_type": "code",
   "execution_count": 4,
   "id": "fcce3c4d-65cd-4575-88f2-4cedcc8cb7b6",
   "metadata": {},
   "outputs": [
    {
     "name": "stdout",
     "output_type": "stream",
     "text": [
      "None\n",
      "None\n",
      "None\n",
      "None\n",
      "None\n",
      "None\n"
     ]
    }
   ],
   "source": [
    "# Array of 2 integers\n",
    "arr = [1, 2]\n",
    "print(in_asc_order(arr)) # expects True\n",
    "\n",
    "arr = [2, 1]\n",
    "print(in_asc_order(arr)) # expects False\n",
    "\n",
    "# Array of 3 integers\n",
    "arr = [1, 2, 3]\n",
    "print(in_asc_order(arr)) # expects True\n",
    "\n",
    "arr = [1, 3, 2]\n",
    "print(in_asc_order(arr)) # expects False\n",
    "\n",
    "# More complex cases\n",
    "arr = [1,4,13,97,508,1047,20058]\n",
    "print(in_asc_order(arr)) # expects True\n",
    "\n",
    "arr = [56,98,123,67,742,1024,32,90969]\n",
    "print(in_asc_order(arr)) # expects False"
   ]
  }
 ],
 "metadata": {
  "kernelspec": {
   "display_name": "Python 3 (ipykernel)",
   "language": "python",
   "name": "python3"
  },
  "language_info": {
   "codemirror_mode": {
    "name": "ipython",
    "version": 3
   },
   "file_extension": ".py",
   "mimetype": "text/x-python",
   "name": "python",
   "nbconvert_exporter": "python",
   "pygments_lexer": "ipython3",
   "version": "3.12.1"
  }
 },
 "nbformat": 4,
 "nbformat_minor": 5
}
