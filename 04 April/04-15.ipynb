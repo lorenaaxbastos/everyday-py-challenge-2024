{
 "cells": [
  {
   "cell_type": "markdown",
   "id": "d4f60ca6-df30-4e94-b871-8a8078191d6b",
   "metadata": {},
   "source": [
    "# Message validator\n",
    "\n",
    "Date: 04/15/2024.\n",
    "From: Codewars.\n",
    "Link to [kata](https://www.codewars.com/kata/5fc7d2d2682ff3000e1a3fbc/train/python).\n",
    "\n",
    "### Description\n",
    "\n",
    "In this kata, you have an input string and you should check whether it is a valid message. To decide that, you need to split the string by the numbers, and then compare the numbers with the number of characters in the following substring.\n",
    "\n",
    "For example \"3hey5hello2hi\" should be split into 3, hey, 5, hello, 2, hi and the function should return true, because \"hey\" is 3 characters, \"hello\" is 5, and \"hi\" is 2; as the numbers and the character counts match, the result is true.\n",
    "\n",
    "Notes:\n",
    "\n",
    "- Messages are composed of only letters and digits\n",
    "- Numbers may have multiple digits: e.g. \"4code13hellocodewars\" is a valid message\n",
    "- Every number must match the number of character in the following substring, otherwise the message is invalid: e.g. \"hello5\" and \"2hi2\" are invalid\n",
    "- If the message is an empty string, you should return true\n",
    "\n",
    "### My solution"
   ]
  },
  {
   "cell_type": "code",
   "execution_count": 1,
   "id": "7ec71a11-bd50-4543-bb92-89b4be651a2f",
   "metadata": {},
   "outputs": [],
   "source": [
    "def is_a_valid_message(message):\n",
    "    pass"
   ]
  },
  {
   "cell_type": "markdown",
   "id": "797e67e7-4981-4843-ad6d-9991c9975ebc",
   "metadata": {},
   "source": [
    "### Basic tests"
   ]
  },
  {
   "cell_type": "code",
   "execution_count": 2,
   "id": "b64c579e-fdd7-4201-9155-e5514abdd5c9",
   "metadata": {},
   "outputs": [
    {
     "name": "stdout",
     "output_type": "stream",
     "text": [
      "None\n",
      "None\n",
      "None\n",
      "None\n",
      "None\n",
      "None\n"
     ]
    }
   ],
   "source": [
    "print(is_a_valid_message(\"3hey5hello2hi\")) # expects True\n",
    "print(is_a_valid_message(\"4code13hellocodewars\")) # expects True\n",
    "print(is_a_valid_message(\"3hey5hello2hi5\")) # expects False\n",
    "print(is_a_valid_message(\"code4hello5\")) # expects False\n",
    "print(is_a_valid_message(\"1a2bb3ccc4dddd5eeeee\")) # expects True\n",
    "print(is_a_valid_message(\"\")) # expects True"
   ]
  }
 ],
 "metadata": {
  "kernelspec": {
   "display_name": "Python 3 (ipykernel)",
   "language": "python",
   "name": "python3"
  },
  "language_info": {
   "codemirror_mode": {
    "name": "ipython",
    "version": 3
   },
   "file_extension": ".py",
   "mimetype": "text/x-python",
   "name": "python",
   "nbconvert_exporter": "python",
   "pygments_lexer": "ipython3",
   "version": "3.12.1"
  }
 },
 "nbformat": 4,
 "nbformat_minor": 5
}
