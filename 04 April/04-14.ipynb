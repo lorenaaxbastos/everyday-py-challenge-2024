{
 "cells": [
  {
   "cell_type": "markdown",
   "id": "001d68e5-8577-4760-bc9a-e24fbe36130d",
   "metadata": {},
   "source": [
    "# Matrix trace\n",
    "\n",
    "Date: 04/14/2024.\n",
    "From: Codewars.\n",
    "Link to [kata](https://www.codewars.com/kata/55208f16ecb433c5c90001d2/train/python).\n",
    "\n",
    "### Description\n",
    "\n",
    "Calculate the trace of a square matrix. A square matrix has n rows and n columns, where n is any integer > 0. The entries of the matrix can contain any number of integers. The function should return the calculated trace of the matrix, or nil/None if the array is empty or not square; you can otherwise assume the input will be valid (of the form described below).\n",
    "\n",
    "The trace of an n-by-n square matrix A is defined to be the sum of the elements on the main diagonal (the diagonal from the upper left to the lower right) of A.\n",
    "\n",
    "A matrix will be defined as an array of arrays, where the 1st entry represents the 1st row, the 2nd entry the 2nd row, and so on.\n",
    "\n",
    "For example, the following code...\n",
    "\n",
    "```\n",
    "[[1, 2, 3], [4, 5, 6], [7, 8, 9]]\n",
    "```\n",
    "\n",
    "represents the matrix\n",
    "\n",
    "```\n",
    "|1 2 3|\n",
    "|4 5 6|\n",
    "|7 8 9|\n",
    "```\n",
    "\n",
    "which has a trace of 1 + 5 + 9 = 15.\n",
    "\n",
    "You can read more about the trace of a matrix at these sources:\n",
    "\n",
    "- http://en.wikipedia.org/wiki/Trace_(linear_algebra)\n",
    "- http://mathworld.wolfram.com/MatrixTrace.html\n",
    "\n",
    "Note: Numpy is disabled.\n",
    "\n",
    "### My solution"
   ]
  },
  {
   "cell_type": "code",
   "execution_count": 3,
   "id": "e7a818c1-1d52-45d4-b1af-3e8c8071be2f",
   "metadata": {},
   "outputs": [],
   "source": [
    "def trace(matrix):\n",
    "    if matrix == [] or len(matrix) != len(matrix[0]):\n",
    "        return None\n",
    "    return sum(matrix[i][i] for i in range(len(matrix)))"
   ]
  },
  {
   "cell_type": "markdown",
   "id": "38a69586-2a76-4e4f-968f-33db494c5b9d",
   "metadata": {},
   "source": [
    "### Basic tests"
   ]
  },
  {
   "cell_type": "code",
   "execution_count": 4,
   "id": "49ecde4f-bc36-40ea-be2c-a6b64a077688",
   "metadata": {},
   "outputs": [
    {
     "name": "stdout",
     "output_type": "stream",
     "text": [
      "15\n",
      "0\n",
      "1\n",
      "None\n",
      "None\n"
     ]
    }
   ],
   "source": [
    "print(trace([[1,2,3], [4,5,6], [7,8,9]])) # expects 15\n",
    "print(trace([[0,0], [0,0]])) # expects 0\n",
    "print(trace([[1]])) # expects 1\n",
    "print(trace([])) # expects None\n",
    "print(trace([[1,2,3], [4,5,6]])) # expects None"
   ]
  }
 ],
 "metadata": {
  "kernelspec": {
   "display_name": "Python 3 (ipykernel)",
   "language": "python",
   "name": "python3"
  },
  "language_info": {
   "codemirror_mode": {
    "name": "ipython",
    "version": 3
   },
   "file_extension": ".py",
   "mimetype": "text/x-python",
   "name": "python",
   "nbconvert_exporter": "python",
   "pygments_lexer": "ipython3",
   "version": "3.12.1"
  }
 },
 "nbformat": 4,
 "nbformat_minor": 5
}
