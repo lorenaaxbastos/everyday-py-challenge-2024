{
 "cells": [
  {
   "cell_type": "markdown",
   "id": "45ea3c23-33d4-45b8-abdc-69df8d9f961c",
   "metadata": {},
   "source": [
    "# DNA sequence tester\n",
    "\n",
    "Date: 04/25/2024.\n",
    "From: Codewars.\n",
    "Link to [kata](https://www.codewars.com/kata/56fbb2b8fca8b97e4d000a31/train/python).\n",
    "\n",
    "### Description\n",
    "\n",
    "DNA is a biomolecule that carries genetic information. It is composed of four different building blocks, called nucleotides: adenine (A), thymine (T), cytosine (C) and guanine (G). Two DNA strands join to form a double helix, whereby the nucleotides of one strand bond to the nucleotides of the other strand at the corresponding positions. The bonding is only possible if the nucleotides are complementary: A always pairs with T, and C always pairs with G.\n",
    "\n",
    "Due to the asymmetry of the DNA, every DNA strand has a direction associated with it. The two strands of the double helix run in opposite directions to each other, which we refer to as the 'up-down' and the 'down-up' directions.\n",
    "\n",
    "Write a function checkDNA that takes in two DNA sequences as strings, and checks if they are fit to form a fully complementary DNA double helix. The function should return a Boolean true if they are complementary, and false if there is a sequence mismatch (Example 1 below).\n",
    "\n",
    "**Note:**\n",
    "\n",
    "- All sequences will be of non-zero length, and consisting only of A, T, C and G characters.\n",
    "- All sequences will be given in the up-down direction.\n",
    "- The two sequences to be compared can be of different length. If this is the case and one strand is entirely bonded by the other, and there is no sequence mismatch between the two (Example 2 below), your function should still return true.\n",
    "- If both strands are only partially bonded (Example 3 below), the function should return false.\n",
    "\n",
    "Example 1:\n",
    "\n",
    "```\n",
    "seq1 = 'GTCTTAGTGTAGCTATGCATGC';  // NB up-down\n",
    "seq2 = 'GCATGCATAGCTACACTACGAC';  // NB up-down\n",
    "\n",
    "checkDNA (seq1, seq2);\n",
    "// --> false\n",
    "\n",
    "// Because there is a sequence mismatch at position 4:\n",
    "// (seq1)    up-GTCTTAGTGTAGCTATGCATGC-down\n",
    "//              ||| ||||||||||||||||||\n",
    "// (seq2)  down-CAGCATCACATCGATACGTACG-up\n",
    "```\n",
    "\n",
    "Example 2:\n",
    "\n",
    "```\n",
    "seq1 = 'GCGCTGCTAGCTGATCGA';             // NB up-down\n",
    "seq2 = 'ACGTACGATCGATCAGCTAGCAGCGCTAC';  // NB up-down\n",
    "\n",
    "checkDNA (seq1, seq2);\n",
    "// --> true\n",
    "\n",
    "// Because one strand is entirely bonded by the other:\n",
    "// (seq1)       up-GCGCTGCTAGCTGATCGA-down\n",
    "//                 ||||||||||||||||||\n",
    "// (seq2)  down-CATCGCGACGATCGACTAGCTAGCATGCA-up\n",
    "```\n",
    "\n",
    "Example 3:\n",
    "\n",
    "```\n",
    "seq1 = 'CGATACGAACCCATAATCG';  // NB up-down\n",
    "seq2 = 'CTACACCGGCCGATTATGG';  // NB up-down\n",
    "\n",
    "checkDNA (seq1, seq2);\n",
    "// --> false\n",
    "\n",
    "// Because both strands are only partially bonded:\n",
    "// (seq1)  up-CGATACGAACCCATAATCG-down\n",
    "//                      |||||||||\n",
    "// (seq2)          down-GGTATTAGCCGGCCACATC-up\n",
    "```\n",
    "\n",
    "### My solution"
   ]
  },
  {
   "cell_type": "code",
   "execution_count": 3,
   "id": "908567e9-68ca-4b75-bb81-1f9db2d13268",
   "metadata": {},
   "outputs": [],
   "source": [
    "def check_DNA(seq1, seq2):\n",
    "    complementary_nucleotides = {\n",
    "        \"A\": \"T\",\n",
    "        \"T\": \"A\",\n",
    "        \"C\": \"G\",\n",
    "        \"G\": \"C\"\n",
    "    }\n",
    "    \n",
    "    complementary_sq1 = \"\".join(complementary_nucleotides[char] for char in seq1)\n",
    "    complementary_sq2 = \"\".join(complementary_nucleotides[char] for char in seq2)\n",
    "    \n",
    "    return complementary_sq1 in seq2[::-1] or complementary_sq2 in seq1[::-1]"
   ]
  },
  {
   "cell_type": "markdown",
   "id": "1876e6f9-bd56-4fa1-a096-5ef0cbe12c99",
   "metadata": {},
   "source": [
    "### Basic tests"
   ]
  },
  {
   "cell_type": "code",
   "execution_count": 4,
   "id": "c3b0c7fd-0d2e-413a-a1a8-7fd539a37af7",
   "metadata": {},
   "outputs": [
    {
     "name": "stdout",
     "output_type": "stream",
     "text": [
      "False\n",
      "True\n",
      "True\n",
      "True\n",
      "False\n",
      "False\n"
     ]
    }
   ],
   "source": [
    "print(check_DNA('GTCTTAGTGTAGCTATGCATGC', 'GCATGCATAGCTACACTACGAC')) # expects False\n",
    "print(check_DNA('ATGCTACG', 'CGTAGCAT')) # expects True\n",
    "print(check_DNA('AGTCTGTATGCATCGTACCC', 'GGGTACGATGCATACAGACT')) # expects True\n",
    "print(check_DNA('TGCTACGTACGATCGACGATCCACGAC', 'GTCGTGGATCGTCGATCGTACGTAGCA')) # expects True\n",
    "print(check_DNA('ATGCCTACGGCCATATATATTTAG', 'CTAAATATGTATGGCCGTAGGCAT')) # expects False\n",
    "print(check_DNA('GTCACCGA', 'TCGGCTGAC')) # expects False"
   ]
  }
 ],
 "metadata": {
  "kernelspec": {
   "display_name": "Python 3 (ipykernel)",
   "language": "python",
   "name": "python3"
  },
  "language_info": {
   "codemirror_mode": {
    "name": "ipython",
    "version": 3
   },
   "file_extension": ".py",
   "mimetype": "text/x-python",
   "name": "python",
   "nbconvert_exporter": "python",
   "pygments_lexer": "ipython3",
   "version": "3.12.1"
  }
 },
 "nbformat": 4,
 "nbformat_minor": 5
}
