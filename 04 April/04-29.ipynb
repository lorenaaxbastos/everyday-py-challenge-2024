{
 "cells": [
  {
   "cell_type": "markdown",
   "id": "f7bdc64b-ac01-4f36-9c4a-b26f17602807",
   "metadata": {},
   "source": [
    "# Unwanted dollars\n",
    "\n",
    "Date: 04/29/2024.\n",
    "From: Codewars.\n",
    "Link to [kata](https://www.codewars.com/kata/587309155cfd6b9fb60000a0/train/python).\n",
    "\n",
    "### Description\n",
    "\n",
    "If you're faced with an input box, like this:\n",
    "\n",
    "```\n",
    "                                           +--------------+\n",
    "  Enter the price of the item, in dollars: |              |\n",
    "                                           +--------------+\n",
    "```\n",
    "\n",
    "do you put the `$` sign in, or not? Inevitably, some people will type a `$` sign and others will leave it out. The instructions could be made clearer - but that won't help those annoying people who never read instructions anyway.\n",
    "\n",
    "A better solution is to write code that can handle the input whether it includes a `$` sign or not.\n",
    "\n",
    "So, we need a simple function that converts a string representing a number (possibly with a `$` sign in front of it) into the number itself.\n",
    "\n",
    "Remember to consider negative numbers (the - sign may come either before or after the `$` sign, if there is one), and any extraneous space characters (leading, trailing, or around the `$` sign) that the users might put in. You do not need to handle input with trailing characters other than spaces (e.g. \"1.2 3\" or \"1`$`\"). If the given string does not represent a number, (either with or without a `$` sign), return 0.0 .\n",
    "\n",
    "### My solution"
   ]
  },
  {
   "cell_type": "code",
   "execution_count": 1,
   "id": "bc32b69f-c1ea-4f73-97cb-aab74d9fe88d",
   "metadata": {},
   "outputs": [],
   "source": [
    "def money_value(s):\n",
    "    pass"
   ]
  },
  {
   "cell_type": "code",
   "execution_count": 2,
   "id": "ca606a1c-44e1-4cbd-92ed-ee2dc81e6f60",
   "metadata": {},
   "outputs": [
    {
     "name": "stdout",
     "output_type": "stream",
     "text": [
      "None\n",
      "None\n",
      "None\n",
      "None\n",
      "None\n",
      "None\n",
      "None\n",
      "None\n",
      "None\n",
      "None\n",
      "None\n"
     ]
    }
   ],
   "source": [
    "print(money_value(\"12.34\")) # expects 12.34\n",
    "print(money_value(\" $5.67\")) # expects 5.67\n",
    "print(money_value(\"-0.89\")) # expects -0.89\n",
    "print(money_value(\"-$ 0.1\")) # expects -0.10\n",
    "print(money_value(\"$-2.3456\")) # expects -2.3456\n",
    "print(money_value(\"007\")) # expects 7.00\n",
    "print(money_value(\" $ 89\")) # expects 89.0\n",
    "print(money_value(\"   .11\")) # expects 0.11\n",
    "print(money_value(\"$.2\")) # expects 0.20\n",
    "print(money_value(\"-.34\")) # expects -0.34\n",
    "print(money_value(\"$$$\")) # expects 0.0"
   ]
  }
 ],
 "metadata": {
  "kernelspec": {
   "display_name": "Python 3 (ipykernel)",
   "language": "python",
   "name": "python3"
  },
  "language_info": {
   "codemirror_mode": {
    "name": "ipython",
    "version": 3
   },
   "file_extension": ".py",
   "mimetype": "text/x-python",
   "name": "python",
   "nbconvert_exporter": "python",
   "pygments_lexer": "ipython3",
   "version": "3.12.1"
  }
 },
 "nbformat": 4,
 "nbformat_minor": 5
}
