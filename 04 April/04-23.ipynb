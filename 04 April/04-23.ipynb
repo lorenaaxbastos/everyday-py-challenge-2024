{
 "cells": [
  {
   "cell_type": "markdown",
   "id": "1785ee50-a52c-464d-abd0-8900f0a6820f",
   "metadata": {},
   "source": [
    "# Mean square error\n",
    "\n",
    "Date: 04/23/2024.\n",
    "From: Codewars.\n",
    "Link to [kata](https://www.codewars.com/kata/51edd51599a189fe7f000015/train/python).\n",
    "\n",
    "### Description\n",
    "\n",
    "Complete the function that\n",
    "\n",
    "- accepts two integer arrays of equal length\n",
    "- compares the value each member in one array to the corresponding member in the other\n",
    "- squares the absolute value difference between those two values\n",
    "- and returns the average of those squared absolute value difference between each member pair.\n",
    "\n",
    "**Examples**\n",
    "\n",
    "```\n",
    "[1, 2, 3], [4, 5, 6]              -->   9   because (9 + 9 + 9) / 3\n",
    "[10, 20, 10, 2], [10, 25, 5, -2]  -->  16.5 because (0 + 25 + 25 + 16) / 4\n",
    "[-1, 0], [0, -1]                  -->   1   because (1 + 1) / 2\n",
    "```\n",
    "\n",
    "### My solution"
   ]
  },
  {
   "cell_type": "code",
   "execution_count": 1,
   "id": "52c91c9c-22c6-4ea7-b445-f0bd1ac2c84c",
   "metadata": {},
   "outputs": [],
   "source": [
    "def solution(array_a, array_b):\n",
    "    pass"
   ]
  },
  {
   "cell_type": "markdown",
   "id": "4eb161d3-de55-4658-8d10-6fd11194339e",
   "metadata": {},
   "source": [
    "### Basic tests"
   ]
  },
  {
   "cell_type": "code",
   "execution_count": 2,
   "id": "93f8840d-c426-4cc5-aaf7-85dc3138c2ad",
   "metadata": {},
   "outputs": [
    {
     "name": "stdout",
     "output_type": "stream",
     "text": [
      "None\n",
      "None\n",
      "None\n",
      "None\n"
     ]
    }
   ],
   "source": [
    "a1 = [1,2,3]\n",
    "a2 = [4,5,6]\n",
    "print(solution(a1, a2)) # expects 9\n",
    "\n",
    "b1 = [10, 20, 10, 2]\n",
    "b2 = [10, 25, 5, -2]\n",
    "print(solution(b1, b2)) # expects 16.5\n",
    "\n",
    "c1 = [0, -1]\n",
    "c2 = [-1, 0]\n",
    "print(solution(c1, c2)) # expects 1\n",
    "\n",
    "d1 = [10, 10]\n",
    "d2 = [10, 10]\n",
    "print(solution(d1, d2)) # expects 0"
   ]
  }
 ],
 "metadata": {
  "kernelspec": {
   "display_name": "Python 3 (ipykernel)",
   "language": "python",
   "name": "python3"
  },
  "language_info": {
   "codemirror_mode": {
    "name": "ipython",
    "version": 3
   },
   "file_extension": ".py",
   "mimetype": "text/x-python",
   "name": "python",
   "nbconvert_exporter": "python",
   "pygments_lexer": "ipython3",
   "version": "3.12.2"
  }
 },
 "nbformat": 4,
 "nbformat_minor": 5
}
