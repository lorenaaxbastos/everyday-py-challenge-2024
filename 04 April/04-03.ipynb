{
 "cells": [
  {
   "cell_type": "markdown",
   "id": "a152198b-67c9-4bbc-a377-1b0ce9447611",
   "metadata": {},
   "source": [
    "# Leap year (with restrictions)\n",
    "\n",
    "Date: 04/08/2024.\n",
    "From: Codewars.\n",
    "Link to [kata](https://www.codewars.com/kata/5848947d59fdc010fe00023e/train/python).\n",
    "\n",
    "### Description\n",
    "\n",
    "You're given a year n (1583 <= n < 10000). You need to create a function which return True if n is a leap year and False otherwise.\n",
    "\n",
    "**Restrictions**\n",
    "\n",
    "Your code mustn't contain:\n",
    "\n",
    "- def\n",
    "- if\n",
    "- eval or exec\n",
    "- return\n",
    "- import\n",
    "\n",
    "### My solution"
   ]
  },
  {
   "cell_type": "code",
   "execution_count": 1,
   "id": "48426ba9-1332-4828-b2eb-d78ccde6610d",
   "metadata": {},
   "outputs": [],
   "source": [
    "is_leap = lambda n: (not bool(n % 4) and bool(n % 100)) or (not bool(n % 400))"
   ]
  },
  {
   "cell_type": "markdown",
   "id": "d11209e3-ac85-4889-a245-3e14f90a80b9",
   "metadata": {},
   "source": [
    "### Basic tests"
   ]
  },
  {
   "cell_type": "code",
   "execution_count": 2,
   "id": "f6ed6edc-6505-4adc-a153-8570bb7bd73c",
   "metadata": {},
   "outputs": [
    {
     "name": "stdout",
     "output_type": "stream",
     "text": [
      "True\n",
      "True\n",
      "False\n",
      "False\n",
      "False\n",
      "False\n",
      "True\n"
     ]
    }
   ],
   "source": [
    "print(is_leap(2000)) # expects True\n",
    "print(is_leap(1692)) # expects True\n",
    "print(is_leap(1731)) # expects False\n",
    "print(is_leap(1987)) # expects False\n",
    "print(is_leap(2001)) # expects False\n",
    "print(is_leap(2014)) # expects False\n",
    "print(is_leap(2012)) # expects True"
   ]
  }
 ],
 "metadata": {
  "kernelspec": {
   "display_name": "Python 3 (ipykernel)",
   "language": "python",
   "name": "python3"
  },
  "language_info": {
   "codemirror_mode": {
    "name": "ipython",
    "version": 3
   },
   "file_extension": ".py",
   "mimetype": "text/x-python",
   "name": "python",
   "nbconvert_exporter": "python",
   "pygments_lexer": "ipython3",
   "version": "3.12.1"
  }
 },
 "nbformat": 4,
 "nbformat_minor": 5
}
