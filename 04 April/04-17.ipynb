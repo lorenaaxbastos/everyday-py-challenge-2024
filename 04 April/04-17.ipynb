{
 "cells": [
  {
   "cell_type": "markdown",
   "id": "ec9c7dc0-d865-42d5-b959-b091dc0dc2f4",
   "metadata": {},
   "source": [
    "# Salesman's travel\n",
    "\n",
    "Date: 04/17/2024.\n",
    "From: Codewars.\n",
    "Link to [kata](https://www.codewars.com/kata/56af1a20509ce5b9b000001e/train/python).\n",
    "\n",
    "### Description\n",
    "\n",
    "A traveling salesman has to visit clients. He got each client's address e.g. \"432 Main Long Road St. Louisville OH 43071\" as a list.\n",
    "\n",
    "The basic zipcode format usually consists of two capital letters followed by a white space and five digits. The list of clients to visit was given as a string of all addresses, each separated from the others by a comma, e.g. :\n",
    "\n",
    "`\"123 Main Street St. Louisville OH 43071,432 Main Long Road St. Louisville OH 43071,786 High Street Pollocksville NY 56432\".`\n",
    "\n",
    "To ease his travel he wants to group the list by zipcode.\n",
    "\n",
    "**Task:**\n",
    "\n",
    "The function travel will take two parameters r (addresses' list of all clients' as a string) and zipcode and returns a string in the following format:\n",
    "\n",
    "`zipcode:street and town,street and town,.../house number,house number,...`\n",
    "\n",
    "The street numbers must be in the same order as the streets where they belong.\n",
    "\n",
    "If a given zipcode doesn't exist in the list of clients' addresses return \"zipcode:/\"\n",
    "\n",
    "**Examples:**\n",
    "\n",
    "```\n",
    "r = \"123 Main Street St. Louisville OH 43071,432 Main Long Road St. Louisville OH 43071,786 High Street Pollocksville NY 56432\"\n",
    "\n",
    "travel(r, \"OH 43071\") --> \"OH 43071:Main Street St. Louisville,Main Long Road St. Louisville/123,432\"\n",
    "\n",
    "travel(r, \"NY 56432\") --> \"NY 56432:High Street Pollocksville/786\"\n",
    "\n",
    "travel(r, \"NY 5643\") --> \"NY 5643:/\"\n",
    "```\n",
    "\n",
    "### My solution"
   ]
  },
  {
   "cell_type": "code",
   "execution_count": 1,
   "id": "c8a5f12f-43cb-4109-bfcf-5a9400886eb5",
   "metadata": {},
   "outputs": [],
   "source": [
    "def travel(r, zipcode):\n",
    "    pass"
   ]
  },
  {
   "cell_type": "markdown",
   "id": "dd732a8c-5888-4075-959f-8653b5e53a49",
   "metadata": {},
   "source": [
    "### Basic tests"
   ]
  },
  {
   "cell_type": "code",
   "execution_count": 3,
   "id": "e75a255a-0d73-41d7-87d2-31e1ff09c63b",
   "metadata": {},
   "outputs": [
    {
     "name": "stdout",
     "output_type": "stream",
     "text": [
      "None\n",
      "None\n",
      "None\n",
      "None\n",
      "None\n",
      "None\n"
     ]
    }
   ],
   "source": [
    "ad = (\"123 Main Street St. Louisville OH 43071,432 Main Long Road St. Louisville OH 43071,786 High Street Pollocksville NY 56432,\"\n",
    "  \"54 Holy Grail Street Niagara Town ZP 32908,3200 Main Rd. Bern AE 56210,1 Gordon St. Atlanta RE 13000,\"\n",
    "  \"10 Pussy Cat Rd. Chicago EX 34342,10 Gordon St. Atlanta RE 13000,58 Gordon Road Atlanta RE 13000,\"\n",
    "  \"22 Tokyo Av. Tedmondville SW 43098,674 Paris bd. Abbeville AA 45521,10 Surta Alley Goodtown GG 30654,\"\n",
    "  \"45 Holy Grail Al. Niagara Town ZP 32908,320 Main Al. Bern AE 56210,14 Gordon Park Atlanta RE 13000,\"\n",
    "  \"100 Pussy Cat Rd. Chicago EX 34342,2 Gordon St. Atlanta RE 13000,5 Gordon Road Atlanta RE 13000,\"\n",
    "  \"2200 Tokyo Av. Tedmondville SW 43098,67 Paris St. Abbeville AA 45521,11 Surta Avenue Goodtown GG 30654,\"\n",
    "  \"45 Holy Grail Al. Niagara Town ZP 32918,320 Main Al. Bern AE 56215,14 Gordon Park Atlanta RE 13200,\"\n",
    "  \"100 Pussy Cat Rd. Chicago EX 34345,2 Gordon St. Atlanta RE 13222,5 Gordon Road Atlanta RE 13001,\"\n",
    "  \"2200 Tokyo Av. Tedmondville SW 43198,67 Paris St. Abbeville AA 45522,11 Surta Avenue Goodville GG 30655,\"\n",
    "  \"2222 Tokyo Av. Tedmondville SW 43198,670 Paris St. Abbeville AA 45522,114 Surta Avenue Goodville GG 30655,\"\n",
    "  \"2 Holy Grail Street Niagara Town ZP 32908,3 Main Rd. Bern AE 56210,77 Gordon St. Atlanta RE 13000\")\n",
    "\n",
    "print(travel(ad, \"AA 45522\")) # expexts \"AA 45522:Paris St. Abbeville,Paris St. Abbeville/67,670\"\n",
    "print(travel(ad, \"EX 34342\")) # expexts \"EX 34342:Pussy Cat Rd. Chicago,Pussy Cat Rd. Chicago/10,100\"\n",
    "print(travel(ad, \"EX 34345\")) # expexts \"EX 34345:Pussy Cat Rd. Chicago/100\"\n",
    "print(travel(ad, \"AA 45521\")) # expexts \"AA 45521:Paris bd. Abbeville,Paris St. Abbeville/674,67\"\n",
    "print(travel(ad, \"AE 56215\")) # expexts \"AE 56215:Main Al. Bern/320\"\n",
    "print(travel(ad, \"\")) # expexts \":/\""
   ]
  }
 ],
 "metadata": {
  "kernelspec": {
   "display_name": "Python 3 (ipykernel)",
   "language": "python",
   "name": "python3"
  },
  "language_info": {
   "codemirror_mode": {
    "name": "ipython",
    "version": 3
   },
   "file_extension": ".py",
   "mimetype": "text/x-python",
   "name": "python",
   "nbconvert_exporter": "python",
   "pygments_lexer": "ipython3",
   "version": "3.12.2"
  }
 },
 "nbformat": 4,
 "nbformat_minor": 5
}
