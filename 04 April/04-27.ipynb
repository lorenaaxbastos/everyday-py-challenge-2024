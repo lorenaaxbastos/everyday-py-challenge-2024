{
 "cells": [
  {
   "cell_type": "markdown",
   "id": "73c8d0e8-5a41-4344-8a57-00a8faeead60",
   "metadata": {},
   "source": [
    "# Handshake problem\n",
    "\n",
    "Date: 04/27/2024.\n",
    "From: Codewars.\n",
    "Link to [kata](https://www.codewars.com/kata/5574835e3e404a0bed00001b/train/python).\n",
    "\n",
    "### Description\n",
    "\n",
    "Johnny is a farmer and he annually holds a beet farmers convention \"Drop the beet\".\n",
    "\n",
    "Every year he takes photos of farmers handshaking. Johnny knows that no two farmers handshake more than once. He also knows that some of the possible handshake combinations may not happen.\n",
    "\n",
    "However, Johnny would like to know the minimal amount of people that participated this year just by counting all the handshakes.\n",
    "\n",
    "Help Johnny by writing a function, that takes the amount of handshakes and returns the minimal amount of people needed to perform these handshakes (a pair of farmers handshake only once).\n",
    "\n",
    "### My solution"
   ]
  },
  {
   "cell_type": "code",
   "execution_count": 1,
   "id": "970e9cfd-62f2-491f-a4b0-684f780d2b49",
   "metadata": {},
   "outputs": [],
   "source": [
    "def get_participants(handshakes):\n",
    "    # ...\n",
    "    pass"
   ]
  },
  {
   "cell_type": "markdown",
   "id": "5fb5c039-3b3b-4e3e-80e2-ce6502224d19",
   "metadata": {},
   "source": [
    "### Basic tests"
   ]
  },
  {
   "cell_type": "code",
   "execution_count": 2,
   "id": "b2c5a793-f3f1-482a-aa28-69ee5716f5cf",
   "metadata": {},
   "outputs": [
    {
     "name": "stdout",
     "output_type": "stream",
     "text": [
      "None\n",
      "None\n",
      "None\n",
      "None\n",
      "None\n"
     ]
    }
   ],
   "source": [
    "print(get_participants(0)) # expects 0\n",
    "print(get_participants(1)) # expects 2\n",
    "print(get_participants(3)) # expects 3\n",
    "print(get_participants(6)) # expects 4\n",
    "print(get_participants(7)) # expects 5"
   ]
  }
 ],
 "metadata": {
  "kernelspec": {
   "display_name": "Python 3 (ipykernel)",
   "language": "python",
   "name": "python3"
  },
  "language_info": {
   "codemirror_mode": {
    "name": "ipython",
    "version": 3
   },
   "file_extension": ".py",
   "mimetype": "text/x-python",
   "name": "python",
   "nbconvert_exporter": "python",
   "pygments_lexer": "ipython3",
   "version": "3.12.2"
  }
 },
 "nbformat": 4,
 "nbformat_minor": 5
}
