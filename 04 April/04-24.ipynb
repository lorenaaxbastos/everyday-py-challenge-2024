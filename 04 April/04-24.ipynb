{
 "cells": [
  {
   "cell_type": "markdown",
   "id": "ca813aa3-7cc0-423b-827e-f79938395f50",
   "metadata": {},
   "source": [
    "# Binary multiplication\n",
    "\n",
    "Date: 04/24/2024.\n",
    "From: Codewars.\n",
    "Link to [kata](https://www.codewars.com/kata/596a81352240711f3b00006e/train/python).\n",
    "\n",
    "### Description\n",
    "\n",
    "The goal of this kata is to multiply two integers using the ancient Egyptian method, which only requires divisions and multiplications by two, and additions.\n",
    "\n",
    "Your function takes two integers as input. It shall return a list of the steps in the multiplication.\n",
    "\n",
    "Let m be the largest and n the smallest. While m is superior to 0, at each step:\n",
    "\n",
    "- if m is not divisible by 2, add n to the list\n",
    "- divide m by 2 (integer division)\n",
    "- multiply n by 2\n",
    "\n",
    "At the end, return the list in descending order. The result of the multiplication is the sum of the list elements, but you have to return only the list.\n",
    "\n",
    "**Input**\n",
    "\n",
    "n and m integers, from 0 to 10,000. It is not guaranteed that m > n.\n",
    "\n",
    "**Example**\n",
    "\n",
    "```\n",
    "m\tn\tm % 2\tlist\n",
    "100\t15\t0\t[]\n",
    "50\t30\t0\t[]\n",
    "25\t60\t1\t[60]\n",
    "12\t120\t0\t[60]\n",
    "6\t240\t0\t[60]\n",
    "3\t480\t1\t[480, 60]\n",
    "1\t960\t1\t[960, 480, 60]\n",
    "0\t\t0\t[960, 480, 60]\n",
    "100 * 15 = 1500 = 60 + 480 + 960\n",
    "```\n",
    "\n",
    "So the expected result is [960, 480, 60].\n",
    "\n",
    "### My solution"
   ]
  },
  {
   "cell_type": "code",
   "execution_count": 1,
   "id": "0b7b90b4-3bcc-4697-9c43-6e14a22f45b2",
   "metadata": {},
   "outputs": [],
   "source": [
    "def bin_mul(m, n):\n",
    "    if n == 0: return []\n",
    "    if n > m:\n",
    "        n, m = m, n\n",
    "    \n",
    "    result = []\n",
    "    \n",
    "    while m > 0:\n",
    "        if m % 2 != 0:\n",
    "            result.append(n)\n",
    "        m //= 2\n",
    "        n *= 2\n",
    "    \n",
    "    return result[::-1]"
   ]
  },
  {
   "cell_type": "markdown",
   "id": "5e7449e2-05e1-452f-bc42-c5c01525f2b3",
   "metadata": {},
   "source": [
    "### Basic tests"
   ]
  },
  {
   "cell_type": "code",
   "execution_count": 2,
   "id": "b099332d-4ffc-4cee-bfdf-fb77ab402adc",
   "metadata": {},
   "outputs": [
    {
     "name": "stdout",
     "output_type": "stream",
     "text": [
      "[960, 480, 60]\n",
      "[]\n",
      "[]\n"
     ]
    }
   ],
   "source": [
    "print(bin_mul(100,15)) # expects [960,480,60]\n",
    "print(bin_mul(15,0)) # expects []\n",
    "print(bin_mul(0,0)) # expects []"
   ]
  }
 ],
 "metadata": {
  "kernelspec": {
   "display_name": "Python 3 (ipykernel)",
   "language": "python",
   "name": "python3"
  },
  "language_info": {
   "codemirror_mode": {
    "name": "ipython",
    "version": 3
   },
   "file_extension": ".py",
   "mimetype": "text/x-python",
   "name": "python",
   "nbconvert_exporter": "python",
   "pygments_lexer": "ipython3",
   "version": "3.12.1"
  }
 },
 "nbformat": 4,
 "nbformat_minor": 5
}
