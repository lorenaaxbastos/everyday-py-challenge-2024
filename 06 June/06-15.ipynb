{
 "cells": [
  {
   "cell_type": "markdown",
   "id": "b89dec08-d00c-4e37-b223-49b2330cc7cd",
   "metadata": {},
   "source": [
    "# The observed PIN\n",
    "\n",
    "Date: 06/15/2024.\n",
    "From: Codewars.\n",
    "Link to [kata](https://www.codewars.com/kata/5263c6999e0f40dee200059d/train/python).\n",
    "\n",
    "### Description\n",
    "\n",
    "Alright, detective, one of our colleagues successfully observed our target person, Robby the robber. We followed him to a secret warehouse, where we assume to find all the stolen stuff. The door to this warehouse is secured by an electronic combination lock. Unfortunately our spy isn't sure about the PIN he saw, when Robby entered it.\n",
    "\n",
    "The keypad has the following layout:\n",
    "\n",
    "```\n",
    "┌───┬───┬───┐\n",
    "│ 1 │ 2 │ 3 │\n",
    "├───┼───┼───┤\n",
    "│ 4 │ 5 │ 6 │\n",
    "├───┼───┼───┤\n",
    "│ 7 │ 8 │ 9 │\n",
    "└───┼───┼───┘\n",
    "    │ 0 │\n",
    "    └───┘\n",
    "```\n",
    "\n",
    "He noted the PIN 1357, but he also said, it is possible that each of the digits he saw could actually be another adjacent digit (horizontally or vertically, but not diagonally). E.g. instead of the 1 it could also be the 2 or 4. And instead of the 5 it could also be the 2, 4, 6 or 8.\n",
    "\n",
    "He also mentioned, he knows this kind of locks. You can enter an unlimited amount of wrong PINs, they never finally lock the system or sound the alarm. That's why we can try out all possible (*) variations.\n",
    "\n",
    "*possible in sense of: the observed PIN itself and all variations considering the adjacent digits\n",
    "\n",
    "Can you help us to find all those variations? It would be nice to have a function, that returns an array (or a list in Java/Kotlin and C#) of all variations for an observed PIN with a length of 1 to 8 digits. We could name the function getPINs (get_pins in python, GetPINs in C#). But please note that all PINs, the observed one and also the results, must be strings, because of potentially leading '0's. We already prepared some test cases for you.\n",
    "\n",
    "Detective, we are counting on you!\n",
    "\n",
    "### My solution"
   ]
  },
  {
   "cell_type": "code",
   "execution_count": 3,
   "id": "943fca30-03cd-45ed-98ec-86cbe3a2fccc",
   "metadata": {},
   "outputs": [],
   "source": [
    "from functools import reduce\n",
    "\n",
    "adjacent_digits = {\n",
    "        \"1\": [\"1\", \"2\", \"4\"],\n",
    "        \"2\": [\"2\", \"1\", \"3\", \"5\"],\n",
    "        \"3\": [\"3\", \"2\", \"6\"],\n",
    "        \"4\": [\"4\", \"1\", \"5\", \"7\"],\n",
    "        \"5\": [\"5\", \"2\", \"4\", \"6\", \"8\"],\n",
    "        \"6\": [\"6\", \"3\", \"5\", \"9\"],\n",
    "        \"7\": [\"7\", \"4\", \"8\"],\n",
    "        \"8\": [\"8\", \"5\", \"7\", \"9\", \"0\"],\n",
    "        \"9\": [\"9\", \"6\", \"8\"],\n",
    "        \"0\": [\"0\", \"8\"]\n",
    "    }\n",
    "\n",
    "def get_pins(observed):\n",
    "    possible_digits = [adjacent_digits[digit] for digit in observed]\n",
    "    n_combinations = reduce(lambda a, b: a * b, [len(digits) for digits in possible_digits])\n",
    "    \n",
    "    combinations = []\n",
    "    multiplier = 1\n",
    "    \n",
    "    for i, digits in enumerate(possible_digits):\n",
    "        if i > 0:\n",
    "            multiplier *= len(possible_digits[i - 1])\n",
    "        n_combinations //= len(digits)\n",
    "        result = []\n",
    "        for j in range(len(digits)):\n",
    "            result.extend([j] * n_combinations)\n",
    "        combinations.append(result * multiplier)\n",
    "\n",
    "    possible_pins = set()\n",
    "    for combination in list(zip(*combinations)):\n",
    "        possible_pins.add(\"\".join(possible_digits[i][j] for i, j in enumerate(combination)))\n",
    "\n",
    "    return possible_pins"
   ]
  },
  {
   "cell_type": "markdown",
   "id": "1c8a9b18-f897-446c-a3ed-1a159adc87ee",
   "metadata": {},
   "source": [
    "### Basic tests"
   ]
  },
  {
   "cell_type": "code",
   "execution_count": 5,
   "id": "877200c6-406e-481e-8e3b-3e38459c3a49",
   "metadata": {},
   "outputs": [
    {
     "name": "stdout",
     "output_type": "stream",
     "text": [
      "True PIN: 8\n",
      "True PIN: 11\n",
      "True PIN: 369\n"
     ]
    }
   ],
   "source": [
    "test_cases = [\n",
    "    ('8', ['5','7','8','9','0']),\n",
    "    ('11',[\"11\", \"22\", \"44\", \"12\", \"21\", \"14\", \"41\", \"24\", \"42\"]),\n",
    "    ('369', [\n",
    "        \"339\",\"366\",\"399\",\"658\",\"636\",\"258\",\"268\",\"669\",\"668\",\"266\",\"369\",\"398\",\n",
    "        \"256\",\"296\",\"259\",\"368\",\"638\",\"396\",\"238\",\"356\",\"659\",\"639\",\"666\",\"359\",\n",
    "        \"336\",\"299\",\"338\",\"696\",\"269\",\"358\",\"656\",\"698\",\"699\",\"298\",\"236\",\"239\"\n",
    "    ])\n",
    "]\n",
    "    \n",
    "for pin, expected in test_cases:\n",
    "    actual = sorted(get_pins(pin))\n",
    "    exp = sorted(expected)\n",
    "    print(actual == exp, 'PIN: ' + pin)"
   ]
  }
 ],
 "metadata": {
  "kernelspec": {
   "display_name": "Python 3 (ipykernel)",
   "language": "python",
   "name": "python3"
  },
  "language_info": {
   "codemirror_mode": {
    "name": "ipython",
    "version": 3
   },
   "file_extension": ".py",
   "mimetype": "text/x-python",
   "name": "python",
   "nbconvert_exporter": "python",
   "pygments_lexer": "ipython3",
   "version": "3.12.1"
  }
 },
 "nbformat": 4,
 "nbformat_minor": 5
}
