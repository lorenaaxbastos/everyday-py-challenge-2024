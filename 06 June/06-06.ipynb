{
 "cells": [
  {
   "cell_type": "markdown",
   "id": "e2b57a5e-c62f-465e-a97e-2ac983046441",
   "metadata": {},
   "source": [
    "# Find the missing letter\n",
    "\n",
    "Date: 06/06/2024.\n",
    "From: Codewars.\n",
    "Link to [kata](https://www.codewars.com/kata/5839edaa6754d6fec10000a2/train/python).\n",
    "\n",
    "### Description\n",
    "\n",
    "Write a method that takes an array of consecutive (increasing) letters as input and that returns the missing letter in the array.\n",
    "\n",
    "You will always get an valid array. And it will be always exactly one letter be missing. The length of the array will always be at least 2.\n",
    "The array will always contain letters in only one case.\n",
    "\n",
    "**Example**\n",
    "\n",
    "```\n",
    "['a','b','c','d','f'] -> 'e'\n",
    "['O','Q','R','S'] -> 'P'\n",
    "(Use the English alphabet with 26 letters!)\n",
    "```\n",
    "\n",
    "Have fun coding it and please don't forget to vote and rank this kata! :-)\n",
    "\n",
    "I have also created other katas. Take a look if you enjoyed this kata!\n",
    "\n",
    "### My solution"
   ]
  },
  {
   "cell_type": "code",
   "execution_count": 1,
   "id": "1d6043b6-f32b-4617-bb12-5e81e01d21a1",
   "metadata": {},
   "outputs": [],
   "source": [
    "def find_missing_letter(chars):\n",
    "    pass"
   ]
  },
  {
   "cell_type": "markdown",
   "id": "faee6ae6-4d8e-4bbd-a6db-c4b14c617e6f",
   "metadata": {},
   "source": [
    "### Basic tests"
   ]
  },
  {
   "cell_type": "code",
   "execution_count": 2,
   "id": "d240ee67-1334-4369-916e-924628056d75",
   "metadata": {},
   "outputs": [
    {
     "name": "stdout",
     "output_type": "stream",
     "text": [
      "False\n",
      "False\n",
      "False\n"
     ]
    }
   ],
   "source": [
    "print(find_missing_letter(['a','b','c','d','f']) == 'e')\n",
    "print(find_missing_letter(['O','Q','R','S']) == 'P')\n",
    "print(find_missing_letter(['b','d']) == 'c')"
   ]
  }
 ],
 "metadata": {
  "kernelspec": {
   "display_name": "Python 3 (ipykernel)",
   "language": "python",
   "name": "python3"
  },
  "language_info": {
   "codemirror_mode": {
    "name": "ipython",
    "version": 3
   },
   "file_extension": ".py",
   "mimetype": "text/x-python",
   "name": "python",
   "nbconvert_exporter": "python",
   "pygments_lexer": "ipython3",
   "version": "3.12.1"
  }
 },
 "nbformat": 4,
 "nbformat_minor": 5
}
