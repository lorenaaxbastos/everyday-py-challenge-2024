{
 "cells": [
  {
   "cell_type": "markdown",
   "id": "261d4d5e-4015-45e3-94e5-9c0a67e29a81",
   "metadata": {},
   "source": [
    "# Cycle a list of values\n",
    "\n",
    "Date: 06/08/2024.\n",
    "From: Codewars.\n",
    "Link to [kata](https://www.codewars.com/kata/5456812629ccbf311b000078/train/python).\n",
    "\n",
    "### Description\n",
    "\n",
    "**Prologue**\n",
    "\n",
    "You're part of a team porting MS Paint into the browser and currently working on a new UI component that allows user to control the canvas zoom level.\n",
    "\n",
    "According to the wireframes delivered to you in PowerPoint format the user should be able to cycle through specified zoom levels by clicking a button in the UI repeatedly. The reverse direction should work with shift key held.\n",
    "\n",
    "A new function is needed to support this behavior, so you alt-tab to Visual Studio and get to work.\n",
    "\n",
    "**Instructions**\n",
    "\n",
    "Implement a function which when given the arguments\n",
    "\n",
    "- Direction to which to cycle the current value\n",
    "- List of values\n",
    "- Current value\n",
    "\n",
    "returns the value next to current value in the specified direction.\n",
    "\n",
    "The function should pick the next value from the other side of the list in case there are no values in the given direction.\n",
    "\n",
    "**Examples**\n",
    "\n",
    "```python\n",
    "# Given the direction 1, returns the value next to 1 on the right\n",
    "cycle(1, [1,2,3], 1)   # => 2\n",
    "\n",
    "# Given the direction -1 and value 1, wraps around list returning the last element\n",
    "cycle(-1, [1,2,3], 1)  # => 3\n",
    "\n",
    "# 0 does not exist in the list, returns null\n",
    "cycle(1, [1,2,3], 0)   # => null\n",
    "\n",
    "# Corner case: multiple instances of given value, picks next relative to first occurrence\n",
    "cycle(1, [1,2,2,3], 2) # => 2\n",
    "```\n",
    "\n",
    "### My solution"
   ]
  },
  {
   "cell_type": "code",
   "execution_count": 1,
   "id": "bd79b040-6534-4de9-a56a-f1122e1f6082",
   "metadata": {},
   "outputs": [],
   "source": [
    "def cycle(d, v, c):\n",
    "    pass"
   ]
  },
  {
   "cell_type": "markdown",
   "id": "4a13f7ef-cda3-4989-9ef7-a48a3d715f93",
   "metadata": {},
   "source": [
    "### Basic tests"
   ]
  },
  {
   "cell_type": "code",
   "execution_count": 2,
   "id": "d52e7612-6a0a-4f05-822e-1c85d23fef73",
   "metadata": {},
   "outputs": [
    {
     "name": "stdout",
     "output_type": "stream",
     "text": [
      "True\n",
      "True\n",
      "True\n",
      "False\n",
      "False\n",
      "False\n",
      "False\n",
      "False\n",
      "False\n",
      "False\n",
      "False\n",
      "False\n"
     ]
    }
   ],
   "source": [
    "print(cycle(-1,[*range(0,7)],9) == None)\n",
    "print(cycle(1,[*range(0,23,2)],17) == None)\n",
    "print(cycle(-1,[*range(0,23,2)],11) == None)\n",
    "print(cycle(-1,[*range(0,70)],63) == 62)\n",
    "print(cycle(-1,[*range(0,50,4)],8) == 4)\n",
    "print(cycle(-1,[*range(0,50,4)],28) == 24)\n",
    "print(cycle(-1,[*range(0,50,4)],0) == 48)\n",
    "print(cycle(1,[*range(0,70)],63) == 64)\n",
    "print(cycle(1,[*range(0,50,7)],28) == 35)\n",
    "print(cycle(1,[*range(0,110,8)],64) == 72)\n",
    "print(cycle(1,[*range(0,70,3)],15) == 18)\n",
    "print(cycle(1,[*range(0,70,3)],69) == 0)"
   ]
  }
 ],
 "metadata": {
  "kernelspec": {
   "display_name": "Python 3 (ipykernel)",
   "language": "python",
   "name": "python3"
  },
  "language_info": {
   "codemirror_mode": {
    "name": "ipython",
    "version": 3
   },
   "file_extension": ".py",
   "mimetype": "text/x-python",
   "name": "python",
   "nbconvert_exporter": "python",
   "pygments_lexer": "ipython3",
   "version": "3.12.2"
  }
 },
 "nbformat": 4,
 "nbformat_minor": 5
}
