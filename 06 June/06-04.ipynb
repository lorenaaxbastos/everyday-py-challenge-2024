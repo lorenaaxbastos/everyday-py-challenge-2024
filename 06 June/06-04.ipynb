{
 "cells": [
  {
   "cell_type": "markdown",
   "id": "31ee4d14-2aad-4bd0-8bb7-3ed29351a8f2",
   "metadata": {},
   "source": [
    "# Remove duplicate words\n",
    "\n",
    "Date: 06/04/2024.\n",
    "From: Codewars.\n",
    "Link to [kata](https://www.codewars.com/kata/58fa273ca6d84c158e000052/train/python).\n",
    "\n",
    "### Description\n",
    "\n",
    "Determine the total number of digits in the integer (n>=0) given as input to the function. For example, 9 is a single digit, 66 has 2 digits and 128685 has 6 digits. Be careful to avoid overflows/underflows.\n",
    "\n",
    "All inputs will be valid.\n",
    "\n",
    "### My solution"
   ]
  },
  {
   "cell_type": "code",
   "execution_count": 3,
   "id": "8be0d8cc-f934-4a4a-ab40-e92f5174fbaf",
   "metadata": {},
   "outputs": [],
   "source": [
    "def digits(n):\n",
    "    return len(str(n))"
   ]
  },
  {
   "cell_type": "markdown",
   "id": "64ed90a4-3a70-448a-8fff-837a16a58024",
   "metadata": {},
   "source": [
    "### Basic tests"
   ]
  },
  {
   "cell_type": "code",
   "execution_count": 4,
   "id": "437483f9-0778-477c-9ec2-78c4cfd40b8c",
   "metadata": {},
   "outputs": [
    {
     "name": "stdout",
     "output_type": "stream",
     "text": [
      "True\n",
      "True\n",
      "True\n"
     ]
    }
   ],
   "source": [
    "print(digits(5) == 1)\n",
    "print(digits(12345) == 5)\n",
    "print(digits(9876543210) == 10)"
   ]
  }
 ],
 "metadata": {
  "kernelspec": {
   "display_name": "Python 3 (ipykernel)",
   "language": "python",
   "name": "python3"
  },
  "language_info": {
   "codemirror_mode": {
    "name": "ipython",
    "version": 3
   },
   "file_extension": ".py",
   "mimetype": "text/x-python",
   "name": "python",
   "nbconvert_exporter": "python",
   "pygments_lexer": "ipython3",
   "version": "3.12.1"
  }
 },
 "nbformat": 4,
 "nbformat_minor": 5
}
