{
 "cells": [
  {
   "cell_type": "markdown",
   "id": "4e59465e-bc7b-4fef-8314-b7db0096acc0",
   "metadata": {},
   "source": [
    "# Angle between clock hands\n",
    "\n",
    "Date: 06/07/2024.\n",
    "From: Codewars.\n",
    "Link to [kata](https://www.codewars.com/kata/543ddf69386034670d000c7d/train/python).\n",
    "\n",
    "### Description\n",
    "\n",
    "Given a Date (in JS and Ruby) or hours and minutes (in C and Python), return the angle between the two hands of a 12-hour analog clock in radians.\n",
    "\n",
    "**Notes**\n",
    "\n",
    "The minute hand always points to the exact minute (there is no seconds hand).\n",
    "The hour hand does not \"snap\" to the tick marks: e.g. at 6:30 the angle is not 0 because the hour hand is already half way between 6 and 7.\n",
    "Return the smaller of the angles ( <= π ).\n",
    "Return π if the hands are opposite.\n",
    "\n",
    "**Examples**\n",
    "\n",
    "- at noon the angle is: 0\n",
    "- at 3:00 the angle is: π/2 (90 degrees)\n",
    "- at 6:00 the angle is: π (180 degrees)\n",
    "- at 9:00 the angle is: π/2 (90 degrees)\n",
    "\n",
    "### My solution"
   ]
  },
  {
   "cell_type": "code",
   "execution_count": 1,
   "id": "bc78288b-80ba-4592-8fb0-82e439f4899b",
   "metadata": {},
   "outputs": [],
   "source": [
    "def hand_angle(hours, minutes):\n",
    "    pass"
   ]
  },
  {
   "cell_type": "markdown",
   "id": "12e22fff-6cfe-4731-b287-7b51fa5514d7",
   "metadata": {},
   "source": [
    "### Basic tests"
   ]
  },
  {
   "cell_type": "code",
   "execution_count": 3,
   "id": "7281ae09-e816-4021-869b-f9a69ecda85d",
   "metadata": {},
   "outputs": [
    {
     "name": "stdout",
     "output_type": "stream",
     "text": [
      "False\n",
      "False\n",
      "False\n",
      "False\n",
      "False\n",
      "False\n",
      "False\n",
      "False\n",
      "False\n",
      "False\n",
      "False\n"
     ]
    }
   ],
   "source": [
    "import math\n",
    "\n",
    "print(hand_angle(0, 0) == math.radians(0))\n",
    "print(hand_angle(12, 0) == math.radians(0))\n",
    "print(hand_angle(6, 0) == math.radians(180))\n",
    "print(hand_angle(1, 0) == math.radians(30))\n",
    "print(hand_angle(9, 0) == math.radians(90))\n",
    "print(hand_angle(10, 0) == math.radians(60))\n",
    "print(hand_angle(0, 15) == math.radians(82.5))\n",
    "print(hand_angle(0, 45) == math.radians(112.5))\n",
    "print(hand_angle(12, 30) == math.radians(165))\n",
    "print(hand_angle(7, 15) == math.radians(127.5))\n",
    "print(hand_angle(6, 5) == math.radians(152.5))"
   ]
  }
 ],
 "metadata": {
  "kernelspec": {
   "display_name": "Python 3 (ipykernel)",
   "language": "python",
   "name": "python3"
  },
  "language_info": {
   "codemirror_mode": {
    "name": "ipython",
    "version": 3
   },
   "file_extension": ".py",
   "mimetype": "text/x-python",
   "name": "python",
   "nbconvert_exporter": "python",
   "pygments_lexer": "ipython3",
   "version": "3.12.1"
  }
 },
 "nbformat": 4,
 "nbformat_minor": 5
}
