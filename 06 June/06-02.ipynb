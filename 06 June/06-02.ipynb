{
 "cells": [
  {
   "cell_type": "markdown",
   "id": "cb8eab16-c206-491d-82ba-b976e17d4c78",
   "metadata": {},
   "source": [
    "# Largest 5 digit number in a series\n",
    "\n",
    "Date: 06/02/2024.\n",
    "From: Codewars.\n",
    "Link to [kata](https://www.codewars.com/kata/51675d17e0c1bed195000001/train/python).\n",
    "\n",
    "### Description\n",
    "\n",
    "In the following 6 digit number:\n",
    "\n",
    "`283910`\n",
    "\n",
    "91 is the greatest sequence of 2 consecutive digits.\n",
    "\n",
    "In the following 10 digit number:\n",
    "\n",
    "`1234567890`\n",
    "\n",
    "67890 is the greatest sequence of 5 consecutive digits.\n",
    "\n",
    "Complete the solution so that it returns the greatest sequence of five consecutive digits found within the number given. The number will be passed in as a string of only digits. It should return a five digit integer. The number passed may be as large as 1000 digits.\n",
    "\n",
    "### My solution"
   ]
  },
  {
   "cell_type": "code",
   "execution_count": 3,
   "id": "d3b25c58-2929-4085-8201-75ace63229f5",
   "metadata": {},
   "outputs": [],
   "source": [
    "def solution(digits):\n",
    "    greatest_seq = max(int(digits[i:i + 5]) for i in range(len(digits) - 4))\n",
    "    return greatest_seq"
   ]
  },
  {
   "cell_type": "markdown",
   "id": "898aa93f-dd08-46d6-8e03-487122c6e279",
   "metadata": {},
   "source": [
    "### Basic tests"
   ]
  },
  {
   "cell_type": "code",
   "execution_count": 4,
   "id": "1f3170ce-2831-4b72-a51f-bdba62a82b75",
   "metadata": {},
   "outputs": [
    {
     "name": "stdout",
     "output_type": "stream",
     "text": [
      "True solution did not return correct value\n",
      "True Failed when max 5 digits is at end of number\n",
      "True Failed when max 5 digits is at end of number\n"
     ]
    }
   ],
   "source": [
    "number = \"7316717653133062491922511967442657474235534919493496983520368542506326239578318016984801869478851843858615607891129494954595017379583319528532088055111254069874715852386305071569329096329522744304355766896648950445244523161731856403098711121722383113622298934233803081353362766142828064444866452387493035890729629049156044077239071381051585930796086670172427121883998797908792274921901699720888093776657273330010533678812202354218097512545405947522435258490771167055601360483958644670632441572215539753123457977846174064955149290862569321978468622482839722413756570560574902614079729686524145351004748216637048440319989000889524345065854122758866688116427171479924442928230863465674813919123162824586178664583591245665294765456828489128831426076900422421902267105562632111110937054421750694165896040807198403850962455444362981230987879927244284909188845801561660979191338754992005240636899125607176060588611646710940507754100225698315520005593572972571636269561882670428252483600823257540920752963450\"\n",
    "print(solution(number) == 99890, 'solution did not return correct value')\n",
    "print(solution('1234567898765') == 98765, 'Failed when max 5 digits is at end of number')\n",
    "print(solution(\"731674765\") == 74765, 'Failed when max 5 digits is at end of number')"
   ]
  }
 ],
 "metadata": {
  "kernelspec": {
   "display_name": "Python 3 (ipykernel)",
   "language": "python",
   "name": "python3"
  },
  "language_info": {
   "codemirror_mode": {
    "name": "ipython",
    "version": 3
   },
   "file_extension": ".py",
   "mimetype": "text/x-python",
   "name": "python",
   "nbconvert_exporter": "python",
   "pygments_lexer": "ipython3",
   "version": "3.12.1"
  }
 },
 "nbformat": 4,
 "nbformat_minor": 5
}
