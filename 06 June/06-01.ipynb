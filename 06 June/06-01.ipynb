{
 "cells": [
  {
   "cell_type": "markdown",
   "id": "5650ccef-71bc-4b18-99ed-ae6b8c0a6652",
   "metadata": {},
   "source": [
    "# int32 to IPv4\n",
    "\n",
    "Date: 06/01/2024.\n",
    "From: Codewars.\n",
    "Link to [kata](https://www.codewars.com/kata/52e88b39ffb6ac53a400022e/train/python).\n",
    "\n",
    "### Description\n",
    "\n",
    "Take the following IPv4 address: 128.32.10.1\n",
    "\n",
    "This address has 4 octets where each octet is a single byte (or 8 bits).\n",
    "\n",
    "- 1st octet 128 has the binary representation: 10000000\n",
    "- 2nd octet 32 has the binary representation: 00100000\n",
    "- 3rd octet 10 has the binary representation: 00001010\n",
    "- 4th octet 1 has the binary representation: 00000001\n",
    "\n",
    "So 128.32.10.1 == 10000000.00100000.00001010.00000001\n",
    "\n",
    "Because the above IP address has 32 bits, we can represent it as the unsigned 32 bit number: 2149583361\n",
    "\n",
    "Complete the function that takes an unsigned 32 bit number and returns a string representation of its IPv4 address.\n",
    "\n",
    "**Examples**\n",
    "\n",
    "```\n",
    "2149583361 ==> \"128.32.10.1\"\n",
    "32         ==> \"0.0.0.32\"\n",
    "0          ==> \"0.0.0.0\"\n",
    "```\n",
    "\n",
    "### My solution"
   ]
  },
  {
   "cell_type": "code",
   "execution_count": 1,
   "id": "b0227c22-20bc-4167-85a8-948362f50da2",
   "metadata": {},
   "outputs": [],
   "source": [
    "def int32_to_ip(int32):\n",
    "    pass"
   ]
  },
  {
   "cell_type": "markdown",
   "id": "1e6b87cf-0a59-4b81-970d-75a6e9aadc61",
   "metadata": {},
   "source": [
    "### Basic tests"
   ]
  },
  {
   "cell_type": "code",
   "execution_count": 2,
   "id": "07c94f78-6356-4302-9b30-32140101fddf",
   "metadata": {},
   "outputs": [
    {
     "name": "stdout",
     "output_type": "stream",
     "text": [
      "False\n",
      "False\n",
      "False\n"
     ]
    }
   ],
   "source": [
    "print(int32_to_ip(2154959208) == \"128.114.17.104\") \n",
    "print(int32_to_ip(0) == \"0.0.0.0\")\n",
    "print(int32_to_ip(2149583361) == \"128.32.10.1\")"
   ]
  }
 ],
 "metadata": {
  "kernelspec": {
   "display_name": "Python 3 (ipykernel)",
   "language": "python",
   "name": "python3"
  },
  "language_info": {
   "codemirror_mode": {
    "name": "ipython",
    "version": 3
   },
   "file_extension": ".py",
   "mimetype": "text/x-python",
   "name": "python",
   "nbconvert_exporter": "python",
   "pygments_lexer": "ipython3",
   "version": "3.12.2"
  }
 },
 "nbformat": 4,
 "nbformat_minor": 5
}
