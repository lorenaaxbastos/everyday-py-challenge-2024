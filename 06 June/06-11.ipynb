{
 "cells": [
  {
   "cell_type": "markdown",
   "id": "da6f48e9-7561-4bf7-9ccd-bb8a3c206f76",
   "metadata": {},
   "source": [
    "# The sum of the prime factors of a number... what for?\n",
    "\n",
    "Date: 06/11/2024.\n",
    "From: Codewars.\n",
    "Link to [kata](https://www.codewars.com/kata/5626ec066d35051d4500009e/train/python).\n",
    "\n",
    "### Description\n",
    "\n",
    "Every number may be factored in prime factors.\n",
    "\n",
    "For example, the number 18 may be factored by its prime factors 2 and 3\n",
    "\n",
    "```\n",
    "18 = 2 . 3 . 3 = 2 . 3²\n",
    "```\n",
    "\n",
    "The sum of the prime factors of 18 is 2 + 3 + 3 = 8\n",
    "\n",
    "But some numbers like 70 are divisible by the sum of its prime factors:\n",
    "\n",
    "```\n",
    "70 = 2 . 5 . 7 # sum of prime factors = 2 + 5 + 7 = 14\n",
    "```\n",
    "\n",
    "and 70 is a multiple of 14.\n",
    "\n",
    "Of course that primes would fulfill this property, but is obvious, because the prime decomposition of a number, is the number itself and every number is divisible by iself. That is why we will discard every prime number in the results\n",
    "\n",
    "We are interested in collect the integer positive numbers (non primes) that have this property in a certain range [a, b] (inclusive).\n",
    "\n",
    "Make the function mult_primefactor_sum(), that receives the values a, b as limits of the range [a, b] and a < b and outputs the sorted list of these numbers.\n",
    "\n",
    "Let's see some cases:\n",
    "\n",
    "```\n",
    "mult_primefactor_sum(10, 100) == [16, 27, 30, 60, 70, 72, 84] \n",
    "mult_primefactor_sum(1, 60) == [1, 4, 16, 27, 30, 60]\n",
    "```\n",
    "\n",
    "### My solution"
   ]
  },
  {
   "cell_type": "code",
   "execution_count": 2,
   "id": "6c0da613-cf4b-4803-b1e8-119ada67a667",
   "metadata": {},
   "outputs": [],
   "source": [
    "def mult_primefactor_sum(a, b): # [a, b] range of numbers included a and b\n",
    "    pass"
   ]
  },
  {
   "cell_type": "markdown",
   "id": "c3026f53-ca60-4f2f-84b2-04ffb0cc166f",
   "metadata": {},
   "source": [
    "### Basic tests"
   ]
  },
  {
   "cell_type": "code",
   "execution_count": 3,
   "id": "e47b0ed7-c1c9-4298-a286-a190217b9284",
   "metadata": {},
   "outputs": [
    {
     "name": "stdout",
     "output_type": "stream",
     "text": [
      "False\n",
      "False\n"
     ]
    }
   ],
   "source": [
    "print(mult_primefactor_sum(10, 100) == [16, 27, 30, 60, 70, 72, 84])\n",
    "print(mult_primefactor_sum(80, 150) == [84, 105, 150])"
   ]
  }
 ],
 "metadata": {
  "kernelspec": {
   "display_name": "Python 3 (ipykernel)",
   "language": "python",
   "name": "python3"
  },
  "language_info": {
   "codemirror_mode": {
    "name": "ipython",
    "version": 3
   },
   "file_extension": ".py",
   "mimetype": "text/x-python",
   "name": "python",
   "nbconvert_exporter": "python",
   "pygments_lexer": "ipython3",
   "version": "3.12.1"
  }
 },
 "nbformat": 4,
 "nbformat_minor": 5
}
