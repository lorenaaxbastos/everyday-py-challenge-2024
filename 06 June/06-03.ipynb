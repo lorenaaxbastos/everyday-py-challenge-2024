{
 "cells": [
  {
   "cell_type": "markdown",
   "id": "372feca5-94b5-40f0-b96f-5c0ee1312980",
   "metadata": {},
   "source": [
    "# Remove duplicate words\n",
    "\n",
    "Date: 06/03/2024.\n",
    "From: Codewars.\n",
    "Link to [kata](https://www.codewars.com/kata/5b39e3772ae7545f650000fc/train/python).\n",
    "\n",
    "### Description\n",
    "\n",
    "Your task is to remove all duplicate words from a string, leaving only single (first) words entries.\n",
    "\n",
    "Example:\n",
    "\n",
    "Input:\n",
    "\n",
    "'alpha beta beta gamma gamma gamma delta alpha beta beta gamma gamma gamma delta'\n",
    "\n",
    "Output:\n",
    "\n",
    "'alpha beta gamma delta'\n",
    "\n",
    "### My solution"
   ]
  },
  {
   "cell_type": "code",
   "execution_count": 3,
   "id": "7d501f15-f5f5-47ed-b58e-7c85a18700e9",
   "metadata": {},
   "outputs": [],
   "source": [
    "from collections import Counter\n",
    "\n",
    "def remove_duplicate_words(s):\n",
    "    s_dict = dict(Counter(s.split()))\n",
    "    return \" \".join(word for word in s_dict.keys())"
   ]
  },
  {
   "cell_type": "markdown",
   "id": "f2448ae0-5159-4073-9308-4f8ce5ae7cc0",
   "metadata": {},
   "source": [
    "### Basic tests"
   ]
  },
  {
   "cell_type": "code",
   "execution_count": 4,
   "id": "7e746403-747a-47f9-ae2b-7a88a7c3f2f0",
   "metadata": {},
   "outputs": [
    {
     "name": "stdout",
     "output_type": "stream",
     "text": [
      "True\n",
      "True\n"
     ]
    }
   ],
   "source": [
    "print(remove_duplicate_words(\"alpha beta beta gamma gamma gamma delta alpha beta beta gamma gamma gamma delta\") == \"alpha beta gamma delta\")\n",
    "print(remove_duplicate_words(\"my cat is my cat fat\") == \"my cat is fat\")"
   ]
  }
 ],
 "metadata": {
  "kernelspec": {
   "display_name": "Python 3 (ipykernel)",
   "language": "python",
   "name": "python3"
  },
  "language_info": {
   "codemirror_mode": {
    "name": "ipython",
    "version": 3
   },
   "file_extension": ".py",
   "mimetype": "text/x-python",
   "name": "python",
   "nbconvert_exporter": "python",
   "pygments_lexer": "ipython3",
   "version": "3.12.1"
  }
 },
 "nbformat": 4,
 "nbformat_minor": 5
}
