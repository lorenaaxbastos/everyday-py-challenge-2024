{
 "cells": [
  {
   "cell_type": "markdown",
   "id": "ba42bd93-3761-4e1d-84de-730930ad47b8",
   "metadata": {},
   "source": [
    "# Human readable duration format\n",
    "\n",
    "Date: 06/05/2024.\n",
    "From: Codewars.\n",
    "Link to [kata](https://www.codewars.com/kata/52742f58faf5485cae000b9a/train/python).\n",
    "\n",
    "### Description\n",
    "\n",
    "Your task in order to complete this Kata is to write a function which formats a duration, given as a number of seconds, in a human-friendly way.\n",
    "\n",
    "The function must accept a non-negative integer. If it is zero, it just returns \"now\". Otherwise, the duration is expressed as a combination of years, days, hours, minutes and seconds.\n",
    "\n",
    "It is much easier to understand with an example:\n",
    "\n",
    "```\n",
    "* For seconds = 62, your function should return \n",
    "    \"1 minute and 2 seconds\"\n",
    "* For seconds = 3662, your function should return\n",
    "    \"1 hour, 1 minute and 2 seconds\"\n",
    "For the purpose of this Kata, a year is 365 days and a day is 24 hours.\n",
    "```\n",
    "\n",
    "Note that spaces are important.\n",
    "\n",
    "**Detailed rules**\n",
    "\n",
    "The resulting expression is made of components like 4 seconds, 1 year, etc. In general, a positive integer and one of the valid units of time, separated by a space. The unit of time is used in plural if the integer is greater than 1.\n",
    "\n",
    "The components are separated by a comma and a space (\", \"). Except the last component, which is separated by \" and \", just like it would be written in English.\n",
    "\n",
    "A more significant units of time will occur before than a least significant one. Therefore, 1 second and 1 year is not correct, but 1 year and 1 second is.\n",
    "\n",
    "Different components have different unit of times. So there is not repeated units like in 5 seconds and 1 second.\n",
    "\n",
    "A component will not appear at all if its value happens to be zero. Hence, 1 minute and 0 seconds is not valid, but it should be just 1 minute.\n",
    "\n",
    "A unit of time must be used \"as much as possible\". It means that the function should not return 61 seconds, but 1 minute and 1 second instead. Formally, the duration specified by of a component must not be greater than any valid more significant unit of time.\n",
    "\n",
    "### My solution"
   ]
  },
  {
   "cell_type": "code",
   "execution_count": 1,
   "id": "5a89e501-7619-4b9b-964c-6b1777e5b150",
   "metadata": {},
   "outputs": [],
   "source": [
    "def format_duration(seconds):\n",
    "    pass"
   ]
  },
  {
   "cell_type": "markdown",
   "id": "12ff29ec-44d7-441c-bfb0-502f2b69f886",
   "metadata": {},
   "source": [
    "### Basic tests"
   ]
  },
  {
   "cell_type": "code",
   "execution_count": 2,
   "id": "375a38b4-7c29-405b-8b9b-9eefd587be13",
   "metadata": {},
   "outputs": [
    {
     "name": "stdout",
     "output_type": "stream",
     "text": [
      "False\n",
      "False\n",
      "False\n",
      "False\n",
      "False\n",
      "False\n",
      "False\n",
      "False\n",
      "False\n",
      "False\n",
      "False\n",
      "False\n",
      "False\n"
     ]
    }
   ],
   "source": [
    "print(format_duration(0) == \"now\")\n",
    "print(format_duration(1) == \"1 second\")\n",
    "print(format_duration(62) == \"1 minute and 2 seconds\")\n",
    "print(format_duration(120) == \"2 minutes\")\n",
    "print(format_duration(3600) == \"1 hour\")\n",
    "print(format_duration(3662) == \"1 hour, 1 minute and 2 seconds\")\n",
    "print(format_duration(15731080) == \"182 days, 1 hour, 44 minutes and 40 seconds\")\n",
    "print(format_duration(132030240) == \"4 years, 68 days, 3 hours and 4 minutes\")\n",
    "print(format_duration(205851834) == \"6 years, 192 days, 13 hours, 3 minutes and 54 seconds\")\n",
    "print(format_duration(253374061) == \"8 years, 12 days, 13 hours, 41 minutes and 1 second\")\n",
    "print(format_duration(242062374) == \"7 years, 246 days, 15 hours, 32 minutes and 54 seconds\")\n",
    "print(format_duration(101956166) == \"3 years, 85 days, 1 hour, 9 minutes and 26 seconds\")\n",
    "print(format_duration(33243586) == \"1 year, 19 days, 18 hours, 19 minutes and 46 seconds\")"
   ]
  }
 ],
 "metadata": {
  "kernelspec": {
   "display_name": "Python 3 (ipykernel)",
   "language": "python",
   "name": "python3"
  },
  "language_info": {
   "codemirror_mode": {
    "name": "ipython",
    "version": 3
   },
   "file_extension": ".py",
   "mimetype": "text/x-python",
   "name": "python",
   "nbconvert_exporter": "python",
   "pygments_lexer": "ipython3",
   "version": "3.12.1"
  }
 },
 "nbformat": 4,
 "nbformat_minor": 5
}
