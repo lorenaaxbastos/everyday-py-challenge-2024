{
 "cells": [
  {
   "cell_type": "markdown",
   "id": "36e36c2c-86b3-40c7-81b9-e7b98180a2e7",
   "metadata": {},
   "source": [
    "# Matrix determinant\n",
    "\n",
    "Date: 06/16/2024.\n",
    "From: Codewars.\n",
    "Link to [kata](https://www.codewars.com/kata/52a382ee44408cea2500074c/train/python).\n",
    "\n",
    "### Description\n",
    "\n",
    "Write a function that accepts a square matrix (N x N 2D array) and returns the determinant of the matrix.\n",
    "\n",
    "How to take the determinant of a matrix -- it is simplest to start with the smallest cases:\n",
    "\n",
    "A 1x1 matrix |a| has determinant a.\n",
    "\n",
    "A 2x2 matrix [ [a, b], [c, d] ] or\n",
    "\n",
    "```\n",
    "|a  b|\n",
    "|c  d|\n",
    "```\n",
    "\n",
    "has determinant: `a*d - b*c`.\n",
    "\n",
    "The determinant of an n x n sized matrix is calculated by reducing the problem to the calculation of the determinants of n matrices ofn-1 x n-1 size.\n",
    "\n",
    "For the 3x3 case, [ [a, b, c], [d, e, f], [g, h, i] ] or\n",
    "\n",
    "```\n",
    "|a b c|  \n",
    "|d e f|  \n",
    "|g h i|\n",
    "```\n",
    "\n",
    "the determinant is: `a * det(a_minor) - b * det(b_minor) + c * det(c_minor)` where det(a_minor) refers to taking the determinant of the 2x2 matrix created by crossing out the row and column in which the element a occurs:\n",
    "\n",
    "```\n",
    "|- - -|\n",
    "|- e f|\n",
    "|- h i|\n",
    "```\n",
    "\n",
    "Note the alternation of signs.\n",
    "\n",
    "The determinant of larger matrices are calculated analogously, e.g. if M is a 4x4 matrix with first row [a, b, c, d], then:\n",
    "\n",
    "`det(M) = a * det(a_minor) - b * det(b_minor) + c * det(c_minor) - d * det(d_minor)`\n",
    "\n",
    "### My solution"
   ]
  },
  {
   "cell_type": "code",
   "execution_count": 1,
   "id": "531a9bb0-6946-4165-8e97-b2fdb04fcd2f",
   "metadata": {},
   "outputs": [],
   "source": [
    "def determinant(matrix):\n",
    "    pass"
   ]
  },
  {
   "cell_type": "markdown",
   "id": "9ec3cadc-56f6-49d2-97c8-7a5096f09d2b",
   "metadata": {},
   "source": [
    "### Basic tests"
   ]
  },
  {
   "cell_type": "code",
   "execution_count": 2,
   "id": "148b2e53-27ed-4ada-aea1-eb37651ab2a2",
   "metadata": {},
   "outputs": [
    {
     "name": "stdout",
     "output_type": "stream",
     "text": [
      "None 5 Determinant of a 1 x 1 matrix yields the value of the one element\n",
      "None 14 Should return 4*8 - 3*6, i.e. 14\n",
      "None 10 Should return the determinant of [[2,4,2],[3,1,1],[1,2,0]], i.e. 10\n"
     ]
    }
   ],
   "source": [
    "m1 = [[4, 6], [3,8]]\n",
    "m5 = [[2,4,2],[3,1,1],[1,2,0]]\n",
    "\n",
    "print(determinant([[5]]), 5, \"Determinant of a 1 x 1 matrix yields the value of the one element\")\n",
    "print(determinant(m1), 14, \"Should return 4*8 - 3*6, i.e. 14\")\n",
    "print(determinant(m5), 10, \"Should return the determinant of [[2,4,2],[3,1,1],[1,2,0]], i.e. 10\")"
   ]
  }
 ],
 "metadata": {
  "kernelspec": {
   "display_name": "Python 3 (ipykernel)",
   "language": "python",
   "name": "python3"
  },
  "language_info": {
   "codemirror_mode": {
    "name": "ipython",
    "version": 3
   },
   "file_extension": ".py",
   "mimetype": "text/x-python",
   "name": "python",
   "nbconvert_exporter": "python",
   "pygments_lexer": "ipython3",
   "version": "3.12.1"
  }
 },
 "nbformat": 4,
 "nbformat_minor": 5
}
